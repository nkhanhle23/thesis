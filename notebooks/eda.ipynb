{
 "cells": [
  {
   "cell_type": "code",
   "execution_count": 27,
   "metadata": {},
   "outputs": [],
   "source": [
    "import json\n",
    "import pandas as pd\n",
    "import matplotlib.pyplot as plt\n",
    "import seaborn as sns"
   ]
  },
  {
   "cell_type": "code",
   "execution_count": 28,
   "metadata": {},
   "outputs": [
    {
     "data": {
      "text/plain": [
       "(503, 1)"
      ]
     },
     "execution_count": 28,
     "metadata": {},
     "output_type": "execute_result"
    }
   ],
   "source": [
    "# read cik.csv\n",
    "cik_df = pd.read_csv('../cik.csv')\n",
    "cik_df.shape"
   ]
  },
  {
   "cell_type": "code",
   "execution_count": 29,
   "metadata": {},
   "outputs": [
    {
     "data": {
      "text/html": [
       "<div>\n",
       "<style scoped>\n",
       "    .dataframe tbody tr th:only-of-type {\n",
       "        vertical-align: middle;\n",
       "    }\n",
       "\n",
       "    .dataframe tbody tr th {\n",
       "        vertical-align: top;\n",
       "    }\n",
       "\n",
       "    .dataframe thead th {\n",
       "        text-align: right;\n",
       "    }\n",
       "</style>\n",
       "<table border=\"1\" class=\"dataframe\">\n",
       "  <thead>\n",
       "    <tr style=\"text-align: right;\">\n",
       "      <th></th>\n",
       "      <th>CIK</th>\n",
       "    </tr>\n",
       "  </thead>\n",
       "  <tbody>\n",
       "    <tr>\n",
       "      <th>0</th>\n",
       "      <td>66740</td>\n",
       "    </tr>\n",
       "    <tr>\n",
       "      <th>1</th>\n",
       "      <td>91142</td>\n",
       "    </tr>\n",
       "    <tr>\n",
       "      <th>2</th>\n",
       "      <td>1800</td>\n",
       "    </tr>\n",
       "    <tr>\n",
       "      <th>3</th>\n",
       "      <td>1551152</td>\n",
       "    </tr>\n",
       "    <tr>\n",
       "      <th>4</th>\n",
       "      <td>1467373</td>\n",
       "    </tr>\n",
       "  </tbody>\n",
       "</table>\n",
       "</div>"
      ],
      "text/plain": [
       "       CIK\n",
       "0    66740\n",
       "1    91142\n",
       "2     1800\n",
       "3  1551152\n",
       "4  1467373"
      ]
     },
     "execution_count": 29,
     "metadata": {},
     "output_type": "execute_result"
    }
   ],
   "source": [
    "cik_df.head()"
   ]
  },
  {
   "cell_type": "code",
   "execution_count": 30,
   "metadata": {},
   "outputs": [],
   "source": [
    "# Load the JSON file\n",
    "with open('../datasets/EXTRACTED_FILINGS.json', 'r') as json_file:\n",
    "    data = json.load(json_file)\n",
    "extracted_filings = pd.DataFrame(data)"
   ]
  },
  {
   "cell_type": "code",
   "execution_count": 31,
   "metadata": {},
   "outputs": [],
   "source": [
    "extracted_filings['cik'] = extracted_filings['cik'].astype(int)\n",
    "cik_df['CIK'] = cik_df['CIK'].astype(int)"
   ]
  },
  {
   "cell_type": "code",
   "execution_count": 32,
   "metadata": {},
   "outputs": [
    {
     "data": {
      "text/html": [
       "<div>\n",
       "<style scoped>\n",
       "    .dataframe tbody tr th:only-of-type {\n",
       "        vertical-align: middle;\n",
       "    }\n",
       "\n",
       "    .dataframe tbody tr th {\n",
       "        vertical-align: top;\n",
       "    }\n",
       "\n",
       "    .dataframe thead th {\n",
       "        text-align: right;\n",
       "    }\n",
       "</style>\n",
       "<table border=\"1\" class=\"dataframe\">\n",
       "  <thead>\n",
       "    <tr style=\"text-align: right;\">\n",
       "      <th></th>\n",
       "      <th>CIK</th>\n",
       "    </tr>\n",
       "  </thead>\n",
       "  <tbody>\n",
       "    <tr>\n",
       "      <th>115</th>\n",
       "      <td>831001</td>\n",
       "    </tr>\n",
       "    <tr>\n",
       "      <th>215</th>\n",
       "      <td>1932393</td>\n",
       "    </tr>\n",
       "    <tr>\n",
       "      <th>274</th>\n",
       "      <td>1944048</td>\n",
       "    </tr>\n",
       "  </tbody>\n",
       "</table>\n",
       "</div>"
      ],
      "text/plain": [
       "         CIK\n",
       "115   831001\n",
       "215  1932393\n",
       "274  1944048"
      ]
     },
     "execution_count": 32,
     "metadata": {},
     "output_type": "execute_result"
    }
   ],
   "source": [
    "# compare the list of cik in cik.csv and extracted_filings and print out the ones that are not in the extracted_filings\n",
    "cik_df[~cik_df['CIK'].isin(extracted_filings['cik'])]"
   ]
  },
  {
   "cell_type": "code",
   "execution_count": 33,
   "metadata": {},
   "outputs": [
    {
     "data": {
      "text/html": [
       "<div>\n",
       "<style scoped>\n",
       "    .dataframe tbody tr th:only-of-type {\n",
       "        vertical-align: middle;\n",
       "    }\n",
       "\n",
       "    .dataframe tbody tr th {\n",
       "        vertical-align: top;\n",
       "    }\n",
       "\n",
       "    .dataframe thead th {\n",
       "        text-align: right;\n",
       "    }\n",
       "</style>\n",
       "<table border=\"1\" class=\"dataframe\">\n",
       "  <thead>\n",
       "    <tr style=\"text-align: right;\">\n",
       "      <th></th>\n",
       "      <th>cik</th>\n",
       "      <th>company</th>\n",
       "      <th>year</th>\n",
       "      <th>item_1A</th>\n",
       "      <th>item_7</th>\n",
       "      <th>item_7A</th>\n",
       "    </tr>\n",
       "  </thead>\n",
       "  <tbody>\n",
       "    <tr>\n",
       "      <th>0</th>\n",
       "      <td>1000228</td>\n",
       "      <td>SCHEIN HENRY INC</td>\n",
       "      <td>2005</td>\n",
       "      <td>The healthcare products distribution industry ...</td>\n",
       "      <td>Cautionary Note Regarding Forward-Looking Stat...</td>\n",
       "      <td>We are exposed to market risks, which include ...</td>\n",
       "    </tr>\n",
       "    <tr>\n",
       "      <th>1</th>\n",
       "      <td>1000228</td>\n",
       "      <td>HENRY SCHEIN INC</td>\n",
       "      <td>2006</td>\n",
       "      <td>The healthcare products distribution industry ...</td>\n",
       "      <td>Cautionary Note Regarding Forward-Looking Stat...</td>\n",
       "      <td>We are exposed to market risks, which include ...</td>\n",
       "    </tr>\n",
       "    <tr>\n",
       "      <th>2</th>\n",
       "      <td>1000228</td>\n",
       "      <td>HENRY SCHEIN INC</td>\n",
       "      <td>2007</td>\n",
       "      <td>The healthcare products distribution industry ...</td>\n",
       "      <td>Cautionary Note Regarding Forward-Looking Stat...</td>\n",
       "      <td>We are exposed to market risks, which include ...</td>\n",
       "    </tr>\n",
       "    <tr>\n",
       "      <th>3</th>\n",
       "      <td>1000228</td>\n",
       "      <td>HENRY SCHEIN INC</td>\n",
       "      <td>2008</td>\n",
       "      <td>Declining economic conditions could adversely ...</td>\n",
       "      <td>Cautionary Note Regarding Forward-Looking Stat...</td>\n",
       "      <td>We are exposed to market risks, which include ...</td>\n",
       "    </tr>\n",
       "    <tr>\n",
       "      <th>4</th>\n",
       "      <td>1000228</td>\n",
       "      <td>HENRY SCHEIN INC</td>\n",
       "      <td>2009</td>\n",
       "      <td>Declining economic conditions could adversely ...</td>\n",
       "      <td>Cautionary Note Regarding Forward-Looking Stat...</td>\n",
       "      <td>We are exposed to market risks, which include ...</td>\n",
       "    </tr>\n",
       "  </tbody>\n",
       "</table>\n",
       "</div>"
      ],
      "text/plain": [
       "       cik           company  year  \\\n",
       "0  1000228  SCHEIN HENRY INC  2005   \n",
       "1  1000228  HENRY SCHEIN INC  2006   \n",
       "2  1000228  HENRY SCHEIN INC  2007   \n",
       "3  1000228  HENRY SCHEIN INC  2008   \n",
       "4  1000228  HENRY SCHEIN INC  2009   \n",
       "\n",
       "                                             item_1A  \\\n",
       "0  The healthcare products distribution industry ...   \n",
       "1  The healthcare products distribution industry ...   \n",
       "2  The healthcare products distribution industry ...   \n",
       "3  Declining economic conditions could adversely ...   \n",
       "4  Declining economic conditions could adversely ...   \n",
       "\n",
       "                                              item_7  \\\n",
       "0  Cautionary Note Regarding Forward-Looking Stat...   \n",
       "1  Cautionary Note Regarding Forward-Looking Stat...   \n",
       "2  Cautionary Note Regarding Forward-Looking Stat...   \n",
       "3  Cautionary Note Regarding Forward-Looking Stat...   \n",
       "4  Cautionary Note Regarding Forward-Looking Stat...   \n",
       "\n",
       "                                             item_7A  \n",
       "0  We are exposed to market risks, which include ...  \n",
       "1  We are exposed to market risks, which include ...  \n",
       "2  We are exposed to market risks, which include ...  \n",
       "3  We are exposed to market risks, which include ...  \n",
       "4  We are exposed to market risks, which include ...  "
      ]
     },
     "execution_count": 33,
     "metadata": {},
     "output_type": "execute_result"
    }
   ],
   "source": [
    "extracted_filings.head()"
   ]
  },
  {
   "cell_type": "code",
   "execution_count": 34,
   "metadata": {},
   "outputs": [
    {
     "data": {
      "text/plain": [
       "Text(0.5, 1.0, 'Distribution of Filings in Years')"
      ]
     },
     "execution_count": 34,
     "metadata": {},
     "output_type": "execute_result"
    },
    {
     "data": {
      "image/png": "[encoded data removed]",
      "text/plain": [
       "<Figure size 1200x800 with 1 Axes>"
      ]
     },
     "metadata": {},
     "output_type": "display_data"
    }
   ],
   "source": [
    "# Plot the distribution of filings in years 2015-2022\n",
    "extracted_filings['year'] = extracted_filings['year'].astype(int)\n",
    "df_2015 = extracted_filings[extracted_filings['year'] >= 2015]\n",
    "sns.set_style('whitegrid')\n",
    "plt.figure(figsize=(12, 8))\n",
    "sns.countplot(x='year', data=df_2015)\n",
    "plt.title('Distribution of Filings in Years')"
   ]
  },
  {
   "cell_type": "markdown",
   "metadata": {},
   "source": [
    "# ANALYSIS OF EXTRACTED FLS WITH METRICS"
   ]
  },
  {
   "cell_type": "code",
   "execution_count": 35,
   "metadata": {},
   "outputs": [],
   "source": [
    "# Load the JSON file\n",
    "with open('../datasets/EXTRACTED_FLS_METRICS.json', 'r') as json_file:\n",
    "    data = json.load(json_file)\n",
    "df = pd.DataFrame(data)"
   ]
  },
  {
   "cell_type": "code",
   "execution_count": 36,
   "metadata": {},
   "outputs": [
    {
     "data": {
      "text/html": [
       "<div>\n",
       "<style scoped>\n",
       "    .dataframe tbody tr th:only-of-type {\n",
       "        vertical-align: middle;\n",
       "    }\n",
       "\n",
       "    .dataframe tbody tr th {\n",
       "        vertical-align: top;\n",
       "    }\n",
       "\n",
       "    .dataframe thead th {\n",
       "        text-align: right;\n",
       "    }\n",
       "</style>\n",
       "<table border=\"1\" class=\"dataframe\">\n",
       "  <thead>\n",
       "    <tr style=\"text-align: right;\">\n",
       "      <th></th>\n",
       "      <th>Sentence</th>\n",
       "      <th>Metric</th>\n",
       "      <th>Item</th>\n",
       "      <th>Year</th>\n",
       "      <th>CIK</th>\n",
       "      <th>Company</th>\n",
       "      <th>FLS</th>\n",
       "    </tr>\n",
       "  </thead>\n",
       "  <tbody>\n",
       "    <tr>\n",
       "      <th>0</th>\n",
       "      <td>In the future, we may be unable to compete suc...</td>\n",
       "      <td>Net Income</td>\n",
       "      <td>item_1A</td>\n",
       "      <td>2015</td>\n",
       "      <td>1000228</td>\n",
       "      <td>HENRY SCHEIN INC</td>\n",
       "      <td>Non-FLS</td>\n",
       "    </tr>\n",
       "    <tr>\n",
       "      <th>1</th>\n",
       "      <td>Our revenues and profitability depend on our r...</td>\n",
       "      <td>Net Income</td>\n",
       "      <td>item_1A</td>\n",
       "      <td>2015</td>\n",
       "      <td>1000228</td>\n",
       "      <td>HENRY SCHEIN INC</td>\n",
       "      <td>Non-FLS</td>\n",
       "    </tr>\n",
       "    <tr>\n",
       "      <th>2</th>\n",
       "      <td>Our future revenues and profitability depend o...</td>\n",
       "      <td>Net Income</td>\n",
       "      <td>item_1A</td>\n",
       "      <td>2015</td>\n",
       "      <td>1000228</td>\n",
       "      <td>HENRY SCHEIN INC</td>\n",
       "      <td>Non-FLS</td>\n",
       "    </tr>\n",
       "    <tr>\n",
       "      <th>3</th>\n",
       "      <td>We experience fluctuations in quarterly earnings.</td>\n",
       "      <td>Net Income</td>\n",
       "      <td>item_1A</td>\n",
       "      <td>2015</td>\n",
       "      <td>1000228</td>\n",
       "      <td>HENRY SCHEIN INC</td>\n",
       "      <td>Non-FLS</td>\n",
       "    </tr>\n",
       "    <tr>\n",
       "      <th>4</th>\n",
       "      <td>Revenues and profitability generally have been...</td>\n",
       "      <td>Net Income</td>\n",
       "      <td>item_1A</td>\n",
       "      <td>2015</td>\n",
       "      <td>1000228</td>\n",
       "      <td>HENRY SCHEIN INC</td>\n",
       "      <td>Non-FLS</td>\n",
       "    </tr>\n",
       "  </tbody>\n",
       "</table>\n",
       "</div>"
      ],
      "text/plain": [
       "                                            Sentence      Metric     Item  \\\n",
       "0  In the future, we may be unable to compete suc...  Net Income  item_1A   \n",
       "1  Our revenues and profitability depend on our r...  Net Income  item_1A   \n",
       "2  Our future revenues and profitability depend o...  Net Income  item_1A   \n",
       "3  We experience fluctuations in quarterly earnings.  Net Income  item_1A   \n",
       "4  Revenues and profitability generally have been...  Net Income  item_1A   \n",
       "\n",
       "   Year      CIK           Company      FLS  \n",
       "0  2015  1000228  HENRY SCHEIN INC  Non-FLS  \n",
       "1  2015  1000228  HENRY SCHEIN INC  Non-FLS  \n",
       "2  2015  1000228  HENRY SCHEIN INC  Non-FLS  \n",
       "3  2015  1000228  HENRY SCHEIN INC  Non-FLS  \n",
       "4  2015  1000228  HENRY SCHEIN INC  Non-FLS  "
      ]
     },
     "execution_count": 36,
     "metadata": {},
     "output_type": "execute_result"
    }
   ],
   "source": [
    "df.head()"
   ]
  },
  {
   "cell_type": "code",
   "execution_count": 37,
   "metadata": {},
   "outputs": [
    {
     "data": {
      "text/plain": [
       "1099219    3427\n",
       "1137774    3381\n",
       "874766     2852\n",
       "899051     2136\n",
       "5272       1933\n",
       "           ... \n",
       "1022079      21\n",
       "1841666      19\n",
       "36104        13\n",
       "1868275       9\n",
       "106535        2\n",
       "Name: CIK, Length: 490, dtype: int64"
      ]
     },
     "execution_count": 37,
     "metadata": {},
     "output_type": "execute_result"
    }
   ],
   "source": [
    "# number of companies analyzed\n",
    "df['CIK'].value_counts()"
   ]
  },
  {
   "cell_type": "code",
   "execution_count": 38,
   "metadata": {},
   "outputs": [
    {
     "data": {
      "image/png": "[encoded data removed]",
      "text/plain": [
       "<Figure size 640x480 with 1 Axes>"
      ]
     },
     "metadata": {},
     "output_type": "display_data"
    }
   ],
   "source": [
    "# draw a graph to show the distribution of FLS and non-FLS \n",
    "sns.set(style=\"darkgrid\")\n",
    "ax = sns.countplot(x=\"FLS\", data=df)\n",
    "plt.show()\n"
   ]
  },
  {
   "cell_type": "code",
   "execution_count": 46,
   "metadata": {},
   "outputs": [
    {
     "data": {
      "image/png": "[encoded data removed]",
      "text/plain": [
       "<Figure size 640x480 with 1 Axes>"
      ]
     },
     "metadata": {},
     "output_type": "display_data"
    }
   ],
   "source": [
    "# draw graph to show FLS per item\n",
    "df_fls = df[df['FLS'] == 'FLS']\n",
    "sns.set(style=\"darkgrid\")\n",
    "ax = sns.countplot(x=\"FLS\", hue=\"Item\", data=df_fls)\n",
    "plt.show()"
   ]
  },
  {
   "cell_type": "code",
   "execution_count": 49,
   "metadata": {},
   "outputs": [
    {
     "data": {
      "text/plain": [
       "Revenue                  162900\n",
       "Net Income               109302\n",
       "EBIT                      16797\n",
       "EPS                        4729\n",
       "Cash Flow (Investing)       364\n",
       "Cash Flow (Financing)       130\n",
       "Cash Flow (Operating)        32\n",
       "Name: Metric, dtype: int64"
      ]
     },
     "execution_count": 49,
     "metadata": {},
     "output_type": "execute_result"
    }
   ],
   "source": [
    "# number of extracted sentences per metric\n",
    "df['Metric'].value_counts()"
   ]
  },
  {
   "cell_type": "code",
   "execution_count": 51,
   "metadata": {},
   "outputs": [
    {
     "data": {
      "text/plain": [
       "Non-FLS    259525\n",
       "FLS         34729\n",
       "Name: FLS, dtype: int64"
      ]
     },
     "execution_count": 51,
     "metadata": {},
     "output_type": "execute_result"
    }
   ],
   "source": [
    "# count number of fls\n",
    "df['FLS'].value_counts()"
   ]
  },
  {
   "cell_type": "code",
   "execution_count": 52,
   "metadata": {},
   "outputs": [
    {
     "data": {
      "text/html": [
       "<div>\n",
       "<style scoped>\n",
       "    .dataframe tbody tr th:only-of-type {\n",
       "        vertical-align: middle;\n",
       "    }\n",
       "\n",
       "    .dataframe tbody tr th {\n",
       "        vertical-align: top;\n",
       "    }\n",
       "\n",
       "    .dataframe thead th {\n",
       "        text-align: right;\n",
       "    }\n",
       "</style>\n",
       "<table border=\"1\" class=\"dataframe\">\n",
       "  <thead>\n",
       "    <tr style=\"text-align: right;\">\n",
       "      <th></th>\n",
       "      <th>FLS</th>\n",
       "    </tr>\n",
       "    <tr>\n",
       "      <th>Item</th>\n",
       "      <th></th>\n",
       "    </tr>\n",
       "  </thead>\n",
       "  <tbody>\n",
       "    <tr>\n",
       "      <th>item_1A</th>\n",
       "      <td>7042</td>\n",
       "    </tr>\n",
       "    <tr>\n",
       "      <th>item_7</th>\n",
       "      <td>26120</td>\n",
       "    </tr>\n",
       "    <tr>\n",
       "      <th>item_7A</th>\n",
       "      <td>1567</td>\n",
       "    </tr>\n",
       "  </tbody>\n",
       "</table>\n",
       "</div>"
      ],
      "text/plain": [
       "           FLS\n",
       "Item          \n",
       "item_1A   7042\n",
       "item_7   26120\n",
       "item_7A   1567"
      ]
     },
     "execution_count": 52,
     "metadata": {},
     "output_type": "execute_result"
    }
   ],
   "source": [
    "# count number of FLS per item\n",
    "df_fls = df[df['FLS'] == 'FLS'] \n",
    "df_fls[['Item','FLS']].groupby('Item').count()"
   ]
  },
  {
   "cell_type": "code",
   "execution_count": 54,
   "metadata": {},
   "outputs": [
    {
     "data": {
      "text/plain": [
       "<Axes: xlabel='Metric'>"
      ]
     },
     "execution_count": 54,
     "metadata": {},
     "output_type": "execute_result"
    },
    {
     "data": {
      "image/png": "[encoded data removed]",
      "text/plain": [
       "<Figure size 640x480 with 1 Axes>"
      ]
     },
     "metadata": {},
     "output_type": "display_data"
    }
   ],
   "source": [
    "# plot number of fls per metric\n",
    "df_fls[['Metric','FLS']].groupby('Metric').count().plot(kind='bar')"
   ]
  },
  {
   "cell_type": "code",
   "execution_count": 41,
   "metadata": {},
   "outputs": [
    {
     "data": {
      "text/plain": [
       "Revenue                  162900\n",
       "Net Income               109302\n",
       "EBIT                      16797\n",
       "EPS                        4729\n",
       "Cash Flow (Investing)       364\n",
       "Cash Flow (Financing)       130\n",
       "Cash Flow (Operating)        32\n",
       "Name: Metric, dtype: int64"
      ]
     },
     "execution_count": 41,
     "metadata": {},
     "output_type": "execute_result"
    }
   ],
   "source": [
    "# plot number of metrics\n",
    "df['Metric'].value_counts()"
   ]
  },
  {
   "cell_type": "code",
   "execution_count": 42,
   "metadata": {},
   "outputs": [],
   "source": [
    "ebit = df[df['Metric']==\"EBIT\"][140:400]\n",
    "ebit.to_csv('ebit.csv', index=False)"
   ]
  },
  {
   "cell_type": "code",
   "execution_count": 43,
   "metadata": {},
   "outputs": [],
   "source": [
    "eps = df[df['Metric']==\"EPS\"][1500:2000]\n",
    "eps.to_csv('eps.csv', index=False)"
   ]
  },
  {
   "cell_type": "code",
   "execution_count": 44,
   "metadata": {},
   "outputs": [
    {
     "data": {
      "text/plain": [
       "(294254, 7)"
      ]
     },
     "execution_count": 44,
     "metadata": {},
     "output_type": "execute_result"
    }
   ],
   "source": [
    "df.shape"
   ]
  },
  {
   "cell_type": "code",
   "execution_count": 45,
   "metadata": {},
   "outputs": [],
   "source": [
    "cfo = df[df['Metric']==\"Cash Flow (Operating)\"]\n",
    "cfo.reset_index(drop=True, inplace=True)\n",
    "cfo.to_csv('cfo.csv', index=False)"
   ]
  },
  {
   "cell_type": "code",
   "execution_count": 55,
   "metadata": {},
   "outputs": [
    {
     "data": {
      "text/plain": [
       "(34729, 7)"
      ]
     },
     "execution_count": 55,
     "metadata": {},
     "output_type": "execute_result"
    }
   ],
   "source": [
    "df_fls.shape"
   ]
  }
 ],
 "metadata": {
  "kernelspec": {
   "display_name": "Python 3",
   "language": "python",
   "name": "python3"
  },
  "language_info": {
   "codemirror_mode": {
    "name": "ipython",
    "version": 3
   },
   "file_extension": ".py",
   "mimetype": "text/x-python",
   "name": "python",
   "nbconvert_exporter": "python",
   "pygments_lexer": "ipython3",
   "version": "3.10.9"
  }
 },
 "nbformat": 4,
 "nbformat_minor": 2
}
