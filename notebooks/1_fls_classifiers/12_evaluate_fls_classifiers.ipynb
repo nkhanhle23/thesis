{
 "cells": [
  {
   "cell_type": "markdown",
   "metadata": {},
   "source": [
    "# Evaluation of FLS Classifiers"
   ]
  },
  {
   "cell_type": "markdown",
   "metadata": {},
   "source": [
    "This notebook evaluates the performance of the two FLS Classifiers trained from DistilBERT (``11a_fls-classifier_bert.ipynb``) and from FinBERT (``11b_fls-classifier_finbert.ipynb``). An unseen test set was used to make sure the comparability of the performance between these two classifiers. The test set was manually reviewed. "
   ]
  },
  {
   "cell_type": "markdown",
   "metadata": {},
   "source": [
    "## Import packages"
   ]
  },
  {
   "cell_type": "code",
   "execution_count": 1,
   "metadata": {},
   "outputs": [],
   "source": [
    "from transformers import AutoTokenizer, AutoModelForSequenceClassification\n",
    "import numpy as np\n",
    "import pandas as pd\n",
    "from tqdm import tqdm\n",
    "import torch\n",
    "from torch.utils.data import DataLoader, TensorDataset\n",
    "from sklearn.metrics import classification_report, accuracy_score, confusion_matrix\n",
    "import matplotlib.pyplot as plt\n",
    "import seaborn as sns"
   ]
  },
  {
   "cell_type": "markdown",
   "metadata": {},
   "source": [
    "## Load data"
   ]
  },
  {
   "cell_type": "code",
   "execution_count": 2,
   "metadata": {},
   "outputs": [],
   "source": [
    "# Import test set\n",
    "df = pd.read_csv('../../data/01_interim/test.csv')"
   ]
  },
  {
   "cell_type": "code",
   "execution_count": 3,
   "metadata": {},
   "outputs": [
    {
     "data": {
      "text/plain": [
       "0    45\n",
       "1     7\n",
       "Name: Label, dtype: int64"
      ]
     },
     "execution_count": 3,
     "metadata": {},
     "output_type": "execute_result"
    }
   ],
   "source": [
    "df['Label'].value_counts()"
   ]
  },
  {
   "cell_type": "code",
   "execution_count": 3,
   "metadata": {},
   "outputs": [
    {
     "name": "stdout",
     "output_type": "stream",
     "text": [
      "There are 1 GPU(s) available.\n",
      "We will use the GPU: NVIDIA GeForce MX150\n"
     ]
    }
   ],
   "source": [
    "# If there's a GPU available...\n",
    "if torch.cuda.is_available():    \n",
    "\n",
    "    # Tell PyTorch to use the GPU.    \n",
    "    device = torch.device(\"cuda\")\n",
    "\n",
    "    print('There are %d GPU(s) available.' % torch.cuda.device_count())\n",
    "\n",
    "    print('We will use the GPU:', torch.cuda.get_device_name(0))\n",
    "\n",
    "# If not...\n",
    "else:\n",
    "    print('No GPU available, using the CPU instead.')\n",
    "    device = torch.device(\"cpu\")"
   ]
  },
  {
   "cell_type": "markdown",
   "metadata": {},
   "source": [
    "## Define function to test model"
   ]
  },
  {
   "cell_type": "code",
   "execution_count": 4,
   "metadata": {},
   "outputs": [],
   "source": [
    "def test_model(model, tokenizer, test_data, batch_size=8, device=\"cuda\"):\n",
    "    # Input: model name, tokenizer name, test dataset, batch size, device (batch size and device are optional)\n",
    "    # Output: mean accuracy, list of predictions, list of accuracies, list of labels\n",
    "    \n",
    "    \n",
    "    # Load the model\n",
    "    model = AutoModelForSequenceClassification.from_pretrained(model)\n",
    "    # Load the tokenizer\n",
    "    tokenizer = AutoTokenizer.from_pretrained(tokenizer, do_lower_case=True)\n",
    "    # Tokenize all of the sentences and map the tokens to their word IDs\n",
    "    text_encoded = [tokenizer.encode(sent,\n",
    "                                    add_special_tokens=True,  # Add '[CLS]' and '[SEP]'\n",
    "                                    padding='max_length',  # Pad & truncate all sentences.\n",
    "                                    truncation=True,\n",
    "                                    max_length=512,\n",
    "                                    ) for sent in test_data['Sentence']]\n",
    "\n",
    "    # Data to tensors\n",
    "    text_tensor = torch.tensor(text_encoded).to(device)\n",
    "    labels_tensor = torch.tensor(test_data['Label'].values).to(device)\n",
    "\n",
    "    # Create the DataLoader for the test set\n",
    "    test_data = TensorDataset(text_tensor, labels_tensor)\n",
    "    test_dataloader = DataLoader(test_data, batch_size=batch_size, shuffle=False)\n",
    "    \n",
    "    \n",
    "    model.to(device)\n",
    "    model.eval()\n",
    "    accuracy_sum = 0\n",
    "    preds_list = []\n",
    "    accuracy_list = []\n",
    "    labelsset = []\n",
    "\n",
    "    with torch.no_grad():\n",
    "        for batch in tqdm(test_dataloader):\n",
    "            input_ids, labels = batch\n",
    "            input_ids = input_ids.to(device)\n",
    "            outputs = model(input_ids)\n",
    "            logits = outputs.logits.detach().cpu().numpy()  # Taking the softmax of output\n",
    "            pred = np.argmax(logits, axis=1).tolist()\n",
    "            acc = accuracy_score(labels.detach().cpu().numpy().tolist(), pred)\n",
    "            accuracy_sum += acc\n",
    "            preds_list.extend(pred)\n",
    "            accuracy_list.append(acc)\n",
    "            labelsset.extend(labels.detach().cpu().numpy())\n",
    "\n",
    "    mean_accuracy = accuracy_sum / len(test_dataloader)\n",
    "    return mean_accuracy, preds_list, accuracy_list, labelsset"
   ]
  },
  {
   "cell_type": "markdown",
   "metadata": {},
   "source": [
    "## Evalute results"
   ]
  },
  {
   "cell_type": "markdown",
   "metadata": {},
   "source": [
    "Classification reports are used to evaluate the results on test set. "
   ]
  },
  {
   "cell_type": "code",
   "execution_count": 8,
   "metadata": {},
   "outputs": [
    {
     "name": "stdout",
     "output_type": "stream",
     "text": [
      "Report on DistilBERT-FLS: \n",
      "\n"
     ]
    },
    {
     "name": "stderr",
     "output_type": "stream",
     "text": [
      "100%|██████████| 7/7 [00:00<00:00, 25.86it/s]\n"
     ]
    },
    {
     "name": "stdout",
     "output_type": "stream",
     "text": [
      "Report on FinBERT-FLS: \n",
      "\n"
     ]
    },
    {
     "name": "stderr",
     "output_type": "stream",
     "text": [
      "100%|██████████| 7/7 [00:00<00:00, 14.01it/s]\n"
     ]
    }
   ],
   "source": [
    "# DistilBERT\n",
    "print(\"Report on DistilBERT-FLS: \\n\")\n",
    "_, pred_distilbert, _, labelsset = test_model('../../models/distilbert-fls', 'distilbert-base-uncased',df)\n",
    "\n",
    "# FinBERT\n",
    "print(\"Report on FinBERT-FLS: \\n\")\n",
    "_, pred_finbert , _ , _ = test_model('../../model/finbert-fls', 'yiyanghkust/finbert-pretrain',df)"
   ]
  },
  {
   "cell_type": "code",
   "execution_count": 9,
   "metadata": {},
   "outputs": [
    {
     "name": "stdout",
     "output_type": "stream",
     "text": [
      "Report on DistilBERT-FLS: \n",
      "\n",
      "              precision    recall  f1-score   support\n",
      "\n",
      "           0       0.96      0.96      0.96        45\n",
      "           1       0.71      0.71      0.71         7\n",
      "\n",
      "    accuracy                           0.92        52\n",
      "   macro avg       0.83      0.83      0.83        52\n",
      "weighted avg       0.92      0.92      0.92        52\n",
      "\n",
      "Report on FinBERT-FLS: \n",
      "\n",
      "              precision    recall  f1-score   support\n",
      "\n",
      "           0       0.96      0.96      0.96        45\n",
      "           1       0.71      0.71      0.71         7\n",
      "\n",
      "    accuracy                           0.92        52\n",
      "   macro avg       0.83      0.83      0.83        52\n",
      "weighted avg       0.92      0.92      0.92        52\n",
      "\n"
     ]
    }
   ],
   "source": [
    "# DistilBERT\n",
    "print(\"Report on DistilBERT-FLS: \\n\")\n",
    "print(classification_report(labelsset, pred_distilbert))\n",
    "\n",
    "# FinBERT\n",
    "print(\"Report on FinBERT-FLS: \\n\")\n",
    "print(classification_report(labelsset, pred_finbert))\n"
   ]
  },
  {
   "cell_type": "markdown",
   "metadata": {},
   "source": [
    "#### Apply test set on rule-based approach for comparison"
   ]
  },
  {
   "cell_type": "code",
   "execution_count": 10,
   "metadata": {},
   "outputs": [],
   "source": [
    "# Import data for rule-based model\n",
    "data_rb = pd.read_csv('../../data/01_interim/test set_rulebased vs actual.csv',sep=';')\n",
    "data_rb = data_rb[['Sentence','Acutal Label', 'Predicted Label']]"
   ]
  },
  {
   "cell_type": "code",
   "execution_count": 9,
   "metadata": {},
   "outputs": [
    {
     "name": "stdout",
     "output_type": "stream",
     "text": [
      "              precision    recall  f1-score   support\n",
      "\n",
      "           0       0.96      0.96      0.96        45\n",
      "           1       0.71      0.71      0.71         7\n",
      "\n",
      "    accuracy                           0.92        52\n",
      "   macro avg       0.83      0.83      0.83        52\n",
      "weighted avg       0.92      0.92      0.92        52\n",
      "\n"
     ]
    }
   ],
   "source": [
    "print(classification_report(data_rb['Acutal Label'], data_rb['Predicted Label']))"
   ]
  },
  {
   "cell_type": "markdown",
   "metadata": {},
   "source": [
    "#### Create confusion matrix"
   ]
  },
  {
   "cell_type": "code",
   "execution_count": 19,
   "metadata": {},
   "outputs": [],
   "source": [
    "# Define the function to create a confusion matrix\n",
    "def create_confusion_matrix(labelsset, predict_set):\n",
    "    # Create a confusion matrix\n",
    "    confusion_matrix_df = pd.DataFrame(confusion_matrix(labelsset, predict_set), \n",
    "                                        index=['Actual 0', 'Actual 1'], \n",
    "                                        columns=['Predicted 0', 'Predicted 1'])\n",
    "    return confusion_matrix_df\n",
    "    "
   ]
  },
  {
   "cell_type": "code",
   "execution_count": 23,
   "metadata": {},
   "outputs": [
    {
     "data": {
      "image/png": "[encoded data removed]",
      "text/plain": [
       "<Figure size 864x432 with 4 Axes>"
      ]
     },
     "metadata": {
      "needs_background": "light"
     },
     "output_type": "display_data"
    }
   ],
   "source": [
    "# Create a confusion matrix for each model\n",
    "distilbert_confmat = create_confusion_matrix(labelsset, pred_distilbert)\n",
    "finbert_confmat = create_confusion_matrix(labelsset, pred_finbert)\n",
    "\n",
    "# Redefine the class labels\n",
    "class_labels = ['Not FLS', 'FLS']\n",
    "\n",
    "# Create subplots with two confusion matrices side by side\n",
    "fig, axes = plt.subplots(1, 2, figsize=(12, 6))\n",
    "\n",
    "# Create the first confusion matrix subplot\n",
    "sns.heatmap(distilbert_confmat, annot=True, fmt=\"d\", cmap=\"Blues\", xticklabels=class_labels, yticklabels=class_labels, ax=axes[0])\n",
    "axes[0].set_xlabel('Predicted')\n",
    "axes[0].set_ylabel('True')\n",
    "axes[0].set_title('DistilBERT-FLS')\n",
    "\n",
    "# Create the second confusion matrix subplot\n",
    "sns.heatmap(finbert_confmat, annot=True, fmt=\"d\", cmap=\"Blues\", xticklabels=class_labels, yticklabels=class_labels, ax=axes[1])\n",
    "axes[1].set_xlabel('Predicted')\n",
    "axes[1].set_ylabel('True')\n",
    "axes[1].set_title('FinBERT-FLS')\n",
    "\n",
    "# Adjust the layout and spacing\n",
    "plt.tight_layout()\n",
    "plt.show()"
   ]
  },
  {
   "cell_type": "markdown",
   "metadata": {},
   "source": [
    "## Next step"
   ]
  },
  {
   "cell_type": "markdown",
   "metadata": {},
   "source": [
    "We are now done with classifying the FLS. Subsequently, there are two datasets for further model implementation (performance prediction, in folder **3_performance_prediction**). But before that, it is necessary to prepare these two datasets, making them ready to use. These preparation steps are demonstrated in the folder **2_dataset**.\n",
    "\n",
    "Additionally, the top important features will be determined in the notebook ``41_explain_fls-classifiers`` in folder **4_interpretation**. This is to give more insights into the crucial features and to see if DistilBERT and FinBERT consider the same words as important. "
   ]
  }
 ],
 "metadata": {
  "kernelspec": {
   "display_name": "Python 3",
   "language": "python",
   "name": "python3"
  },
  "language_info": {
   "codemirror_mode": {
    "name": "ipython",
    "version": 3
   },
   "file_extension": ".py",
   "mimetype": "text/x-python",
   "name": "python",
   "nbconvert_exporter": "python",
   "pygments_lexer": "ipython3",
   "version": "3.10.9"
  }
 },
 "nbformat": 4,
 "nbformat_minor": 2
}
