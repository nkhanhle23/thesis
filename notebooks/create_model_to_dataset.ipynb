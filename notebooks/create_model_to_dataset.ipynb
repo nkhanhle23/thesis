{
 "cells": [
  {
   "cell_type": "code",
   "execution_count": 6,
   "metadata": {},
   "outputs": [],
   "source": [
    "from transformers import pipeline, AutoTokenizer, AutoModelForSequenceClassification\n",
    "import pandas as pd\n",
    "from tqdm import tqdm\n",
    "import json"
   ]
  },
  {
   "cell_type": "code",
   "execution_count": 15,
   "metadata": {},
   "outputs": [
    {
     "data": {
      "text/html": [
       "<div>\n",
       "<style scoped>\n",
       "    .dataframe tbody tr th:only-of-type {\n",
       "        vertical-align: middle;\n",
       "    }\n",
       "\n",
       "    .dataframe tbody tr th {\n",
       "        vertical-align: top;\n",
       "    }\n",
       "\n",
       "    .dataframe thead th {\n",
       "        text-align: right;\n",
       "    }\n",
       "</style>\n",
       "<table border=\"1\" class=\"dataframe\">\n",
       "  <thead>\n",
       "    <tr style=\"text-align: right;\">\n",
       "      <th></th>\n",
       "      <th>index</th>\n",
       "      <th>Sentence</th>\n",
       "      <th>Metric</th>\n",
       "      <th>Item</th>\n",
       "      <th>Year</th>\n",
       "      <th>CIK</th>\n",
       "      <th>Company</th>\n",
       "    </tr>\n",
       "  </thead>\n",
       "  <tbody>\n",
       "    <tr>\n",
       "      <th>0</th>\n",
       "      <td>9</td>\n",
       "      <td>We intend to retain earnings to finance the ex...</td>\n",
       "      <td>Net Income</td>\n",
       "      <td>item_1A</td>\n",
       "      <td>2015</td>\n",
       "      <td>1000228</td>\n",
       "      <td>HENRY SCHEIN INC</td>\n",
       "    </tr>\n",
       "    <tr>\n",
       "      <th>1</th>\n",
       "      <td>20</td>\n",
       "      <td>We intend to retain earnings to finance the ex...</td>\n",
       "      <td>Net Income</td>\n",
       "      <td>item_1A</td>\n",
       "      <td>2016</td>\n",
       "      <td>1000228</td>\n",
       "      <td>HENRY SCHEIN INC</td>\n",
       "    </tr>\n",
       "    <tr>\n",
       "      <th>2</th>\n",
       "      <td>33</td>\n",
       "      <td>We intend to retain earnings to finance the ex...</td>\n",
       "      <td>Net Income</td>\n",
       "      <td>item_1A</td>\n",
       "      <td>2018</td>\n",
       "      <td>1000228</td>\n",
       "      <td>HENRY SCHEIN INC</td>\n",
       "    </tr>\n",
       "    <tr>\n",
       "      <th>3</th>\n",
       "      <td>35</td>\n",
       "      <td>(3) In 2017 there was an estimated one-time-ch...</td>\n",
       "      <td>Net Income</td>\n",
       "      <td>item_1A</td>\n",
       "      <td>2018</td>\n",
       "      <td>1000228</td>\n",
       "      <td>HENRY SCHEIN INC</td>\n",
       "    </tr>\n",
       "    <tr>\n",
       "      <th>4</th>\n",
       "      <td>68</td>\n",
       "      <td>We intend to retain earnings to finance the ex...</td>\n",
       "      <td>Net Income</td>\n",
       "      <td>item_1A</td>\n",
       "      <td>2019</td>\n",
       "      <td>1000228</td>\n",
       "      <td>HENRY SCHEIN INC</td>\n",
       "    </tr>\n",
       "  </tbody>\n",
       "</table>\n",
       "</div>"
      ],
      "text/plain": [
       "   index                                           Sentence      Metric  \\\n",
       "0      9  We intend to retain earnings to finance the ex...  Net Income   \n",
       "1     20  We intend to retain earnings to finance the ex...  Net Income   \n",
       "2     33  We intend to retain earnings to finance the ex...  Net Income   \n",
       "3     35  (3) In 2017 there was an estimated one-time-ch...  Net Income   \n",
       "4     68  We intend to retain earnings to finance the ex...  Net Income   \n",
       "\n",
       "      Item  Year      CIK           Company  \n",
       "0  item_1A  2015  1000228  HENRY SCHEIN INC  \n",
       "1  item_1A  2016  1000228  HENRY SCHEIN INC  \n",
       "2  item_1A  2018  1000228  HENRY SCHEIN INC  \n",
       "3  item_1A  2018  1000228  HENRY SCHEIN INC  \n",
       "4  item_1A  2019  1000228  HENRY SCHEIN INC  "
      ]
     },
     "execution_count": 15,
     "metadata": {},
     "output_type": "execute_result"
    }
   ],
   "source": [
    "# Load data extracted_fls_metrics.json\n",
    "with open('../datasets/EXTRACTED_FLS_METRICS.json', 'r') as json_file:\n",
    "    data = json.load(json_file)\n",
    "df = pd.DataFrame(data)\n",
    "\n",
    "df_fls = df[df['FLS']=='FLS']\n",
    "df_fls.drop(columns=['FLS'], inplace=True)\n",
    "df_fls.reset_index(inplace=True)\n",
    "df_fls.head()"
   ]
  },
  {
   "cell_type": "code",
   "execution_count": 39,
   "metadata": {},
   "outputs": [],
   "source": [
    "from transformers import pipeline, AutoTokenizer, AutoModelForSequenceClassification\n",
    "import pandas as pd\n",
    "from tqdm import tqdm\n",
    "\n",
    "def classify_and_save_batch(df, model_name, output_filename, max_sequence_length=512, batch_size=8):\n",
    "    tokenizer = AutoTokenizer.from_pretrained(model_name)\n",
    "    model = AutoModelForSequenceClassification.from_pretrained(model_name)\n",
    "    nlp = pipeline(\"text-classification\", model=model, tokenizer=tokenizer, device=0, truncation=True,max_length=max_sequence_length)  # Set device to use GPU\n",
    "    \n",
    "    # Create a label mapping dictionary\n",
    "    if model_name == '../model/distilbert-fls':\n",
    "        label_mapping = {'LABEL_1': 'FLS', 'LABEL_0': 'Not FLS'}\n",
    "    elif model_name == 'yiyanghkust/finbert-fls':\n",
    "        label_mapping = {'Specific FLS': 'FLS', \n",
    "                         'Non-specific FLS': 'Not FLS',\n",
    "                         'Not FLS': 'Not FLS'}\n",
    "\n",
    "    # Create a new column for labels in the DataFrame\n",
    "    df['Label'] = \"\"\n",
    "\n",
    "    # Iterate through the DataFrame and classify each sentence in batches with a progress bar\n",
    "    sentences = df['Sentence'].tolist()\n",
    "    num_sentences = len(sentences)\n",
    "\n",
    "    with tqdm(total=num_sentences, desc=f\"Processing {model_name}\") as pbar:\n",
    "        for start in range(0, num_sentences, batch_size):\n",
    "            batch_sentences = sentences[start : start + batch_size]\n",
    "            batch_results = nlp(batch_sentences)\n",
    "            \n",
    "\n",
    "            for i, result in enumerate(batch_results):\n",
    "                label = result['label']  # Access the label from the first dictionary in the list\n",
    "                \n",
    "                # Use the label mapping dictionary to convert the label to the desired format\n",
    "                mapped_label = label_mapping[label]\n",
    "                \n",
    "                # Update the original DataFrame with the mapped label\n",
    "                original_index = start + i\n",
    "                df.at[original_index, 'Label'] = mapped_label\n",
    "                pbar.update(1)\n",
    "                \n",
    "    # Save the resulting DataFrame to a CSV file\n",
    "    df.to_csv(output_filename, index=False)\n"
   ]
  },
  {
   "cell_type": "code",
   "execution_count": 40,
   "metadata": {},
   "outputs": [
    {
     "name": "stderr",
     "output_type": "stream",
     "text": [
      "<ipython-input-39-830d0a6736ef>:19: SettingWithCopyWarning: \n",
      "A value is trying to be set on a copy of a slice from a DataFrame.\n",
      "Try using .loc[row_indexer,col_indexer] = value instead\n",
      "\n",
      "See the caveats in the documentation: http://pandas.pydata.org/pandas-docs/stable/user_guide/indexing.html#returning-a-view-versus-a-copy\n",
      "  df['Label'] = \"\"\n",
      "Processing yiyanghkust/finbert-fls:   1%|          | 289/34729 [00:02<04:07, 139.42it/s]/home/nguyenk/.local/lib/python3.8/site-packages/transformers/pipelines/base.py:1101: UserWarning: You seem to be using the pipelines sequentially on GPU. In order to maximize efficiency please use a dataset\n",
      "  warnings.warn(\n",
      "Processing yiyanghkust/finbert-fls: 100%|██████████| 34729/34729 [04:00<00:00, 144.43it/s]\n"
     ]
    }
   ],
   "source": [
    "classify_and_save_batch(df_fls, 'yiyanghkust/finbert-fls', '../datasets/finbert_dataset.csv', max_sequence_length=512, batch_size=32)"
   ]
  },
  {
   "cell_type": "code",
   "execution_count": 36,
   "metadata": {},
   "outputs": [
    {
     "name": "stderr",
     "output_type": "stream",
     "text": [
      "<ipython-input-34-1fda8f820b8f>:19: SettingWithCopyWarning: \n",
      "A value is trying to be set on a copy of a slice from a DataFrame.\n",
      "Try using .loc[row_indexer,col_indexer] = value instead\n",
      "\n",
      "See the caveats in the documentation: http://pandas.pydata.org/pandas-docs/stable/user_guide/indexing.html#returning-a-view-versus-a-copy\n",
      "  df['Label'] = \"\"\n",
      "Processing ../model/distilbert-fls: 100%|██████████| 34729/34729 [02:25<00:00, 238.09it/s]\n"
     ]
    }
   ],
   "source": [
    "classify_and_save_batch(df_fls, '../model/distilbert-fls', '../datasets/distilbert_dataset.csv', max_sequence_length=512, batch_size=32)"
   ]
  },
  {
   "cell_type": "code",
   "execution_count": 37,
   "metadata": {},
   "outputs": [
    {
     "data": {
      "text/plain": [
       "FLS        33632\n",
       "Not FLS     1097\n",
       "Name: Label, dtype: int64"
      ]
     },
     "execution_count": 37,
     "metadata": {},
     "output_type": "execute_result"
    }
   ],
   "source": [
    "# load the dataset\n",
    "df_distilbert = pd.read_csv('../datasets/distilbert_dataset.csv')\n",
    "df_distilbert.Label.value_counts()\n"
   ]
  },
  {
   "cell_type": "code",
   "execution_count": 41,
   "metadata": {},
   "outputs": [
    {
     "data": {
      "text/plain": [
       "Not FLS    29504\n",
       "FLS         5225\n",
       "Name: Label, dtype: int64"
      ]
     },
     "execution_count": 41,
     "metadata": {},
     "output_type": "execute_result"
    }
   ],
   "source": [
    "# load the dataset\n",
    "df_finbert = pd.read_csv('../datasets/finbert_dataset.csv')\n",
    "df_finbert.Label.value_counts()"
   ]
  },
  {
   "cell_type": "code",
   "execution_count": 54,
   "metadata": {},
   "outputs": [
    {
     "data": {
      "image/png": "[encoded data removed]",
      "text/plain": [
       "<Figure size 576x432 with 2 Axes>"
      ]
     },
     "metadata": {
      "needs_background": "light"
     },
     "output_type": "display_data"
    }
   ],
   "source": [
    "\n",
    "# Create a confusion matrix to compare the differences between the two models\n",
    "from sklearn.metrics import confusion_matrix\n",
    "import matplotlib.pyplot as plt\n",
    "import seaborn as sns\n",
    "\n",
    "\n",
    "# Create a confusion matrix\n",
    "confusion_matrix_df = pd.DataFrame(confusion_matrix(df_finbert['Label'], df_distilbert['Label']), \n",
    "                                    index=['FLS (FinBERT)', 'Not FLS (FinBERT)'], \n",
    "                                    columns=['FLS (DistilBert)', 'Not FLS (DistilBert)'])\n",
    "\n",
    "# Plot the confusion matrix\n",
    "plt.figure(figsize=(8, 6))\n",
    "sns.heatmap(confusion_matrix_df, annot=True, cmap='Blues', fmt='g')\n",
    "plt.title(f'Confusion Matrix')\n",
    "plt.ylabel('FinBERT')\n",
    "plt.xlabel('DistilBert')\n",
    "plt.show()"
   ]
  },
  {
   "cell_type": "code",
   "execution_count": 55,
   "metadata": {},
   "outputs": [
    {
     "data": {
      "text/html": [
       "<div>\n",
       "<style scoped>\n",
       "    .dataframe tbody tr th:only-of-type {\n",
       "        vertical-align: middle;\n",
       "    }\n",
       "\n",
       "    .dataframe tbody tr th {\n",
       "        vertical-align: top;\n",
       "    }\n",
       "\n",
       "    .dataframe thead th {\n",
       "        text-align: right;\n",
       "    }\n",
       "</style>\n",
       "<table border=\"1\" class=\"dataframe\">\n",
       "  <thead>\n",
       "    <tr style=\"text-align: right;\">\n",
       "      <th></th>\n",
       "      <th>FLS (DistilBert)</th>\n",
       "      <th>Not FLS (DistilBert)</th>\n",
       "    </tr>\n",
       "  </thead>\n",
       "  <tbody>\n",
       "    <tr>\n",
       "      <th>FLS (FinBERT)</th>\n",
       "      <td>5152</td>\n",
       "      <td>73</td>\n",
       "    </tr>\n",
       "    <tr>\n",
       "      <th>Not FLS (FinBERT)</th>\n",
       "      <td>28480</td>\n",
       "      <td>1024</td>\n",
       "    </tr>\n",
       "  </tbody>\n",
       "</table>\n",
       "</div>"
      ],
      "text/plain": [
       "                   FLS (DistilBert)  Not FLS (DistilBert)\n",
       "FLS (FinBERT)                  5152                    73\n",
       "Not FLS (FinBERT)             28480                  1024"
      ]
     },
     "execution_count": 55,
     "metadata": {},
     "output_type": "execute_result"
    }
   ],
   "source": [
    "confusion_matrix_df"
   ]
  },
  {
   "cell_type": "code",
   "execution_count": null,
   "metadata": {},
   "outputs": [],
   "source": [
    "# Error analysis\n",
    "# Examine the instances where the models disagreed (e.g., one model predicted 'FLS' while the other predicted 'Not FLS'). \n",
    "# Analyze the text and context of these instances to understand why there are differences."
   ]
  }
 ],
 "metadata": {
  "kernelspec": {
   "display_name": "Python 3",
   "language": "python",
   "name": "python3"
  },
  "language_info": {
   "codemirror_mode": {
    "name": "ipython",
    "version": 3
   },
   "file_extension": ".py",
   "mimetype": "text/x-python",
   "name": "python",
   "nbconvert_exporter": "python",
   "pygments_lexer": "ipython3",
   "version": "3.10.9"
  }
 },
 "nbformat": 4,
 "nbformat_minor": 2
}
