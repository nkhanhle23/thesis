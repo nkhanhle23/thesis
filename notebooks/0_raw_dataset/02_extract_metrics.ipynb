{
 "cells": [
  {
   "cell_type": "code",
   "execution_count": null,
   "metadata": {},
   "outputs": [],
   "source": [
    "import requests\n",
    "import pandas as pd\n",
    "from tqdm import tqdm\n",
    "import json\n",
    "import os  # Import the os module to manage files"
   ]
  },
  {
   "cell_type": "code",
   "execution_count": null,
   "metadata": {},
   "outputs": [],
   "source": [
    "# Define metrics\n",
    "metrics = ['NetIncomeLoss', 'RevenueFromContractWithCustomerExcludingAssessedTax',\n",
    "           'EarningsPerShareDiluted', 'NetCashProvidedByUsedInContinuingOperations',\n",
    "           'NetCashProvidedByUsedInFinancingActivities',\n",
    "           'NetCashProvidedByUsedInInvestingActivities',\n",
    "           'CostOfGoodsAndServicesSold', 'SellingGeneralAndAdministrativeExpense'\n",
    "           ]\n",
    "\n",
    "start_year = 2006\n",
    "end_year = 2022\n",
    "\n",
    "# Define base URL and header\n",
    "base_url = \"https://data.sec.gov/api/xbrl/frames/us-gaap\"\n",
    "header = {'Accept': \"application/json\", 'User-Agent': \"s_nguyenk22@stud.hwr-berlin.de\"}\n",
    "\n",
    "# Create a directory to store the metric-specific files\n",
    "output_directory = '../../data/00_raw/metric_data'\n",
    "os.makedirs(output_directory, exist_ok=True)\n",
    "\n",
    "# Loop through metrics and years\n",
    "for metric in metrics:\n",
    "    metric_data = []  # Create a list for data related to the current metric\n",
    "    for year in tqdm(range(start_year, end_year + 1), desc=f\"Fetching {metric}\"):\n",
    "        url = f\"{base_url}/{metric}/USD/CY{year}.json\"\n",
    "        try:\n",
    "            data = requests.get(url, headers=header).json()\n",
    "            df = pd.DataFrame(data['data'])\n",
    "            df['year'] = year\n",
    "\n",
    "            df['metric'] = metric\n",
    "\n",
    "            metric_data.append(df)\n",
    "        except json.JSONDecodeError as e:\n",
    "            print(f\"Skipping {url} due to JSONDecodeError: {e}\")\n",
    "\n",
    "    # Concatenate all the dataframes related to the current metric\n",
    "    if metric_data:\n",
    "        final_df = pd.concat(metric_data, ignore_index=True)\n",
    "\n",
    "        # Rename the columns\n",
    "        final_df['metric'] = final_df['metric'].replace({\n",
    "            'NetIncomeLoss': 'Net Income (Loss)',\n",
    "            'RevenueFromContractWithCustomerExcludingAssessedTax': 'Revenue',\n",
    "            'EarningsPerShareDiluted': 'Diluted Earnings per share',\n",
    "            'NetCashProvidedByUsedInContinuingOperations': 'Net Cash from Operating Activities',\n",
    "            'NetCashProvidedByUsedInFinancingActivities': 'Net Cash from Financing Activities',\n",
    "            'NetCashProvidedByUsedInInvestingActivities': 'Net Cash from Investing Activities',\n",
    "            'CostOfGoodsAndServicesSold': 'Cost of Goods Sold',\n",
    "            'SellingGeneralAndAdministrativeExpense': 'Selling, General and Administrative Expenses'\n",
    "        })\n",
    "\n",
    "        # Define the output file path for the current metric\n",
    "        output_file = os.path.join(output_directory, f'{metric}.csv')\n",
    "\n",
    "        # Save the current metric's data to a CSV file\n",
    "        final_df.to_csv(output_file, index=False)\n"
   ]
  }
 ],
 "metadata": {
  "language_info": {
   "name": "python"
  }
 },
 "nbformat": 4,
 "nbformat_minor": 2
}
