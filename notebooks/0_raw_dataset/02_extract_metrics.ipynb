{
 "cells": [
  {
   "cell_type": "markdown",
   "metadata": {},
   "source": [
    "# Extraction of real values of metrics"
   ]
  },
  {
   "cell_type": "markdown",
   "metadata": {},
   "source": [
    "This notebook extracts the metrics from the EDGAR database. The time range is 2006 - 2022. For this research project, 7 metrics have been hand-picked to predict the company financial performance, and they are Net Income, Revenue, Earnings Per Share (EPS), Earnings Before Interests and Taxes (EBIT) and the three Cash Flows (from Operating, Investing and Financing Activities). Thus, these specific metrics are to be extracted from EDGAR database. \n",
    "\n",
    "*Notes:* EBIT is not directly available on EDGAR so 2 further metrics will be extracted from this database to calculate EBIT later in notebook ``03_calculate_ebit``, specifically Cost of Goods And Services Sold and Administrative Expenses. "
   ]
  },
  {
   "cell_type": "markdown",
   "metadata": {},
   "source": [
    "## Import packages"
   ]
  },
  {
   "cell_type": "code",
   "execution_count": 1,
   "metadata": {},
   "outputs": [],
   "source": [
    "import requests\n",
    "import pandas as pd\n",
    "from tqdm import tqdm\n",
    "import json\n",
    "import os  "
   ]
  },
  {
   "cell_type": "markdown",
   "metadata": {},
   "source": [
    "## Extract metrics from EDGAR"
   ]
  },
  {
   "cell_type": "code",
   "execution_count": 3,
   "metadata": {},
   "outputs": [
    {
     "name": "stderr",
     "output_type": "stream",
     "text": [
      "Fetching NetIncomeLoss: 100%|██████████| 17/17 [00:08<00:00,  2.01it/s]\n",
      "Fetching RevenueFromContractWithCustomerExcludingAssessedTax:   6%|▌         | 1/17 [00:00<00:08,  1.92it/s]"
     ]
    },
    {
     "name": "stdout",
     "output_type": "stream",
     "text": [
      "Skipping https://data.sec.gov/api/xbrl/frames/us-gaap/RevenueFromContractWithCustomerExcludingAssessedTax/USD/CY2006.json due to error: 404 Client Error: Not Found for url: https://data.sec.gov/api/xbrl/frames/us-gaap/RevenueFromContractWithCustomerExcludingAssessedTax/USD/CY2006.json\n"
     ]
    },
    {
     "name": "stderr",
     "output_type": "stream",
     "text": [
      "Fetching RevenueFromContractWithCustomerExcludingAssessedTax:  12%|█▏        | 2/17 [00:00<00:06,  2.25it/s]"
     ]
    },
    {
     "name": "stdout",
     "output_type": "stream",
     "text": [
      "Skipping https://data.sec.gov/api/xbrl/frames/us-gaap/RevenueFromContractWithCustomerExcludingAssessedTax/USD/CY2007.json due to error: 404 Client Error: Not Found for url: https://data.sec.gov/api/xbrl/frames/us-gaap/RevenueFromContractWithCustomerExcludingAssessedTax/USD/CY2007.json\n"
     ]
    },
    {
     "name": "stderr",
     "output_type": "stream",
     "text": [
      "Fetching RevenueFromContractWithCustomerExcludingAssessedTax:  18%|█▊        | 3/17 [00:01<00:05,  2.62it/s]"
     ]
    },
    {
     "name": "stdout",
     "output_type": "stream",
     "text": [
      "Skipping https://data.sec.gov/api/xbrl/frames/us-gaap/RevenueFromContractWithCustomerExcludingAssessedTax/USD/CY2008.json due to error: 404 Client Error: Not Found for url: https://data.sec.gov/api/xbrl/frames/us-gaap/RevenueFromContractWithCustomerExcludingAssessedTax/USD/CY2008.json\n"
     ]
    },
    {
     "name": "stderr",
     "output_type": "stream",
     "text": [
      "Fetching RevenueFromContractWithCustomerExcludingAssessedTax:  24%|██▎       | 4/17 [00:01<00:04,  2.68it/s]"
     ]
    },
    {
     "name": "stdout",
     "output_type": "stream",
     "text": [
      "Skipping https://data.sec.gov/api/xbrl/frames/us-gaap/RevenueFromContractWithCustomerExcludingAssessedTax/USD/CY2009.json due to error: 404 Client Error: Not Found for url: https://data.sec.gov/api/xbrl/frames/us-gaap/RevenueFromContractWithCustomerExcludingAssessedTax/USD/CY2009.json\n"
     ]
    },
    {
     "name": "stderr",
     "output_type": "stream",
     "text": [
      "Fetching RevenueFromContractWithCustomerExcludingAssessedTax:  29%|██▉       | 5/17 [00:01<00:03,  3.09it/s]"
     ]
    },
    {
     "name": "stdout",
     "output_type": "stream",
     "text": [
      "Skipping https://data.sec.gov/api/xbrl/frames/us-gaap/RevenueFromContractWithCustomerExcludingAssessedTax/USD/CY2010.json due to error: 404 Client Error: Not Found for url: https://data.sec.gov/api/xbrl/frames/us-gaap/RevenueFromContractWithCustomerExcludingAssessedTax/USD/CY2010.json\n"
     ]
    },
    {
     "name": "stderr",
     "output_type": "stream",
     "text": [
      "Fetching RevenueFromContractWithCustomerExcludingAssessedTax:  35%|███▌      | 6/17 [00:01<00:03,  3.35it/s]"
     ]
    },
    {
     "name": "stdout",
     "output_type": "stream",
     "text": [
      "Skipping https://data.sec.gov/api/xbrl/frames/us-gaap/RevenueFromContractWithCustomerExcludingAssessedTax/USD/CY2011.json due to error: 404 Client Error: Not Found for url: https://data.sec.gov/api/xbrl/frames/us-gaap/RevenueFromContractWithCustomerExcludingAssessedTax/USD/CY2011.json\n"
     ]
    },
    {
     "name": "stderr",
     "output_type": "stream",
     "text": [
      "Fetching RevenueFromContractWithCustomerExcludingAssessedTax:  41%|████      | 7/17 [00:02<00:03,  3.32it/s]"
     ]
    },
    {
     "name": "stdout",
     "output_type": "stream",
     "text": [
      "Skipping https://data.sec.gov/api/xbrl/frames/us-gaap/RevenueFromContractWithCustomerExcludingAssessedTax/USD/CY2012.json due to error: 404 Client Error: Not Found for url: https://data.sec.gov/api/xbrl/frames/us-gaap/RevenueFromContractWithCustomerExcludingAssessedTax/USD/CY2012.json\n"
     ]
    },
    {
     "name": "stderr",
     "output_type": "stream",
     "text": [
      "Fetching RevenueFromContractWithCustomerExcludingAssessedTax:  47%|████▋     | 8/17 [00:02<00:02,  3.08it/s]"
     ]
    },
    {
     "name": "stdout",
     "output_type": "stream",
     "text": [
      "Skipping https://data.sec.gov/api/xbrl/frames/us-gaap/RevenueFromContractWithCustomerExcludingAssessedTax/USD/CY2013.json due to error: 404 Client Error: Not Found for url: https://data.sec.gov/api/xbrl/frames/us-gaap/RevenueFromContractWithCustomerExcludingAssessedTax/USD/CY2013.json\n"
     ]
    },
    {
     "name": "stderr",
     "output_type": "stream",
     "text": [
      "Fetching RevenueFromContractWithCustomerExcludingAssessedTax: 100%|██████████| 17/17 [00:06<00:00,  2.52it/s]\n",
      "Fetching EarningsPerShareDiluted:  94%|█████████▍| 16/17 [00:06<00:00,  2.88it/s]"
     ]
    },
    {
     "name": "stdout",
     "output_type": "stream",
     "text": [
      "Skipping https://data.sec.gov/api/xbrl/frames/us-gaap/EarningsPerShareDiluted/USD/CY2021.json due to error: 404 Client Error: Not Found for url: https://data.sec.gov/api/xbrl/frames/us-gaap/EarningsPerShareDiluted/USD/CY2021.json\n"
     ]
    },
    {
     "name": "stderr",
     "output_type": "stream",
     "text": [
      "Fetching EarningsPerShareDiluted: 100%|██████████| 17/17 [00:06<00:00,  2.44it/s]"
     ]
    },
    {
     "name": "stdout",
     "output_type": "stream",
     "text": [
      "Skipping https://data.sec.gov/api/xbrl/frames/us-gaap/EarningsPerShareDiluted/USD/CY2022.json due to error: 404 Client Error: Not Found for url: https://data.sec.gov/api/xbrl/frames/us-gaap/EarningsPerShareDiluted/USD/CY2022.json\n"
     ]
    },
    {
     "name": "stderr",
     "output_type": "stream",
     "text": [
      "\n",
      "Fetching NetCashProvidedByUsedInContinuingOperations:   6%|▌         | 1/17 [00:00<00:03,  4.26it/s]"
     ]
    },
    {
     "name": "stdout",
     "output_type": "stream",
     "text": [
      "Skipping https://data.sec.gov/api/xbrl/frames/us-gaap/NetCashProvidedByUsedInContinuingOperations/USD/CY2006.json due to error: 404 Client Error: Not Found for url: https://data.sec.gov/api/xbrl/frames/us-gaap/NetCashProvidedByUsedInContinuingOperations/USD/CY2006.json\n"
     ]
    },
    {
     "name": "stderr",
     "output_type": "stream",
     "text": [
      "Fetching NetCashProvidedByUsedInContinuingOperations:  12%|█▏        | 2/17 [00:00<00:03,  4.12it/s]"
     ]
    },
    {
     "name": "stdout",
     "output_type": "stream",
     "text": [
      "Skipping https://data.sec.gov/api/xbrl/frames/us-gaap/NetCashProvidedByUsedInContinuingOperations/USD/CY2007.json due to error: 404 Client Error: Not Found for url: https://data.sec.gov/api/xbrl/frames/us-gaap/NetCashProvidedByUsedInContinuingOperations/USD/CY2007.json\n"
     ]
    },
    {
     "name": "stderr",
     "output_type": "stream",
     "text": [
      "Fetching NetCashProvidedByUsedInContinuingOperations:  18%|█▊        | 3/17 [00:00<00:03,  4.07it/s]"
     ]
    },
    {
     "name": "stdout",
     "output_type": "stream",
     "text": [
      "Skipping https://data.sec.gov/api/xbrl/frames/us-gaap/NetCashProvidedByUsedInContinuingOperations/USD/CY2008.json due to error: 404 Client Error: Not Found for url: https://data.sec.gov/api/xbrl/frames/us-gaap/NetCashProvidedByUsedInContinuingOperations/USD/CY2008.json\n"
     ]
    },
    {
     "name": "stderr",
     "output_type": "stream",
     "text": [
      "Fetching NetCashProvidedByUsedInContinuingOperations: 100%|██████████| 17/17 [00:04<00:00,  3.42it/s]\n",
      "Fetching NetCashProvidedByUsedInFinancingActivities: 100%|██████████| 17/17 [00:07<00:00,  2.24it/s]\n",
      "Fetching NetCashProvidedByUsedInInvestingActivities: 100%|██████████| 17/17 [00:10<00:00,  1.59it/s]\n",
      "Fetching CostOfGoodsAndServicesSold:   6%|▌         | 1/17 [00:00<00:03,  4.25it/s]"
     ]
    },
    {
     "name": "stdout",
     "output_type": "stream",
     "text": [
      "Skipping https://data.sec.gov/api/xbrl/frames/us-gaap/CostOfGoodsAndServicesSold/USD/CY2006.json due to error: 404 Client Error: Not Found for url: https://data.sec.gov/api/xbrl/frames/us-gaap/CostOfGoodsAndServicesSold/USD/CY2006.json\n"
     ]
    },
    {
     "name": "stderr",
     "output_type": "stream",
     "text": [
      "Fetching CostOfGoodsAndServicesSold: 100%|██████████| 17/17 [00:06<00:00,  2.83it/s]\n",
      "Fetching SellingGeneralAndAdministrativeExpense: 100%|██████████| 17/17 [00:08<00:00,  1.95it/s]\n"
     ]
    }
   ],
   "source": [
    "# Define metrics\n",
    "metrics = ['NetIncomeLoss', 'RevenueFromContractWithCustomerExcludingAssessedTax',\n",
    "        'EarningsPerShareDiluted', 'NetCashProvidedByUsedInContinuingOperations',\n",
    "        'NetCashProvidedByUsedInFinancingActivities',\n",
    "        'NetCashProvidedByUsedInInvestingActivities',\n",
    "        'CostOfGoodsAndServicesSold', 'SellingGeneralAndAdministrativeExpense'\n",
    "        ] # these metric names are based on the XBRL taxonomies, used by SEC EDGAR\n",
    "\n",
    "start_year = 2006\n",
    "end_year = 2022\n",
    "\n",
    "# Define base URL and header\n",
    "base_url = \"https://data.sec.gov/api/xbrl/frames/us-gaap\"\n",
    "header = {'Accept': \"application/json\", 'User-Agent': \"MasterThesisProject\"}\n",
    "\n",
    "# Create a directory to store the metric-specific files\n",
    "output_directory = '../../data/00_raw/metric_data'\n",
    "os.makedirs(output_directory, exist_ok=True)\n",
    "\n",
    "# Loop through metrics and years\n",
    "for metric in metrics:\n",
    "    metric_data = []  # Create a list for data related to the current metric\n",
    "    for year in tqdm(range(start_year, end_year + 1), desc=f\"Fetching {metric}\"):\n",
    "        url = f\"{base_url}/{metric}/USD/CY{year}.json\"\n",
    "        try:\n",
    "            response = requests.get(url, headers=header)\n",
    "            response.raise_for_status()  # Will raise an exception for HTTP errors\n",
    "            data = response.json()\n",
    "            df = pd.DataFrame(data['data'])\n",
    "            df['year'] = year\n",
    "            df['metric'] = metric\n",
    "            metric_data.append(df)\n",
    "        except (json.JSONDecodeError, requests.exceptions.RequestException) as e:\n",
    "            print(f\"Skipping {url} due to error: {e}\")\n",
    "\n",
    "    # Concatenate all the dataframes related to the current metric\n",
    "    if metric_data:\n",
    "        final_df = pd.concat(metric_data, ignore_index=True)\n",
    "\n",
    "        # Rename the columns\n",
    "        final_df['metric'] = final_df['metric'].replace({\n",
    "            'NetIncomeLoss': 'Net Income (Loss)',\n",
    "            'RevenueFromContractWithCustomerExcludingAssessedTax': 'Revenue',\n",
    "            'EarningsPerShareDiluted': 'Diluted Earnings per share',\n",
    "            'NetCashProvidedByUsedInContinuingOperations': 'Net Cash from Operating Activities',\n",
    "            'NetCashProvidedByUsedInFinancingActivities': 'Net Cash from Financing Activities',\n",
    "            'NetCashProvidedByUsedInInvestingActivities': 'Net Cash from Investing Activities',\n",
    "            'CostOfGoodsAndServicesSold': 'Cost of Goods Sold',\n",
    "            'SellingGeneralAndAdministrativeExpense': 'Selling, General and Administrative Expenses'\n",
    "        })\n",
    "\n",
    "        # Define the output file path for the current metric\n",
    "        output_file = os.path.join(output_directory, f'{metric}.csv')\n",
    "\n",
    "        # Save the current metric's data to a CSV file\n",
    "        final_df.to_csv(output_file, index=False)\n"
   ]
  },
  {
   "cell_type": "markdown",
   "metadata": {},
   "source": [
    "After the extraction, it is sure that all taxonomies (metrics uniform names on EDGAR) are only uniform from 2015 onwards. As the sentence pool is still large enough for developing models, we will continue with the year span from 2015-2022. "
   ]
  },
  {
   "cell_type": "markdown",
   "metadata": {},
   "source": [
    "## Next step"
   ]
  },
  {
   "cell_type": "markdown",
   "metadata": {},
   "source": [
    "As EBIT is not readily available on EDGAR database, this needs to be calculated. ```03_calculate_ebit``` is the next step to implement this and create the dataset of true metric values. "
   ]
  }
 ],
 "metadata": {
  "kernelspec": {
   "display_name": "Python 3",
   "language": "python",
   "name": "python3"
  },
  "language_info": {
   "codemirror_mode": {
    "name": "ipython",
    "version": 3
   },
   "file_extension": ".py",
   "mimetype": "text/x-python",
   "name": "python",
   "nbconvert_exporter": "python",
   "pygments_lexer": "ipython3",
   "version": "3.10.9"
  }
 },
 "nbformat": 4,
 "nbformat_minor": 2
}
