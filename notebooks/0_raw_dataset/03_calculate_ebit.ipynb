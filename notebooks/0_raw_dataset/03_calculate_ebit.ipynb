{
 "cells": [
  {
   "cell_type": "markdown",
   "id": "ed13d5db",
   "metadata": {},
   "source": [
    "# EBIT Calculation"
   ]
  },
  {
   "cell_type": "markdown",
   "id": "ca4e9db8",
   "metadata": {},
   "source": [
    "This notebook calculates the metric EBIT from other metric values extracted from EDGAR database. The formula to calculate EBIT is: <br><br>\n",
    "$EBIT = Revenue - Cost of Goods and Serves Sold - Administrative Expenses$"
   ]
  },
  {
   "cell_type": "markdown",
   "id": "9b68ca3c",
   "metadata": {},
   "source": [
    "# Import packages"
   ]
  },
  {
   "cell_type": "code",
   "execution_count": 3,
   "id": "3ecd913f",
   "metadata": {},
   "outputs": [],
   "source": [
    "import os\n",
    "import json\n",
    "from tqdm import tqdm\n",
    "import pandas as pd\n",
    "import numpy as np\n",
    "import matplotlib.pyplot as plt\n",
    "import re "
   ]
  },
  {
   "cell_type": "markdown",
   "id": "2cf51799",
   "metadata": {},
   "source": [
    "## Calculate and extract EBIT file"
   ]
  },
  {
   "cell_type": "code",
   "execution_count": 4,
   "id": "9a222a05",
   "metadata": {},
   "outputs": [
    {
     "name": "stdout",
     "output_type": "stream",
     "text": [
      "EBIT calculation and export completed.\n"
     ]
    }
   ],
   "source": [
    "# Define the directory where the metric CSV files are stored\n",
    "metric_data_directory = '../../data/00_raw/metric_data'\n",
    "\n",
    "# Define the filename for the EBIT CSV file\n",
    "ebit_output_file = f'{metric_data_directory}/EBIT.csv'\n",
    "\n",
    "# List of metrics required for EBIT calculation\n",
    "metrics_for_ebit = [\n",
    "    'RevenueFromContractWithCustomerExcludingAssessedTax',\n",
    "    'CostOfGoodsAndServicesSold',\n",
    "    'SellingGeneralAndAdministrativeExpense'\n",
    "]\n",
    "\n",
    "# Initialize an empty DataFrame for EBIT\n",
    "ebit_df = None\n",
    "\n",
    "# Loop through the metrics for EBIT calculation\n",
    "for metric in metrics_for_ebit:\n",
    "    # Load the metric-specific CSV file\n",
    "    metric_file = os.path.join(metric_data_directory, f'{metric}.csv')\n",
    "    df = pd.read_csv(metric_file)\n",
    "    \n",
    "    # Pivot the data to have metrics as columns, indexed by 'year' and 'cik'\n",
    "    df_pivot = df.pivot(index=['year', 'cik'], columns='metric', values='val')\n",
    "    \n",
    "    # If this is the first metric, set the EBIT DataFrame to the pivot table\n",
    "    if ebit_df is None:\n",
    "        ebit_df = df_pivot.copy()\n",
    "    else:\n",
    "        # Subtract the metric-specific DataFrame from the existing EBIT DataFrame\n",
    "        ebit_df = ebit_df.sub(df_pivot, fill_value=0)\n",
    "    \n",
    "# Calculate EBIT as the difference between specific columns\n",
    "ebit_df['val'] = ebit_df['Revenue'] - ebit_df['Cost of Goods Sold'] - ebit_df['Selling, General and Administrative Expenses']\n",
    "ebit_df['metric'] = 'EBIT'\n",
    "# Reset the index\n",
    "ebit_df.reset_index(inplace=True)\n",
    "\n",
    "# Save the EBIT DataFrame to a CSV file\n",
    "ebit_df.to_csv(ebit_output_file, index=False)\n",
    "\n",
    "# Print a completion message\n",
    "print(\"EBIT calculation and export completed.\")"
   ]
  },
  {
   "cell_type": "markdown",
   "id": "4c2fa651",
   "metadata": {},
   "source": [
    "## Next step"
   ]
  },
  {
   "cell_type": "markdown",
   "id": "72642422",
   "metadata": {},
   "source": [
    "This is the last step of getting and cleaning the raw data. Next, we will start training the FLS classifiers in folder **1_fls_classifiers**. "
   ]
  }
 ],
 "metadata": {
  "kernelspec": {
   "display_name": "Python 3 (ipykernel)",
   "language": "python",
   "name": "python3"
  },
  "language_info": {
   "codemirror_mode": {
    "name": "ipython",
    "version": 3
   },
   "file_extension": ".py",
   "mimetype": "text/x-python",
   "name": "python",
   "nbconvert_exporter": "python",
   "pygments_lexer": "ipython3",
   "version": "3.10.9"
  }
 },
 "nbformat": 4,
 "nbformat_minor": 5
}
