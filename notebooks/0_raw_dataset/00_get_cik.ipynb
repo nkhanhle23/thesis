{
 "cells": [
  {
   "cell_type": "markdown",
   "metadata": {},
   "source": [
    "# Acquisition of CIK List"
   ]
  },
  {
   "cell_type": "markdown",
   "metadata": {},
   "source": [
    "This Jupyter notebook helps acquire the CIK (Central Index Key) list of companies that are currently in the S&P 500 Index. These companies' CIK  numbers are required for further data extraction from the SEC's EDGAR database. "
   ]
  },
  {
   "cell_type": "markdown",
   "metadata": {},
   "source": [
    "## Import packages"
   ]
  },
  {
   "cell_type": "code",
   "execution_count": null,
   "metadata": {},
   "outputs": [],
   "source": [
    "import pandas as pd\n",
    "import os "
   ]
  },
  {
   "cell_type": "markdown",
   "metadata": {},
   "source": [
    "## Get link from Wikipedia and download the list of CIK accordingly"
   ]
  },
  {
   "cell_type": "markdown",
   "metadata": {},
   "source": [
    "The list of CIKs is obtained from Wikipedia, which keeps an updated table of S&P 500 companies including their CIKs."
   ]
  },
  {
   "cell_type": "code",
   "execution_count": null,
   "metadata": {},
   "outputs": [],
   "source": [
    "link = (\n",
    "    \"https://en.wikipedia.org/wiki/List_of_S%26P_500_companies#S&P_500_component_stocks\"\n",
    ")\n",
    "\n",
    "try:\n",
    "    df = pd.read_html(link, header=0)[0]\n",
    "except Exception as e:\n",
    "    print(f\"An error occurred while trying to read the HTML: {e}\")\n",
    "\n",
    "\n",
    "\n",
    "cik = df['CIK'] \n",
    "\n",
    "# Ensure the directory exists before trying to write the file\n",
    "output_dir = '../../data/00_raw/'\n",
    "os.makedirs(output_dir, exist_ok=True)\n",
    "cik.to_csv(os.path.join(output_dir, 'cik.csv'), index=False)"
   ]
  },
  {
   "cell_type": "markdown",
   "metadata": {},
   "source": [
    "## Next step"
   ]
  },
  {
   "cell_type": "markdown",
   "metadata": {},
   "source": [
    "The file ```cik.csv``` is the input for the extraction of 10-K filings with the use of the [EDGAR Crawler](https://github.com/nlpaueb/edgar-crawler). The 10-K filings are saved in the data folder. These data sets are then used as input for the subsequent notebook ```01_extract_sentences.ipynb```"
   ]
  }
 ],
 "metadata": {
  "language_info": {
   "name": "python"
  }
 },
 "nbformat": 4,
 "nbformat_minor": 2
}
