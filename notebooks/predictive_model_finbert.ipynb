{
 "cells": [
  {
   "cell_type": "markdown",
   "metadata": {},
   "source": [
    "# Import packages"
   ]
  },
  {
   "cell_type": "code",
   "execution_count": 29,
   "metadata": {},
   "outputs": [
    {
     "name": "stdout",
     "output_type": "stream",
     "text": [
      "Requirement already satisfied: transformers[torch] in /home/nguyenk/.local/lib/python3.8/site-packages (4.34.1)\n",
      "Requirement already satisfied: tokenizers<0.15,>=0.14 in /home/nguyenk/.local/lib/python3.8/site-packages (from transformers[torch]) (0.14.1)\n",
      "Requirement already satisfied: pyyaml>=5.1 in /usr/lib/python3/dist-packages (from transformers[torch]) (5.3.1)\n",
      "Requirement already satisfied: filelock in /usr/lib/python3/dist-packages (from transformers[torch]) (3.0.12)\n",
      "Requirement already satisfied: huggingface-hub<1.0,>=0.16.4 in /home/nguyenk/.local/lib/python3.8/site-packages (from transformers[torch]) (0.19.1)\n",
      "Requirement already satisfied: packaging>=20.0 in /home/nguyenk/.local/lib/python3.8/site-packages (from transformers[torch]) (23.2)\n",
      "Requirement already satisfied: tqdm>=4.27 in /home/nguyenk/.local/lib/python3.8/site-packages (from transformers[torch]) (4.66.1)\n",
      "Requirement already satisfied: safetensors>=0.3.1 in /home/nguyenk/.local/lib/python3.8/site-packages (from transformers[torch]) (0.4.0)\n",
      "Requirement already satisfied: requests in /usr/lib/python3/dist-packages (from transformers[torch]) (2.22.0)\n",
      "Requirement already satisfied: numpy>=1.17 in /home/nguyenk/.local/lib/python3.8/site-packages (from transformers[torch]) (1.24.4)\n",
      "Requirement already satisfied: regex!=2019.12.17 in /home/nguyenk/.local/lib/python3.8/site-packages (from transformers[torch]) (2023.10.3)\n",
      "Requirement already satisfied: torch!=1.12.0,>=1.10; extra == \"torch\" in /usr/lib/python3/dist-packages (from transformers[torch]) (2.0.1)\n",
      "Requirement already satisfied: accelerate>=0.20.3; extra == \"torch\" in /home/nguyenk/.local/lib/python3.8/site-packages (from transformers[torch]) (0.24.1)\n",
      "Requirement already satisfied: typing-extensions>=3.7.4.3 in /home/nguyenk/.local/lib/python3.8/site-packages (from huggingface-hub<1.0,>=0.16.4->transformers[torch]) (4.8.0)\n",
      "Requirement already satisfied: fsspec>=2023.5.0 in /home/nguyenk/.local/lib/python3.8/site-packages (from huggingface-hub<1.0,>=0.16.4->transformers[torch]) (2023.6.0)\n",
      "Requirement already satisfied: psutil in /home/nguyenk/.local/lib/python3.8/site-packages (from accelerate>=0.20.3; extra == \"torch\"->transformers[torch]) (5.9.6)\n",
      "Note: you may need to restart the kernel to use updated packages.\n"
     ]
    }
   ],
   "source": [
    "#%pip install datasets\n",
    "#%pip install accelerate -U\n",
    "#%pip install transformers[torch]"
   ]
  },
  {
   "cell_type": "code",
   "execution_count": 1,
   "metadata": {},
   "outputs": [
    {
     "name": "stderr",
     "output_type": "stream",
     "text": [
      "/home/nguyenk/.local/lib/python3.8/site-packages/tqdm/auto.py:21: TqdmWarning: IProgress not found. Please update jupyter and ipywidgets. See https://ipywidgets.readthedocs.io/en/stable/user_install.html\n",
      "  from .autonotebook import tqdm as notebook_tqdm\n"
     ]
    }
   ],
   "source": [
    "# General libraries\n",
    "import os\n",
    "import time\n",
    "import multiprocessing\n",
    "import warnings\n",
    "import pickle\n",
    "import re\n",
    "\n",
    "# Data handling and visualization\n",
    "import pandas as pd\n",
    "import numpy as np\n",
    "import seaborn as sns\n",
    "import matplotlib.pyplot as plt\n",
    "\n",
    "# NLP\n",
    "from gensim.parsing.preprocessing import STOPWORDS, strip_punctuation, strip_multiple_whitespaces, remove_stopwords, strip_short\n",
    "\n",
    "# Scikit-learn\n",
    "from sklearn.model_selection import train_test_split\n",
    "from tqdm import tqdm\n",
    "\n",
    "# Pytorch\n",
    "import torch\n",
    "\n",
    "# Others\n",
    "from datasets import Dataset,load_dataset\n",
    "from torch.utils.data import DataLoader\n",
    "from torch.utils.data import TensorDataset\n",
    "from torch.optim import AdamW\n",
    "from torch.optim.lr_scheduler import ReduceLROnPlateau, StepLR\n",
    "from transformers import AutoTokenizer, DistilBertForSequenceClassification\n",
    "import tensorflow as tf"
   ]
  },
  {
   "cell_type": "markdown",
   "metadata": {},
   "source": [
    "# Load data"
   ]
  },
  {
   "cell_type": "code",
   "execution_count": 2,
   "metadata": {},
   "outputs": [
    {
     "data": {
      "text/plain": [
       "['NetCashProvidedByUsedInInvestingActivities_train__text_clean.csv',\n",
       " 'EBIT_train__text_clean.csv',\n",
       " 'NetCashProvidedByUsedInFinancingActivities_train__text_clean.csv',\n",
       " 'RevenueFromContractWithCustomerExcludingAssessedTax_train__text_clean.csv',\n",
       " 'NetIncomeLoss_train__text_clean.csv',\n",
       " 'EarningsPerShareDiluted_train__text_clean.csv']"
      ]
     },
     "execution_count": 2,
     "metadata": {},
     "output_type": "execute_result"
    }
   ],
   "source": [
    "# Get all training data files\n",
    "path = '../datasets/distilbert_data/train/'\n",
    "files = [file for file in os.listdir(path) if file.endswith('text_clean.csv')]\n",
    "files"
   ]
  },
  {
   "cell_type": "code",
   "execution_count": 3,
   "metadata": {},
   "outputs": [
    {
     "data": {
      "text/plain": [
       "['NetCashProvidedByUsedInInvestingActivities_train__text_clean.csv',\n",
       " 'EBIT_train__text_clean.csv',\n",
       " 'NetCashProvidedByUsedInFinancingActivities_train__text_clean.csv',\n",
       " 'RevenueFromContractWithCustomerExcludingAssessedTax_train__text_clean.csv',\n",
       " 'NetIncomeLoss_train__text_clean.csv',\n",
       " 'EarningsPerShareDiluted_train__text_clean.csv']"
      ]
     },
     "execution_count": 3,
     "metadata": {},
     "output_type": "execute_result"
    }
   ],
   "source": [
    "# Get all training data files\n",
    "fb_path = '../datasets/finbert_data/train/'\n",
    "fb_files = [file for file in os.listdir(fb_path) if file.endswith('text_clean.csv')]\n",
    "fb_files"
   ]
  },
  {
   "cell_type": "code",
   "execution_count": 12,
   "metadata": {},
   "outputs": [
    {
     "data": {
      "text/html": [
       "<div>\n",
       "<style scoped>\n",
       "    .dataframe tbody tr th:only-of-type {\n",
       "        vertical-align: middle;\n",
       "    }\n",
       "\n",
       "    .dataframe tbody tr th {\n",
       "        vertical-align: top;\n",
       "    }\n",
       "\n",
       "    .dataframe thead th {\n",
       "        text-align: right;\n",
       "    }\n",
       "</style>\n",
       "<table border=\"1\" class=\"dataframe\">\n",
       "  <thead>\n",
       "    <tr style=\"text-align: right;\">\n",
       "      <th></th>\n",
       "      <th>text</th>\n",
       "      <th>item</th>\n",
       "      <th>cik</th>\n",
       "      <th>year</th>\n",
       "      <th>val</th>\n",
       "    </tr>\n",
       "  </thead>\n",
       "  <tbody>\n",
       "    <tr>\n",
       "      <th>0</th>\n",
       "      <td>Management considers several factors in assess...</td>\n",
       "      <td>item_7</td>\n",
       "      <td>922224</td>\n",
       "      <td>2020</td>\n",
       "      <td>5429000000</td>\n",
       "    </tr>\n",
       "    <tr>\n",
       "      <th>1</th>\n",
       "      <td>We estimate the fair values of the assets acqu...</td>\n",
       "      <td>item_7</td>\n",
       "      <td>1020569</td>\n",
       "      <td>2020</td>\n",
       "      <td>4147270000</td>\n",
       "    </tr>\n",
       "    <tr>\n",
       "      <th>2</th>\n",
       "      <td>If actual future taxable income differs from o...</td>\n",
       "      <td>item_7</td>\n",
       "      <td>1050915</td>\n",
       "      <td>2016</td>\n",
       "      <td>7651319000</td>\n",
       "    </tr>\n",
       "    <tr>\n",
       "      <th>3</th>\n",
       "      <td>The Company expects that it will be subject to...</td>\n",
       "      <td>item_7</td>\n",
       "      <td>29905</td>\n",
       "      <td>2017</td>\n",
       "      <td>6820886000</td>\n",
       "    </tr>\n",
       "    <tr>\n",
       "      <th>4</th>\n",
       "      <td>If all of our accumulated unrepatriated Indian...</td>\n",
       "      <td>item_7</td>\n",
       "      <td>1058290</td>\n",
       "      <td>2019</td>\n",
       "      <td>16783000000</td>\n",
       "    </tr>\n",
       "  </tbody>\n",
       "</table>\n",
       "</div>"
      ],
      "text/plain": [
       "                                                text    item      cik  year  \\\n",
       "0  Management considers several factors in assess...  item_7   922224  2020   \n",
       "1  We estimate the fair values of the assets acqu...  item_7  1020569  2020   \n",
       "2  If actual future taxable income differs from o...  item_7  1050915  2016   \n",
       "3  The Company expects that it will be subject to...  item_7    29905  2017   \n",
       "4  If all of our accumulated unrepatriated Indian...  item_7  1058290  2019   \n",
       "\n",
       "           val  \n",
       "0   5429000000  \n",
       "1   4147270000  \n",
       "2   7651319000  \n",
       "3   6820886000  \n",
       "4  16783000000  "
      ]
     },
     "execution_count": 12,
     "metadata": {},
     "output_type": "execute_result"
    }
   ],
   "source": [
    "# Load first data\n",
    "df = pd.read_csv(path + files[0])\n",
    "df.head()"
   ]
  },
  {
   "cell_type": "code",
   "execution_count": 18,
   "metadata": {},
   "outputs": [
    {
     "name": "stdout",
     "output_type": "stream",
     "text": [
      "count    6303.000000\n",
      "mean       55.212914\n",
      "std        71.854154\n",
      "min         8.000000\n",
      "25%        29.000000\n",
      "50%        39.000000\n",
      "75%        55.000000\n",
      "max      1756.000000\n",
      "Name: text_word_count, dtype: float64\n",
      "[('the', 17309), ('of', 15302), ('and', 12390), ('to', 10004), ('in', 8181), ('our', 5472), ('tax', 4939), ('income', 4897), ('a', 3882), ('or', 3590), ('for', 3536), ('on', 3074), ('million', 2667), ('from', 2635), ('as', 2250), ('we', 2041), ('net', 2020), ('that', 1966), ('•', 1922), ('which', 1803)]\n"
     ]
    }
   ],
   "source": [
    "# Word count analysis\n",
    "df['text_word_count'] = df['text'].apply(lambda x: len(str(x).split()))\n",
    "print(df['text_word_count'].describe())\n",
    "\n",
    "# Top frequent words or phrases\n",
    "from collections import Counter\n",
    "\n",
    "word_freq = Counter(\" \".join(df['text']).split()).most_common(20)\n",
    "print(word_freq)\n"
   ]
  },
  {
   "cell_type": "code",
   "execution_count": 19,
   "metadata": {},
   "outputs": [
    {
     "data": {
      "text/html": [
       "<div>\n",
       "<style scoped>\n",
       "    .dataframe tbody tr th:only-of-type {\n",
       "        vertical-align: middle;\n",
       "    }\n",
       "\n",
       "    .dataframe tbody tr th {\n",
       "        vertical-align: top;\n",
       "    }\n",
       "\n",
       "    .dataframe thead th {\n",
       "        text-align: right;\n",
       "    }\n",
       "</style>\n",
       "<table border=\"1\" class=\"dataframe\">\n",
       "  <thead>\n",
       "    <tr style=\"text-align: right;\">\n",
       "      <th></th>\n",
       "      <th>text</th>\n",
       "      <th>target</th>\n",
       "    </tr>\n",
       "  </thead>\n",
       "  <tbody>\n",
       "    <tr>\n",
       "      <th>0</th>\n",
       "      <td>management considers factors assessing expecte...</td>\n",
       "      <td>5429000000</td>\n",
       "    </tr>\n",
       "    <tr>\n",
       "      <th>1</th>\n",
       "      <td>estimate fair values assets acquired acquisiti...</td>\n",
       "      <td>4147270000</td>\n",
       "    </tr>\n",
       "    <tr>\n",
       "      <th>2</th>\n",
       "      <td>actual future taxable income differs estimates...</td>\n",
       "      <td>7651319000</td>\n",
       "    </tr>\n",
       "    <tr>\n",
       "      <th>3</th>\n",
       "      <td>company expects subject incremental tax gilti ...</td>\n",
       "      <td>6820886000</td>\n",
       "    </tr>\n",
       "    <tr>\n",
       "      <th>4</th>\n",
       "      <td>accumulated unrepatriated indian earnings repa...</td>\n",
       "      <td>16783000000</td>\n",
       "    </tr>\n",
       "  </tbody>\n",
       "</table>\n",
       "</div>"
      ],
      "text/plain": [
       "                                                text       target\n",
       "0  management considers factors assessing expecte...   5429000000\n",
       "1  estimate fair values assets acquired acquisiti...   4147270000\n",
       "2  actual future taxable income differs estimates...   7651319000\n",
       "3  company expects subject incremental tax gilti ...   6820886000\n",
       "4  accumulated unrepatriated indian earnings repa...  16783000000"
      ]
     },
     "execution_count": 19,
     "metadata": {},
     "output_type": "execute_result"
    }
   ],
   "source": [
    "df = preprocess_text(df, 'val')\n",
    "df.head()"
   ]
  },
  {
   "cell_type": "code",
   "execution_count": 20,
   "metadata": {},
   "outputs": [
    {
     "name": "stdout",
     "output_type": "stream",
     "text": [
      "count    6303.000000\n",
      "mean       32.128034\n",
      "std        41.839020\n",
      "min         3.000000\n",
      "25%        17.000000\n",
      "50%        22.000000\n",
      "75%        32.000000\n",
      "max      1028.000000\n",
      "Name: text_word_count, dtype: float64\n",
      "[('income', 6399), ('tax', 5582), ('million', 3239), ('net', 2280), ('future', 1860), ('cash', 1788), ('expected', 1666), ('notes', 1468), ('rate', 1464), ('proceeds', 1448), ('assets', 1387), ('estimated', 1371), ('rates', 1361), ('including', 1334), ('taxes', 1218), ('value', 1117), ('changes', 1091), ('related', 1081), ('operating', 979), ('taxable', 975)]\n"
     ]
    }
   ],
   "source": [
    "# Word count analysis\n",
    "df['text_word_count'] = df['text'].apply(lambda x: len(str(x).split()))\n",
    "print(df['text_word_count'].describe())\n",
    "\n",
    "# Top frequent words or phrases\n",
    "from collections import Counter\n",
    "\n",
    "word_freq = Counter(\" \".join(df['text']).split()).most_common(20)\n",
    "print(word_freq)\n"
   ]
  },
  {
   "cell_type": "code",
   "execution_count": 10,
   "metadata": {},
   "outputs": [
    {
     "name": "stdout",
     "output_type": "stream",
     "text": [
      "There are 4 GPU(s) available.\n",
      "We will use the GPU: Tesla V100-SXM2-32GB\n"
     ]
    }
   ],
   "source": [
    "# If there's a GPU available...\n",
    "if torch.cuda.is_available():    \n",
    "\n",
    "    # Tell PyTorch to use the GPU.    \n",
    "    device = torch.device(\"cuda\")\n",
    "\n",
    "    print('There are %d GPU(s) available.' % torch.cuda.device_count())\n",
    "\n",
    "    print('We will use the GPU:', torch.cuda.get_device_name(0))\n",
    "\n",
    "# If not...\n",
    "else:\n",
    "    print('No GPU available, using the CPU instead.')\n",
    "    device = torch.device(\"cpu\")"
   ]
  },
  {
   "cell_type": "markdown",
   "metadata": {},
   "source": [
    "# Initialize model and tokenizer"
   ]
  },
  {
   "cell_type": "code",
   "execution_count": 8,
   "metadata": {},
   "outputs": [
    {
     "name": "stderr",
     "output_type": "stream",
     "text": [
      "Some weights of RegressionModel were not initialized from the model checkpoint at yiyanghkust/finbert-pretrain and are newly initialized: ['transformer.layer.10.attention.out_lin.weight', 'transformer.layer.3.attention.out_lin.bias', 'transformer.layer.6.attention.v_lin.weight', 'transformer.layer.5.ffn.lin1.weight', 'transformer.layer.2.output_layer_norm.weight', 'transformer.layer.10.attention.v_lin.weight', 'transformer.layer.11.ffn.lin1.bias', 'transformer.layer.9.sa_layer_norm.bias', 'transformer.layer.11.attention.k_lin.bias', 'transformer.layer.10.ffn.lin2.weight', 'transformer.layer.0.attention.v_lin.bias', 'transformer.layer.1.attention.q_lin.bias', 'transformer.layer.7.ffn.lin2.bias', 'transformer.layer.4.ffn.lin2.weight', 'transformer.layer.1.sa_layer_norm.bias', 'transformer.layer.4.attention.k_lin.weight', 'transformer.layer.5.ffn.lin2.bias', 'transformer.layer.7.sa_layer_norm.weight', 'transformer.layer.5.ffn.lin2.weight', 'transformer.layer.4.sa_layer_norm.bias', 'transformer.layer.8.attention.q_lin.bias', 'transformer.layer.10.attention.k_lin.bias', 'transformer.layer.10.output_layer_norm.weight', 'transformer.layer.3.attention.out_lin.weight', 'transformer.layer.1.attention.k_lin.weight', 'transformer.layer.6.attention.k_lin.weight', 'transformer.layer.6.output_layer_norm.weight', 'transformer.layer.10.attention.q_lin.weight', 'transformer.layer.4.attention.q_lin.weight', 'transformer.layer.9.ffn.lin1.bias', 'transformer.layer.9.ffn.lin2.weight', 'transformer.layer.2.attention.k_lin.weight', 'transformer.layer.10.sa_layer_norm.bias', 'transformer.layer.7.sa_layer_norm.bias', 'transformer.layer.2.attention.v_lin.bias', 'transformer.layer.10.ffn.lin1.weight', 'transformer.layer.9.ffn.lin1.weight', 'transformer.layer.0.attention.q_lin.weight', 'transformer.layer.7.ffn.lin2.weight', 'transformer.layer.10.attention.k_lin.weight', 'transformer.layer.5.attention.out_lin.bias', 'transformer.layer.6.attention.out_lin.weight', 'transformer.layer.2.output_layer_norm.bias', 'transformer.layer.11.attention.v_lin.bias', 'transformer.layer.5.attention.out_lin.weight', 'transformer.layer.5.output_layer_norm.bias', 'transformer.layer.3.ffn.lin2.bias', 'transformer.layer.5.attention.k_lin.weight', 'transformer.layer.1.sa_layer_norm.weight', 'transformer.layer.2.ffn.lin2.bias', 'transformer.layer.3.attention.k_lin.weight', 'transformer.layer.3.ffn.lin1.weight', 'transformer.layer.8.attention.k_lin.bias', 'transformer.layer.9.attention.q_lin.weight', 'transformer.layer.4.output_layer_norm.weight', 'transformer.layer.0.output_layer_norm.bias', 'transformer.layer.7.attention.out_lin.weight', 'transformer.layer.0.attention.v_lin.weight', 'transformer.layer.0.ffn.lin1.weight', 'transformer.layer.8.output_layer_norm.weight', 'transformer.layer.0.ffn.lin2.weight', 'transformer.layer.2.sa_layer_norm.weight', 'transformer.layer.5.attention.v_lin.bias', 'transformer.layer.8.attention.out_lin.weight', 'transformer.layer.5.attention.q_lin.weight', 'transformer.layer.10.attention.v_lin.bias', 'transformer.layer.7.attention.v_lin.bias', 'transformer.layer.11.output_layer_norm.weight', 'transformer.layer.7.ffn.lin1.weight', 'transformer.layer.10.ffn.lin2.bias', 'transformer.layer.4.attention.v_lin.weight', 'transformer.layer.7.attention.v_lin.weight', 'transformer.layer.6.attention.q_lin.bias', 'transformer.layer.11.attention.q_lin.weight', 'transformer.layer.4.sa_layer_norm.weight', 'transformer.layer.1.attention.q_lin.weight', 'transformer.layer.8.ffn.lin1.bias', 'transformer.layer.0.output_layer_norm.weight', 'transformer.layer.9.ffn.lin2.bias', 'transformer.layer.8.attention.v_lin.weight', 'transformer.layer.3.output_layer_norm.bias', 'transformer.layer.2.attention.v_lin.weight', 'transformer.layer.6.sa_layer_norm.weight', 'transformer.layer.6.sa_layer_norm.bias', 'transformer.layer.3.attention.q_lin.bias', 'embeddings.LayerNorm.bias', 'transformer.layer.6.ffn.lin2.weight', 'transformer.layer.7.attention.k_lin.weight', 'transformer.layer.11.sa_layer_norm.weight', 'embeddings.word_embeddings.weight', 'transformer.layer.1.attention.v_lin.weight', 'transformer.layer.3.ffn.lin2.weight', 'transformer.layer.5.sa_layer_norm.weight', 'transformer.layer.6.attention.q_lin.weight', 'transformer.layer.4.output_layer_norm.bias', 'transformer.layer.6.output_layer_norm.bias', 'transformer.layer.8.output_layer_norm.bias', 'transformer.layer.6.attention.k_lin.bias', 'transformer.layer.7.attention.q_lin.weight', 'transformer.layer.1.ffn.lin1.weight', 'transformer.layer.11.attention.k_lin.weight', 'transformer.layer.8.ffn.lin1.weight', 'transformer.layer.11.ffn.lin2.weight', 'transformer.layer.6.attention.out_lin.bias', 'transformer.layer.2.attention.q_lin.weight', 'transformer.layer.0.sa_layer_norm.bias', 'transformer.layer.1.output_layer_norm.weight', 'pre_classifier.bias', 'transformer.layer.5.output_layer_norm.weight', 'transformer.layer.7.attention.out_lin.bias', 'transformer.layer.8.attention.k_lin.weight', 'transformer.layer.4.attention.k_lin.bias', 'transformer.layer.11.attention.out_lin.weight', 'transformer.layer.0.sa_layer_norm.weight', 'transformer.layer.7.ffn.lin1.bias', 'transformer.layer.11.ffn.lin2.bias', 'transformer.layer.11.output_layer_norm.bias', 'transformer.layer.6.ffn.lin1.weight', 'transformer.layer.3.attention.v_lin.bias', 'transformer.layer.3.output_layer_norm.weight', 'transformer.layer.4.ffn.lin1.weight', 'transformer.layer.6.attention.v_lin.bias', 'transformer.layer.4.attention.q_lin.bias', 'transformer.layer.1.ffn.lin2.weight', 'transformer.layer.1.ffn.lin1.bias', 'transformer.layer.0.attention.out_lin.bias', 'transformer.layer.8.attention.v_lin.bias', 'transformer.layer.9.attention.out_lin.bias', 'transformer.layer.2.ffn.lin1.bias', 'transformer.layer.9.attention.v_lin.weight', 'transformer.layer.3.sa_layer_norm.weight', 'embeddings.LayerNorm.weight', 'transformer.layer.7.output_layer_norm.weight', 'transformer.layer.3.attention.v_lin.weight', 'transformer.layer.0.attention.out_lin.weight', 'transformer.layer.10.output_layer_norm.bias', 'transformer.layer.7.attention.q_lin.bias', 'transformer.layer.0.attention.k_lin.weight', 'transformer.layer.2.sa_layer_norm.bias', 'transformer.layer.8.ffn.lin2.weight', 'transformer.layer.9.attention.v_lin.bias', 'transformer.layer.0.attention.k_lin.bias', 'transformer.layer.4.attention.out_lin.bias', 'transformer.layer.5.sa_layer_norm.bias', 'transformer.layer.6.ffn.lin1.bias', 'transformer.layer.3.sa_layer_norm.bias', 'transformer.layer.11.sa_layer_norm.bias', 'transformer.layer.2.attention.q_lin.bias', 'transformer.layer.3.ffn.lin1.bias', 'transformer.layer.2.ffn.lin1.weight', 'transformer.layer.8.sa_layer_norm.bias', 'transformer.layer.8.ffn.lin2.bias', 'transformer.layer.11.attention.out_lin.bias', 'transformer.layer.1.attention.v_lin.bias', 'transformer.layer.4.ffn.lin1.bias', 'transformer.layer.7.output_layer_norm.bias', 'pre_classifier.weight', 'transformer.layer.5.ffn.lin1.bias', 'classifier.bias', 'transformer.layer.4.attention.out_lin.weight', 'transformer.layer.11.attention.v_lin.weight', 'transformer.layer.8.sa_layer_norm.weight', 'transformer.layer.0.ffn.lin1.bias', 'transformer.layer.6.ffn.lin2.bias', 'transformer.layer.5.attention.k_lin.bias', 'transformer.layer.10.attention.q_lin.bias', 'transformer.layer.1.ffn.lin2.bias', 'transformer.layer.5.attention.q_lin.bias', 'transformer.layer.5.attention.v_lin.weight', 'transformer.layer.2.attention.out_lin.weight', 'transformer.layer.10.sa_layer_norm.weight', 'transformer.layer.2.attention.out_lin.bias', 'transformer.layer.4.attention.v_lin.bias', 'transformer.layer.3.attention.k_lin.bias', 'transformer.layer.10.ffn.lin1.bias', 'classifier.weight', 'transformer.layer.11.ffn.lin1.weight', 'embeddings.position_embeddings.weight', 'transformer.layer.7.attention.k_lin.bias', 'transformer.layer.9.attention.k_lin.weight', 'transformer.layer.0.ffn.lin2.bias', 'transformer.layer.1.attention.out_lin.weight', 'transformer.layer.8.attention.out_lin.bias', 'transformer.layer.1.attention.k_lin.bias', 'transformer.layer.9.attention.k_lin.bias', 'transformer.layer.9.attention.out_lin.weight', 'transformer.layer.1.attention.out_lin.bias', 'transformer.layer.3.attention.q_lin.weight', 'transformer.layer.8.attention.q_lin.weight', 'transformer.layer.2.attention.k_lin.bias', 'transformer.layer.9.attention.q_lin.bias', 'transformer.layer.1.output_layer_norm.bias', 'transformer.layer.9.sa_layer_norm.weight', 'transformer.layer.10.attention.out_lin.bias', 'transformer.layer.4.ffn.lin2.bias', 'transformer.layer.11.attention.q_lin.bias', 'transformer.layer.2.ffn.lin2.weight', 'transformer.layer.9.output_layer_norm.weight', 'transformer.layer.0.attention.q_lin.bias', 'transformer.layer.9.output_layer_norm.bias']\n",
      "You should probably TRAIN this model on a down-stream task to be able to use it for predictions and inference.\n"
     ]
    }
   ],
   "source": [
    "model = RegressionModel.from_pretrained('yiyanghkust/finbert-pretrain', num_labels = 1)\n",
    "tokenizer = AutoTokenizer.from_pretrained('yiyanghkust/finbert-pretrain')"
   ]
  },
  {
   "cell_type": "markdown",
   "metadata": {},
   "source": [
    "# Tokenize text and prepare labeled datasets"
   ]
  },
  {
   "cell_type": "code",
   "execution_count": 4,
   "metadata": {},
   "outputs": [],
   "source": [
    "# Train validation split\n",
    "def train_val_split(df, test_size=0.2):\n",
    "    train_df, val_df = train_test_split(df, test_size=test_size, random_state=42)\n",
    "    return train_df, val_df"
   ]
  },
  {
   "cell_type": "code",
   "execution_count": 4,
   "metadata": {},
   "outputs": [],
   "source": [
    "def prepare_labeled_datasets(tokenizer, model, length, texts, labelsset):\n",
    "  inputs=[]\n",
    "  labels=[]\n",
    "  for i in range(len(labelsset)):\n",
    "    input=torch.tensor([tokenizer.encode(texts[i], add_special_tokens=True, padding='max_length',truncation=True, max_length=length)]).to(device) # Apply the tokenizer to get the token ids for each text, transform to tensors and send to GPU device\n",
    "    label= torch.tensor([labelsset[i]]).to(device) # send the labels to the GPU device\n",
    "    inputs.append(input)\n",
    "    labels.append(label)\n",
    "  inputs=torch.cat(inputs)  # add to the list of tensors\n",
    "  labels=torch.cat(labels)  \n",
    "  dataset = TensorDataset(inputs, labels) # Generate a labeled Tensor-Dataset for training\n",
    "  return dataset"
   ]
  },
  {
   "cell_type": "code",
   "execution_count": 25,
   "metadata": {},
   "outputs": [
    {
     "data": {
      "text/html": [
       "<div>\n",
       "<style scoped>\n",
       "    .dataframe tbody tr th:only-of-type {\n",
       "        vertical-align: middle;\n",
       "    }\n",
       "\n",
       "    .dataframe tbody tr th {\n",
       "        vertical-align: top;\n",
       "    }\n",
       "\n",
       "    .dataframe thead th {\n",
       "        text-align: right;\n",
       "    }\n",
       "</style>\n",
       "<table border=\"1\" class=\"dataframe\">\n",
       "  <thead>\n",
       "    <tr style=\"text-align: right;\">\n",
       "      <th></th>\n",
       "      <th>text</th>\n",
       "      <th>target</th>\n",
       "    </tr>\n",
       "  </thead>\n",
       "  <tbody>\n",
       "    <tr>\n",
       "      <th>0</th>\n",
       "      <td>fourth quarter 2018 expanded restructuring pla...</td>\n",
       "      <td>3.100000e+07</td>\n",
       "    </tr>\n",
       "    <tr>\n",
       "      <th>1</th>\n",
       "      <td>given quality diversity underlying real estate...</td>\n",
       "      <td>-7.340000e+08</td>\n",
       "    </tr>\n",
       "    <tr>\n",
       "      <th>2</th>\n",
       "      <td>cash flow amounts reduced realized gains inves...</td>\n",
       "      <td>-6.240000e+08</td>\n",
       "    </tr>\n",
       "    <tr>\n",
       "      <th>3</th>\n",
       "      <td>plan expand network tesla stores galleries ser...</td>\n",
       "      <td>-1.081085e+09</td>\n",
       "    </tr>\n",
       "    <tr>\n",
       "      <th>4</th>\n",
       "      <td>given quality diversity underlying real estate...</td>\n",
       "      <td>-3.611000e+09</td>\n",
       "    </tr>\n",
       "  </tbody>\n",
       "</table>\n",
       "</div>"
      ],
      "text/plain": [
       "                                                text        target\n",
       "0  fourth quarter 2018 expanded restructuring pla...  3.100000e+07\n",
       "1  given quality diversity underlying real estate... -7.340000e+08\n",
       "2  cash flow amounts reduced realized gains inves... -6.240000e+08\n",
       "3  plan expand network tesla stores galleries ser... -1.081085e+09\n",
       "4  given quality diversity underlying real estate... -3.611000e+09"
      ]
     },
     "execution_count": 25,
     "metadata": {},
     "output_type": "execute_result"
    }
   ],
   "source": [
    "df = pd.read_csv(path + files[0])\n",
    "df.head()"
   ]
  },
  {
   "cell_type": "code",
   "execution_count": null,
   "metadata": {},
   "outputs": [],
   "source": [
    "# Define batch size\n",
    "batch_size = 16\n",
    "\n",
    "for file in files:\n",
    "    df = pd.read_csv(path + file)\n",
    "    train_df, val_df = train_val_split(df, test_size=0.2)\n",
    "    \n",
    "    train_dataset = prepare_labeled_datasets(tokenizer, model, 512, train_df['text'].values, train_df['label'].values)\n",
    "    val_dataset = prepare_labeled_datasets(tokenizer, model, 512, val_df['text'].values, val_df['label'].values)\n",
    "    \n",
    "    train_dataloader = DataLoader(train_dataset, batch_size=batch_size, shuffle=True)\n",
    "    val_dataloader = DataLoader(val_dataset, batch_size=batch_size, shuffle=True)"
   ]
  },
  {
   "cell_type": "code",
   "execution_count": 50,
   "metadata": {},
   "outputs": [],
   "source": [
    "batch_size = 16\n",
    "train_dataset = prepare_labeled_datasets(tokenizer, model, 300, train_df['text'].values.tolist(), train_df['target'].values.tolist()) # Generate the training set\n",
    "val_dataset = prepare_labeled_datasets(tokenizer, model, 300, val_df['text'].values.tolist(), val_df['target'].values.tolist()) # Generate the validation set\n",
    "train_dataloader = DataLoader(train_dataset, batch_size=batch_size) # Split the training set into batches\n",
    "val_dataloader = DataLoader(val_dataset, batch_size=batch_size) # Split the validation set into batches"
   ]
  },
  {
   "cell_type": "markdown",
   "metadata": {},
   "source": [
    "# Train models"
   ]
  },
  {
   "cell_type": "code",
   "execution_count": 5,
   "metadata": {},
   "outputs": [],
   "source": [
    "class RegressionModel(DistilBertForSequenceClassification):\n",
    "    def __init__(self, config):\n",
    "        super().__init__(config)\n",
    "    \n",
    "    def compute_rse_loss(self, predictions, labels):\n",
    "        mse_predictions_labels = torch.nn.functional.mse_loss(predictions.view(-1), labels.view(-1).float())\n",
    "        mean_labels = torch.mean(labels.float())\n",
    "        mse_labels_mean = torch.nn.functional.mse_loss(labels.view(-1).float(), mean_labels.expand_as(labels).view(-1))\n",
    "        rse = mse_predictions_labels / mse_labels_mean\n",
    "        return rse\n",
    "    \n",
    "    def forward(self, input_ids=None, attention_mask=None, token_type_ids=None, position_ids=None, head_mask=None, labels=None):\n",
    "        outputs = self.distilbert(\n",
    "                            input_ids=input_ids,\n",
    "                            attention_mask=attention_mask,\n",
    "                            )\n",
    "\n",
    "        predictions = self.classifier(outputs.last_hidden_state[:, 0])\n",
    "        \n",
    "        if labels is not None:\n",
    "            # Calculate the RSE loss if labels are provided\n",
    "            loss = self.compute_rse_loss(predictions, labels)\n",
    "            return loss, predictions\n",
    "        else:\n",
    "            return predictions\n"
   ]
  },
  {
   "cell_type": "code",
   "execution_count": 6,
   "metadata": {},
   "outputs": [],
   "source": [
    "def finbert_regressor():\n",
    "    model = RegressionModel.from_pretrained('yiyanghkust/finbert-pretrain', num_labels = 1)\n",
    "    tokenizer = AutoTokenizer.from_pretrained('yiyanghkust/finbert-pretrain')\n",
    "    return model, tokenizer"
   ]
  },
  {
   "cell_type": "code",
   "execution_count": 7,
   "metadata": {},
   "outputs": [],
   "source": [
    "def train_finbert_regressor(model, tokenizer, train_dataloader, val_dataloader, epochs=10, initial_lr=0.001, eps=1e-8):\n",
    "    optimizer = torch.optim.AdamW(model.parameters(), lr=initial_lr, eps=eps)\n",
    "    scheduler = torch.optim.lr_scheduler.StepLR(optimizer, step_size=1, gamma=0.9)\n",
    "    train_losses = []\n",
    "    val_losses = []\n",
    "    best_val_loss = np.inf # Set initial best validation loss to infinity\n",
    "    training_stats = []\n",
    "    for epoch in tqdm(range(epochs)):\n",
    "        t0 = time.time() # Start training time\n",
    "        # =================================\n",
    "        #              Training\n",
    "        # =================================\n",
    "        model.train()\n",
    "        train_loss = 0\n",
    "        for step, batch in enumerate(train_dataloader):\n",
    "            b_input_ids = batch[0].to(device)\n",
    "            b_labels = batch[1].to(device)\n",
    "            optimizer.zero_grad()\n",
    "            loss, predictions = model(b_input_ids, labels=b_labels)\n",
    "            loss.backward()\n",
    "            torch.nn.utils.clip_grad_norm_(model.parameters(), 1.0) # Help prevent the \"exploding gradients\" problem by clipping the norm of the gradients to 1.0.\n",
    "            optimizer.step()\n",
    "            train_loss += loss.item()\n",
    "        avg_train_loss = train_loss / len(train_dataloader)\n",
    "        train_losses.append(avg_train_loss)\n",
    "\n",
    "        # =================================\n",
    "        #               Validation\n",
    "        # =================================\n",
    "        #model.eval()\n",
    "        #val_loss = 0\n",
    "        #for batch in val_dataloader:\n",
    "         #   b_input_ids = batch[0].to(device)\n",
    "          #  b_labels = batch[1].to(device)\n",
    "           # with torch.no_grad():\n",
    "            #    loss, predictions = model(b_input_ids, labels=b_labels)\n",
    "            #val_loss += loss.item()\n",
    "        #avg_val_loss = val_loss / len(val_dataloader)\n",
    "        #val_losses.append(avg_val_loss)\n",
    "        \n",
    "        #print(f'Epoch: {epoch+1}, Train Loss: {avg_train_loss:.4f}, Val Loss: {avg_val_loss:.4f}')\n",
    "        \n",
    "        model.eval()\n",
    "        with torch.no_grad():\n",
    "                #preds_list = []\n",
    "                #labels_list = []\n",
    "                rse_list = []\n",
    "                rse_sum = 0\n",
    "\n",
    "                for batch in val_dataloader:\n",
    "                    input_ids, labels = batch\n",
    "                    input_ids.to(device)\n",
    "                    labels.to(device)\n",
    "\n",
    "                    outputs = model(input_ids=input_ids, labels=labels)\n",
    "                    loss = outputs[0] # Access the loss from the outputs tuple\n",
    "                \n",
    "                    # Predictions from the model\n",
    "                    preds = outputs[1]  # The predicted values are the second element of the tuple outputted by the model\n",
    "                    #preds_list.extend(preds.cpu().numpy())\n",
    "                    #labels_list.extend(labels.cpu().numpy())\n",
    "\n",
    "                    # Calculate RSE\n",
    "                    mse_predictions_labels = torch.nn.functional.mse_loss(preds[:, 0], labels.float()).item()\n",
    "                    mean_labels = torch.mean(labels.float())\n",
    "                    mse_labels_mean = torch.nn.functional.mse_loss(labels.float(), mean_labels.expand_as(labels)).item()\n",
    "                    rse = mse_predictions_labels / mse_labels_mean\n",
    "                    rse_list.append(rse)\n",
    "                    rse_sum += rse\n",
    "\n",
    "                avg_val_loss = rse_sum / len(val_dataloader)\n",
    "                \n",
    "                # Store the loss value for plotting the learning curve\n",
    "                val_losses.append(avg_val_loss)        \n",
    "            \n",
    "        # Update scheduler\n",
    "        scheduler.step()\n",
    "        learning_rate = scheduler.optimizer.param_groups[0]['lr']\n",
    "        \n",
    "        # Save the model if the validation loss is the best we've seen so far.\n",
    "        if avg_val_loss < best_val_loss:\n",
    "            best_val_loss = avg_val_loss\n",
    "            best_model = model\n",
    "            best_epoch = epoch+1\n",
    "        training_time = time.time() - t0 # Track training time\n",
    "        training_stats.append({'Epoch': epoch+1, \n",
    "                               'Training Loss': avg_train_loss, \n",
    "                               'Valid. Loss': avg_val_loss, \n",
    "                               'Training Time': training_time,\n",
    "                               'Learning Rate': learning_rate})\n",
    "    print(pd.DataFrame(training_stats).set_index('Epoch'))\n",
    "    return best_model, train_losses, val_losses, best_epoch, best_val_loss"
   ]
  },
  {
   "cell_type": "markdown",
   "metadata": {},
   "source": [
    "### Finbert regressor with CV"
   ]
  },
  {
   "cell_type": "code",
   "execution_count": 7,
   "metadata": {},
   "outputs": [],
   "source": [
    "from sklearn.model_selection import KFold\n",
    "\n",
    "def train_finbert_regressor(model, tokenizer, dataset, epochs=10, initial_lr=0.001, eps=1e-8, batch_size=16, cv=5, patience=3):\n",
    "    optimizer = torch.optim.AdamW(model.parameters(), lr=initial_lr, eps=eps)\n",
    "    scheduler = torch.optim.lr_scheduler.StepLR(optimizer, step_size=1, gamma=0.9)\n",
    "    training_stats = []\n",
    "    kfold = KFold(n_splits=cv, shuffle=True)  # Define the number of folds\n",
    "    \n",
    "    best_val_loss_overall = np.inf # Set initial best validation loss to infinity\n",
    "    best_model_overall = None\n",
    "    best_epoch_overall = 0\n",
    "    best_fold_overall = 0\n",
    "    all_train_losses = []\n",
    "    all_val_losses = []\n",
    "    \n",
    "    for fold, (train_idx, val_idx) in enumerate(kfold.split(dataset)):\n",
    "        print(f\"Fold {fold + 1}\")\n",
    "        train_subset = torch.utils.data.Subset(dataset, train_idx)\n",
    "        val_subset = torch.utils.data.Subset(dataset, val_idx)\n",
    "\n",
    "        train_loader = torch.utils.data.DataLoader(train_subset, batch_size=batch_size, shuffle=True)\n",
    "        val_loader = torch.utils.data.DataLoader(val_subset, batch_size=batch_size)\n",
    "\n",
    "        best_val_loss = np.inf\n",
    "        train_losses = []\n",
    "        val_losses = []\n",
    "        best_epoch = 0\n",
    "        early_stopping_counter = 0\n",
    "        for epoch in tqdm(range(epochs)):\n",
    "            model.train()\n",
    "            train_loss = 0\n",
    "\n",
    "            for step, batch in enumerate(train_loader):\n",
    "                b_input_ids = batch[0].to(device)\n",
    "                b_labels = batch[1].to(device)\n",
    "                optimizer.zero_grad()\n",
    "                loss, _ = model(b_input_ids, labels=b_labels)\n",
    "                loss.backward()\n",
    "                torch.nn.utils.clip_grad_norm_(model.parameters(), 1.0)\n",
    "                optimizer.step()\n",
    "                train_loss += loss.item()\n",
    "            \n",
    "            avg_train_loss = train_loss / len(train_loader)\n",
    "            train_losses.append(avg_train_loss)\n",
    "\n",
    "            model.eval()\n",
    "            with torch.no_grad():\n",
    "                val_loss = 0\n",
    "\n",
    "                for batch in val_loader:\n",
    "                    input_ids, labels = batch\n",
    "                    input_ids.to(device)\n",
    "                    labels.to(device)\n",
    "\n",
    "                    outputs = model(input_ids=input_ids, labels=labels)\n",
    "                    loss = outputs[0]\n",
    "                    val_loss += loss.item()\n",
    "\n",
    "                avg_val_loss = val_loss / len(val_loader)\n",
    "                val_losses.append(avg_val_loss)\n",
    "                \n",
    "                if avg_val_loss < best_val_loss:\n",
    "                    best_val_loss = avg_val_loss\n",
    "                    best_epoch = epoch + 1\n",
    "                    early_stopping_counter = 0\n",
    "                    best_fold = fold + 1\n",
    "                    best_model = model\n",
    "                else:\n",
    "                    early_stopping_counter += 1\n",
    "                    if early_stopping_counter >= patience:\n",
    "                        print(f\"Early stopping at epoch {epoch + 1} in fold {fold + 1}\")\n",
    "                        break\n",
    "            \n",
    "            scheduler.step()\n",
    "\n",
    "            training_stats.append({\n",
    "                'Fold': fold + 1,\n",
    "                'Epoch': epoch + 1,\n",
    "                'Training Loss': avg_train_loss,\n",
    "                'Valid. Loss': avg_val_loss,\n",
    "            })\n",
    "\n",
    "        print(f\"Fold {fold + 1} - Best Validation Loss: {best_val_loss} at Epoch: {best_epoch}\")\n",
    "    \n",
    "        # Save losses and model for this fold\n",
    "        all_train_losses.append(train_losses)\n",
    "        all_val_losses.append(val_losses)\n",
    "        \n",
    "        # Save the best model for this fold\n",
    "        if best_val_loss < best_val_loss_overall:\n",
    "            best_val_loss_overall = best_val_loss\n",
    "            best_model_overall = best_model\n",
    "            best_epoch_overall = best_epoch\n",
    "            best_fold_overall = best_fold\n",
    "    return best_model_overall, best_val_loss_overall, best_fold_overall, all_train_losses, all_val_losses, training_stats"
   ]
  },
  {
   "cell_type": "code",
   "execution_count": 8,
   "metadata": {},
   "outputs": [],
   "source": [
    "# Plot the learning curve from training_stats, filtered by fold\n",
    "def plot_learning_curve(training_stats, fold):\n",
    "    df = pd.DataFrame(training_stats)\n",
    "    df = df[df['Fold'] == fold]\n",
    "    fig, ax = plt.subplots(figsize=(12, 8))\n",
    "    ax.plot(df['Epoch'], df['Training Loss'], label='Training Loss')\n",
    "    ax.plot(df['Epoch'], df['Valid. Loss'], label='Validation Loss')\n",
    "    ax.set_xlabel('Epoch')\n",
    "    ax.set_ylabel('Loss')\n",
    "    ax.set_title(f'Learning Curve (Fold {fold})')\n",
    "    ax.legend()\n",
    "    plt.show()"
   ]
  },
  {
   "cell_type": "markdown",
   "metadata": {},
   "source": [
    "### CV on all DistilBERT data"
   ]
  },
  {
   "cell_type": "markdown",
   "metadata": {},
   "source": [
    "#### NetCashProvidedByUsedInInvestingActivities - DistilBERT"
   ]
  },
  {
   "cell_type": "code",
   "execution_count": 83,
   "metadata": {},
   "outputs": [
    {
     "name": "stdout",
     "output_type": "stream",
     "text": [
      "--------------START TRAINING MODEL FOR NetCashProvidedByUsedInInvestingActivities--------------\n"
     ]
    },
    {
     "name": "stderr",
     "output_type": "stream",
     "text": [
      "Some weights of RegressionModel were not initialized from the model checkpoint at yiyanghkust/finbert-pretrain and are newly initialized: ['transformer.layer.6.output_layer_norm.weight', 'transformer.layer.11.output_layer_norm.bias', 'transformer.layer.4.ffn.lin2.bias', 'transformer.layer.9.attention.q_lin.bias', 'transformer.layer.9.attention.k_lin.weight', 'transformer.layer.8.sa_layer_norm.bias', 'transformer.layer.2.sa_layer_norm.bias', 'transformer.layer.0.ffn.lin1.bias', 'transformer.layer.1.sa_layer_norm.bias', 'transformer.layer.3.ffn.lin2.bias', 'transformer.layer.3.attention.k_lin.bias', 'transformer.layer.7.sa_layer_norm.weight', 'transformer.layer.6.attention.q_lin.bias', 'transformer.layer.5.attention.k_lin.weight', 'transformer.layer.0.ffn.lin1.weight', 'transformer.layer.3.sa_layer_norm.bias', 'transformer.layer.8.ffn.lin1.weight', 'transformer.layer.4.attention.out_lin.weight', 'transformer.layer.2.attention.v_lin.bias', 'transformer.layer.6.attention.k_lin.weight', 'transformer.layer.11.attention.q_lin.bias', 'transformer.layer.0.ffn.lin2.weight', 'transformer.layer.7.output_layer_norm.weight', 'transformer.layer.4.attention.k_lin.weight', 'transformer.layer.2.ffn.lin1.bias', 'transformer.layer.1.attention.out_lin.bias', 'transformer.layer.7.attention.k_lin.weight', 'transformer.layer.8.attention.q_lin.weight', 'transformer.layer.10.attention.out_lin.bias', 'transformer.layer.11.ffn.lin2.bias', 'transformer.layer.11.ffn.lin2.weight', 'transformer.layer.1.attention.q_lin.bias', 'pre_classifier.bias', 'transformer.layer.9.output_layer_norm.weight', 'transformer.layer.10.attention.q_lin.weight', 'transformer.layer.10.attention.q_lin.bias', 'embeddings.position_embeddings.weight', 'transformer.layer.8.ffn.lin2.bias', 'transformer.layer.0.sa_layer_norm.weight', 'transformer.layer.10.attention.out_lin.weight', 'transformer.layer.9.ffn.lin2.weight', 'transformer.layer.3.ffn.lin1.weight', 'classifier.bias', 'transformer.layer.8.attention.out_lin.bias', 'transformer.layer.11.attention.k_lin.weight', 'transformer.layer.4.sa_layer_norm.bias', 'transformer.layer.9.sa_layer_norm.weight', 'transformer.layer.9.sa_layer_norm.bias', 'transformer.layer.7.sa_layer_norm.bias', 'transformer.layer.11.sa_layer_norm.weight', 'transformer.layer.1.ffn.lin1.bias', 'transformer.layer.6.attention.v_lin.weight', 'transformer.layer.6.sa_layer_norm.weight', 'transformer.layer.5.attention.out_lin.weight', 'transformer.layer.5.output_layer_norm.weight', 'transformer.layer.5.ffn.lin2.bias', 'transformer.layer.3.attention.v_lin.bias', 'transformer.layer.9.attention.out_lin.weight', 'transformer.layer.0.output_layer_norm.weight', 'transformer.layer.4.attention.v_lin.bias', 'transformer.layer.5.attention.out_lin.bias', 'transformer.layer.10.output_layer_norm.weight', 'transformer.layer.0.attention.v_lin.bias', 'transformer.layer.2.attention.out_lin.bias', 'transformer.layer.7.ffn.lin2.bias', 'transformer.layer.1.ffn.lin2.bias', 'transformer.layer.2.attention.q_lin.weight', 'transformer.layer.4.attention.q_lin.weight', 'pre_classifier.weight', 'transformer.layer.3.attention.k_lin.weight', 'transformer.layer.1.output_layer_norm.weight', 'transformer.layer.1.attention.out_lin.weight', 'transformer.layer.10.sa_layer_norm.weight', 'transformer.layer.11.ffn.lin1.weight', 'transformer.layer.10.ffn.lin2.bias', 'transformer.layer.7.attention.out_lin.weight', 'transformer.layer.6.attention.k_lin.bias', 'transformer.layer.5.ffn.lin1.weight', 'transformer.layer.0.attention.k_lin.bias', 'transformer.layer.7.attention.v_lin.bias', 'transformer.layer.10.ffn.lin2.weight', 'transformer.layer.1.sa_layer_norm.weight', 'transformer.layer.9.attention.v_lin.bias', 'transformer.layer.11.sa_layer_norm.bias', 'transformer.layer.8.output_layer_norm.bias', 'transformer.layer.9.attention.v_lin.weight', 'transformer.layer.3.ffn.lin1.bias', 'transformer.layer.3.attention.q_lin.bias', 'transformer.layer.2.sa_layer_norm.weight', 'transformer.layer.8.ffn.lin1.bias', 'transformer.layer.1.attention.v_lin.weight', 'transformer.layer.6.ffn.lin1.bias', 'transformer.layer.3.attention.v_lin.weight', 'transformer.layer.7.ffn.lin1.bias', 'transformer.layer.8.attention.k_lin.weight', 'transformer.layer.2.attention.v_lin.weight', 'transformer.layer.0.attention.out_lin.weight', 'transformer.layer.11.attention.out_lin.bias', 'transformer.layer.4.ffn.lin1.weight', 'transformer.layer.5.sa_layer_norm.bias', 'transformer.layer.6.attention.q_lin.weight', 'transformer.layer.7.attention.v_lin.weight', 'transformer.layer.0.sa_layer_norm.bias', 'transformer.layer.0.output_layer_norm.bias', 'transformer.layer.11.ffn.lin1.bias', 'transformer.layer.10.attention.v_lin.bias', 'transformer.layer.3.sa_layer_norm.weight', 'transformer.layer.11.attention.k_lin.bias', 'transformer.layer.6.ffn.lin2.weight', 'transformer.layer.10.output_layer_norm.bias', 'transformer.layer.2.output_layer_norm.weight', 'transformer.layer.7.attention.out_lin.bias', 'transformer.layer.11.attention.v_lin.weight', 'transformer.layer.5.attention.v_lin.bias', 'transformer.layer.8.attention.out_lin.weight', 'transformer.layer.11.attention.v_lin.bias', 'transformer.layer.9.ffn.lin2.bias', 'transformer.layer.6.sa_layer_norm.bias', 'transformer.layer.7.ffn.lin1.weight', 'transformer.layer.8.output_layer_norm.weight', 'transformer.layer.5.attention.v_lin.weight', 'transformer.layer.0.attention.q_lin.weight', 'transformer.layer.0.ffn.lin2.bias', 'transformer.layer.7.attention.k_lin.bias', 'transformer.layer.0.attention.v_lin.weight', 'transformer.layer.3.attention.out_lin.weight', 'transformer.layer.0.attention.out_lin.bias', 'transformer.layer.6.ffn.lin1.weight', 'transformer.layer.7.attention.q_lin.bias', 'transformer.layer.0.attention.q_lin.bias', 'transformer.layer.8.attention.v_lin.weight', 'embeddings.LayerNorm.weight', 'transformer.layer.0.attention.k_lin.weight', 'transformer.layer.9.ffn.lin1.bias', 'transformer.layer.10.ffn.lin1.bias', 'transformer.layer.10.sa_layer_norm.bias', 'transformer.layer.1.output_layer_norm.bias', 'transformer.layer.10.attention.k_lin.bias', 'transformer.layer.8.attention.q_lin.bias', 'transformer.layer.2.attention.out_lin.weight', 'transformer.layer.5.attention.q_lin.bias', 'transformer.layer.11.output_layer_norm.weight', 'transformer.layer.1.attention.k_lin.weight', 'transformer.layer.7.attention.q_lin.weight', 'transformer.layer.3.output_layer_norm.bias', 'transformer.layer.4.ffn.lin2.weight', 'transformer.layer.11.attention.q_lin.weight', 'transformer.layer.2.attention.q_lin.bias', 'transformer.layer.10.ffn.lin1.weight', 'transformer.layer.1.ffn.lin2.weight', 'transformer.layer.5.sa_layer_norm.weight', 'transformer.layer.2.ffn.lin2.weight', 'transformer.layer.6.attention.out_lin.weight', 'transformer.layer.8.sa_layer_norm.weight', 'transformer.layer.4.attention.out_lin.bias', 'transformer.layer.3.attention.out_lin.bias', 'transformer.layer.1.attention.v_lin.bias', 'transformer.layer.6.attention.v_lin.bias', 'transformer.layer.1.attention.k_lin.bias', 'transformer.layer.10.attention.v_lin.weight', 'transformer.layer.7.output_layer_norm.bias', 'embeddings.word_embeddings.weight', 'transformer.layer.8.attention.k_lin.bias', 'classifier.weight', 'transformer.layer.2.output_layer_norm.bias', 'transformer.layer.9.attention.k_lin.bias', 'transformer.layer.5.ffn.lin1.bias', 'transformer.layer.4.sa_layer_norm.weight', 'transformer.layer.8.ffn.lin2.weight', 'transformer.layer.9.attention.q_lin.weight', 'transformer.layer.2.attention.k_lin.weight', 'transformer.layer.3.ffn.lin2.weight', 'transformer.layer.8.attention.v_lin.bias', 'transformer.layer.5.ffn.lin2.weight', 'transformer.layer.4.output_layer_norm.bias', 'transformer.layer.7.ffn.lin2.weight', 'transformer.layer.2.ffn.lin1.weight', 'transformer.layer.6.attention.out_lin.bias', 'transformer.layer.2.ffn.lin2.bias', 'transformer.layer.3.output_layer_norm.weight', 'transformer.layer.10.attention.k_lin.weight', 'transformer.layer.6.output_layer_norm.bias', 'transformer.layer.6.ffn.lin2.bias', 'transformer.layer.4.attention.k_lin.bias', 'transformer.layer.5.output_layer_norm.bias', 'transformer.layer.2.attention.k_lin.bias', 'transformer.layer.4.ffn.lin1.bias', 'transformer.layer.1.attention.q_lin.weight', 'transformer.layer.5.attention.k_lin.bias', 'transformer.layer.11.attention.out_lin.weight', 'embeddings.LayerNorm.bias', 'transformer.layer.1.ffn.lin1.weight', 'transformer.layer.4.attention.q_lin.bias', 'transformer.layer.9.attention.out_lin.bias', 'transformer.layer.9.ffn.lin1.weight', 'transformer.layer.3.attention.q_lin.weight', 'transformer.layer.5.attention.q_lin.weight', 'transformer.layer.9.output_layer_norm.bias', 'transformer.layer.4.attention.v_lin.weight', 'transformer.layer.4.output_layer_norm.weight']\n",
      "You should probably TRAIN this model on a down-stream task to be able to use it for predictions and inference.\n"
     ]
    },
    {
     "name": "stdout",
     "output_type": "stream",
     "text": [
      "Fold 1\n"
     ]
    },
    {
     "name": "stderr",
     "output_type": "stream",
     "text": [
      "  8%|▊         | 3/40 [00:01<00:24,  1.53it/s]\n"
     ]
    },
    {
     "name": "stdout",
     "output_type": "stream",
     "text": [
      "Early stopping at epoch 4 in fold 1\n",
      "Fold 1 - Best Validation Loss: 2.055717706680298 at Epoch: 1\n",
      "Fold 2\n"
     ]
    },
    {
     "name": "stderr",
     "output_type": "stream",
     "text": [
      "  8%|▊         | 3/40 [00:02<00:25,  1.48it/s]\n"
     ]
    },
    {
     "name": "stdout",
     "output_type": "stream",
     "text": [
      "Early stopping at epoch 4 in fold 2\n",
      "Fold 2 - Best Validation Loss: 2.7882080078125 at Epoch: 1\n",
      "Fold 3\n"
     ]
    },
    {
     "name": "stderr",
     "output_type": "stream",
     "text": [
      "  8%|▊         | 3/40 [00:02<00:25,  1.47it/s]\n"
     ]
    },
    {
     "name": "stdout",
     "output_type": "stream",
     "text": [
      "Early stopping at epoch 4 in fold 3\n",
      "Fold 3 - Best Validation Loss: 2.310673952102661 at Epoch: 1\n",
      "Fold 4\n"
     ]
    },
    {
     "name": "stderr",
     "output_type": "stream",
     "text": [
      "  8%|▊         | 3/40 [00:02<00:25,  1.47it/s]\n"
     ]
    },
    {
     "name": "stdout",
     "output_type": "stream",
     "text": [
      "Early stopping at epoch 4 in fold 4\n",
      "Fold 4 - Best Validation Loss: 4.1483259201049805 at Epoch: 1\n",
      "Fold 5\n"
     ]
    },
    {
     "name": "stderr",
     "output_type": "stream",
     "text": [
      "  8%|▊         | 3/40 [00:02<00:25,  1.47it/s]\n"
     ]
    },
    {
     "name": "stdout",
     "output_type": "stream",
     "text": [
      "Early stopping at epoch 4 in fold 5\n",
      "Fold 5 - Best Validation Loss: 8.410371780395508 at Epoch: 1\n",
      "Fold 6\n"
     ]
    },
    {
     "name": "stderr",
     "output_type": "stream",
     "text": [
      "  8%|▊         | 3/40 [00:02<00:25,  1.47it/s]\n"
     ]
    },
    {
     "name": "stdout",
     "output_type": "stream",
     "text": [
      "Early stopping at epoch 4 in fold 6\n",
      "Fold 6 - Best Validation Loss: 1.7770859003067017 at Epoch: 1\n",
      "Fold 7\n"
     ]
    },
    {
     "name": "stderr",
     "output_type": "stream",
     "text": [
      "  8%|▊         | 3/40 [00:02<00:25,  1.47it/s]\n"
     ]
    },
    {
     "name": "stdout",
     "output_type": "stream",
     "text": [
      "Early stopping at epoch 4 in fold 7\n",
      "Fold 7 - Best Validation Loss: 2.0067877769470215 at Epoch: 1\n",
      "Fold 8\n"
     ]
    },
    {
     "name": "stderr",
     "output_type": "stream",
     "text": [
      "  8%|▊         | 3/40 [00:02<00:25,  1.46it/s]\n"
     ]
    },
    {
     "name": "stdout",
     "output_type": "stream",
     "text": [
      "Early stopping at epoch 4 in fold 8\n",
      "Fold 8 - Best Validation Loss: 5.379610061645508 at Epoch: 1\n",
      "Fold 9\n"
     ]
    },
    {
     "name": "stderr",
     "output_type": "stream",
     "text": [
      "  8%|▊         | 3/40 [00:02<00:25,  1.46it/s]\n"
     ]
    },
    {
     "name": "stdout",
     "output_type": "stream",
     "text": [
      "Early stopping at epoch 4 in fold 9\n",
      "Fold 9 - Best Validation Loss: 4.2043681144714355 at Epoch: 1\n",
      "Fold 10\n"
     ]
    },
    {
     "name": "stderr",
     "output_type": "stream",
     "text": [
      "  8%|▊         | 3/40 [00:02<00:25,  1.46it/s]"
     ]
    },
    {
     "name": "stdout",
     "output_type": "stream",
     "text": [
      "Early stopping at epoch 4 in fold 10\n",
      "Fold 10 - Best Validation Loss: 2.8779804706573486 at Epoch: 1\n"
     ]
    },
    {
     "name": "stderr",
     "output_type": "stream",
     "text": [
      "\n"
     ]
    },
    {
     "name": "stdout",
     "output_type": "stream",
     "text": [
      "Results from the best model\n",
      "Fold with best validation RSE: 6\n",
      "Best validation RSE: 1.78\n"
     ]
    },
    {
     "data": {
      "image/png": "[encoded data removed]",
      "text/plain": [
       "<Figure size 864x576 with 1 Axes>"
      ]
     },
     "metadata": {
      "needs_background": "light"
     },
     "output_type": "display_data"
    },
    {
     "name": "stdout",
     "output_type": "stream",
     "text": [
      "--------------DONE TRAINING MODEL FOR NetCashProvidedByUsedInInvestingActivities--------------\n",
      "\n",
      "\n"
     ]
    }
   ],
   "source": [
    "# Define variables\n",
    "batch_size = 16\n",
    "epochs=40\n",
    "initial_lr=0.001\n",
    "eps=1e-8\n",
    "patience=3\n",
    "cv=10\n",
    "# Name metric\n",
    "file = files[0]\n",
    "metric_name = file.split('.')[0].split('_')[0]\n",
    "\n",
    "print(f\"--------------START TRAINING MODEL FOR {metric_name}--------------\")\n",
    "\n",
    "# Read csv file\n",
    "df = pd.read_csv(path + file)\n",
    "\n",
    "# Load model and tokenizer\n",
    "model, tokenizer = finbert_regressor()\n",
    "model.to(device)\n",
    "\n",
    "# Prepare dataset\n",
    "dataset = prepare_labeled_datasets(tokenizer, model, 300, df['text'].values.tolist(), df['target'].values.tolist()) \n",
    "\n",
    "# Train model\n",
    "best_model_overall, best_val_loss_overall, best_fold_overall, all_train_losses, all_val_losses, training_stats  = train_finbert_regressor(model, tokenizer, dataset, \n",
    "                                                                                           epochs=epochs, initial_lr=initial_lr, \n",
    "                                                                                           eps=eps, cv=cv)\n",
    "\n",
    "# Save models\n",
    "#If folder not available, create folder\n",
    "if not os.path.exists('../models/finbert-regression/distilbert_data/' + metric_name):\n",
    "   os.makedirs('../models/finbert-regression/distilbert_data/' + metric_name)\n",
    "# Save model to folder\n",
    "best_model_overall.save_pretrained('../models/finbert-regression/distilbert_data/' + metric_name) \n",
    "\n",
    "\n",
    "# Present results from the best model\n",
    "print(\"Results from the best model\")\n",
    "print(f\"Fold with best validation RSE: {best_fold_overall}\")\n",
    "print(\"Best validation RSE: {0:.2f}\".format(best_val_loss_overall)) \n",
    "\n",
    "plot_learning_curve(training_stats,best_fold_overall)\n",
    "print(f\"--------------DONE TRAINING MODEL FOR {metric_name}--------------\")\n",
    "print(\"\\n\")"
   ]
  },
  {
   "cell_type": "markdown",
   "metadata": {},
   "source": [
    "#### EBIT - DistilBERT"
   ]
  },
  {
   "cell_type": "code",
   "execution_count": 81,
   "metadata": {},
   "outputs": [
    {
     "name": "stdout",
     "output_type": "stream",
     "text": [
      "--------------START TRAINING MODEL FOR EBIT--------------\n"
     ]
    },
    {
     "name": "stderr",
     "output_type": "stream",
     "text": [
      "Some weights of RegressionModel were not initialized from the model checkpoint at yiyanghkust/finbert-pretrain and are newly initialized: ['transformer.layer.6.output_layer_norm.weight', 'transformer.layer.11.output_layer_norm.bias', 'transformer.layer.4.ffn.lin2.bias', 'transformer.layer.9.attention.q_lin.bias', 'transformer.layer.9.attention.k_lin.weight', 'transformer.layer.8.sa_layer_norm.bias', 'transformer.layer.2.sa_layer_norm.bias', 'transformer.layer.0.ffn.lin1.bias', 'transformer.layer.1.sa_layer_norm.bias', 'transformer.layer.3.ffn.lin2.bias', 'transformer.layer.3.attention.k_lin.bias', 'transformer.layer.7.sa_layer_norm.weight', 'transformer.layer.6.attention.q_lin.bias', 'transformer.layer.5.attention.k_lin.weight', 'transformer.layer.0.ffn.lin1.weight', 'transformer.layer.3.sa_layer_norm.bias', 'transformer.layer.8.ffn.lin1.weight', 'transformer.layer.4.attention.out_lin.weight', 'transformer.layer.2.attention.v_lin.bias', 'transformer.layer.6.attention.k_lin.weight', 'transformer.layer.11.attention.q_lin.bias', 'transformer.layer.0.ffn.lin2.weight', 'transformer.layer.7.output_layer_norm.weight', 'transformer.layer.4.attention.k_lin.weight', 'transformer.layer.2.ffn.lin1.bias', 'transformer.layer.1.attention.out_lin.bias', 'transformer.layer.7.attention.k_lin.weight', 'transformer.layer.8.attention.q_lin.weight', 'transformer.layer.10.attention.out_lin.bias', 'transformer.layer.11.ffn.lin2.bias', 'transformer.layer.11.ffn.lin2.weight', 'transformer.layer.1.attention.q_lin.bias', 'pre_classifier.bias', 'transformer.layer.9.output_layer_norm.weight', 'transformer.layer.10.attention.q_lin.weight', 'transformer.layer.10.attention.q_lin.bias', 'embeddings.position_embeddings.weight', 'transformer.layer.8.ffn.lin2.bias', 'transformer.layer.0.sa_layer_norm.weight', 'transformer.layer.10.attention.out_lin.weight', 'transformer.layer.9.ffn.lin2.weight', 'transformer.layer.3.ffn.lin1.weight', 'classifier.bias', 'transformer.layer.8.attention.out_lin.bias', 'transformer.layer.11.attention.k_lin.weight', 'transformer.layer.4.sa_layer_norm.bias', 'transformer.layer.9.sa_layer_norm.weight', 'transformer.layer.9.sa_layer_norm.bias', 'transformer.layer.7.sa_layer_norm.bias', 'transformer.layer.11.sa_layer_norm.weight', 'transformer.layer.1.ffn.lin1.bias', 'transformer.layer.6.attention.v_lin.weight', 'transformer.layer.6.sa_layer_norm.weight', 'transformer.layer.5.attention.out_lin.weight', 'transformer.layer.5.output_layer_norm.weight', 'transformer.layer.5.ffn.lin2.bias', 'transformer.layer.3.attention.v_lin.bias', 'transformer.layer.9.attention.out_lin.weight', 'transformer.layer.0.output_layer_norm.weight', 'transformer.layer.4.attention.v_lin.bias', 'transformer.layer.5.attention.out_lin.bias', 'transformer.layer.10.output_layer_norm.weight', 'transformer.layer.0.attention.v_lin.bias', 'transformer.layer.2.attention.out_lin.bias', 'transformer.layer.7.ffn.lin2.bias', 'transformer.layer.1.ffn.lin2.bias', 'transformer.layer.2.attention.q_lin.weight', 'transformer.layer.4.attention.q_lin.weight', 'pre_classifier.weight', 'transformer.layer.3.attention.k_lin.weight', 'transformer.layer.1.output_layer_norm.weight', 'transformer.layer.1.attention.out_lin.weight', 'transformer.layer.10.sa_layer_norm.weight', 'transformer.layer.11.ffn.lin1.weight', 'transformer.layer.10.ffn.lin2.bias', 'transformer.layer.7.attention.out_lin.weight', 'transformer.layer.6.attention.k_lin.bias', 'transformer.layer.5.ffn.lin1.weight', 'transformer.layer.0.attention.k_lin.bias', 'transformer.layer.7.attention.v_lin.bias', 'transformer.layer.10.ffn.lin2.weight', 'transformer.layer.1.sa_layer_norm.weight', 'transformer.layer.9.attention.v_lin.bias', 'transformer.layer.11.sa_layer_norm.bias', 'transformer.layer.8.output_layer_norm.bias', 'transformer.layer.9.attention.v_lin.weight', 'transformer.layer.3.ffn.lin1.bias', 'transformer.layer.3.attention.q_lin.bias', 'transformer.layer.2.sa_layer_norm.weight', 'transformer.layer.8.ffn.lin1.bias', 'transformer.layer.1.attention.v_lin.weight', 'transformer.layer.6.ffn.lin1.bias', 'transformer.layer.3.attention.v_lin.weight', 'transformer.layer.7.ffn.lin1.bias', 'transformer.layer.8.attention.k_lin.weight', 'transformer.layer.2.attention.v_lin.weight', 'transformer.layer.0.attention.out_lin.weight', 'transformer.layer.11.attention.out_lin.bias', 'transformer.layer.4.ffn.lin1.weight', 'transformer.layer.5.sa_layer_norm.bias', 'transformer.layer.6.attention.q_lin.weight', 'transformer.layer.7.attention.v_lin.weight', 'transformer.layer.0.sa_layer_norm.bias', 'transformer.layer.0.output_layer_norm.bias', 'transformer.layer.11.ffn.lin1.bias', 'transformer.layer.10.attention.v_lin.bias', 'transformer.layer.3.sa_layer_norm.weight', 'transformer.layer.11.attention.k_lin.bias', 'transformer.layer.6.ffn.lin2.weight', 'transformer.layer.10.output_layer_norm.bias', 'transformer.layer.2.output_layer_norm.weight', 'transformer.layer.7.attention.out_lin.bias', 'transformer.layer.11.attention.v_lin.weight', 'transformer.layer.5.attention.v_lin.bias', 'transformer.layer.8.attention.out_lin.weight', 'transformer.layer.11.attention.v_lin.bias', 'transformer.layer.9.ffn.lin2.bias', 'transformer.layer.6.sa_layer_norm.bias', 'transformer.layer.7.ffn.lin1.weight', 'transformer.layer.8.output_layer_norm.weight', 'transformer.layer.5.attention.v_lin.weight', 'transformer.layer.0.attention.q_lin.weight', 'transformer.layer.0.ffn.lin2.bias', 'transformer.layer.7.attention.k_lin.bias', 'transformer.layer.0.attention.v_lin.weight', 'transformer.layer.3.attention.out_lin.weight', 'transformer.layer.0.attention.out_lin.bias', 'transformer.layer.6.ffn.lin1.weight', 'transformer.layer.7.attention.q_lin.bias', 'transformer.layer.0.attention.q_lin.bias', 'transformer.layer.8.attention.v_lin.weight', 'embeddings.LayerNorm.weight', 'transformer.layer.0.attention.k_lin.weight', 'transformer.layer.9.ffn.lin1.bias', 'transformer.layer.10.ffn.lin1.bias', 'transformer.layer.10.sa_layer_norm.bias', 'transformer.layer.1.output_layer_norm.bias', 'transformer.layer.10.attention.k_lin.bias', 'transformer.layer.8.attention.q_lin.bias', 'transformer.layer.2.attention.out_lin.weight', 'transformer.layer.5.attention.q_lin.bias', 'transformer.layer.11.output_layer_norm.weight', 'transformer.layer.1.attention.k_lin.weight', 'transformer.layer.7.attention.q_lin.weight', 'transformer.layer.3.output_layer_norm.bias', 'transformer.layer.4.ffn.lin2.weight', 'transformer.layer.11.attention.q_lin.weight', 'transformer.layer.2.attention.q_lin.bias', 'transformer.layer.10.ffn.lin1.weight', 'transformer.layer.1.ffn.lin2.weight', 'transformer.layer.5.sa_layer_norm.weight', 'transformer.layer.2.ffn.lin2.weight', 'transformer.layer.6.attention.out_lin.weight', 'transformer.layer.8.sa_layer_norm.weight', 'transformer.layer.4.attention.out_lin.bias', 'transformer.layer.3.attention.out_lin.bias', 'transformer.layer.1.attention.v_lin.bias', 'transformer.layer.6.attention.v_lin.bias', 'transformer.layer.1.attention.k_lin.bias', 'transformer.layer.10.attention.v_lin.weight', 'transformer.layer.7.output_layer_norm.bias', 'embeddings.word_embeddings.weight', 'transformer.layer.8.attention.k_lin.bias', 'classifier.weight', 'transformer.layer.2.output_layer_norm.bias', 'transformer.layer.9.attention.k_lin.bias', 'transformer.layer.5.ffn.lin1.bias', 'transformer.layer.4.sa_layer_norm.weight', 'transformer.layer.8.ffn.lin2.weight', 'transformer.layer.9.attention.q_lin.weight', 'transformer.layer.2.attention.k_lin.weight', 'transformer.layer.3.ffn.lin2.weight', 'transformer.layer.8.attention.v_lin.bias', 'transformer.layer.5.ffn.lin2.weight', 'transformer.layer.4.output_layer_norm.bias', 'transformer.layer.7.ffn.lin2.weight', 'transformer.layer.2.ffn.lin1.weight', 'transformer.layer.6.attention.out_lin.bias', 'transformer.layer.2.ffn.lin2.bias', 'transformer.layer.3.output_layer_norm.weight', 'transformer.layer.10.attention.k_lin.weight', 'transformer.layer.6.output_layer_norm.bias', 'transformer.layer.6.ffn.lin2.bias', 'transformer.layer.4.attention.k_lin.bias', 'transformer.layer.5.output_layer_norm.bias', 'transformer.layer.2.attention.k_lin.bias', 'transformer.layer.4.ffn.lin1.bias', 'transformer.layer.1.attention.q_lin.weight', 'transformer.layer.5.attention.k_lin.bias', 'transformer.layer.11.attention.out_lin.weight', 'embeddings.LayerNorm.bias', 'transformer.layer.1.ffn.lin1.weight', 'transformer.layer.4.attention.q_lin.bias', 'transformer.layer.9.attention.out_lin.bias', 'transformer.layer.9.ffn.lin1.weight', 'transformer.layer.3.attention.q_lin.weight', 'transformer.layer.5.attention.q_lin.weight', 'transformer.layer.9.output_layer_norm.bias', 'transformer.layer.4.attention.v_lin.weight', 'transformer.layer.4.output_layer_norm.weight']\n",
      "You should probably TRAIN this model on a down-stream task to be able to use it for predictions and inference.\n"
     ]
    },
    {
     "name": "stdout",
     "output_type": "stream",
     "text": [
      "Fold 1\n"
     ]
    },
    {
     "name": "stderr",
     "output_type": "stream",
     "text": [
      "  8%|▊         | 3/40 [00:11<02:22,  3.86s/it]\n"
     ]
    },
    {
     "name": "stdout",
     "output_type": "stream",
     "text": [
      "Early stopping at epoch 4 in fold 1\n",
      "Fold 1 - Best Validation Loss: 1.822878360748291 at Epoch: 1\n",
      "Fold 2\n"
     ]
    },
    {
     "name": "stderr",
     "output_type": "stream",
     "text": [
      "  8%|▊         | 3/40 [00:11<02:23,  3.87s/it]\n"
     ]
    },
    {
     "name": "stdout",
     "output_type": "stream",
     "text": [
      "Early stopping at epoch 4 in fold 2\n",
      "Fold 2 - Best Validation Loss: 1.9356526136398315 at Epoch: 1\n",
      "Fold 3\n"
     ]
    },
    {
     "name": "stderr",
     "output_type": "stream",
     "text": [
      "  8%|▊         | 3/40 [00:11<02:23,  3.89s/it]\n"
     ]
    },
    {
     "name": "stdout",
     "output_type": "stream",
     "text": [
      "Early stopping at epoch 4 in fold 3\n",
      "Fold 3 - Best Validation Loss: 1.739360272884369 at Epoch: 1\n",
      "Fold 4\n"
     ]
    },
    {
     "name": "stderr",
     "output_type": "stream",
     "text": [
      "  8%|▊         | 3/40 [00:11<02:24,  3.92s/it]\n"
     ]
    },
    {
     "name": "stdout",
     "output_type": "stream",
     "text": [
      "Early stopping at epoch 4 in fold 4\n",
      "Fold 4 - Best Validation Loss: 3.721317946910858 at Epoch: 1\n",
      "Fold 5\n"
     ]
    },
    {
     "name": "stderr",
     "output_type": "stream",
     "text": [
      "  8%|▊         | 3/40 [00:11<02:24,  3.91s/it]\n"
     ]
    },
    {
     "name": "stdout",
     "output_type": "stream",
     "text": [
      "Early stopping at epoch 4 in fold 5\n",
      "Fold 5 - Best Validation Loss: 17.167556762695312 at Epoch: 1\n",
      "Fold 6\n"
     ]
    },
    {
     "name": "stderr",
     "output_type": "stream",
     "text": [
      "  8%|▊         | 3/40 [00:11<02:24,  3.92s/it]\n"
     ]
    },
    {
     "name": "stdout",
     "output_type": "stream",
     "text": [
      "Early stopping at epoch 4 in fold 6\n",
      "Fold 6 - Best Validation Loss: 29.734962344169617 at Epoch: 1\n",
      "Fold 7\n"
     ]
    },
    {
     "name": "stderr",
     "output_type": "stream",
     "text": [
      "  8%|▊         | 3/40 [00:11<02:25,  3.93s/it]\n"
     ]
    },
    {
     "name": "stdout",
     "output_type": "stream",
     "text": [
      "Early stopping at epoch 4 in fold 7\n",
      "Fold 7 - Best Validation Loss: 3.3326252698898315 at Epoch: 1\n",
      "Fold 8\n"
     ]
    },
    {
     "name": "stderr",
     "output_type": "stream",
     "text": [
      "  8%|▊         | 3/40 [00:11<02:25,  3.93s/it]\n"
     ]
    },
    {
     "name": "stdout",
     "output_type": "stream",
     "text": [
      "Early stopping at epoch 4 in fold 8\n",
      "Fold 8 - Best Validation Loss: 3.1435176134109497 at Epoch: 1\n",
      "Fold 9\n"
     ]
    },
    {
     "name": "stderr",
     "output_type": "stream",
     "text": [
      "  8%|▊         | 3/40 [00:11<02:25,  3.92s/it]\n"
     ]
    },
    {
     "name": "stdout",
     "output_type": "stream",
     "text": [
      "Early stopping at epoch 4 in fold 9\n",
      "Fold 9 - Best Validation Loss: 10.312436580657959 at Epoch: 1\n",
      "Fold 10\n"
     ]
    },
    {
     "name": "stderr",
     "output_type": "stream",
     "text": [
      "  8%|▊         | 3/40 [00:11<02:25,  3.92s/it]"
     ]
    },
    {
     "name": "stdout",
     "output_type": "stream",
     "text": [
      "Early stopping at epoch 4 in fold 10\n",
      "Fold 10 - Best Validation Loss: 1.8071548342704773 at Epoch: 1\n"
     ]
    },
    {
     "name": "stderr",
     "output_type": "stream",
     "text": [
      "\n"
     ]
    },
    {
     "name": "stdout",
     "output_type": "stream",
     "text": [
      "Results from the best model\n",
      "Fold with best validation RSE: 3\n",
      "Best validation RSE: 1.74\n"
     ]
    },
    {
     "data": {
      "image/png": "[encoded data removed]",
      "text/plain": [
       "<Figure size 864x576 with 1 Axes>"
      ]
     },
     "metadata": {
      "needs_background": "light"
     },
     "output_type": "display_data"
    },
    {
     "name": "stdout",
     "output_type": "stream",
     "text": [
      "--------------DONE TRAINING MODEL FOR EBIT--------------\n",
      "\n",
      "\n"
     ]
    }
   ],
   "source": [
    "# Define variables\n",
    "batch_size = 16\n",
    "epochs=40\n",
    "initial_lr=0.001\n",
    "eps=1e-8\n",
    "patience=5\n",
    "cv=10\n",
    "# Name metric\n",
    "file = files[1]\n",
    "metric_name = file.split('.')[0].split('_')[0]\n",
    "\n",
    "print(f\"--------------START TRAINING MODEL FOR {metric_name}--------------\")\n",
    "\n",
    "# Read csv file\n",
    "df = pd.read_csv(path + file)\n",
    "\n",
    "# Load model and tokenizer\n",
    "model, tokenizer = finbert_regressor()\n",
    "model.to(device)\n",
    "\n",
    "# Prepare dataset\n",
    "dataset = prepare_labeled_datasets(tokenizer, model, 300, df['text'].values.tolist(), df['target'].values.tolist()) \n",
    "\n",
    "# Train model\n",
    "best_model_overall, best_val_loss_overall, best_fold_overall, all_train_losses, all_val_losses, training_stats  = train_finbert_regressor(model, tokenizer, dataset, \n",
    "                                                                                           epochs=epochs, initial_lr=initial_lr, \n",
    "                                                                                           eps=eps, cv=cv)\n",
    "\n",
    "# Save models\n",
    "#If folder not available, create folder\n",
    "if not os.path.exists('../models/finbert-regression/distilbert_data/' + metric_name):\n",
    "   os.makedirs('../models/finbert-regression/distilbert_data/' + metric_name)\n",
    "# Save model to folder\n",
    "best_model_overall.save_pretrained('../models/finbert-regression/distilbert_data/' + metric_name) \n",
    "\n",
    "\n",
    "# Present results from the best model\n",
    "print(\"Results from the best model\")\n",
    "print(f\"Fold with best validation RSE: {best_fold_overall}\")\n",
    "print(\"Best validation RSE: {0:.2f}\".format(best_val_loss_overall)) \n",
    "\n",
    "plot_learning_curve(training_stats,best_fold_overall)\n",
    "print(f\"--------------DONE TRAINING MODEL FOR {metric_name}--------------\")\n",
    "print(\"\\n\")"
   ]
  },
  {
   "cell_type": "markdown",
   "metadata": {},
   "source": [
    "#### NetCashProvidedByUsedInFinancingActivities - DistilBERT"
   ]
  },
  {
   "cell_type": "code",
   "execution_count": 85,
   "metadata": {},
   "outputs": [
    {
     "name": "stdout",
     "output_type": "stream",
     "text": [
      "--------------START TRAINING MODEL FOR NetCashProvidedByUsedInFinancingActivities--------------\n"
     ]
    },
    {
     "name": "stderr",
     "output_type": "stream",
     "text": [
      "Some weights of RegressionModel were not initialized from the model checkpoint at yiyanghkust/finbert-pretrain and are newly initialized: ['transformer.layer.6.output_layer_norm.weight', 'transformer.layer.11.output_layer_norm.bias', 'transformer.layer.4.ffn.lin2.bias', 'transformer.layer.9.attention.q_lin.bias', 'transformer.layer.9.attention.k_lin.weight', 'transformer.layer.8.sa_layer_norm.bias', 'transformer.layer.2.sa_layer_norm.bias', 'transformer.layer.0.ffn.lin1.bias', 'transformer.layer.1.sa_layer_norm.bias', 'transformer.layer.3.ffn.lin2.bias', 'transformer.layer.3.attention.k_lin.bias', 'transformer.layer.7.sa_layer_norm.weight', 'transformer.layer.6.attention.q_lin.bias', 'transformer.layer.5.attention.k_lin.weight', 'transformer.layer.0.ffn.lin1.weight', 'transformer.layer.3.sa_layer_norm.bias', 'transformer.layer.8.ffn.lin1.weight', 'transformer.layer.4.attention.out_lin.weight', 'transformer.layer.2.attention.v_lin.bias', 'transformer.layer.6.attention.k_lin.weight', 'transformer.layer.11.attention.q_lin.bias', 'transformer.layer.0.ffn.lin2.weight', 'transformer.layer.7.output_layer_norm.weight', 'transformer.layer.4.attention.k_lin.weight', 'transformer.layer.2.ffn.lin1.bias', 'transformer.layer.1.attention.out_lin.bias', 'transformer.layer.7.attention.k_lin.weight', 'transformer.layer.8.attention.q_lin.weight', 'transformer.layer.10.attention.out_lin.bias', 'transformer.layer.11.ffn.lin2.bias', 'transformer.layer.11.ffn.lin2.weight', 'transformer.layer.1.attention.q_lin.bias', 'pre_classifier.bias', 'transformer.layer.9.output_layer_norm.weight', 'transformer.layer.10.attention.q_lin.weight', 'transformer.layer.10.attention.q_lin.bias', 'embeddings.position_embeddings.weight', 'transformer.layer.8.ffn.lin2.bias', 'transformer.layer.0.sa_layer_norm.weight', 'transformer.layer.10.attention.out_lin.weight', 'transformer.layer.9.ffn.lin2.weight', 'transformer.layer.3.ffn.lin1.weight', 'classifier.bias', 'transformer.layer.8.attention.out_lin.bias', 'transformer.layer.11.attention.k_lin.weight', 'transformer.layer.4.sa_layer_norm.bias', 'transformer.layer.9.sa_layer_norm.weight', 'transformer.layer.9.sa_layer_norm.bias', 'transformer.layer.7.sa_layer_norm.bias', 'transformer.layer.11.sa_layer_norm.weight', 'transformer.layer.1.ffn.lin1.bias', 'transformer.layer.6.attention.v_lin.weight', 'transformer.layer.6.sa_layer_norm.weight', 'transformer.layer.5.attention.out_lin.weight', 'transformer.layer.5.output_layer_norm.weight', 'transformer.layer.5.ffn.lin2.bias', 'transformer.layer.3.attention.v_lin.bias', 'transformer.layer.9.attention.out_lin.weight', 'transformer.layer.0.output_layer_norm.weight', 'transformer.layer.4.attention.v_lin.bias', 'transformer.layer.5.attention.out_lin.bias', 'transformer.layer.10.output_layer_norm.weight', 'transformer.layer.0.attention.v_lin.bias', 'transformer.layer.2.attention.out_lin.bias', 'transformer.layer.7.ffn.lin2.bias', 'transformer.layer.1.ffn.lin2.bias', 'transformer.layer.2.attention.q_lin.weight', 'transformer.layer.4.attention.q_lin.weight', 'pre_classifier.weight', 'transformer.layer.3.attention.k_lin.weight', 'transformer.layer.1.output_layer_norm.weight', 'transformer.layer.1.attention.out_lin.weight', 'transformer.layer.10.sa_layer_norm.weight', 'transformer.layer.11.ffn.lin1.weight', 'transformer.layer.10.ffn.lin2.bias', 'transformer.layer.7.attention.out_lin.weight', 'transformer.layer.6.attention.k_lin.bias', 'transformer.layer.5.ffn.lin1.weight', 'transformer.layer.0.attention.k_lin.bias', 'transformer.layer.7.attention.v_lin.bias', 'transformer.layer.10.ffn.lin2.weight', 'transformer.layer.1.sa_layer_norm.weight', 'transformer.layer.9.attention.v_lin.bias', 'transformer.layer.11.sa_layer_norm.bias', 'transformer.layer.8.output_layer_norm.bias', 'transformer.layer.9.attention.v_lin.weight', 'transformer.layer.3.ffn.lin1.bias', 'transformer.layer.3.attention.q_lin.bias', 'transformer.layer.2.sa_layer_norm.weight', 'transformer.layer.8.ffn.lin1.bias', 'transformer.layer.1.attention.v_lin.weight', 'transformer.layer.6.ffn.lin1.bias', 'transformer.layer.3.attention.v_lin.weight', 'transformer.layer.7.ffn.lin1.bias', 'transformer.layer.8.attention.k_lin.weight', 'transformer.layer.2.attention.v_lin.weight', 'transformer.layer.0.attention.out_lin.weight', 'transformer.layer.11.attention.out_lin.bias', 'transformer.layer.4.ffn.lin1.weight', 'transformer.layer.5.sa_layer_norm.bias', 'transformer.layer.6.attention.q_lin.weight', 'transformer.layer.7.attention.v_lin.weight', 'transformer.layer.0.sa_layer_norm.bias', 'transformer.layer.0.output_layer_norm.bias', 'transformer.layer.11.ffn.lin1.bias', 'transformer.layer.10.attention.v_lin.bias', 'transformer.layer.3.sa_layer_norm.weight', 'transformer.layer.11.attention.k_lin.bias', 'transformer.layer.6.ffn.lin2.weight', 'transformer.layer.10.output_layer_norm.bias', 'transformer.layer.2.output_layer_norm.weight', 'transformer.layer.7.attention.out_lin.bias', 'transformer.layer.11.attention.v_lin.weight', 'transformer.layer.5.attention.v_lin.bias', 'transformer.layer.8.attention.out_lin.weight', 'transformer.layer.11.attention.v_lin.bias', 'transformer.layer.9.ffn.lin2.bias', 'transformer.layer.6.sa_layer_norm.bias', 'transformer.layer.7.ffn.lin1.weight', 'transformer.layer.8.output_layer_norm.weight', 'transformer.layer.5.attention.v_lin.weight', 'transformer.layer.0.attention.q_lin.weight', 'transformer.layer.0.ffn.lin2.bias', 'transformer.layer.7.attention.k_lin.bias', 'transformer.layer.0.attention.v_lin.weight', 'transformer.layer.3.attention.out_lin.weight', 'transformer.layer.0.attention.out_lin.bias', 'transformer.layer.6.ffn.lin1.weight', 'transformer.layer.7.attention.q_lin.bias', 'transformer.layer.0.attention.q_lin.bias', 'transformer.layer.8.attention.v_lin.weight', 'embeddings.LayerNorm.weight', 'transformer.layer.0.attention.k_lin.weight', 'transformer.layer.9.ffn.lin1.bias', 'transformer.layer.10.ffn.lin1.bias', 'transformer.layer.10.sa_layer_norm.bias', 'transformer.layer.1.output_layer_norm.bias', 'transformer.layer.10.attention.k_lin.bias', 'transformer.layer.8.attention.q_lin.bias', 'transformer.layer.2.attention.out_lin.weight', 'transformer.layer.5.attention.q_lin.bias', 'transformer.layer.11.output_layer_norm.weight', 'transformer.layer.1.attention.k_lin.weight', 'transformer.layer.7.attention.q_lin.weight', 'transformer.layer.3.output_layer_norm.bias', 'transformer.layer.4.ffn.lin2.weight', 'transformer.layer.11.attention.q_lin.weight', 'transformer.layer.2.attention.q_lin.bias', 'transformer.layer.10.ffn.lin1.weight', 'transformer.layer.1.ffn.lin2.weight', 'transformer.layer.5.sa_layer_norm.weight', 'transformer.layer.2.ffn.lin2.weight', 'transformer.layer.6.attention.out_lin.weight', 'transformer.layer.8.sa_layer_norm.weight', 'transformer.layer.4.attention.out_lin.bias', 'transformer.layer.3.attention.out_lin.bias', 'transformer.layer.1.attention.v_lin.bias', 'transformer.layer.6.attention.v_lin.bias', 'transformer.layer.1.attention.k_lin.bias', 'transformer.layer.10.attention.v_lin.weight', 'transformer.layer.7.output_layer_norm.bias', 'embeddings.word_embeddings.weight', 'transformer.layer.8.attention.k_lin.bias', 'classifier.weight', 'transformer.layer.2.output_layer_norm.bias', 'transformer.layer.9.attention.k_lin.bias', 'transformer.layer.5.ffn.lin1.bias', 'transformer.layer.4.sa_layer_norm.weight', 'transformer.layer.8.ffn.lin2.weight', 'transformer.layer.9.attention.q_lin.weight', 'transformer.layer.2.attention.k_lin.weight', 'transformer.layer.3.ffn.lin2.weight', 'transformer.layer.8.attention.v_lin.bias', 'transformer.layer.5.ffn.lin2.weight', 'transformer.layer.4.output_layer_norm.bias', 'transformer.layer.7.ffn.lin2.weight', 'transformer.layer.2.ffn.lin1.weight', 'transformer.layer.6.attention.out_lin.bias', 'transformer.layer.2.ffn.lin2.bias', 'transformer.layer.3.output_layer_norm.weight', 'transformer.layer.10.attention.k_lin.weight', 'transformer.layer.6.output_layer_norm.bias', 'transformer.layer.6.ffn.lin2.bias', 'transformer.layer.4.attention.k_lin.bias', 'transformer.layer.5.output_layer_norm.bias', 'transformer.layer.2.attention.k_lin.bias', 'transformer.layer.4.ffn.lin1.bias', 'transformer.layer.1.attention.q_lin.weight', 'transformer.layer.5.attention.k_lin.bias', 'transformer.layer.11.attention.out_lin.weight', 'embeddings.LayerNorm.bias', 'transformer.layer.1.ffn.lin1.weight', 'transformer.layer.4.attention.q_lin.bias', 'transformer.layer.9.attention.out_lin.bias', 'transformer.layer.9.ffn.lin1.weight', 'transformer.layer.3.attention.q_lin.weight', 'transformer.layer.5.attention.q_lin.weight', 'transformer.layer.9.output_layer_norm.bias', 'transformer.layer.4.attention.v_lin.weight', 'transformer.layer.4.output_layer_norm.weight']\n",
      "You should probably TRAIN this model on a down-stream task to be able to use it for predictions and inference.\n"
     ]
    },
    {
     "name": "stdout",
     "output_type": "stream",
     "text": [
      "Fold 1\n"
     ]
    },
    {
     "name": "stderr",
     "output_type": "stream",
     "text": [
      "  5%|▌         | 2/40 [00:00<00:18,  2.02it/s]\n"
     ]
    },
    {
     "name": "stdout",
     "output_type": "stream",
     "text": [
      "Early stopping at epoch 3 in fold 1\n",
      "Fold 1 - Best Validation Loss: inf at Epoch: 0\n",
      "Fold 2\n"
     ]
    },
    {
     "name": "stderr",
     "output_type": "stream",
     "text": [
      "  5%|▌         | 2/40 [00:00<00:18,  2.08it/s]\n"
     ]
    },
    {
     "name": "stdout",
     "output_type": "stream",
     "text": [
      "Early stopping at epoch 3 in fold 2\n",
      "Fold 2 - Best Validation Loss: inf at Epoch: 0\n",
      "Fold 3\n"
     ]
    },
    {
     "name": "stderr",
     "output_type": "stream",
     "text": [
      "  5%|▌         | 2/40 [00:00<00:18,  2.07it/s]\n"
     ]
    },
    {
     "name": "stdout",
     "output_type": "stream",
     "text": [
      "Early stopping at epoch 3 in fold 3\n",
      "Fold 3 - Best Validation Loss: inf at Epoch: 0\n",
      "Fold 4\n"
     ]
    },
    {
     "name": "stderr",
     "output_type": "stream",
     "text": [
      "  5%|▌         | 2/40 [00:00<00:18,  2.07it/s]\n"
     ]
    },
    {
     "name": "stdout",
     "output_type": "stream",
     "text": [
      "Early stopping at epoch 3 in fold 4\n",
      "Fold 4 - Best Validation Loss: inf at Epoch: 0\n",
      "Fold 5\n"
     ]
    },
    {
     "name": "stderr",
     "output_type": "stream",
     "text": [
      "  5%|▌         | 2/40 [00:00<00:18,  2.08it/s]\n"
     ]
    },
    {
     "name": "stdout",
     "output_type": "stream",
     "text": [
      "Early stopping at epoch 3 in fold 5\n",
      "Fold 5 - Best Validation Loss: inf at Epoch: 0\n",
      "Fold 6\n"
     ]
    },
    {
     "name": "stderr",
     "output_type": "stream",
     "text": [
      "  5%|▌         | 2/40 [00:00<00:18,  2.08it/s]\n"
     ]
    },
    {
     "name": "stdout",
     "output_type": "stream",
     "text": [
      "Early stopping at epoch 3 in fold 6\n",
      "Fold 6 - Best Validation Loss: inf at Epoch: 0\n",
      "Fold 7\n"
     ]
    },
    {
     "name": "stderr",
     "output_type": "stream",
     "text": [
      "  5%|▌         | 2/40 [00:00<00:18,  2.08it/s]\n"
     ]
    },
    {
     "name": "stdout",
     "output_type": "stream",
     "text": [
      "Early stopping at epoch 3 in fold 7\n",
      "Fold 7 - Best Validation Loss: inf at Epoch: 0\n",
      "Fold 8\n"
     ]
    },
    {
     "name": "stderr",
     "output_type": "stream",
     "text": [
      "  5%|▌         | 2/40 [00:00<00:18,  2.08it/s]\n"
     ]
    },
    {
     "name": "stdout",
     "output_type": "stream",
     "text": [
      "Early stopping at epoch 3 in fold 8\n",
      "Fold 8 - Best Validation Loss: inf at Epoch: 0\n",
      "Fold 9\n"
     ]
    },
    {
     "name": "stderr",
     "output_type": "stream",
     "text": [
      "  5%|▌         | 2/40 [00:00<00:18,  2.08it/s]\n"
     ]
    },
    {
     "name": "stdout",
     "output_type": "stream",
     "text": [
      "Early stopping at epoch 3 in fold 9\n",
      "Fold 9 - Best Validation Loss: inf at Epoch: 0\n",
      "Fold 10\n"
     ]
    },
    {
     "name": "stderr",
     "output_type": "stream",
     "text": [
      "  5%|▌         | 2/40 [00:00<00:18,  2.03it/s]"
     ]
    },
    {
     "name": "stdout",
     "output_type": "stream",
     "text": [
      "Early stopping at epoch 3 in fold 10\n",
      "Fold 10 - Best Validation Loss: inf at Epoch: 0\n"
     ]
    },
    {
     "name": "stderr",
     "output_type": "stream",
     "text": [
      "\n"
     ]
    },
    {
     "ename": "AttributeError",
     "evalue": "'NoneType' object has no attribute 'save_pretrained'",
     "output_type": "error",
     "traceback": [
      "\u001b[0;31m---------------------------------------------------------------------------\u001b[0m",
      "\u001b[0;31mAttributeError\u001b[0m                            Traceback (most recent call last)",
      "\u001b[0;32m<ipython-input-85-7b0438562d9c>\u001b[0m in \u001b[0;36m<module>\u001b[0;34m\u001b[0m\n\u001b[1;32m     32\u001b[0m     \u001b[0mos\u001b[0m\u001b[0;34m.\u001b[0m\u001b[0mmakedirs\u001b[0m\u001b[0;34m(\u001b[0m\u001b[0;34m'../models/finbert-regression/'\u001b[0m \u001b[0;34m+\u001b[0m \u001b[0mmetric_name\u001b[0m\u001b[0;34m)\u001b[0m\u001b[0;34m\u001b[0m\u001b[0;34m\u001b[0m\u001b[0m\n\u001b[1;32m     33\u001b[0m \u001b[0;31m# Save model to folder\u001b[0m\u001b[0;34m\u001b[0m\u001b[0;34m\u001b[0m\u001b[0;34m\u001b[0m\u001b[0m\n\u001b[0;32m---> 34\u001b[0;31m \u001b[0mbest_model_overall\u001b[0m\u001b[0;34m.\u001b[0m\u001b[0msave_pretrained\u001b[0m\u001b[0;34m(\u001b[0m\u001b[0;34m'../models/finbert-regression/'\u001b[0m \u001b[0;34m+\u001b[0m \u001b[0mmetric_name\u001b[0m\u001b[0;34m)\u001b[0m\u001b[0;34m\u001b[0m\u001b[0;34m\u001b[0m\u001b[0m\n\u001b[0m\u001b[1;32m     35\u001b[0m \u001b[0;34m\u001b[0m\u001b[0m\n\u001b[1;32m     36\u001b[0m \u001b[0;34m\u001b[0m\u001b[0m\n",
      "\u001b[0;31mAttributeError\u001b[0m: 'NoneType' object has no attribute 'save_pretrained'"
     ]
    }
   ],
   "source": [
    "# Define variables\n",
    "batch_size = 8\n",
    "epochs=40\n",
    "initial_lr=0.00001\n",
    "eps=1e-8\n",
    "patience=3\n",
    "cv=10\n",
    "# Name metric\n",
    "file = files[2]\n",
    "metric_name = file.split('.')[0].split('_')[0]\n",
    "\n",
    "print(f\"--------------START TRAINING MODEL FOR {metric_name}--------------\")\n",
    "\n",
    "# Read csv file\n",
    "df = pd.read_csv(path + file)\n",
    "\n",
    "# Load model and tokenizer\n",
    "model, tokenizer = finbert_regressor()\n",
    "model.to(device)\n",
    "\n",
    "# Prepare dataset\n",
    "dataset = prepare_labeled_datasets(tokenizer, model, 300, df['text'].values.tolist(), df['target'].values.tolist()) \n",
    "\n",
    "# Train model\n",
    "best_model_overall, best_val_loss_overall, best_fold_overall, all_train_losses, all_val_losses, training_stats  = train_finbert_regressor(model, tokenizer, dataset, \n",
    "                                                                                           epochs=epochs, initial_lr=initial_lr, \n",
    "                                                                                           eps=eps, cv=cv)\n",
    "\n",
    "# Save models\n",
    "#If folder not available, create folder\n",
    "if not os.path.exists('../models/finbert-regression/distilbert_data/' + metric_name):\n",
    "   os.makedirs('../models/finbert-regression/distilbert_data/' + metric_name)\n",
    "# Save model to folder\n",
    "best_model_overall.save_pretrained('../models/finbert-regression/distilbert_data/' + metric_name) \n",
    "\n",
    "\n",
    "# Present results from the best model\n",
    "print(\"Results from the best model\")\n",
    "print(f\"Fold with best validation RSE: {best_fold_overall}\")\n",
    "print(\"Best validation RSE: {0:.2f}\".format(best_val_loss_overall)) \n",
    "\n",
    "plot_learning_curve(training_stats,best_fold_overall)\n",
    "print(f\"--------------DONE TRAINING MODEL FOR {metric_name}--------------\")\n",
    "print(\"\\n\")"
   ]
  },
  {
   "cell_type": "markdown",
   "metadata": {},
   "source": [
    "#### Revenue - DistilBERT"
   ]
  },
  {
   "cell_type": "code",
   "execution_count": 10,
   "metadata": {},
   "outputs": [
    {
     "name": "stdout",
     "output_type": "stream",
     "text": [
      "--------------START TRAINING MODEL FOR RevenueFromContractWithCustomerExcludingAssessedTax--------------\n"
     ]
    },
    {
     "name": "stderr",
     "output_type": "stream",
     "text": [
      "Some weights of RegressionModel were not initialized from the model checkpoint at yiyanghkust/finbert-pretrain and are newly initialized: ['transformer.layer.11.ffn.lin2.bias', 'transformer.layer.8.attention.k_lin.bias', 'transformer.layer.11.sa_layer_norm.bias', 'transformer.layer.11.attention.k_lin.weight', 'embeddings.position_embeddings.weight', 'transformer.layer.2.ffn.lin1.weight', 'transformer.layer.2.attention.v_lin.weight', 'transformer.layer.8.sa_layer_norm.bias', 'transformer.layer.1.output_layer_norm.bias', 'transformer.layer.3.ffn.lin2.weight', 'transformer.layer.8.sa_layer_norm.weight', 'transformer.layer.0.sa_layer_norm.weight', 'transformer.layer.4.attention.out_lin.weight', 'transformer.layer.10.attention.q_lin.weight', 'transformer.layer.6.attention.out_lin.bias', 'transformer.layer.1.ffn.lin1.weight', 'transformer.layer.8.ffn.lin1.weight', 'transformer.layer.2.sa_layer_norm.bias', 'transformer.layer.0.attention.v_lin.weight', 'transformer.layer.2.attention.q_lin.bias', 'transformer.layer.2.ffn.lin1.bias', 'transformer.layer.1.attention.k_lin.bias', 'transformer.layer.5.ffn.lin1.weight', 'transformer.layer.1.attention.out_lin.bias', 'transformer.layer.10.sa_layer_norm.weight', 'transformer.layer.4.attention.v_lin.weight', 'transformer.layer.0.ffn.lin1.weight', 'transformer.layer.4.output_layer_norm.bias', 'transformer.layer.7.ffn.lin2.weight', 'transformer.layer.7.ffn.lin1.weight', 'transformer.layer.8.ffn.lin2.weight', 'transformer.layer.3.ffn.lin1.bias', 'transformer.layer.3.attention.out_lin.bias', 'transformer.layer.4.sa_layer_norm.bias', 'transformer.layer.8.attention.q_lin.bias', 'transformer.layer.5.attention.out_lin.bias', 'transformer.layer.6.ffn.lin2.bias', 'transformer.layer.6.ffn.lin2.weight', 'transformer.layer.7.attention.v_lin.bias', 'transformer.layer.0.ffn.lin1.bias', 'transformer.layer.8.attention.out_lin.weight', 'transformer.layer.10.attention.k_lin.bias', 'transformer.layer.1.ffn.lin1.bias', 'transformer.layer.5.attention.k_lin.weight', 'transformer.layer.5.attention.v_lin.bias', 'transformer.layer.6.attention.v_lin.weight', 'transformer.layer.9.attention.q_lin.bias', 'transformer.layer.6.attention.q_lin.bias', 'transformer.layer.10.sa_layer_norm.bias', 'transformer.layer.7.output_layer_norm.weight', 'transformer.layer.0.attention.k_lin.weight', 'transformer.layer.4.attention.k_lin.bias', 'transformer.layer.4.ffn.lin1.weight', 'transformer.layer.7.attention.k_lin.bias', 'transformer.layer.3.attention.out_lin.weight', 'transformer.layer.8.ffn.lin1.bias', 'transformer.layer.2.ffn.lin2.weight', 'transformer.layer.4.attention.q_lin.weight', 'transformer.layer.7.attention.out_lin.bias', 'transformer.layer.4.ffn.lin1.bias', 'transformer.layer.5.output_layer_norm.bias', 'transformer.layer.3.attention.k_lin.bias', 'transformer.layer.7.output_layer_norm.bias', 'transformer.layer.4.attention.v_lin.bias', 'transformer.layer.3.output_layer_norm.weight', 'transformer.layer.9.attention.k_lin.bias', 'transformer.layer.9.attention.v_lin.weight', 'transformer.layer.4.sa_layer_norm.weight', 'transformer.layer.9.ffn.lin1.weight', 'transformer.layer.10.ffn.lin2.weight', 'transformer.layer.10.attention.out_lin.weight', 'transformer.layer.3.sa_layer_norm.bias', 'transformer.layer.0.output_layer_norm.bias', 'transformer.layer.5.attention.k_lin.bias', 'transformer.layer.10.attention.v_lin.weight', 'transformer.layer.5.attention.v_lin.weight', 'transformer.layer.5.sa_layer_norm.bias', 'transformer.layer.1.sa_layer_norm.bias', 'transformer.layer.11.sa_layer_norm.weight', 'transformer.layer.11.output_layer_norm.bias', 'transformer.layer.1.attention.v_lin.bias', 'transformer.layer.10.output_layer_norm.bias', 'transformer.layer.3.output_layer_norm.bias', 'transformer.layer.4.attention.out_lin.bias', 'transformer.layer.6.attention.out_lin.weight', 'transformer.layer.7.ffn.lin2.bias', 'transformer.layer.9.attention.q_lin.weight', 'transformer.layer.1.sa_layer_norm.weight', 'transformer.layer.10.attention.out_lin.bias', 'transformer.layer.0.attention.q_lin.bias', 'transformer.layer.11.attention.out_lin.bias', 'transformer.layer.0.attention.out_lin.weight', 'transformer.layer.1.attention.v_lin.weight', 'transformer.layer.7.attention.out_lin.weight', 'transformer.layer.10.ffn.lin1.weight', 'transformer.layer.2.attention.out_lin.bias', 'transformer.layer.9.attention.k_lin.weight', 'transformer.layer.6.sa_layer_norm.weight', 'transformer.layer.2.attention.out_lin.weight', 'transformer.layer.2.ffn.lin2.bias', 'transformer.layer.0.attention.v_lin.bias', 'transformer.layer.7.attention.q_lin.bias', 'transformer.layer.4.output_layer_norm.weight', 'transformer.layer.2.output_layer_norm.bias', 'transformer.layer.10.output_layer_norm.weight', 'transformer.layer.2.attention.v_lin.bias', 'transformer.layer.6.attention.k_lin.bias', 'transformer.layer.0.attention.q_lin.weight', 'transformer.layer.9.output_layer_norm.bias', 'classifier.weight', 'transformer.layer.6.output_layer_norm.bias', 'transformer.layer.2.attention.k_lin.bias', 'transformer.layer.4.attention.q_lin.bias', 'embeddings.word_embeddings.weight', 'transformer.layer.10.ffn.lin2.bias', 'transformer.layer.3.attention.v_lin.bias', 'transformer.layer.0.attention.out_lin.bias', 'transformer.layer.6.attention.k_lin.weight', 'transformer.layer.8.attention.v_lin.bias', 'transformer.layer.9.ffn.lin1.bias', 'transformer.layer.11.attention.q_lin.bias', 'transformer.layer.3.attention.q_lin.bias', 'transformer.layer.5.ffn.lin2.bias', 'transformer.layer.11.attention.k_lin.bias', 'transformer.layer.6.attention.v_lin.bias', 'transformer.layer.8.output_layer_norm.bias', 'pre_classifier.bias', 'transformer.layer.9.attention.v_lin.bias', 'transformer.layer.8.output_layer_norm.weight', 'transformer.layer.8.attention.v_lin.weight', 'transformer.layer.8.ffn.lin2.bias', 'transformer.layer.8.attention.k_lin.weight', 'transformer.layer.9.attention.out_lin.bias', 'transformer.layer.11.attention.v_lin.weight', 'transformer.layer.11.ffn.lin1.bias', 'transformer.layer.7.sa_layer_norm.bias', 'transformer.layer.11.attention.out_lin.weight', 'transformer.layer.4.ffn.lin2.bias', 'transformer.layer.2.sa_layer_norm.weight', 'transformer.layer.5.ffn.lin1.bias', 'transformer.layer.7.attention.v_lin.weight', 'transformer.layer.9.sa_layer_norm.bias', 'transformer.layer.1.attention.q_lin.weight', 'transformer.layer.10.attention.k_lin.weight', 'transformer.layer.2.attention.k_lin.weight', 'transformer.layer.5.sa_layer_norm.weight', 'transformer.layer.5.ffn.lin2.weight', 'transformer.layer.0.output_layer_norm.weight', 'transformer.layer.6.attention.q_lin.weight', 'transformer.layer.6.output_layer_norm.weight', 'transformer.layer.11.attention.v_lin.bias', 'transformer.layer.3.attention.q_lin.weight', 'transformer.layer.11.attention.q_lin.weight', 'transformer.layer.3.ffn.lin1.weight', 'transformer.layer.1.output_layer_norm.weight', 'transformer.layer.5.output_layer_norm.weight', 'transformer.layer.6.ffn.lin1.bias', 'transformer.layer.2.output_layer_norm.weight', 'transformer.layer.6.ffn.lin1.weight', 'classifier.bias', 'transformer.layer.2.attention.q_lin.weight', 'transformer.layer.3.sa_layer_norm.weight', 'transformer.layer.9.attention.out_lin.weight', 'transformer.layer.6.sa_layer_norm.bias', 'transformer.layer.8.attention.out_lin.bias', 'transformer.layer.3.attention.v_lin.weight', 'transformer.layer.0.ffn.lin2.bias', 'transformer.layer.7.sa_layer_norm.weight', 'transformer.layer.11.ffn.lin1.weight', 'embeddings.LayerNorm.weight', 'transformer.layer.4.ffn.lin2.weight', 'transformer.layer.5.attention.out_lin.weight', 'transformer.layer.1.attention.k_lin.weight', 'transformer.layer.9.sa_layer_norm.weight', 'transformer.layer.3.ffn.lin2.bias', 'transformer.layer.7.attention.q_lin.weight', 'transformer.layer.1.ffn.lin2.bias', 'transformer.layer.9.output_layer_norm.weight', 'transformer.layer.10.ffn.lin1.bias', 'transformer.layer.10.attention.v_lin.bias', 'transformer.layer.10.attention.q_lin.bias', 'transformer.layer.0.ffn.lin2.weight', 'transformer.layer.5.attention.q_lin.bias', 'transformer.layer.9.ffn.lin2.bias', 'transformer.layer.7.ffn.lin1.bias', 'transformer.layer.4.attention.k_lin.weight', 'transformer.layer.0.attention.k_lin.bias', 'transformer.layer.5.attention.q_lin.weight', 'transformer.layer.11.output_layer_norm.weight', 'transformer.layer.1.ffn.lin2.weight', 'transformer.layer.7.attention.k_lin.weight', 'transformer.layer.9.ffn.lin2.weight', 'pre_classifier.weight', 'transformer.layer.8.attention.q_lin.weight', 'transformer.layer.0.sa_layer_norm.bias', 'transformer.layer.1.attention.q_lin.bias', 'transformer.layer.11.ffn.lin2.weight', 'transformer.layer.1.attention.out_lin.weight', 'embeddings.LayerNorm.bias', 'transformer.layer.3.attention.k_lin.weight']\n",
      "You should probably TRAIN this model on a down-stream task to be able to use it for predictions and inference.\n"
     ]
    },
    {
     "name": "stdout",
     "output_type": "stream",
     "text": [
      "Fold 1\n"
     ]
    },
    {
     "name": "stderr",
     "output_type": "stream",
     "text": [
      "  0%|          | 0/40 [00:00<?, ?it/s]We strongly recommend passing in an `attention_mask` since your input_ids may be padded. See https://huggingface.co/docs/transformers/troubleshooting#incorrect-output-when-padding-tokens-arent-masked.\n",
      "  8%|▊         | 3/40 [06:54<1:25:07, 138.03s/it]\n"
     ]
    },
    {
     "name": "stdout",
     "output_type": "stream",
     "text": [
      "Early stopping at epoch 4 in fold 1\n",
      "Fold 1 - Best Validation Loss: 2.5364104926586153 at Epoch: 1\n",
      "Fold 2\n"
     ]
    },
    {
     "name": "stderr",
     "output_type": "stream",
     "text": [
      "  8%|▊         | 3/40 [06:53<1:24:54, 137.70s/it]\n"
     ]
    },
    {
     "name": "stdout",
     "output_type": "stream",
     "text": [
      "Early stopping at epoch 4 in fold 2\n",
      "Fold 2 - Best Validation Loss: 2.70484012067318 at Epoch: 1\n",
      "Fold 3\n"
     ]
    },
    {
     "name": "stderr",
     "output_type": "stream",
     "text": [
      "  8%|▊         | 3/40 [06:52<1:24:47, 137.50s/it]\n"
     ]
    },
    {
     "name": "stdout",
     "output_type": "stream",
     "text": [
      "Early stopping at epoch 4 in fold 3\n",
      "Fold 3 - Best Validation Loss: 2.5640236735343933 at Epoch: 1\n",
      "Fold 4\n"
     ]
    },
    {
     "name": "stderr",
     "output_type": "stream",
     "text": [
      "  8%|▊         | 3/40 [06:52<1:24:52, 137.64s/it]\n"
     ]
    },
    {
     "name": "stdout",
     "output_type": "stream",
     "text": [
      "Early stopping at epoch 4 in fold 4\n",
      "Fold 4 - Best Validation Loss: 2.6903500318527223 at Epoch: 1\n",
      "Fold 5\n"
     ]
    },
    {
     "name": "stderr",
     "output_type": "stream",
     "text": [
      "  8%|▊         | 3/40 [06:52<1:24:47, 137.51s/it]\n"
     ]
    },
    {
     "name": "stdout",
     "output_type": "stream",
     "text": [
      "Early stopping at epoch 4 in fold 5\n",
      "Fold 5 - Best Validation Loss: 2.4359578043222427 at Epoch: 1\n",
      "Fold 6\n"
     ]
    },
    {
     "name": "stderr",
     "output_type": "stream",
     "text": [
      "  8%|▊         | 3/40 [06:52<1:24:50, 137.58s/it]\n"
     ]
    },
    {
     "name": "stdout",
     "output_type": "stream",
     "text": [
      "Early stopping at epoch 4 in fold 6\n",
      "Fold 6 - Best Validation Loss: 2.3811273008584974 at Epoch: 1\n",
      "Fold 7\n"
     ]
    },
    {
     "name": "stderr",
     "output_type": "stream",
     "text": [
      "  8%|▊         | 3/40 [06:52<1:24:44, 137.43s/it]\n"
     ]
    },
    {
     "name": "stdout",
     "output_type": "stream",
     "text": [
      "Early stopping at epoch 4 in fold 7\n",
      "Fold 7 - Best Validation Loss: 2.393910300731659 at Epoch: 1\n",
      "Fold 8\n"
     ]
    },
    {
     "name": "stderr",
     "output_type": "stream",
     "text": [
      "  8%|▊         | 3/40 [06:51<1:24:34, 137.15s/it]\n"
     ]
    },
    {
     "name": "stdout",
     "output_type": "stream",
     "text": [
      "Early stopping at epoch 4 in fold 8\n",
      "Fold 8 - Best Validation Loss: 2.4991341322660445 at Epoch: 1\n",
      "Fold 9\n"
     ]
    },
    {
     "name": "stderr",
     "output_type": "stream",
     "text": [
      "  8%|▊         | 3/40 [06:51<1:24:38, 137.26s/it]\n"
     ]
    },
    {
     "name": "stdout",
     "output_type": "stream",
     "text": [
      "Early stopping at epoch 4 in fold 9\n",
      "Fold 9 - Best Validation Loss: 2.6057889848947524 at Epoch: 1\n",
      "Fold 10\n"
     ]
    },
    {
     "name": "stderr",
     "output_type": "stream",
     "text": [
      "  8%|▊         | 3/40 [06:51<1:24:37, 137.23s/it]"
     ]
    },
    {
     "name": "stdout",
     "output_type": "stream",
     "text": [
      "Early stopping at epoch 4 in fold 10\n",
      "Fold 10 - Best Validation Loss: 2.6167310953140257 at Epoch: 1\n"
     ]
    },
    {
     "name": "stderr",
     "output_type": "stream",
     "text": [
      "\n"
     ]
    },
    {
     "name": "stdout",
     "output_type": "stream",
     "text": [
      "Results from the best model\n",
      "Fold with best validation RSE: 6\n",
      "Best validation RSE: 2.38\n"
     ]
    },
    {
     "data": {
      "image/png": "[encoded data removed]",
      "text/plain": [
       "<Figure size 864x576 with 1 Axes>"
      ]
     },
     "metadata": {
      "needs_background": "light"
     },
     "output_type": "display_data"
    },
    {
     "name": "stdout",
     "output_type": "stream",
     "text": [
      "--------------DONE TRAINING MODEL FOR RevenueFromContractWithCustomerExcludingAssessedTax--------------\n",
      "\n",
      "\n"
     ]
    }
   ],
   "source": [
    "# Define variables\n",
    "batch_size = 32\n",
    "epochs=40\n",
    "initial_lr=0.0001\n",
    "eps=1e-8\n",
    "patience=5\n",
    "cv=10\n",
    "# Name metric\n",
    "file = files[3]\n",
    "metric_name = file.split('.')[0].split('_')[0]\n",
    "\n",
    "print(f\"--------------START TRAINING MODEL FOR {metric_name}--------------\")\n",
    "\n",
    "# Read csv file\n",
    "df = pd.read_csv(path + file)\n",
    "\n",
    "# Load model and tokenizer\n",
    "model, tokenizer = finbert_regressor()\n",
    "model.to(device)\n",
    "\n",
    "# Prepare dataset\n",
    "dataset = prepare_labeled_datasets(tokenizer, model, 300, df['text'].values.tolist(), df['target'].values.tolist()) \n",
    "\n",
    "# Train model\n",
    "best_model_overall, best_val_loss_overall, best_fold_overall, all_train_losses, all_val_losses, training_stats  = train_finbert_regressor(model, tokenizer, dataset, \n",
    "                                                                                           epochs=epochs, initial_lr=initial_lr, \n",
    "                                                                                           eps=eps, cv=cv) \n",
    "\n",
    "# Save models\n",
    "#If folder not available, create folder\n",
    "if not os.path.exists('../models/finbert-regression/distilbert_data/' + metric_name):\n",
    "   os.makedirs('../models/finbert-regression/distilbert_data/' + metric_name)\n",
    "# Save model to folder\n",
    "best_model_overall.save_pretrained('../models/finbert-regression/distilbert_data/' + metric_name) \n",
    "\n",
    "# Present results from the best model\n",
    "print(\"Results from the best model\")\n",
    "print(f\"Fold with best validation RSE: {best_fold_overall}\")\n",
    "print(\"Best validation RSE: {0:.2f}\".format(best_val_loss_overall)) \n",
    "\n",
    "plot_learning_curve(training_stats,best_fold_overall)\n",
    "print(f\"--------------DONE TRAINING MODEL FOR {metric_name}--------------\")\n",
    "print(\"\\n\")"
   ]
  },
  {
   "cell_type": "markdown",
   "metadata": {},
   "source": [
    "#### NetIncomeLoss - DistilBERT"
   ]
  },
  {
   "cell_type": "code",
   "execution_count": 15,
   "metadata": {},
   "outputs": [
    {
     "name": "stdout",
     "output_type": "stream",
     "text": [
      "--------------START TRAINING MODEL FOR NetIncomeLoss--------------\n"
     ]
    },
    {
     "name": "stderr",
     "output_type": "stream",
     "text": [
      "Some weights of RegressionModel were not initialized from the model checkpoint at yiyanghkust/finbert-pretrain and are newly initialized: ['transformer.layer.11.ffn.lin2.weight', 'transformer.layer.8.attention.out_lin.weight', 'transformer.layer.1.ffn.lin2.bias', 'transformer.layer.11.ffn.lin2.bias', 'transformer.layer.1.sa_layer_norm.bias', 'transformer.layer.0.attention.v_lin.bias', 'transformer.layer.4.sa_layer_norm.bias', 'transformer.layer.4.output_layer_norm.bias', 'transformer.layer.2.ffn.lin2.weight', 'transformer.layer.4.ffn.lin1.weight', 'transformer.layer.0.attention.out_lin.bias', 'transformer.layer.8.ffn.lin2.weight', 'transformer.layer.6.sa_layer_norm.bias', 'transformer.layer.0.attention.k_lin.bias', 'transformer.layer.4.attention.k_lin.bias', 'transformer.layer.4.ffn.lin2.bias', 'transformer.layer.6.output_layer_norm.bias', 'transformer.layer.1.ffn.lin1.bias', 'transformer.layer.9.attention.k_lin.bias', 'embeddings.position_embeddings.weight', 'transformer.layer.9.attention.k_lin.weight', 'transformer.layer.1.ffn.lin2.weight', 'transformer.layer.2.ffn.lin1.bias', 'transformer.layer.3.sa_layer_norm.weight', 'transformer.layer.2.attention.v_lin.bias', 'transformer.layer.10.attention.out_lin.bias', 'transformer.layer.1.output_layer_norm.bias', 'transformer.layer.11.attention.k_lin.bias', 'transformer.layer.3.ffn.lin1.weight', 'transformer.layer.0.attention.k_lin.weight', 'transformer.layer.7.attention.v_lin.bias', 'transformer.layer.6.attention.q_lin.weight', 'transformer.layer.8.ffn.lin1.bias', 'transformer.layer.5.attention.k_lin.bias', 'transformer.layer.3.ffn.lin2.bias', 'transformer.layer.9.ffn.lin1.bias', 'transformer.layer.2.attention.k_lin.weight', 'transformer.layer.9.sa_layer_norm.bias', 'transformer.layer.0.sa_layer_norm.weight', 'transformer.layer.1.attention.v_lin.bias', 'transformer.layer.2.output_layer_norm.weight', 'transformer.layer.11.attention.v_lin.weight', 'transformer.layer.2.sa_layer_norm.weight', 'transformer.layer.7.ffn.lin2.bias', 'transformer.layer.9.attention.v_lin.bias', 'transformer.layer.10.ffn.lin2.bias', 'transformer.layer.4.sa_layer_norm.weight', 'transformer.layer.4.output_layer_norm.weight', 'transformer.layer.2.attention.out_lin.weight', 'transformer.layer.7.sa_layer_norm.bias', 'transformer.layer.9.attention.q_lin.weight', 'transformer.layer.11.attention.k_lin.weight', 'transformer.layer.7.output_layer_norm.bias', 'transformer.layer.8.ffn.lin1.weight', 'transformer.layer.11.output_layer_norm.bias', 'transformer.layer.9.attention.out_lin.bias', 'transformer.layer.11.attention.q_lin.bias', 'embeddings.LayerNorm.weight', 'transformer.layer.0.attention.q_lin.weight', 'transformer.layer.10.sa_layer_norm.weight', 'transformer.layer.1.attention.out_lin.bias', 'transformer.layer.6.attention.k_lin.bias', 'transformer.layer.10.output_layer_norm.bias', 'transformer.layer.8.attention.v_lin.weight', 'transformer.layer.5.attention.out_lin.bias', 'transformer.layer.0.sa_layer_norm.bias', 'transformer.layer.3.sa_layer_norm.bias', 'transformer.layer.4.attention.out_lin.weight', 'transformer.layer.8.attention.out_lin.bias', 'transformer.layer.3.attention.out_lin.bias', 'transformer.layer.3.attention.out_lin.weight', 'transformer.layer.3.output_layer_norm.weight', 'transformer.layer.6.attention.q_lin.bias', 'transformer.layer.0.output_layer_norm.bias', 'transformer.layer.9.output_layer_norm.bias', 'transformer.layer.5.attention.q_lin.weight', 'transformer.layer.3.output_layer_norm.bias', 'transformer.layer.1.attention.q_lin.bias', 'transformer.layer.5.attention.v_lin.bias', 'transformer.layer.5.sa_layer_norm.weight', 'transformer.layer.9.output_layer_norm.weight', 'transformer.layer.10.output_layer_norm.weight', 'transformer.layer.10.attention.q_lin.weight', 'transformer.layer.1.attention.k_lin.weight', 'transformer.layer.4.attention.q_lin.weight', 'transformer.layer.7.attention.out_lin.bias', 'transformer.layer.10.attention.v_lin.bias', 'transformer.layer.9.sa_layer_norm.weight', 'transformer.layer.8.sa_layer_norm.weight', 'transformer.layer.0.ffn.lin1.weight', 'transformer.layer.9.ffn.lin1.weight', 'transformer.layer.4.attention.q_lin.bias', 'transformer.layer.4.attention.k_lin.weight', 'transformer.layer.9.attention.out_lin.weight', 'transformer.layer.2.sa_layer_norm.bias', 'transformer.layer.11.sa_layer_norm.bias', 'transformer.layer.1.output_layer_norm.weight', 'transformer.layer.5.ffn.lin1.weight', 'transformer.layer.8.attention.q_lin.weight', 'transformer.layer.4.attention.v_lin.bias', 'classifier.bias', 'transformer.layer.1.attention.k_lin.bias', 'transformer.layer.3.ffn.lin1.bias', 'transformer.layer.5.ffn.lin2.weight', 'transformer.layer.4.attention.out_lin.bias', 'transformer.layer.2.attention.q_lin.weight', 'transformer.layer.9.attention.v_lin.weight', 'transformer.layer.6.output_layer_norm.weight', 'transformer.layer.7.attention.q_lin.bias', 'transformer.layer.7.output_layer_norm.weight', 'transformer.layer.7.attention.k_lin.weight', 'transformer.layer.3.attention.q_lin.bias', 'transformer.layer.11.attention.q_lin.weight', 'transformer.layer.11.attention.v_lin.bias', 'transformer.layer.11.attention.out_lin.weight', 'transformer.layer.7.sa_layer_norm.weight', 'transformer.layer.3.attention.v_lin.weight', 'transformer.layer.10.attention.q_lin.bias', 'transformer.layer.11.output_layer_norm.weight', 'transformer.layer.8.attention.q_lin.bias', 'transformer.layer.11.ffn.lin1.weight', 'transformer.layer.1.attention.out_lin.weight', 'transformer.layer.0.attention.q_lin.bias', 'transformer.layer.4.ffn.lin2.weight', 'transformer.layer.9.attention.q_lin.bias', 'transformer.layer.10.attention.k_lin.bias', 'transformer.layer.10.sa_layer_norm.bias', 'transformer.layer.2.attention.q_lin.bias', 'transformer.layer.5.output_layer_norm.weight', 'transformer.layer.5.attention.k_lin.weight', 'transformer.layer.6.ffn.lin1.bias', 'transformer.layer.9.ffn.lin2.weight', 'transformer.layer.8.attention.k_lin.weight', 'transformer.layer.0.ffn.lin2.bias', 'transformer.layer.6.attention.v_lin.bias', 'transformer.layer.10.attention.out_lin.weight', 'transformer.layer.5.output_layer_norm.bias', 'transformer.layer.6.attention.v_lin.weight', 'transformer.layer.0.ffn.lin1.bias', 'transformer.layer.3.attention.v_lin.bias', 'transformer.layer.7.ffn.lin2.weight', 'transformer.layer.7.ffn.lin1.weight', 'transformer.layer.8.attention.v_lin.bias', 'transformer.layer.6.attention.out_lin.weight', 'transformer.layer.6.ffn.lin1.weight', 'transformer.layer.7.attention.k_lin.bias', 'pre_classifier.bias', 'transformer.layer.2.ffn.lin1.weight', 'transformer.layer.2.output_layer_norm.bias', 'transformer.layer.1.sa_layer_norm.weight', 'transformer.layer.7.attention.q_lin.weight', 'classifier.weight', 'transformer.layer.5.ffn.lin1.bias', 'transformer.layer.6.attention.out_lin.bias', 'transformer.layer.11.sa_layer_norm.weight', 'transformer.layer.7.ffn.lin1.bias', 'transformer.layer.8.output_layer_norm.bias', 'transformer.layer.1.attention.v_lin.weight', 'transformer.layer.1.ffn.lin1.weight', 'transformer.layer.9.ffn.lin2.bias', 'transformer.layer.2.attention.v_lin.weight', 'transformer.layer.10.ffn.lin2.weight', 'transformer.layer.0.output_layer_norm.weight', 'transformer.layer.11.ffn.lin1.bias', 'transformer.layer.3.attention.q_lin.weight', 'transformer.layer.3.attention.k_lin.weight', 'transformer.layer.11.attention.out_lin.bias', 'transformer.layer.6.ffn.lin2.bias', 'transformer.layer.10.attention.v_lin.weight', 'transformer.layer.6.sa_layer_norm.weight', 'transformer.layer.3.ffn.lin2.weight', 'transformer.layer.7.attention.v_lin.weight', 'transformer.layer.8.ffn.lin2.bias', 'embeddings.LayerNorm.bias', 'transformer.layer.10.ffn.lin1.weight', 'embeddings.word_embeddings.weight', 'transformer.layer.2.attention.out_lin.bias', 'transformer.layer.10.ffn.lin1.bias', 'transformer.layer.0.attention.v_lin.weight', 'transformer.layer.5.attention.v_lin.weight', 'transformer.layer.8.output_layer_norm.weight', 'transformer.layer.2.ffn.lin2.bias', 'transformer.layer.5.sa_layer_norm.bias', 'transformer.layer.4.ffn.lin1.bias', 'transformer.layer.7.attention.out_lin.weight', 'transformer.layer.2.attention.k_lin.bias', 'transformer.layer.5.attention.q_lin.bias', 'transformer.layer.5.ffn.lin2.bias', 'transformer.layer.10.attention.k_lin.weight', 'transformer.layer.8.sa_layer_norm.bias', 'transformer.layer.0.ffn.lin2.weight', 'transformer.layer.5.attention.out_lin.weight', 'transformer.layer.6.attention.k_lin.weight', 'pre_classifier.weight', 'transformer.layer.4.attention.v_lin.weight', 'transformer.layer.3.attention.k_lin.bias', 'transformer.layer.1.attention.q_lin.weight', 'transformer.layer.8.attention.k_lin.bias', 'transformer.layer.0.attention.out_lin.weight', 'transformer.layer.6.ffn.lin2.weight']\n",
      "You should probably TRAIN this model on a down-stream task to be able to use it for predictions and inference.\n"
     ]
    },
    {
     "name": "stdout",
     "output_type": "stream",
     "text": [
      "Fold 1\n"
     ]
    },
    {
     "name": "stderr",
     "output_type": "stream",
     "text": [
      " 75%|███████▌  | 30/40 [1:17:17<25:45, 154.58s/it]\n"
     ]
    },
    {
     "name": "stdout",
     "output_type": "stream",
     "text": [
      "Early stopping at epoch 31 in fold 1\n",
      "Fold 1 - Best Validation Loss: 2.0431942249599255 at Epoch: 28\n",
      "Fold 2\n"
     ]
    },
    {
     "name": "stderr",
     "output_type": "stream",
     "text": [
      " 20%|██        | 8/40 [22:48<1:31:15, 171.11s/it]\n"
     ]
    },
    {
     "name": "stdout",
     "output_type": "stream",
     "text": [
      "Early stopping at epoch 9 in fold 2\n",
      "Fold 2 - Best Validation Loss: 2.0379712665290164 at Epoch: 6\n",
      "Fold 3\n"
     ]
    },
    {
     "name": "stderr",
     "output_type": "stream",
     "text": [
      "  8%|▊         | 3/40 [10:14<2:06:20, 204.89s/it]\n"
     ]
    },
    {
     "name": "stdout",
     "output_type": "stream",
     "text": [
      "Early stopping at epoch 4 in fold 3\n",
      "Fold 3 - Best Validation Loss: 2.0868071129447534 at Epoch: 1\n",
      "Fold 4\n"
     ]
    },
    {
     "name": "stderr",
     "output_type": "stream",
     "text": [
      "  8%|▊         | 3/40 [10:16<2:06:38, 205.37s/it]\n"
     ]
    },
    {
     "name": "stdout",
     "output_type": "stream",
     "text": [
      "Early stopping at epoch 4 in fold 4\n",
      "Fold 4 - Best Validation Loss: 1.9950432819232606 at Epoch: 1\n",
      "Fold 5\n"
     ]
    },
    {
     "name": "stderr",
     "output_type": "stream",
     "text": [
      " 15%|█▌        | 6/40 [17:58<1:41:50, 179.72s/it]\n"
     ]
    },
    {
     "name": "stdout",
     "output_type": "stream",
     "text": [
      "Early stopping at epoch 7 in fold 5\n",
      "Fold 5 - Best Validation Loss: 2.012339606619718 at Epoch: 4\n",
      "Fold 6\n"
     ]
    },
    {
     "name": "stderr",
     "output_type": "stream",
     "text": [
      "  8%|▊         | 3/40 [10:15<2:06:26, 205.04s/it]\n"
     ]
    },
    {
     "name": "stdout",
     "output_type": "stream",
     "text": [
      "Early stopping at epoch 4 in fold 6\n",
      "Fold 6 - Best Validation Loss: 2.0257806464245447 at Epoch: 1\n",
      "Fold 7\n"
     ]
    },
    {
     "name": "stderr",
     "output_type": "stream",
     "text": [
      "  8%|▊         | 3/40 [10:16<2:06:38, 205.36s/it]\n"
     ]
    },
    {
     "name": "stdout",
     "output_type": "stream",
     "text": [
      "Early stopping at epoch 4 in fold 7\n",
      "Fold 7 - Best Validation Loss: 2.00247273528785 at Epoch: 1\n",
      "Fold 8\n"
     ]
    },
    {
     "name": "stderr",
     "output_type": "stream",
     "text": [
      "  8%|▊         | 3/40 [10:14<2:06:24, 204.98s/it]\n"
     ]
    },
    {
     "name": "stdout",
     "output_type": "stream",
     "text": [
      "Early stopping at epoch 4 in fold 8\n",
      "Fold 8 - Best Validation Loss: 1.97663288367422 at Epoch: 1\n",
      "Fold 9\n"
     ]
    },
    {
     "name": "stderr",
     "output_type": "stream",
     "text": [
      " 12%|█▎        | 5/40 [15:24<1:47:50, 184.87s/it]\n"
     ]
    },
    {
     "name": "stdout",
     "output_type": "stream",
     "text": [
      "Early stopping at epoch 6 in fold 9\n",
      "Fold 9 - Best Validation Loss: 2.070492225780822 at Epoch: 3\n",
      "Fold 10\n"
     ]
    },
    {
     "name": "stderr",
     "output_type": "stream",
     "text": [
      "  8%|▊         | 3/40 [10:18<2:07:02, 206.02s/it]"
     ]
    },
    {
     "name": "stdout",
     "output_type": "stream",
     "text": [
      "Early stopping at epoch 4 in fold 10\n",
      "Fold 10 - Best Validation Loss: 2.1824552385430587 at Epoch: 1\n",
      "Results from the best model\n",
      "Fold with best validation RSE: 8\n",
      "Best validation RSE: 1.98\n"
     ]
    },
    {
     "name": "stderr",
     "output_type": "stream",
     "text": [
      "\n"
     ]
    },
    {
     "data": {
      "image/png": "[encoded data removed]",
      "text/plain": [
       "<Figure size 864x576 with 1 Axes>"
      ]
     },
     "metadata": {
      "needs_background": "light"
     },
     "output_type": "display_data"
    },
    {
     "name": "stdout",
     "output_type": "stream",
     "text": [
      "--------------DONE TRAINING MODEL FOR NetIncomeLoss--------------\n",
      "\n",
      "\n"
     ]
    }
   ],
   "source": [
    "# Define variables\n",
    "batch_size = 32\n",
    "epochs=40\n",
    "initial_lr=0.001\n",
    "eps=1e-8\n",
    "patience=5\n",
    "cv=10\n",
    "# Name metric\n",
    "file = files[4]\n",
    "metric_name = file.split('.')[0].split('_')[0]\n",
    "\n",
    "print(f\"--------------START TRAINING MODEL FOR {metric_name}--------------\")\n",
    "\n",
    "# Read csv file\n",
    "df = pd.read_csv(path + file)\n",
    "\n",
    "# Load model and tokenizer\n",
    "model, tokenizer = finbert_regressor()\n",
    "model.to(device)\n",
    "\n",
    "# Prepare dataset\n",
    "dataset = prepare_labeled_datasets(tokenizer, model, 300, df['text'].values.tolist(), df['target'].values.tolist()) \n",
    "\n",
    "# Train model\n",
    "best_model_overall, best_val_loss_overall, best_fold_overall, all_train_losses, all_val_losses, training_stats  = train_finbert_regressor(model, tokenizer, dataset, \n",
    "                                                                                           epochs=epochs, initial_lr=initial_lr, \n",
    "                                                                                           eps=eps, cv=cv)  \n",
    "\n",
    "# Save models\n",
    "#If folder not available, create folder\n",
    "if not os.path.exists('../models/finbert-regression/distilbert_data/' + metric_name):\n",
    "   os.makedirs('../models/finbert-regression/distilbert_data/' + metric_name)\n",
    "# Save model to folder\n",
    "best_model_overall.save_pretrained('../models/finbert-regression/distilbert_data/' + metric_name) \n",
    "\n",
    "# Present results from the best model\n",
    "print(\"Results from the best model\")\n",
    "print(f\"Fold with best validation RSE: {best_fold_overall}\")\n",
    "print(\"Best validation RSE: {0:.2f}\".format(best_val_loss_overall)) \n",
    "\n",
    "plot_learning_curve(training_stats,best_fold_overall)\n",
    "print(f\"--------------DONE TRAINING MODEL FOR {metric_name}--------------\")\n",
    "print(\"\\n\")"
   ]
  },
  {
   "cell_type": "markdown",
   "metadata": {},
   "source": [
    "#### EPS - DistilBERT"
   ]
  },
  {
   "cell_type": "code",
   "execution_count": 11,
   "metadata": {},
   "outputs": [
    {
     "name": "stdout",
     "output_type": "stream",
     "text": [
      "--------------START TRAINING MODEL FOR EarningsPerShareDiluted--------------\n"
     ]
    },
    {
     "name": "stderr",
     "output_type": "stream",
     "text": [
      "Some weights of RegressionModel were not initialized from the model checkpoint at yiyanghkust/finbert-pretrain and are newly initialized: ['transformer.layer.5.sa_layer_norm.weight', 'transformer.layer.2.ffn.lin1.weight', 'transformer.layer.2.attention.k_lin.weight', 'transformer.layer.2.attention.out_lin.weight', 'transformer.layer.3.ffn.lin2.weight', 'transformer.layer.4.ffn.lin1.bias', 'transformer.layer.6.sa_layer_norm.weight', 'transformer.layer.10.sa_layer_norm.weight', 'transformer.layer.11.output_layer_norm.bias', 'transformer.layer.7.attention.k_lin.weight', 'transformer.layer.7.ffn.lin2.bias', 'embeddings.LayerNorm.weight', 'transformer.layer.11.attention.k_lin.bias', 'transformer.layer.2.sa_layer_norm.weight', 'transformer.layer.7.attention.q_lin.bias', 'transformer.layer.2.output_layer_norm.bias', 'transformer.layer.2.attention.q_lin.weight', 'transformer.layer.0.ffn.lin1.weight', 'transformer.layer.0.attention.k_lin.weight', 'transformer.layer.5.ffn.lin1.weight', 'transformer.layer.5.attention.out_lin.weight', 'transformer.layer.11.ffn.lin1.bias', 'transformer.layer.1.output_layer_norm.bias', 'transformer.layer.2.attention.v_lin.bias', 'transformer.layer.5.attention.k_lin.weight', 'transformer.layer.10.attention.v_lin.weight', 'transformer.layer.1.attention.v_lin.bias', 'transformer.layer.6.attention.v_lin.bias', 'transformer.layer.10.attention.out_lin.bias', 'transformer.layer.9.attention.q_lin.weight', 'embeddings.position_embeddings.weight', 'transformer.layer.0.ffn.lin2.bias', 'transformer.layer.3.attention.out_lin.bias', 'transformer.layer.4.attention.k_lin.weight', 'transformer.layer.5.attention.v_lin.bias', 'transformer.layer.11.attention.v_lin.weight', 'transformer.layer.1.ffn.lin1.weight', 'transformer.layer.6.attention.v_lin.weight', 'transformer.layer.8.output_layer_norm.weight', 'transformer.layer.5.output_layer_norm.bias', 'transformer.layer.0.attention.out_lin.bias', 'transformer.layer.10.attention.v_lin.bias', 'transformer.layer.2.attention.out_lin.bias', 'classifier.bias', 'transformer.layer.7.sa_layer_norm.weight', 'transformer.layer.9.ffn.lin1.weight', 'transformer.layer.9.ffn.lin1.bias', 'transformer.layer.9.ffn.lin2.weight', 'transformer.layer.2.ffn.lin1.bias', 'transformer.layer.8.attention.q_lin.bias', 'transformer.layer.10.attention.k_lin.bias', 'transformer.layer.6.sa_layer_norm.bias', 'transformer.layer.8.attention.v_lin.bias', 'transformer.layer.1.sa_layer_norm.weight', 'transformer.layer.4.output_layer_norm.weight', 'transformer.layer.3.attention.q_lin.weight', 'transformer.layer.2.attention.q_lin.bias', 'transformer.layer.9.attention.v_lin.weight', 'transformer.layer.9.attention.k_lin.bias', 'embeddings.LayerNorm.bias', 'transformer.layer.1.ffn.lin2.weight', 'transformer.layer.8.attention.k_lin.bias', 'transformer.layer.3.attention.v_lin.weight', 'transformer.layer.3.ffn.lin2.bias', 'transformer.layer.6.output_layer_norm.weight', 'transformer.layer.5.attention.q_lin.weight', 'transformer.layer.9.attention.v_lin.bias', 'transformer.layer.9.attention.out_lin.bias', 'transformer.layer.8.ffn.lin1.weight', 'transformer.layer.4.attention.v_lin.weight', 'transformer.layer.8.ffn.lin1.bias', 'transformer.layer.6.attention.q_lin.bias', 'transformer.layer.10.ffn.lin2.bias', 'transformer.layer.4.ffn.lin2.weight', 'transformer.layer.9.output_layer_norm.bias', 'transformer.layer.8.ffn.lin2.bias', 'transformer.layer.0.attention.k_lin.bias', 'transformer.layer.0.sa_layer_norm.bias', 'transformer.layer.5.attention.v_lin.weight', 'transformer.layer.2.output_layer_norm.weight', 'transformer.layer.8.attention.k_lin.weight', 'transformer.layer.6.ffn.lin1.weight', 'transformer.layer.6.ffn.lin2.bias', 'transformer.layer.11.attention.k_lin.weight', 'transformer.layer.2.sa_layer_norm.bias', 'transformer.layer.11.attention.q_lin.weight', 'transformer.layer.2.attention.k_lin.bias', 'transformer.layer.1.attention.q_lin.bias', 'transformer.layer.4.attention.out_lin.weight', 'transformer.layer.4.ffn.lin2.bias', 'transformer.layer.5.sa_layer_norm.bias', 'transformer.layer.6.ffn.lin2.weight', 'transformer.layer.11.sa_layer_norm.weight', 'transformer.layer.5.ffn.lin2.weight', 'transformer.layer.8.ffn.lin2.weight', 'pre_classifier.bias', 'transformer.layer.11.ffn.lin2.weight', 'transformer.layer.0.ffn.lin1.bias', 'transformer.layer.3.sa_layer_norm.bias', 'transformer.layer.3.attention.v_lin.bias', 'transformer.layer.7.attention.out_lin.bias', 'transformer.layer.10.sa_layer_norm.bias', 'transformer.layer.11.attention.out_lin.bias', 'transformer.layer.5.ffn.lin1.bias', 'transformer.layer.8.attention.q_lin.weight', 'transformer.layer.1.attention.v_lin.weight', 'transformer.layer.9.attention.out_lin.weight', 'transformer.layer.1.ffn.lin2.bias', 'transformer.layer.4.attention.out_lin.bias', 'transformer.layer.11.sa_layer_norm.bias', 'transformer.layer.4.output_layer_norm.bias', 'embeddings.word_embeddings.weight', 'transformer.layer.10.ffn.lin2.weight', 'transformer.layer.10.output_layer_norm.weight', 'transformer.layer.8.attention.v_lin.weight', 'transformer.layer.7.ffn.lin1.weight', 'transformer.layer.3.sa_layer_norm.weight', 'transformer.layer.2.ffn.lin2.weight', 'transformer.layer.5.ffn.lin2.bias', 'transformer.layer.7.output_layer_norm.weight', 'transformer.layer.4.ffn.lin1.weight', 'transformer.layer.8.sa_layer_norm.weight', 'transformer.layer.1.attention.k_lin.weight', 'transformer.layer.7.output_layer_norm.bias', 'transformer.layer.3.ffn.lin1.bias', 'transformer.layer.7.attention.out_lin.weight', 'transformer.layer.0.attention.out_lin.weight', 'transformer.layer.0.attention.v_lin.bias', 'transformer.layer.0.attention.q_lin.bias', 'transformer.layer.7.attention.v_lin.weight', 'classifier.weight', 'transformer.layer.1.sa_layer_norm.bias', 'transformer.layer.5.attention.out_lin.bias', 'transformer.layer.6.attention.q_lin.weight', 'transformer.layer.9.attention.q_lin.bias', 'transformer.layer.4.attention.k_lin.bias', 'transformer.layer.10.attention.q_lin.weight', 'transformer.layer.1.attention.out_lin.weight', 'transformer.layer.4.sa_layer_norm.weight', 'transformer.layer.6.attention.out_lin.bias', 'transformer.layer.7.attention.v_lin.bias', 'transformer.layer.6.output_layer_norm.bias', 'transformer.layer.1.attention.q_lin.weight', 'transformer.layer.9.ffn.lin2.bias', 'transformer.layer.0.output_layer_norm.weight', 'transformer.layer.5.attention.k_lin.bias', 'transformer.layer.4.attention.q_lin.weight', 'transformer.layer.6.ffn.lin1.bias', 'transformer.layer.7.attention.k_lin.bias', 'transformer.layer.1.ffn.lin1.bias', 'transformer.layer.1.attention.k_lin.bias', 'transformer.layer.11.ffn.lin1.weight', 'transformer.layer.8.sa_layer_norm.bias', 'transformer.layer.4.attention.v_lin.bias', 'transformer.layer.9.attention.k_lin.weight', 'transformer.layer.9.output_layer_norm.weight', 'transformer.layer.0.attention.q_lin.weight', 'transformer.layer.10.attention.out_lin.weight', 'transformer.layer.6.attention.k_lin.bias', 'transformer.layer.11.attention.v_lin.bias', 'transformer.layer.10.ffn.lin1.weight', 'transformer.layer.3.attention.out_lin.weight', 'transformer.layer.0.ffn.lin2.weight', 'transformer.layer.8.attention.out_lin.bias', 'transformer.layer.10.attention.q_lin.bias', 'transformer.layer.6.attention.k_lin.weight', 'transformer.layer.6.attention.out_lin.weight', 'transformer.layer.7.sa_layer_norm.bias', 'transformer.layer.11.attention.q_lin.bias', 'pre_classifier.weight', 'transformer.layer.0.attention.v_lin.weight', 'transformer.layer.5.attention.q_lin.bias', 'transformer.layer.0.sa_layer_norm.weight', 'transformer.layer.8.output_layer_norm.bias', 'transformer.layer.3.output_layer_norm.bias', 'transformer.layer.7.ffn.lin1.bias', 'transformer.layer.3.attention.k_lin.weight', 'transformer.layer.2.ffn.lin2.bias', 'transformer.layer.4.attention.q_lin.bias', 'transformer.layer.7.ffn.lin2.weight', 'transformer.layer.9.sa_layer_norm.weight', 'transformer.layer.2.attention.v_lin.weight', 'transformer.layer.10.ffn.lin1.bias', 'transformer.layer.11.attention.out_lin.weight', 'transformer.layer.5.output_layer_norm.weight', 'transformer.layer.4.sa_layer_norm.bias', 'transformer.layer.3.output_layer_norm.weight', 'transformer.layer.1.attention.out_lin.bias', 'transformer.layer.8.attention.out_lin.weight', 'transformer.layer.1.output_layer_norm.weight', 'transformer.layer.3.ffn.lin1.weight', 'transformer.layer.10.attention.k_lin.weight', 'transformer.layer.0.output_layer_norm.bias', 'transformer.layer.3.attention.q_lin.bias', 'transformer.layer.10.output_layer_norm.bias', 'transformer.layer.11.ffn.lin2.bias', 'transformer.layer.11.output_layer_norm.weight', 'transformer.layer.3.attention.k_lin.bias', 'transformer.layer.9.sa_layer_norm.bias', 'transformer.layer.7.attention.q_lin.weight']\n",
      "You should probably TRAIN this model on a down-stream task to be able to use it for predictions and inference.\n"
     ]
    },
    {
     "name": "stdout",
     "output_type": "stream",
     "text": [
      "Fold 1\n"
     ]
    },
    {
     "name": "stderr",
     "output_type": "stream",
     "text": [
      "  0%|          | 0/40 [00:00<?, ?it/s]We strongly recommend passing in an `attention_mask` since your input_ids may be padded. See https://huggingface.co/docs/transformers/troubleshooting#incorrect-output-when-padding-tokens-arent-masked.\n",
      " 12%|█▎        | 5/40 [00:35<04:05,  7.03s/it]\n"
     ]
    },
    {
     "name": "stdout",
     "output_type": "stream",
     "text": [
      "Early stopping at epoch 6 in fold 1\n",
      "Fold 1 - Best Validation Loss: 1.217782696088155 at Epoch: 3\n",
      "Fold 2\n"
     ]
    },
    {
     "name": "stderr",
     "output_type": "stream",
     "text": [
      " 12%|█▎        | 5/40 [00:34<04:03,  6.97s/it]\n"
     ]
    },
    {
     "name": "stdout",
     "output_type": "stream",
     "text": [
      "Early stopping at epoch 6 in fold 2\n",
      "Fold 2 - Best Validation Loss: 1.0327089230219524 at Epoch: 3\n",
      "Fold 3\n"
     ]
    },
    {
     "name": "stderr",
     "output_type": "stream",
     "text": [
      " 10%|█         | 4/40 [00:29<04:24,  7.34s/it]\n"
     ]
    },
    {
     "name": "stdout",
     "output_type": "stream",
     "text": [
      "Early stopping at epoch 5 in fold 3\n",
      "Fold 3 - Best Validation Loss: 1.7801703612009685 at Epoch: 2\n",
      "Fold 4\n"
     ]
    },
    {
     "name": "stderr",
     "output_type": "stream",
     "text": [
      " 10%|█         | 4/40 [00:29<04:23,  7.33s/it]\n"
     ]
    },
    {
     "name": "stdout",
     "output_type": "stream",
     "text": [
      "Early stopping at epoch 5 in fold 4\n",
      "Fold 4 - Best Validation Loss: 1.2930190960566204 at Epoch: 2\n",
      "Fold 5\n"
     ]
    },
    {
     "name": "stderr",
     "output_type": "stream",
     "text": [
      " 12%|█▎        | 5/40 [00:35<04:05,  7.01s/it]\n"
     ]
    },
    {
     "name": "stdout",
     "output_type": "stream",
     "text": [
      "Early stopping at epoch 6 in fold 5\n",
      "Fold 5 - Best Validation Loss: 1.1475634177525837 at Epoch: 3\n",
      "Fold 6\n"
     ]
    },
    {
     "name": "stderr",
     "output_type": "stream",
     "text": [
      " 15%|█▌        | 6/40 [00:41<03:53,  6.86s/it]\n"
     ]
    },
    {
     "name": "stdout",
     "output_type": "stream",
     "text": [
      "Early stopping at epoch 7 in fold 6\n",
      "Fold 6 - Best Validation Loss: 1.137869914372762 at Epoch: 4\n",
      "Fold 7\n"
     ]
    },
    {
     "name": "stderr",
     "output_type": "stream",
     "text": [
      " 20%|██        | 8/40 [00:52<03:31,  6.60s/it]\n"
     ]
    },
    {
     "name": "stdout",
     "output_type": "stream",
     "text": [
      "Early stopping at epoch 9 in fold 7\n",
      "Fold 7 - Best Validation Loss: 1.4556564092636108 at Epoch: 6\n",
      "Fold 8\n"
     ]
    },
    {
     "name": "stderr",
     "output_type": "stream",
     "text": [
      "  8%|▊         | 3/40 [00:23<04:50,  7.86s/it]\n"
     ]
    },
    {
     "name": "stdout",
     "output_type": "stream",
     "text": [
      "Early stopping at epoch 4 in fold 8\n",
      "Fold 8 - Best Validation Loss: 1.186899741490682 at Epoch: 1\n",
      "Fold 9\n"
     ]
    },
    {
     "name": "stderr",
     "output_type": "stream",
     "text": [
      " 12%|█▎        | 5/40 [00:35<04:06,  7.04s/it]\n"
     ]
    },
    {
     "name": "stdout",
     "output_type": "stream",
     "text": [
      "Early stopping at epoch 6 in fold 9\n",
      "Fold 9 - Best Validation Loss: 1.558605392773946 at Epoch: 3\n",
      "Fold 10\n"
     ]
    },
    {
     "name": "stderr",
     "output_type": "stream",
     "text": [
      "  8%|▊         | 3/40 [00:23<04:46,  7.76s/it]"
     ]
    },
    {
     "name": "stdout",
     "output_type": "stream",
     "text": [
      "Early stopping at epoch 4 in fold 10\n",
      "Fold 10 - Best Validation Loss: 1.26923934618632 at Epoch: 1\n"
     ]
    },
    {
     "name": "stderr",
     "output_type": "stream",
     "text": [
      "\n"
     ]
    },
    {
     "name": "stdout",
     "output_type": "stream",
     "text": [
      "Results from the best model\n",
      "Fold with best validation RSE: 2\n",
      "Best validation RSE: 1.03\n"
     ]
    },
    {
     "data": {
      "image/png": "[encoded data removed]",
      "text/plain": [
       "<Figure size 864x576 with 1 Axes>"
      ]
     },
     "metadata": {
      "needs_background": "light"
     },
     "output_type": "display_data"
    },
    {
     "name": "stdout",
     "output_type": "stream",
     "text": [
      "--------------DONE TRAINING MODEL FOR EarningsPerShareDiluted--------------\n",
      "\n",
      "\n"
     ]
    }
   ],
   "source": [
    "# Define variables\n",
    "batch_size = 32\n",
    "epochs=40\n",
    "initial_lr=0.001\n",
    "eps=1e-8\n",
    "patience=5\n",
    "cv=10\n",
    "# Name metric\n",
    "file = files[5]\n",
    "metric_name = file.split('.')[0].split('_')[0]\n",
    "\n",
    "print(f\"--------------START TRAINING MODEL FOR {metric_name}--------------\")\n",
    "\n",
    "# Read csv file\n",
    "df = pd.read_csv(path + file)\n",
    "\n",
    "# Load model and tokenizer\n",
    "model, tokenizer = finbert_regressor()\n",
    "model.to(device)\n",
    "\n",
    "# Prepare dataset\n",
    "dataset = prepare_labeled_datasets(tokenizer, model, 300, df['text'].values.tolist(), df['target'].values.tolist()) \n",
    "\n",
    "# Train model\n",
    "best_model_overall, best_val_loss_overall, best_fold_overall, all_train_losses, all_val_losses, training_stats  = train_finbert_regressor(model, tokenizer, dataset, \n",
    "                                                                                           epochs=epochs, initial_lr=initial_lr, \n",
    "                                                                                           eps=eps, cv=cv)  \n",
    "\n",
    "# Save models\n",
    "#If folder not available, create folder\n",
    "if not os.path.exists('../models/finbert-regression/distilbert_data/' + metric_name):\n",
    "   os.makedirs('../models/finbert-regression/distilbert_data/' + metric_name)\n",
    "# Save model to folder\n",
    "best_model_overall.save_pretrained('../models/finbert-regression/distilbert_data/' + metric_name) \n",
    "\n",
    "# Present results from the best model\n",
    "print(\"Results from the best model\")\n",
    "print(f\"Fold with best validation RSE: {best_fold_overall}\")\n",
    "print(\"Best validation RSE: {0:.2f}\".format(best_val_loss_overall)) \n",
    "\n",
    "plot_learning_curve(training_stats,best_fold_overall)\n",
    "print(f\"--------------DONE TRAINING MODEL FOR {metric_name}--------------\")\n",
    "print(\"\\n\")"
   ]
  },
  {
   "cell_type": "markdown",
   "metadata": {},
   "source": [
    "### CV on all FinBERT data"
   ]
  },
  {
   "cell_type": "markdown",
   "metadata": {},
   "source": [
    "#### NetCashProvidedByUsedInInvestingActivities - FinBERT"
   ]
  },
  {
   "cell_type": "code",
   "execution_count": 12,
   "metadata": {},
   "outputs": [
    {
     "name": "stdout",
     "output_type": "stream",
     "text": [
      "--------------START TRAINING MODEL FOR NetCashProvidedByUsedInInvestingActivities--------------\n",
      "The history saving thread hit an unexpected error (OperationalError('disk I/O error')).History will not be written to the database.\n"
     ]
    },
    {
     "name": "stderr",
     "output_type": "stream",
     "text": [
      "Some weights of RegressionModel were not initialized from the model checkpoint at yiyanghkust/finbert-pretrain and are newly initialized: ['transformer.layer.6.output_layer_norm.weight', 'transformer.layer.1.attention.v_lin.weight', 'transformer.layer.9.ffn.lin2.weight', 'transformer.layer.1.attention.q_lin.bias', 'transformer.layer.11.ffn.lin1.weight', 'transformer.layer.7.attention.out_lin.bias', 'transformer.layer.5.ffn.lin2.weight', 'transformer.layer.7.ffn.lin1.bias', 'transformer.layer.9.output_layer_norm.weight', 'transformer.layer.6.attention.v_lin.weight', 'transformer.layer.9.attention.v_lin.weight', 'transformer.layer.9.attention.k_lin.weight', 'transformer.layer.11.attention.q_lin.weight', 'transformer.layer.8.ffn.lin2.bias', 'transformer.layer.11.attention.v_lin.bias', 'transformer.layer.5.attention.v_lin.bias', 'transformer.layer.5.attention.k_lin.weight', 'transformer.layer.5.attention.v_lin.weight', 'transformer.layer.7.ffn.lin2.weight', 'transformer.layer.9.sa_layer_norm.bias', 'transformer.layer.5.output_layer_norm.weight', 'transformer.layer.6.attention.q_lin.bias', 'transformer.layer.0.attention.q_lin.weight', 'embeddings.position_embeddings.weight', 'transformer.layer.4.sa_layer_norm.weight', 'transformer.layer.2.ffn.lin1.weight', 'transformer.layer.10.ffn.lin1.weight', 'transformer.layer.9.output_layer_norm.bias', 'transformer.layer.5.attention.k_lin.bias', 'transformer.layer.1.ffn.lin1.weight', 'transformer.layer.9.attention.k_lin.bias', 'transformer.layer.11.output_layer_norm.weight', 'transformer.layer.2.attention.q_lin.weight', 'transformer.layer.0.sa_layer_norm.weight', 'transformer.layer.5.attention.q_lin.bias', 'transformer.layer.2.sa_layer_norm.bias', 'transformer.layer.4.attention.q_lin.weight', 'transformer.layer.10.attention.q_lin.bias', 'transformer.layer.0.ffn.lin1.weight', 'transformer.layer.3.attention.v_lin.weight', 'transformer.layer.3.ffn.lin2.weight', 'transformer.layer.8.attention.v_lin.weight', 'transformer.layer.3.attention.k_lin.weight', 'embeddings.word_embeddings.weight', 'transformer.layer.0.attention.k_lin.bias', 'transformer.layer.11.attention.out_lin.bias', 'transformer.layer.6.attention.out_lin.bias', 'transformer.layer.3.ffn.lin1.bias', 'transformer.layer.1.attention.v_lin.bias', 'transformer.layer.3.attention.k_lin.bias', 'transformer.layer.8.ffn.lin1.bias', 'transformer.layer.3.ffn.lin1.weight', 'transformer.layer.0.attention.v_lin.weight', 'transformer.layer.1.sa_layer_norm.bias', 'transformer.layer.7.output_layer_norm.bias', 'transformer.layer.4.attention.k_lin.bias', 'transformer.layer.0.attention.q_lin.bias', 'transformer.layer.8.attention.q_lin.bias', 'transformer.layer.6.sa_layer_norm.weight', 'transformer.layer.7.attention.v_lin.weight', 'transformer.layer.1.ffn.lin2.weight', 'transformer.layer.3.attention.v_lin.bias', 'transformer.layer.7.sa_layer_norm.bias', 'transformer.layer.9.attention.out_lin.weight', 'transformer.layer.0.sa_layer_norm.bias', 'transformer.layer.11.ffn.lin1.bias', 'transformer.layer.7.attention.v_lin.bias', 'transformer.layer.9.sa_layer_norm.weight', 'transformer.layer.4.ffn.lin1.bias', 'transformer.layer.0.ffn.lin1.bias', 'transformer.layer.5.output_layer_norm.bias', 'transformer.layer.3.output_layer_norm.weight', 'transformer.layer.8.sa_layer_norm.weight', 'transformer.layer.2.ffn.lin2.weight', 'transformer.layer.4.attention.out_lin.weight', 'transformer.layer.6.attention.out_lin.weight', 'transformer.layer.0.attention.v_lin.bias', 'transformer.layer.7.attention.k_lin.bias', 'transformer.layer.8.attention.v_lin.bias', 'transformer.layer.1.attention.k_lin.weight', 'transformer.layer.9.attention.q_lin.weight', 'transformer.layer.10.output_layer_norm.bias', 'transformer.layer.5.attention.out_lin.weight', 'transformer.layer.3.attention.out_lin.bias', 'transformer.layer.9.attention.out_lin.bias', 'transformer.layer.11.attention.k_lin.bias', 'transformer.layer.0.attention.out_lin.bias', 'transformer.layer.6.attention.k_lin.weight', 'transformer.layer.10.ffn.lin2.bias', 'transformer.layer.10.output_layer_norm.weight', 'transformer.layer.9.ffn.lin1.bias', 'transformer.layer.2.ffn.lin1.bias', 'transformer.layer.1.attention.k_lin.bias', 'transformer.layer.6.attention.q_lin.weight', 'transformer.layer.7.sa_layer_norm.weight', 'transformer.layer.11.attention.q_lin.bias', 'transformer.layer.11.attention.k_lin.weight', 'transformer.layer.3.sa_layer_norm.weight', 'transformer.layer.2.output_layer_norm.weight', 'transformer.layer.0.output_layer_norm.weight', 'transformer.layer.3.attention.q_lin.bias', 'classifier.weight', 'transformer.layer.4.attention.out_lin.bias', 'transformer.layer.2.attention.k_lin.bias', 'transformer.layer.8.ffn.lin1.weight', 'transformer.layer.5.ffn.lin2.bias', 'embeddings.LayerNorm.bias', 'transformer.layer.2.output_layer_norm.bias', 'transformer.layer.5.attention.out_lin.bias', 'transformer.layer.2.attention.v_lin.weight', 'transformer.layer.6.ffn.lin2.weight', 'transformer.layer.7.attention.out_lin.weight', 'transformer.layer.7.ffn.lin1.weight', 'transformer.layer.10.attention.out_lin.bias', 'transformer.layer.1.attention.out_lin.weight', 'transformer.layer.4.ffn.lin2.bias', 'transformer.layer.0.ffn.lin2.bias', 'transformer.layer.1.attention.out_lin.bias', 'transformer.layer.9.attention.q_lin.bias', 'transformer.layer.4.sa_layer_norm.bias', 'transformer.layer.0.output_layer_norm.bias', 'transformer.layer.8.attention.q_lin.weight', 'transformer.layer.10.ffn.lin2.weight', 'transformer.layer.11.ffn.lin2.weight', 'transformer.layer.3.attention.out_lin.weight', 'transformer.layer.4.ffn.lin2.weight', 'transformer.layer.6.ffn.lin1.weight', 'transformer.layer.2.attention.q_lin.bias', 'transformer.layer.2.attention.out_lin.weight', 'transformer.layer.4.attention.q_lin.bias', 'transformer.layer.6.ffn.lin1.bias', 'transformer.layer.2.ffn.lin2.bias', 'transformer.layer.5.sa_layer_norm.weight', 'transformer.layer.10.attention.v_lin.bias', 'transformer.layer.6.attention.v_lin.bias', 'transformer.layer.5.sa_layer_norm.bias', 'transformer.layer.6.ffn.lin2.bias', 'transformer.layer.8.attention.out_lin.weight', 'transformer.layer.5.ffn.lin1.bias', 'transformer.layer.10.attention.q_lin.weight', 'transformer.layer.7.output_layer_norm.weight', 'transformer.layer.8.output_layer_norm.bias', 'transformer.layer.10.attention.v_lin.weight', 'transformer.layer.2.attention.k_lin.weight', 'transformer.layer.1.ffn.lin2.bias', 'transformer.layer.4.ffn.lin1.weight', 'transformer.layer.9.ffn.lin2.bias', 'transformer.layer.11.sa_layer_norm.weight', 'transformer.layer.11.ffn.lin2.bias', 'transformer.layer.2.attention.out_lin.bias', 'transformer.layer.1.output_layer_norm.bias', 'transformer.layer.7.ffn.lin2.bias', 'transformer.layer.7.attention.k_lin.weight', 'transformer.layer.9.attention.v_lin.bias', 'transformer.layer.1.sa_layer_norm.weight', 'transformer.layer.10.attention.k_lin.bias', 'transformer.layer.0.attention.out_lin.weight', 'transformer.layer.3.ffn.lin2.bias', 'transformer.layer.1.attention.q_lin.weight', 'transformer.layer.5.ffn.lin1.weight', 'transformer.layer.8.attention.k_lin.bias', 'transformer.layer.1.output_layer_norm.weight', 'transformer.layer.4.attention.k_lin.weight', 'transformer.layer.6.output_layer_norm.bias', 'transformer.layer.4.output_layer_norm.bias', 'transformer.layer.7.attention.q_lin.bias', 'transformer.layer.10.sa_layer_norm.weight', 'pre_classifier.bias', 'transformer.layer.11.output_layer_norm.bias', 'transformer.layer.8.ffn.lin2.weight', 'transformer.layer.11.attention.out_lin.weight', 'transformer.layer.8.attention.k_lin.weight', 'transformer.layer.5.attention.q_lin.weight', 'transformer.layer.11.attention.v_lin.weight', 'embeddings.LayerNorm.weight', 'transformer.layer.6.sa_layer_norm.bias', 'transformer.layer.8.sa_layer_norm.bias', 'transformer.layer.4.attention.v_lin.bias', 'transformer.layer.6.attention.k_lin.bias', 'transformer.layer.3.sa_layer_norm.bias', 'transformer.layer.3.attention.q_lin.weight', 'transformer.layer.0.attention.k_lin.weight', 'transformer.layer.9.ffn.lin1.weight', 'transformer.layer.0.ffn.lin2.weight', 'transformer.layer.4.output_layer_norm.weight', 'transformer.layer.10.attention.k_lin.weight', 'transformer.layer.3.output_layer_norm.bias', 'transformer.layer.4.attention.v_lin.weight', 'transformer.layer.11.sa_layer_norm.bias', 'classifier.bias', 'transformer.layer.2.attention.v_lin.bias', 'transformer.layer.7.attention.q_lin.weight', 'transformer.layer.10.sa_layer_norm.bias', 'transformer.layer.8.attention.out_lin.bias', 'transformer.layer.8.output_layer_norm.weight', 'transformer.layer.1.ffn.lin1.bias', 'transformer.layer.2.sa_layer_norm.weight', 'pre_classifier.weight', 'transformer.layer.10.attention.out_lin.weight', 'transformer.layer.10.ffn.lin1.bias']\n",
      "You should probably TRAIN this model on a down-stream task to be able to use it for predictions and inference.\n"
     ]
    },
    {
     "name": "stdout",
     "output_type": "stream",
     "text": [
      "Fold 1\n"
     ]
    },
    {
     "name": "stderr",
     "output_type": "stream",
     "text": [
      "  8%|▊         | 3/40 [00:02<00:24,  1.49it/s]\n"
     ]
    },
    {
     "name": "stdout",
     "output_type": "stream",
     "text": [
      "Early stopping at epoch 4 in fold 1\n",
      "Fold 1 - Best Validation Loss: 1.9917547702789307 at Epoch: 1\n",
      "Fold 2\n"
     ]
    },
    {
     "name": "stderr",
     "output_type": "stream",
     "text": [
      "  8%|▊         | 3/40 [00:02<00:24,  1.49it/s]\n"
     ]
    },
    {
     "name": "stdout",
     "output_type": "stream",
     "text": [
      "Early stopping at epoch 4 in fold 2\n",
      "Fold 2 - Best Validation Loss: 2.5846774578094482 at Epoch: 1\n",
      "Fold 3\n"
     ]
    },
    {
     "name": "stderr",
     "output_type": "stream",
     "text": [
      "  8%|▊         | 3/40 [00:02<00:24,  1.49it/s]\n"
     ]
    },
    {
     "name": "stdout",
     "output_type": "stream",
     "text": [
      "Early stopping at epoch 4 in fold 3\n",
      "Fold 3 - Best Validation Loss: 2.0079195499420166 at Epoch: 1\n",
      "Fold 4\n"
     ]
    },
    {
     "name": "stderr",
     "output_type": "stream",
     "text": [
      "  8%|▊         | 3/40 [00:01<00:24,  1.51it/s]\n"
     ]
    },
    {
     "name": "stdout",
     "output_type": "stream",
     "text": [
      "Early stopping at epoch 4 in fold 4\n",
      "Fold 4 - Best Validation Loss: 4.623619556427002 at Epoch: 1\n",
      "Fold 5\n"
     ]
    },
    {
     "name": "stderr",
     "output_type": "stream",
     "text": [
      "  8%|▊         | 3/40 [00:02<00:24,  1.50it/s]\n"
     ]
    },
    {
     "name": "stdout",
     "output_type": "stream",
     "text": [
      "Early stopping at epoch 4 in fold 5\n",
      "Fold 5 - Best Validation Loss: 5.139918804168701 at Epoch: 1\n",
      "Fold 6\n"
     ]
    },
    {
     "name": "stderr",
     "output_type": "stream",
     "text": [
      "  8%|▊         | 3/40 [00:02<00:24,  1.50it/s]\n"
     ]
    },
    {
     "name": "stdout",
     "output_type": "stream",
     "text": [
      "Early stopping at epoch 4 in fold 6\n",
      "Fold 6 - Best Validation Loss: 6.057686805725098 at Epoch: 1\n",
      "Fold 7\n"
     ]
    },
    {
     "name": "stderr",
     "output_type": "stream",
     "text": [
      "  8%|▊         | 3/40 [00:01<00:24,  1.50it/s]\n"
     ]
    },
    {
     "name": "stdout",
     "output_type": "stream",
     "text": [
      "Early stopping at epoch 4 in fold 7\n",
      "Fold 7 - Best Validation Loss: 1.8174272775650024 at Epoch: 1\n",
      "Fold 8\n"
     ]
    },
    {
     "name": "stderr",
     "output_type": "stream",
     "text": [
      "  8%|▊         | 3/40 [00:02<00:25,  1.45it/s]\n"
     ]
    },
    {
     "name": "stdout",
     "output_type": "stream",
     "text": [
      "Early stopping at epoch 4 in fold 8\n",
      "Fold 8 - Best Validation Loss: 4.049647808074951 at Epoch: 1\n",
      "Fold 9\n"
     ]
    },
    {
     "name": "stderr",
     "output_type": "stream",
     "text": [
      "  8%|▊         | 3/40 [00:02<00:25,  1.48it/s]\n"
     ]
    },
    {
     "name": "stdout",
     "output_type": "stream",
     "text": [
      "Early stopping at epoch 4 in fold 9\n",
      "Fold 9 - Best Validation Loss: 2.590888738632202 at Epoch: 1\n",
      "Fold 10\n"
     ]
    },
    {
     "name": "stderr",
     "output_type": "stream",
     "text": [
      "  8%|▊         | 3/40 [00:01<00:24,  1.51it/s]"
     ]
    },
    {
     "name": "stdout",
     "output_type": "stream",
     "text": [
      "Early stopping at epoch 4 in fold 10\n",
      "Fold 10 - Best Validation Loss: 5.215689659118652 at Epoch: 1\n"
     ]
    },
    {
     "name": "stderr",
     "output_type": "stream",
     "text": [
      "\n"
     ]
    },
    {
     "name": "stdout",
     "output_type": "stream",
     "text": [
      "Results from the best model\n",
      "Fold with best validation RSE: 7\n",
      "Best validation RSE: 1.82\n"
     ]
    },
    {
     "data": {
      "image/png": "[encoded data removed]",
      "text/plain": [
       "<Figure size 864x576 with 1 Axes>"
      ]
     },
     "metadata": {
      "needs_background": "light"
     },
     "output_type": "display_data"
    },
    {
     "name": "stdout",
     "output_type": "stream",
     "text": [
      "--------------DONE TRAINING MODEL FOR NetCashProvidedByUsedInInvestingActivities--------------\n",
      "\n",
      "\n"
     ]
    }
   ],
   "source": [
    "# Define variables\n",
    "batch_size = 32\n",
    "epochs=40\n",
    "initial_lr=0.001\n",
    "eps=1e-8\n",
    "patience=5\n",
    "cv=10\n",
    "\n",
    "\n",
    "# Name metric\n",
    "file = fb_files[0]\n",
    "metric_name = file.split('.')[0].split('_')[0]\n",
    "\n",
    "print(f\"--------------START TRAINING MODEL FOR {metric_name}--------------\")\n",
    "\n",
    "# Read csv file\n",
    "df = pd.read_csv(fb_path + file)\n",
    "\n",
    "# Load model and tokenizer\n",
    "model, tokenizer = finbert_regressor()\n",
    "model.to(device)\n",
    "\n",
    "# Prepare dataset\n",
    "dataset = prepare_labeled_datasets(tokenizer, model, 300, df['text'].values.tolist(), df['target'].values.tolist()) \n",
    "\n",
    "# Train model\n",
    "best_model_overall, best_val_loss_overall, best_fold_overall, all_train_losses, all_val_losses, training_stats  = train_finbert_regressor(model, tokenizer, dataset, \n",
    "                                                                                          epochs=epochs, initial_lr=initial_lr, \n",
    "                                                                                          eps=eps, cv=cv)  \n",
    "\n",
    "# Save models\n",
    "#If folder not available, create folder\n",
    "if not os.path.exists('../models/finbert-regression/finbert_data/' + metric_name):\n",
    "   os.makedirs('../models/finbert-regression/finbert_data/' + metric_name)\n",
    "# Save model to folder\n",
    "best_model_overall.save_pretrained('../models/finbert-regression/finbert_data/' + metric_name) \n",
    "\n",
    "# Present results from the best model\n",
    "print(\"Results from the best model\")\n",
    "print(f\"Fold with best validation RSE: {best_fold_overall}\")\n",
    "print(\"Best validation RSE: {0:.2f}\".format(best_val_loss_overall)) \n",
    "\n",
    "plot_learning_curve(training_stats,best_fold_overall)\n",
    "print(f\"--------------DONE TRAINING MODEL FOR {metric_name}--------------\")\n",
    "print(\"\\n\")"
   ]
  },
  {
   "cell_type": "markdown",
   "metadata": {},
   "source": [
    "#### EBIT - FinBERT"
   ]
  },
  {
   "cell_type": "code",
   "execution_count": 13,
   "metadata": {},
   "outputs": [
    {
     "name": "stdout",
     "output_type": "stream",
     "text": [
      "--------------START TRAINING MODEL FOR EBIT--------------\n"
     ]
    },
    {
     "name": "stderr",
     "output_type": "stream",
     "text": [
      "Some weights of RegressionModel were not initialized from the model checkpoint at yiyanghkust/finbert-pretrain and are newly initialized: ['transformer.layer.6.output_layer_norm.weight', 'transformer.layer.1.attention.v_lin.weight', 'transformer.layer.9.ffn.lin2.weight', 'transformer.layer.1.attention.q_lin.bias', 'transformer.layer.11.ffn.lin1.weight', 'transformer.layer.7.attention.out_lin.bias', 'transformer.layer.5.ffn.lin2.weight', 'transformer.layer.7.ffn.lin1.bias', 'transformer.layer.9.output_layer_norm.weight', 'transformer.layer.6.attention.v_lin.weight', 'transformer.layer.9.attention.v_lin.weight', 'transformer.layer.9.attention.k_lin.weight', 'transformer.layer.11.attention.q_lin.weight', 'transformer.layer.8.ffn.lin2.bias', 'transformer.layer.11.attention.v_lin.bias', 'transformer.layer.5.attention.v_lin.bias', 'transformer.layer.5.attention.k_lin.weight', 'transformer.layer.5.attention.v_lin.weight', 'transformer.layer.7.ffn.lin2.weight', 'transformer.layer.9.sa_layer_norm.bias', 'transformer.layer.5.output_layer_norm.weight', 'transformer.layer.6.attention.q_lin.bias', 'transformer.layer.0.attention.q_lin.weight', 'embeddings.position_embeddings.weight', 'transformer.layer.4.sa_layer_norm.weight', 'transformer.layer.2.ffn.lin1.weight', 'transformer.layer.10.ffn.lin1.weight', 'transformer.layer.9.output_layer_norm.bias', 'transformer.layer.5.attention.k_lin.bias', 'transformer.layer.1.ffn.lin1.weight', 'transformer.layer.9.attention.k_lin.bias', 'transformer.layer.11.output_layer_norm.weight', 'transformer.layer.2.attention.q_lin.weight', 'transformer.layer.0.sa_layer_norm.weight', 'transformer.layer.5.attention.q_lin.bias', 'transformer.layer.2.sa_layer_norm.bias', 'transformer.layer.4.attention.q_lin.weight', 'transformer.layer.10.attention.q_lin.bias', 'transformer.layer.0.ffn.lin1.weight', 'transformer.layer.3.attention.v_lin.weight', 'transformer.layer.3.ffn.lin2.weight', 'transformer.layer.8.attention.v_lin.weight', 'transformer.layer.3.attention.k_lin.weight', 'embeddings.word_embeddings.weight', 'transformer.layer.0.attention.k_lin.bias', 'transformer.layer.11.attention.out_lin.bias', 'transformer.layer.6.attention.out_lin.bias', 'transformer.layer.3.ffn.lin1.bias', 'transformer.layer.1.attention.v_lin.bias', 'transformer.layer.3.attention.k_lin.bias', 'transformer.layer.8.ffn.lin1.bias', 'transformer.layer.3.ffn.lin1.weight', 'transformer.layer.0.attention.v_lin.weight', 'transformer.layer.1.sa_layer_norm.bias', 'transformer.layer.7.output_layer_norm.bias', 'transformer.layer.4.attention.k_lin.bias', 'transformer.layer.0.attention.q_lin.bias', 'transformer.layer.8.attention.q_lin.bias', 'transformer.layer.6.sa_layer_norm.weight', 'transformer.layer.7.attention.v_lin.weight', 'transformer.layer.1.ffn.lin2.weight', 'transformer.layer.3.attention.v_lin.bias', 'transformer.layer.7.sa_layer_norm.bias', 'transformer.layer.9.attention.out_lin.weight', 'transformer.layer.0.sa_layer_norm.bias', 'transformer.layer.11.ffn.lin1.bias', 'transformer.layer.7.attention.v_lin.bias', 'transformer.layer.9.sa_layer_norm.weight', 'transformer.layer.4.ffn.lin1.bias', 'transformer.layer.0.ffn.lin1.bias', 'transformer.layer.5.output_layer_norm.bias', 'transformer.layer.3.output_layer_norm.weight', 'transformer.layer.8.sa_layer_norm.weight', 'transformer.layer.2.ffn.lin2.weight', 'transformer.layer.4.attention.out_lin.weight', 'transformer.layer.6.attention.out_lin.weight', 'transformer.layer.0.attention.v_lin.bias', 'transformer.layer.7.attention.k_lin.bias', 'transformer.layer.8.attention.v_lin.bias', 'transformer.layer.1.attention.k_lin.weight', 'transformer.layer.9.attention.q_lin.weight', 'transformer.layer.10.output_layer_norm.bias', 'transformer.layer.5.attention.out_lin.weight', 'transformer.layer.3.attention.out_lin.bias', 'transformer.layer.9.attention.out_lin.bias', 'transformer.layer.11.attention.k_lin.bias', 'transformer.layer.0.attention.out_lin.bias', 'transformer.layer.6.attention.k_lin.weight', 'transformer.layer.10.ffn.lin2.bias', 'transformer.layer.10.output_layer_norm.weight', 'transformer.layer.9.ffn.lin1.bias', 'transformer.layer.2.ffn.lin1.bias', 'transformer.layer.1.attention.k_lin.bias', 'transformer.layer.6.attention.q_lin.weight', 'transformer.layer.7.sa_layer_norm.weight', 'transformer.layer.11.attention.q_lin.bias', 'transformer.layer.11.attention.k_lin.weight', 'transformer.layer.3.sa_layer_norm.weight', 'transformer.layer.2.output_layer_norm.weight', 'transformer.layer.0.output_layer_norm.weight', 'transformer.layer.3.attention.q_lin.bias', 'classifier.weight', 'transformer.layer.4.attention.out_lin.bias', 'transformer.layer.2.attention.k_lin.bias', 'transformer.layer.8.ffn.lin1.weight', 'transformer.layer.5.ffn.lin2.bias', 'embeddings.LayerNorm.bias', 'transformer.layer.2.output_layer_norm.bias', 'transformer.layer.5.attention.out_lin.bias', 'transformer.layer.2.attention.v_lin.weight', 'transformer.layer.6.ffn.lin2.weight', 'transformer.layer.7.attention.out_lin.weight', 'transformer.layer.7.ffn.lin1.weight', 'transformer.layer.10.attention.out_lin.bias', 'transformer.layer.1.attention.out_lin.weight', 'transformer.layer.4.ffn.lin2.bias', 'transformer.layer.0.ffn.lin2.bias', 'transformer.layer.1.attention.out_lin.bias', 'transformer.layer.9.attention.q_lin.bias', 'transformer.layer.4.sa_layer_norm.bias', 'transformer.layer.0.output_layer_norm.bias', 'transformer.layer.8.attention.q_lin.weight', 'transformer.layer.10.ffn.lin2.weight', 'transformer.layer.11.ffn.lin2.weight', 'transformer.layer.3.attention.out_lin.weight', 'transformer.layer.4.ffn.lin2.weight', 'transformer.layer.6.ffn.lin1.weight', 'transformer.layer.2.attention.q_lin.bias', 'transformer.layer.2.attention.out_lin.weight', 'transformer.layer.4.attention.q_lin.bias', 'transformer.layer.6.ffn.lin1.bias', 'transformer.layer.2.ffn.lin2.bias', 'transformer.layer.5.sa_layer_norm.weight', 'transformer.layer.10.attention.v_lin.bias', 'transformer.layer.6.attention.v_lin.bias', 'transformer.layer.5.sa_layer_norm.bias', 'transformer.layer.6.ffn.lin2.bias', 'transformer.layer.8.attention.out_lin.weight', 'transformer.layer.5.ffn.lin1.bias', 'transformer.layer.10.attention.q_lin.weight', 'transformer.layer.7.output_layer_norm.weight', 'transformer.layer.8.output_layer_norm.bias', 'transformer.layer.10.attention.v_lin.weight', 'transformer.layer.2.attention.k_lin.weight', 'transformer.layer.1.ffn.lin2.bias', 'transformer.layer.4.ffn.lin1.weight', 'transformer.layer.9.ffn.lin2.bias', 'transformer.layer.11.sa_layer_norm.weight', 'transformer.layer.11.ffn.lin2.bias', 'transformer.layer.2.attention.out_lin.bias', 'transformer.layer.1.output_layer_norm.bias', 'transformer.layer.7.ffn.lin2.bias', 'transformer.layer.7.attention.k_lin.weight', 'transformer.layer.9.attention.v_lin.bias', 'transformer.layer.1.sa_layer_norm.weight', 'transformer.layer.10.attention.k_lin.bias', 'transformer.layer.0.attention.out_lin.weight', 'transformer.layer.3.ffn.lin2.bias', 'transformer.layer.1.attention.q_lin.weight', 'transformer.layer.5.ffn.lin1.weight', 'transformer.layer.8.attention.k_lin.bias', 'transformer.layer.1.output_layer_norm.weight', 'transformer.layer.4.attention.k_lin.weight', 'transformer.layer.6.output_layer_norm.bias', 'transformer.layer.4.output_layer_norm.bias', 'transformer.layer.7.attention.q_lin.bias', 'transformer.layer.10.sa_layer_norm.weight', 'pre_classifier.bias', 'transformer.layer.11.output_layer_norm.bias', 'transformer.layer.8.ffn.lin2.weight', 'transformer.layer.11.attention.out_lin.weight', 'transformer.layer.8.attention.k_lin.weight', 'transformer.layer.5.attention.q_lin.weight', 'transformer.layer.11.attention.v_lin.weight', 'embeddings.LayerNorm.weight', 'transformer.layer.6.sa_layer_norm.bias', 'transformer.layer.8.sa_layer_norm.bias', 'transformer.layer.4.attention.v_lin.bias', 'transformer.layer.6.attention.k_lin.bias', 'transformer.layer.3.sa_layer_norm.bias', 'transformer.layer.3.attention.q_lin.weight', 'transformer.layer.0.attention.k_lin.weight', 'transformer.layer.9.ffn.lin1.weight', 'transformer.layer.0.ffn.lin2.weight', 'transformer.layer.4.output_layer_norm.weight', 'transformer.layer.10.attention.k_lin.weight', 'transformer.layer.3.output_layer_norm.bias', 'transformer.layer.4.attention.v_lin.weight', 'transformer.layer.11.sa_layer_norm.bias', 'classifier.bias', 'transformer.layer.2.attention.v_lin.bias', 'transformer.layer.7.attention.q_lin.weight', 'transformer.layer.10.sa_layer_norm.bias', 'transformer.layer.8.attention.out_lin.bias', 'transformer.layer.8.output_layer_norm.weight', 'transformer.layer.1.ffn.lin1.bias', 'transformer.layer.2.sa_layer_norm.weight', 'pre_classifier.weight', 'transformer.layer.10.attention.out_lin.weight', 'transformer.layer.10.ffn.lin1.bias']\n",
      "You should probably TRAIN this model on a down-stream task to be able to use it for predictions and inference.\n"
     ]
    },
    {
     "name": "stdout",
     "output_type": "stream",
     "text": [
      "Fold 1\n"
     ]
    },
    {
     "name": "stderr",
     "output_type": "stream",
     "text": [
      "  8%|▊         | 3/40 [00:12<02:31,  4.10s/it]\n"
     ]
    },
    {
     "name": "stdout",
     "output_type": "stream",
     "text": [
      "Early stopping at epoch 4 in fold 1\n",
      "Fold 1 - Best Validation Loss: 3.6892329454421997 at Epoch: 1\n",
      "Fold 2\n"
     ]
    },
    {
     "name": "stderr",
     "output_type": "stream",
     "text": [
      "  8%|▊         | 3/40 [00:12<02:33,  4.14s/it]\n"
     ]
    },
    {
     "name": "stdout",
     "output_type": "stream",
     "text": [
      "Early stopping at epoch 4 in fold 2\n",
      "Fold 2 - Best Validation Loss: 2.4341732263565063 at Epoch: 1\n",
      "Fold 3\n"
     ]
    },
    {
     "name": "stderr",
     "output_type": "stream",
     "text": [
      "  8%|▊         | 3/40 [00:12<02:32,  4.11s/it]\n"
     ]
    },
    {
     "name": "stdout",
     "output_type": "stream",
     "text": [
      "Early stopping at epoch 4 in fold 3\n",
      "Fold 3 - Best Validation Loss: 2.086671769618988 at Epoch: 1\n",
      "Fold 4\n"
     ]
    },
    {
     "name": "stderr",
     "output_type": "stream",
     "text": [
      "  8%|▊         | 3/40 [00:12<02:34,  4.18s/it]\n"
     ]
    },
    {
     "name": "stdout",
     "output_type": "stream",
     "text": [
      "Early stopping at epoch 4 in fold 4\n",
      "Fold 4 - Best Validation Loss: 3.610517978668213 at Epoch: 1\n",
      "Fold 5\n"
     ]
    },
    {
     "name": "stderr",
     "output_type": "stream",
     "text": [
      "  8%|▊         | 3/40 [00:12<02:35,  4.21s/it]\n"
     ]
    },
    {
     "name": "stdout",
     "output_type": "stream",
     "text": [
      "Early stopping at epoch 4 in fold 5\n",
      "Fold 5 - Best Validation Loss: 1.834851861000061 at Epoch: 1\n",
      "Fold 6\n"
     ]
    },
    {
     "name": "stderr",
     "output_type": "stream",
     "text": [
      "  8%|▊         | 3/40 [00:12<02:35,  4.20s/it]\n"
     ]
    },
    {
     "name": "stdout",
     "output_type": "stream",
     "text": [
      "Early stopping at epoch 4 in fold 6\n",
      "Fold 6 - Best Validation Loss: 3.1807483434677124 at Epoch: 1\n",
      "Fold 7\n"
     ]
    },
    {
     "name": "stderr",
     "output_type": "stream",
     "text": [
      "  8%|▊         | 3/40 [00:12<02:34,  4.17s/it]\n"
     ]
    },
    {
     "name": "stdout",
     "output_type": "stream",
     "text": [
      "Early stopping at epoch 4 in fold 7\n",
      "Fold 7 - Best Validation Loss: 4.081070303916931 at Epoch: 1\n",
      "Fold 8\n"
     ]
    },
    {
     "name": "stderr",
     "output_type": "stream",
     "text": [
      "  8%|▊         | 3/40 [00:12<02:34,  4.18s/it]\n"
     ]
    },
    {
     "name": "stdout",
     "output_type": "stream",
     "text": [
      "Early stopping at epoch 4 in fold 8\n",
      "Fold 8 - Best Validation Loss: 13.7180814743042 at Epoch: 1\n",
      "Fold 9\n"
     ]
    },
    {
     "name": "stderr",
     "output_type": "stream",
     "text": [
      "  8%|▊         | 3/40 [00:12<02:36,  4.23s/it]\n"
     ]
    },
    {
     "name": "stdout",
     "output_type": "stream",
     "text": [
      "Early stopping at epoch 4 in fold 9\n",
      "Fold 9 - Best Validation Loss: 836.0017935037613 at Epoch: 1\n",
      "Fold 10\n"
     ]
    },
    {
     "name": "stderr",
     "output_type": "stream",
     "text": [
      "  8%|▊         | 3/40 [00:12<02:35,  4.20s/it]"
     ]
    },
    {
     "name": "stdout",
     "output_type": "stream",
     "text": [
      "Early stopping at epoch 4 in fold 10\n",
      "Fold 10 - Best Validation Loss: 1.9687251448631287 at Epoch: 1\n"
     ]
    },
    {
     "name": "stderr",
     "output_type": "stream",
     "text": [
      "\n"
     ]
    },
    {
     "name": "stdout",
     "output_type": "stream",
     "text": [
      "Results from the best model\n",
      "Fold with best validation RSE: 5\n",
      "Best validation RSE: 1.83\n"
     ]
    },
    {
     "data": {
      "image/png": "[encoded data removed]",
      "text/plain": [
       "<Figure size 864x576 with 1 Axes>"
      ]
     },
     "metadata": {
      "needs_background": "light"
     },
     "output_type": "display_data"
    },
    {
     "name": "stdout",
     "output_type": "stream",
     "text": [
      "--------------DONE TRAINING MODEL FOR EBIT--------------\n",
      "\n",
      "\n"
     ]
    }
   ],
   "source": [
    "# Define variables\n",
    "batch_size = 32\n",
    "epochs=40\n",
    "initial_lr=0.001\n",
    "eps=1e-8\n",
    "patience=5\n",
    "cv=10\n",
    "\n",
    "\n",
    "# Name metric\n",
    "file = fb_files[1]\n",
    "metric_name = file.split('.')[0].split('_')[0]\n",
    "\n",
    "print(f\"--------------START TRAINING MODEL FOR {metric_name}--------------\")\n",
    "\n",
    "# Read csv file\n",
    "df = pd.read_csv(fb_path + file)\n",
    "\n",
    "# Load model and tokenizer\n",
    "model, tokenizer = finbert_regressor()\n",
    "model.to(device)\n",
    "\n",
    "# Prepare dataset\n",
    "dataset = prepare_labeled_datasets(tokenizer, model, 300, df['text'].values.tolist(), df['target'].values.tolist()) \n",
    "\n",
    "# Train model\n",
    "best_model_overall, best_val_loss_overall, best_fold_overall, all_train_losses, all_val_losses, training_stats  = train_finbert_regressor(model, tokenizer, dataset, \n",
    "                                                                                          epochs=epochs, initial_lr=initial_lr, \n",
    "                                                                                          eps=eps, cv=cv)  \n",
    "\n",
    "# Save models\n",
    "#If folder not available, create folder\n",
    "if not os.path.exists('../models/finbert-regression/finbert_data/' + metric_name):\n",
    "   os.makedirs('../models/finbert-regression/finbert_data/' + metric_name)\n",
    "# Save model to folder\n",
    "best_model_overall.save_pretrained('../models/finbert-regression/finbert_data/' + metric_name) \n",
    "\n",
    "# Present results from the best model\n",
    "print(\"Results from the best model\")\n",
    "print(f\"Fold with best validation RSE: {best_fold_overall}\")\n",
    "print(\"Best validation RSE: {0:.2f}\".format(best_val_loss_overall)) \n",
    "\n",
    "plot_learning_curve(training_stats,best_fold_overall)\n",
    "print(f\"--------------DONE TRAINING MODEL FOR {metric_name}--------------\")\n",
    "print(\"\\n\")"
   ]
  },
  {
   "cell_type": "markdown",
   "metadata": {},
   "source": [
    "#### NetCashProvidedByUsedInFinancingActivities - FinBERT"
   ]
  },
  {
   "cell_type": "code",
   "execution_count": 14,
   "metadata": {},
   "outputs": [
    {
     "name": "stdout",
     "output_type": "stream",
     "text": [
      "--------------START TRAINING MODEL FOR NetCashProvidedByUsedInFinancingActivities--------------\n"
     ]
    },
    {
     "name": "stderr",
     "output_type": "stream",
     "text": [
      "Some weights of RegressionModel were not initialized from the model checkpoint at yiyanghkust/finbert-pretrain and are newly initialized: ['transformer.layer.6.output_layer_norm.weight', 'transformer.layer.1.attention.v_lin.weight', 'transformer.layer.9.ffn.lin2.weight', 'transformer.layer.1.attention.q_lin.bias', 'transformer.layer.11.ffn.lin1.weight', 'transformer.layer.7.attention.out_lin.bias', 'transformer.layer.5.ffn.lin2.weight', 'transformer.layer.7.ffn.lin1.bias', 'transformer.layer.9.output_layer_norm.weight', 'transformer.layer.6.attention.v_lin.weight', 'transformer.layer.9.attention.v_lin.weight', 'transformer.layer.9.attention.k_lin.weight', 'transformer.layer.11.attention.q_lin.weight', 'transformer.layer.8.ffn.lin2.bias', 'transformer.layer.11.attention.v_lin.bias', 'transformer.layer.5.attention.v_lin.bias', 'transformer.layer.5.attention.k_lin.weight', 'transformer.layer.5.attention.v_lin.weight', 'transformer.layer.7.ffn.lin2.weight', 'transformer.layer.9.sa_layer_norm.bias', 'transformer.layer.5.output_layer_norm.weight', 'transformer.layer.6.attention.q_lin.bias', 'transformer.layer.0.attention.q_lin.weight', 'embeddings.position_embeddings.weight', 'transformer.layer.4.sa_layer_norm.weight', 'transformer.layer.2.ffn.lin1.weight', 'transformer.layer.10.ffn.lin1.weight', 'transformer.layer.9.output_layer_norm.bias', 'transformer.layer.5.attention.k_lin.bias', 'transformer.layer.1.ffn.lin1.weight', 'transformer.layer.9.attention.k_lin.bias', 'transformer.layer.11.output_layer_norm.weight', 'transformer.layer.2.attention.q_lin.weight', 'transformer.layer.0.sa_layer_norm.weight', 'transformer.layer.5.attention.q_lin.bias', 'transformer.layer.2.sa_layer_norm.bias', 'transformer.layer.4.attention.q_lin.weight', 'transformer.layer.10.attention.q_lin.bias', 'transformer.layer.0.ffn.lin1.weight', 'transformer.layer.3.attention.v_lin.weight', 'transformer.layer.3.ffn.lin2.weight', 'transformer.layer.8.attention.v_lin.weight', 'transformer.layer.3.attention.k_lin.weight', 'embeddings.word_embeddings.weight', 'transformer.layer.0.attention.k_lin.bias', 'transformer.layer.11.attention.out_lin.bias', 'transformer.layer.6.attention.out_lin.bias', 'transformer.layer.3.ffn.lin1.bias', 'transformer.layer.1.attention.v_lin.bias', 'transformer.layer.3.attention.k_lin.bias', 'transformer.layer.8.ffn.lin1.bias', 'transformer.layer.3.ffn.lin1.weight', 'transformer.layer.0.attention.v_lin.weight', 'transformer.layer.1.sa_layer_norm.bias', 'transformer.layer.7.output_layer_norm.bias', 'transformer.layer.4.attention.k_lin.bias', 'transformer.layer.0.attention.q_lin.bias', 'transformer.layer.8.attention.q_lin.bias', 'transformer.layer.6.sa_layer_norm.weight', 'transformer.layer.7.attention.v_lin.weight', 'transformer.layer.1.ffn.lin2.weight', 'transformer.layer.3.attention.v_lin.bias', 'transformer.layer.7.sa_layer_norm.bias', 'transformer.layer.9.attention.out_lin.weight', 'transformer.layer.0.sa_layer_norm.bias', 'transformer.layer.11.ffn.lin1.bias', 'transformer.layer.7.attention.v_lin.bias', 'transformer.layer.9.sa_layer_norm.weight', 'transformer.layer.4.ffn.lin1.bias', 'transformer.layer.0.ffn.lin1.bias', 'transformer.layer.5.output_layer_norm.bias', 'transformer.layer.3.output_layer_norm.weight', 'transformer.layer.8.sa_layer_norm.weight', 'transformer.layer.2.ffn.lin2.weight', 'transformer.layer.4.attention.out_lin.weight', 'transformer.layer.6.attention.out_lin.weight', 'transformer.layer.0.attention.v_lin.bias', 'transformer.layer.7.attention.k_lin.bias', 'transformer.layer.8.attention.v_lin.bias', 'transformer.layer.1.attention.k_lin.weight', 'transformer.layer.9.attention.q_lin.weight', 'transformer.layer.10.output_layer_norm.bias', 'transformer.layer.5.attention.out_lin.weight', 'transformer.layer.3.attention.out_lin.bias', 'transformer.layer.9.attention.out_lin.bias', 'transformer.layer.11.attention.k_lin.bias', 'transformer.layer.0.attention.out_lin.bias', 'transformer.layer.6.attention.k_lin.weight', 'transformer.layer.10.ffn.lin2.bias', 'transformer.layer.10.output_layer_norm.weight', 'transformer.layer.9.ffn.lin1.bias', 'transformer.layer.2.ffn.lin1.bias', 'transformer.layer.1.attention.k_lin.bias', 'transformer.layer.6.attention.q_lin.weight', 'transformer.layer.7.sa_layer_norm.weight', 'transformer.layer.11.attention.q_lin.bias', 'transformer.layer.11.attention.k_lin.weight', 'transformer.layer.3.sa_layer_norm.weight', 'transformer.layer.2.output_layer_norm.weight', 'transformer.layer.0.output_layer_norm.weight', 'transformer.layer.3.attention.q_lin.bias', 'classifier.weight', 'transformer.layer.4.attention.out_lin.bias', 'transformer.layer.2.attention.k_lin.bias', 'transformer.layer.8.ffn.lin1.weight', 'transformer.layer.5.ffn.lin2.bias', 'embeddings.LayerNorm.bias', 'transformer.layer.2.output_layer_norm.bias', 'transformer.layer.5.attention.out_lin.bias', 'transformer.layer.2.attention.v_lin.weight', 'transformer.layer.6.ffn.lin2.weight', 'transformer.layer.7.attention.out_lin.weight', 'transformer.layer.7.ffn.lin1.weight', 'transformer.layer.10.attention.out_lin.bias', 'transformer.layer.1.attention.out_lin.weight', 'transformer.layer.4.ffn.lin2.bias', 'transformer.layer.0.ffn.lin2.bias', 'transformer.layer.1.attention.out_lin.bias', 'transformer.layer.9.attention.q_lin.bias', 'transformer.layer.4.sa_layer_norm.bias', 'transformer.layer.0.output_layer_norm.bias', 'transformer.layer.8.attention.q_lin.weight', 'transformer.layer.10.ffn.lin2.weight', 'transformer.layer.11.ffn.lin2.weight', 'transformer.layer.3.attention.out_lin.weight', 'transformer.layer.4.ffn.lin2.weight', 'transformer.layer.6.ffn.lin1.weight', 'transformer.layer.2.attention.q_lin.bias', 'transformer.layer.2.attention.out_lin.weight', 'transformer.layer.4.attention.q_lin.bias', 'transformer.layer.6.ffn.lin1.bias', 'transformer.layer.2.ffn.lin2.bias', 'transformer.layer.5.sa_layer_norm.weight', 'transformer.layer.10.attention.v_lin.bias', 'transformer.layer.6.attention.v_lin.bias', 'transformer.layer.5.sa_layer_norm.bias', 'transformer.layer.6.ffn.lin2.bias', 'transformer.layer.8.attention.out_lin.weight', 'transformer.layer.5.ffn.lin1.bias', 'transformer.layer.10.attention.q_lin.weight', 'transformer.layer.7.output_layer_norm.weight', 'transformer.layer.8.output_layer_norm.bias', 'transformer.layer.10.attention.v_lin.weight', 'transformer.layer.2.attention.k_lin.weight', 'transformer.layer.1.ffn.lin2.bias', 'transformer.layer.4.ffn.lin1.weight', 'transformer.layer.9.ffn.lin2.bias', 'transformer.layer.11.sa_layer_norm.weight', 'transformer.layer.11.ffn.lin2.bias', 'transformer.layer.2.attention.out_lin.bias', 'transformer.layer.1.output_layer_norm.bias', 'transformer.layer.7.ffn.lin2.bias', 'transformer.layer.7.attention.k_lin.weight', 'transformer.layer.9.attention.v_lin.bias', 'transformer.layer.1.sa_layer_norm.weight', 'transformer.layer.10.attention.k_lin.bias', 'transformer.layer.0.attention.out_lin.weight', 'transformer.layer.3.ffn.lin2.bias', 'transformer.layer.1.attention.q_lin.weight', 'transformer.layer.5.ffn.lin1.weight', 'transformer.layer.8.attention.k_lin.bias', 'transformer.layer.1.output_layer_norm.weight', 'transformer.layer.4.attention.k_lin.weight', 'transformer.layer.6.output_layer_norm.bias', 'transformer.layer.4.output_layer_norm.bias', 'transformer.layer.7.attention.q_lin.bias', 'transformer.layer.10.sa_layer_norm.weight', 'pre_classifier.bias', 'transformer.layer.11.output_layer_norm.bias', 'transformer.layer.8.ffn.lin2.weight', 'transformer.layer.11.attention.out_lin.weight', 'transformer.layer.8.attention.k_lin.weight', 'transformer.layer.5.attention.q_lin.weight', 'transformer.layer.11.attention.v_lin.weight', 'embeddings.LayerNorm.weight', 'transformer.layer.6.sa_layer_norm.bias', 'transformer.layer.8.sa_layer_norm.bias', 'transformer.layer.4.attention.v_lin.bias', 'transformer.layer.6.attention.k_lin.bias', 'transformer.layer.3.sa_layer_norm.bias', 'transformer.layer.3.attention.q_lin.weight', 'transformer.layer.0.attention.k_lin.weight', 'transformer.layer.9.ffn.lin1.weight', 'transformer.layer.0.ffn.lin2.weight', 'transformer.layer.4.output_layer_norm.weight', 'transformer.layer.10.attention.k_lin.weight', 'transformer.layer.3.output_layer_norm.bias', 'transformer.layer.4.attention.v_lin.weight', 'transformer.layer.11.sa_layer_norm.bias', 'classifier.bias', 'transformer.layer.2.attention.v_lin.bias', 'transformer.layer.7.attention.q_lin.weight', 'transformer.layer.10.sa_layer_norm.bias', 'transformer.layer.8.attention.out_lin.bias', 'transformer.layer.8.output_layer_norm.weight', 'transformer.layer.1.ffn.lin1.bias', 'transformer.layer.2.sa_layer_norm.weight', 'pre_classifier.weight', 'transformer.layer.10.attention.out_lin.weight', 'transformer.layer.10.ffn.lin1.bias']\n",
      "You should probably TRAIN this model on a down-stream task to be able to use it for predictions and inference.\n"
     ]
    },
    {
     "name": "stdout",
     "output_type": "stream",
     "text": [
      "Fold 1\n"
     ]
    },
    {
     "name": "stderr",
     "output_type": "stream",
     "text": [
      "  8%|▊         | 3/40 [00:01<00:14,  2.60it/s]\n"
     ]
    },
    {
     "name": "stdout",
     "output_type": "stream",
     "text": [
      "Early stopping at epoch 4 in fold 1\n",
      "Fold 1 - Best Validation Loss: 3.529698610305786 at Epoch: 1\n",
      "Fold 2\n"
     ]
    },
    {
     "name": "stderr",
     "output_type": "stream",
     "text": [
      "  8%|▊         | 3/40 [00:01<00:13,  2.75it/s]\n"
     ]
    },
    {
     "name": "stdout",
     "output_type": "stream",
     "text": [
      "Early stopping at epoch 4 in fold 2\n",
      "Fold 2 - Best Validation Loss: 1.3939592838287354 at Epoch: 1\n",
      "Fold 3\n"
     ]
    },
    {
     "name": "stderr",
     "output_type": "stream",
     "text": [
      "  8%|▊         | 3/40 [00:01<00:14,  2.49it/s]\n"
     ]
    },
    {
     "name": "stdout",
     "output_type": "stream",
     "text": [
      "Early stopping at epoch 4 in fold 3\n",
      "Fold 3 - Best Validation Loss: 61.94618225097656 at Epoch: 1\n",
      "Fold 4\n"
     ]
    },
    {
     "name": "stderr",
     "output_type": "stream",
     "text": [
      "  8%|▊         | 3/40 [00:01<00:13,  2.74it/s]\n"
     ]
    },
    {
     "name": "stdout",
     "output_type": "stream",
     "text": [
      "Early stopping at epoch 4 in fold 4\n",
      "Fold 4 - Best Validation Loss: 93.9189682006836 at Epoch: 1\n",
      "Fold 5\n"
     ]
    },
    {
     "name": "stderr",
     "output_type": "stream",
     "text": [
      "  8%|▊         | 3/40 [00:01<00:13,  2.73it/s]\n"
     ]
    },
    {
     "name": "stdout",
     "output_type": "stream",
     "text": [
      "Early stopping at epoch 4 in fold 5\n",
      "Fold 5 - Best Validation Loss: 7.7790937423706055 at Epoch: 1\n",
      "Fold 6\n"
     ]
    },
    {
     "name": "stderr",
     "output_type": "stream",
     "text": [
      "  8%|▊         | 3/40 [00:01<00:14,  2.58it/s]\n"
     ]
    },
    {
     "name": "stdout",
     "output_type": "stream",
     "text": [
      "Early stopping at epoch 4 in fold 6\n",
      "Fold 6 - Best Validation Loss: 1.9174308776855469 at Epoch: 1\n",
      "Fold 7\n"
     ]
    },
    {
     "name": "stderr",
     "output_type": "stream",
     "text": [
      "  5%|▌         | 2/40 [00:00<00:16,  2.37it/s]\n"
     ]
    },
    {
     "name": "stdout",
     "output_type": "stream",
     "text": [
      "Early stopping at epoch 3 in fold 7\n",
      "Fold 7 - Best Validation Loss: inf at Epoch: 0\n",
      "Fold 8\n"
     ]
    },
    {
     "name": "stderr",
     "output_type": "stream",
     "text": [
      "  5%|▌         | 2/40 [00:00<00:16,  2.28it/s]\n"
     ]
    },
    {
     "name": "stdout",
     "output_type": "stream",
     "text": [
      "Early stopping at epoch 3 in fold 8\n",
      "Fold 8 - Best Validation Loss: inf at Epoch: 0\n",
      "Fold 9\n"
     ]
    },
    {
     "name": "stderr",
     "output_type": "stream",
     "text": [
      "  5%|▌         | 2/40 [00:00<00:16,  2.26it/s]\n"
     ]
    },
    {
     "name": "stdout",
     "output_type": "stream",
     "text": [
      "Early stopping at epoch 3 in fold 9\n",
      "Fold 9 - Best Validation Loss: inf at Epoch: 0\n",
      "Fold 10\n"
     ]
    },
    {
     "name": "stderr",
     "output_type": "stream",
     "text": [
      "  5%|▌         | 2/40 [00:00<00:15,  2.40it/s]"
     ]
    },
    {
     "name": "stdout",
     "output_type": "stream",
     "text": [
      "Early stopping at epoch 3 in fold 10\n",
      "Fold 10 - Best Validation Loss: inf at Epoch: 0\n"
     ]
    },
    {
     "name": "stderr",
     "output_type": "stream",
     "text": [
      "\n"
     ]
    },
    {
     "name": "stdout",
     "output_type": "stream",
     "text": [
      "Results from the best model\n",
      "Fold with best validation RSE: 2\n",
      "Best validation RSE: 1.39\n"
     ]
    },
    {
     "data": {
      "image/png": "[encoded data removed]",
      "text/plain": [
       "<Figure size 864x576 with 1 Axes>"
      ]
     },
     "metadata": {
      "needs_background": "light"
     },
     "output_type": "display_data"
    },
    {
     "name": "stdout",
     "output_type": "stream",
     "text": [
      "--------------DONE TRAINING MODEL FOR NetCashProvidedByUsedInFinancingActivities--------------\n",
      "\n",
      "\n"
     ]
    }
   ],
   "source": [
    "# Define variables\n",
    "batch_size = 16\n",
    "epochs=40\n",
    "initial_lr=0.0001\n",
    "eps=1e-8\n",
    "patience=3\n",
    "cv=10\n",
    "\n",
    "\n",
    "# Name metric\n",
    "file = fb_files[2]\n",
    "metric_name = file.split('.')[0].split('_')[0]\n",
    "\n",
    "print(f\"--------------START TRAINING MODEL FOR {metric_name}--------------\")\n",
    "\n",
    "# Read csv file\n",
    "df = pd.read_csv(fb_path + file)\n",
    "\n",
    "# Load model and tokenizer\n",
    "model, tokenizer = finbert_regressor()\n",
    "model.to(device)\n",
    "\n",
    "# Prepare dataset\n",
    "dataset = prepare_labeled_datasets(tokenizer, model, 300, df['text'].values.tolist(), df['target'].values.tolist()) \n",
    "\n",
    "# Train model\n",
    "best_model_overall, best_val_loss_overall, best_fold_overall, all_train_losses, all_val_losses, training_stats  = train_finbert_regressor(model, tokenizer, dataset, \n",
    "                                                                                          epochs=epochs, initial_lr=initial_lr, \n",
    "                                                                                          eps=eps, cv=cv)  \n",
    "\n",
    "# Save models\n",
    "#If folder not available, create folder\n",
    "if not os.path.exists('../models/finbert-regression/finbert_data/' + metric_name):\n",
    "   os.makedirs('../models/finbert-regression/finbert_data/' + metric_name)\n",
    "# Save model to folder\n",
    "best_model_overall.save_pretrained('../models/finbert-regression/finbert_data/' + metric_name) \n",
    "\n",
    "# Present results from the best model\n",
    "print(\"Results from the best model\")\n",
    "print(f\"Fold with best validation RSE: {best_fold_overall}\")\n",
    "print(\"Best validation RSE: {0:.2f}\".format(best_val_loss_overall)) \n",
    "\n",
    "plot_learning_curve(training_stats,best_fold_overall)\n",
    "print(f\"--------------DONE TRAINING MODEL FOR {metric_name}--------------\")\n",
    "print(\"\\n\")"
   ]
  },
  {
   "cell_type": "markdown",
   "metadata": {},
   "source": [
    "#### Revenue - FinBERT"
   ]
  },
  {
   "cell_type": "code",
   "execution_count": 16,
   "metadata": {},
   "outputs": [
    {
     "name": "stdout",
     "output_type": "stream",
     "text": [
      "--------------START TRAINING MODEL FOR RevenueFromContractWithCustomerExcludingAssessedTax--------------\n"
     ]
    },
    {
     "name": "stderr",
     "output_type": "stream",
     "text": [
      "Some weights of RegressionModel were not initialized from the model checkpoint at yiyanghkust/finbert-pretrain and are newly initialized: ['transformer.layer.6.output_layer_norm.weight', 'transformer.layer.1.attention.v_lin.weight', 'transformer.layer.9.ffn.lin2.weight', 'transformer.layer.1.attention.q_lin.bias', 'transformer.layer.11.ffn.lin1.weight', 'transformer.layer.7.attention.out_lin.bias', 'transformer.layer.5.ffn.lin2.weight', 'transformer.layer.7.ffn.lin1.bias', 'transformer.layer.9.output_layer_norm.weight', 'transformer.layer.6.attention.v_lin.weight', 'transformer.layer.9.attention.v_lin.weight', 'transformer.layer.9.attention.k_lin.weight', 'transformer.layer.11.attention.q_lin.weight', 'transformer.layer.8.ffn.lin2.bias', 'transformer.layer.11.attention.v_lin.bias', 'transformer.layer.5.attention.v_lin.bias', 'transformer.layer.5.attention.k_lin.weight', 'transformer.layer.5.attention.v_lin.weight', 'transformer.layer.7.ffn.lin2.weight', 'transformer.layer.9.sa_layer_norm.bias', 'transformer.layer.5.output_layer_norm.weight', 'transformer.layer.6.attention.q_lin.bias', 'transformer.layer.0.attention.q_lin.weight', 'embeddings.position_embeddings.weight', 'transformer.layer.4.sa_layer_norm.weight', 'transformer.layer.2.ffn.lin1.weight', 'transformer.layer.10.ffn.lin1.weight', 'transformer.layer.9.output_layer_norm.bias', 'transformer.layer.5.attention.k_lin.bias', 'transformer.layer.1.ffn.lin1.weight', 'transformer.layer.9.attention.k_lin.bias', 'transformer.layer.11.output_layer_norm.weight', 'transformer.layer.2.attention.q_lin.weight', 'transformer.layer.0.sa_layer_norm.weight', 'transformer.layer.5.attention.q_lin.bias', 'transformer.layer.2.sa_layer_norm.bias', 'transformer.layer.4.attention.q_lin.weight', 'transformer.layer.10.attention.q_lin.bias', 'transformer.layer.0.ffn.lin1.weight', 'transformer.layer.3.attention.v_lin.weight', 'transformer.layer.3.ffn.lin2.weight', 'transformer.layer.8.attention.v_lin.weight', 'transformer.layer.3.attention.k_lin.weight', 'embeddings.word_embeddings.weight', 'transformer.layer.0.attention.k_lin.bias', 'transformer.layer.11.attention.out_lin.bias', 'transformer.layer.6.attention.out_lin.bias', 'transformer.layer.3.ffn.lin1.bias', 'transformer.layer.1.attention.v_lin.bias', 'transformer.layer.3.attention.k_lin.bias', 'transformer.layer.8.ffn.lin1.bias', 'transformer.layer.3.ffn.lin1.weight', 'transformer.layer.0.attention.v_lin.weight', 'transformer.layer.1.sa_layer_norm.bias', 'transformer.layer.7.output_layer_norm.bias', 'transformer.layer.4.attention.k_lin.bias', 'transformer.layer.0.attention.q_lin.bias', 'transformer.layer.8.attention.q_lin.bias', 'transformer.layer.6.sa_layer_norm.weight', 'transformer.layer.7.attention.v_lin.weight', 'transformer.layer.1.ffn.lin2.weight', 'transformer.layer.3.attention.v_lin.bias', 'transformer.layer.7.sa_layer_norm.bias', 'transformer.layer.9.attention.out_lin.weight', 'transformer.layer.0.sa_layer_norm.bias', 'transformer.layer.11.ffn.lin1.bias', 'transformer.layer.7.attention.v_lin.bias', 'transformer.layer.9.sa_layer_norm.weight', 'transformer.layer.4.ffn.lin1.bias', 'transformer.layer.0.ffn.lin1.bias', 'transformer.layer.5.output_layer_norm.bias', 'transformer.layer.3.output_layer_norm.weight', 'transformer.layer.8.sa_layer_norm.weight', 'transformer.layer.2.ffn.lin2.weight', 'transformer.layer.4.attention.out_lin.weight', 'transformer.layer.6.attention.out_lin.weight', 'transformer.layer.0.attention.v_lin.bias', 'transformer.layer.7.attention.k_lin.bias', 'transformer.layer.8.attention.v_lin.bias', 'transformer.layer.1.attention.k_lin.weight', 'transformer.layer.9.attention.q_lin.weight', 'transformer.layer.10.output_layer_norm.bias', 'transformer.layer.5.attention.out_lin.weight', 'transformer.layer.3.attention.out_lin.bias', 'transformer.layer.9.attention.out_lin.bias', 'transformer.layer.11.attention.k_lin.bias', 'transformer.layer.0.attention.out_lin.bias', 'transformer.layer.6.attention.k_lin.weight', 'transformer.layer.10.ffn.lin2.bias', 'transformer.layer.10.output_layer_norm.weight', 'transformer.layer.9.ffn.lin1.bias', 'transformer.layer.2.ffn.lin1.bias', 'transformer.layer.1.attention.k_lin.bias', 'transformer.layer.6.attention.q_lin.weight', 'transformer.layer.7.sa_layer_norm.weight', 'transformer.layer.11.attention.q_lin.bias', 'transformer.layer.11.attention.k_lin.weight', 'transformer.layer.3.sa_layer_norm.weight', 'transformer.layer.2.output_layer_norm.weight', 'transformer.layer.0.output_layer_norm.weight', 'transformer.layer.3.attention.q_lin.bias', 'classifier.weight', 'transformer.layer.4.attention.out_lin.bias', 'transformer.layer.2.attention.k_lin.bias', 'transformer.layer.8.ffn.lin1.weight', 'transformer.layer.5.ffn.lin2.bias', 'embeddings.LayerNorm.bias', 'transformer.layer.2.output_layer_norm.bias', 'transformer.layer.5.attention.out_lin.bias', 'transformer.layer.2.attention.v_lin.weight', 'transformer.layer.6.ffn.lin2.weight', 'transformer.layer.7.attention.out_lin.weight', 'transformer.layer.7.ffn.lin1.weight', 'transformer.layer.10.attention.out_lin.bias', 'transformer.layer.1.attention.out_lin.weight', 'transformer.layer.4.ffn.lin2.bias', 'transformer.layer.0.ffn.lin2.bias', 'transformer.layer.1.attention.out_lin.bias', 'transformer.layer.9.attention.q_lin.bias', 'transformer.layer.4.sa_layer_norm.bias', 'transformer.layer.0.output_layer_norm.bias', 'transformer.layer.8.attention.q_lin.weight', 'transformer.layer.10.ffn.lin2.weight', 'transformer.layer.11.ffn.lin2.weight', 'transformer.layer.3.attention.out_lin.weight', 'transformer.layer.4.ffn.lin2.weight', 'transformer.layer.6.ffn.lin1.weight', 'transformer.layer.2.attention.q_lin.bias', 'transformer.layer.2.attention.out_lin.weight', 'transformer.layer.4.attention.q_lin.bias', 'transformer.layer.6.ffn.lin1.bias', 'transformer.layer.2.ffn.lin2.bias', 'transformer.layer.5.sa_layer_norm.weight', 'transformer.layer.10.attention.v_lin.bias', 'transformer.layer.6.attention.v_lin.bias', 'transformer.layer.5.sa_layer_norm.bias', 'transformer.layer.6.ffn.lin2.bias', 'transformer.layer.8.attention.out_lin.weight', 'transformer.layer.5.ffn.lin1.bias', 'transformer.layer.10.attention.q_lin.weight', 'transformer.layer.7.output_layer_norm.weight', 'transformer.layer.8.output_layer_norm.bias', 'transformer.layer.10.attention.v_lin.weight', 'transformer.layer.2.attention.k_lin.weight', 'transformer.layer.1.ffn.lin2.bias', 'transformer.layer.4.ffn.lin1.weight', 'transformer.layer.9.ffn.lin2.bias', 'transformer.layer.11.sa_layer_norm.weight', 'transformer.layer.11.ffn.lin2.bias', 'transformer.layer.2.attention.out_lin.bias', 'transformer.layer.1.output_layer_norm.bias', 'transformer.layer.7.ffn.lin2.bias', 'transformer.layer.7.attention.k_lin.weight', 'transformer.layer.9.attention.v_lin.bias', 'transformer.layer.1.sa_layer_norm.weight', 'transformer.layer.10.attention.k_lin.bias', 'transformer.layer.0.attention.out_lin.weight', 'transformer.layer.3.ffn.lin2.bias', 'transformer.layer.1.attention.q_lin.weight', 'transformer.layer.5.ffn.lin1.weight', 'transformer.layer.8.attention.k_lin.bias', 'transformer.layer.1.output_layer_norm.weight', 'transformer.layer.4.attention.k_lin.weight', 'transformer.layer.6.output_layer_norm.bias', 'transformer.layer.4.output_layer_norm.bias', 'transformer.layer.7.attention.q_lin.bias', 'transformer.layer.10.sa_layer_norm.weight', 'pre_classifier.bias', 'transformer.layer.11.output_layer_norm.bias', 'transformer.layer.8.ffn.lin2.weight', 'transformer.layer.11.attention.out_lin.weight', 'transformer.layer.8.attention.k_lin.weight', 'transformer.layer.5.attention.q_lin.weight', 'transformer.layer.11.attention.v_lin.weight', 'embeddings.LayerNorm.weight', 'transformer.layer.6.sa_layer_norm.bias', 'transformer.layer.8.sa_layer_norm.bias', 'transformer.layer.4.attention.v_lin.bias', 'transformer.layer.6.attention.k_lin.bias', 'transformer.layer.3.sa_layer_norm.bias', 'transformer.layer.3.attention.q_lin.weight', 'transformer.layer.0.attention.k_lin.weight', 'transformer.layer.9.ffn.lin1.weight', 'transformer.layer.0.ffn.lin2.weight', 'transformer.layer.4.output_layer_norm.weight', 'transformer.layer.10.attention.k_lin.weight', 'transformer.layer.3.output_layer_norm.bias', 'transformer.layer.4.attention.v_lin.weight', 'transformer.layer.11.sa_layer_norm.bias', 'classifier.bias', 'transformer.layer.2.attention.v_lin.bias', 'transformer.layer.7.attention.q_lin.weight', 'transformer.layer.10.sa_layer_norm.bias', 'transformer.layer.8.attention.out_lin.bias', 'transformer.layer.8.output_layer_norm.weight', 'transformer.layer.1.ffn.lin1.bias', 'transformer.layer.2.sa_layer_norm.weight', 'pre_classifier.weight', 'transformer.layer.10.attention.out_lin.weight', 'transformer.layer.10.ffn.lin1.bias']\n",
      "You should probably TRAIN this model on a down-stream task to be able to use it for predictions and inference.\n"
     ]
    },
    {
     "name": "stdout",
     "output_type": "stream",
     "text": [
      "Fold 1\n"
     ]
    },
    {
     "name": "stderr",
     "output_type": "stream",
     "text": [
      "  8%|▊         | 3/40 [06:54<1:25:16, 138.27s/it]\n"
     ]
    },
    {
     "name": "stdout",
     "output_type": "stream",
     "text": [
      "Early stopping at epoch 4 in fold 1\n",
      "Fold 1 - Best Validation Loss: 5.618078884482384 at Epoch: 1\n",
      "Fold 2\n"
     ]
    },
    {
     "name": "stderr",
     "output_type": "stream",
     "text": [
      "  8%|▊         | 3/40 [06:52<1:24:49, 137.55s/it]\n"
     ]
    },
    {
     "name": "stdout",
     "output_type": "stream",
     "text": [
      "Early stopping at epoch 4 in fold 2\n",
      "Fold 2 - Best Validation Loss: 3.002134236693382 at Epoch: 1\n",
      "Fold 3\n"
     ]
    },
    {
     "name": "stderr",
     "output_type": "stream",
     "text": [
      "  8%|▊         | 3/40 [06:52<1:24:53, 137.66s/it]\n"
     ]
    },
    {
     "name": "stdout",
     "output_type": "stream",
     "text": [
      "Early stopping at epoch 4 in fold 3\n",
      "Fold 3 - Best Validation Loss: 2.6199912250041963 at Epoch: 1\n",
      "Fold 4\n"
     ]
    },
    {
     "name": "stderr",
     "output_type": "stream",
     "text": [
      "  8%|▊         | 3/40 [06:53<1:24:57, 137.77s/it]\n"
     ]
    },
    {
     "name": "stdout",
     "output_type": "stream",
     "text": [
      "Early stopping at epoch 4 in fold 4\n",
      "Fold 4 - Best Validation Loss: 2.847772386670113 at Epoch: 1\n",
      "Fold 5\n"
     ]
    },
    {
     "name": "stderr",
     "output_type": "stream",
     "text": [
      "  8%|▊         | 3/40 [06:52<1:24:47, 137.50s/it]\n"
     ]
    },
    {
     "name": "stdout",
     "output_type": "stream",
     "text": [
      "Early stopping at epoch 4 in fold 5\n",
      "Fold 5 - Best Validation Loss: 2.499554294347763 at Epoch: 1\n",
      "Fold 6\n"
     ]
    },
    {
     "name": "stderr",
     "output_type": "stream",
     "text": [
      "  5%|▌         | 2/40 [05:09<1:38:00, 154.75s/it]\n"
     ]
    },
    {
     "name": "stdout",
     "output_type": "stream",
     "text": [
      "Early stopping at epoch 3 in fold 6\n",
      "Fold 6 - Best Validation Loss: inf at Epoch: 0\n",
      "Fold 7\n"
     ]
    },
    {
     "name": "stderr",
     "output_type": "stream",
     "text": [
      "  5%|▌         | 2/40 [05:10<1:38:17, 155.19s/it]\n"
     ]
    },
    {
     "name": "stdout",
     "output_type": "stream",
     "text": [
      "Early stopping at epoch 3 in fold 7\n",
      "Fold 7 - Best Validation Loss: inf at Epoch: 0\n",
      "Fold 8\n"
     ]
    },
    {
     "name": "stderr",
     "output_type": "stream",
     "text": [
      "  5%|▌         | 2/40 [05:10<1:38:21, 155.29s/it]\n"
     ]
    },
    {
     "name": "stdout",
     "output_type": "stream",
     "text": [
      "Early stopping at epoch 3 in fold 8\n",
      "Fold 8 - Best Validation Loss: inf at Epoch: 0\n",
      "Fold 9\n"
     ]
    },
    {
     "name": "stderr",
     "output_type": "stream",
     "text": [
      "  5%|▌         | 2/40 [05:10<1:38:15, 155.15s/it]\n"
     ]
    },
    {
     "name": "stdout",
     "output_type": "stream",
     "text": [
      "Early stopping at epoch 3 in fold 9\n",
      "Fold 9 - Best Validation Loss: inf at Epoch: 0\n",
      "Fold 10\n"
     ]
    },
    {
     "name": "stderr",
     "output_type": "stream",
     "text": [
      "  5%|▌         | 2/40 [05:09<1:38:06, 154.92s/it]"
     ]
    },
    {
     "name": "stdout",
     "output_type": "stream",
     "text": [
      "Early stopping at epoch 3 in fold 10\n",
      "Fold 10 - Best Validation Loss: inf at Epoch: 0\n"
     ]
    },
    {
     "name": "stderr",
     "output_type": "stream",
     "text": [
      "\n"
     ]
    },
    {
     "name": "stdout",
     "output_type": "stream",
     "text": [
      "Results from the best model\n",
      "Fold with best validation RSE: 5\n",
      "Best validation RSE: 2.50\n"
     ]
    },
    {
     "data": {
      "image/png": "[encoded data removed]",
      "text/plain": [
       "<Figure size 864x576 with 1 Axes>"
      ]
     },
     "metadata": {
      "needs_background": "light"
     },
     "output_type": "display_data"
    },
    {
     "name": "stdout",
     "output_type": "stream",
     "text": [
      "--------------DONE TRAINING MODEL FOR RevenueFromContractWithCustomerExcludingAssessedTax--------------\n",
      "\n",
      "\n"
     ]
    }
   ],
   "source": [
    "# Define variables\n",
    "batch_size = 32\n",
    "epochs=40\n",
    "initial_lr=0.0001 # change to 0.0001 would be better because it will be more stable, 0.001 is too large\n",
    "eps=1e-8\n",
    "patience=5\n",
    "cv=10\n",
    "\n",
    "\n",
    "# Name metric\n",
    "file = fb_files[3]\n",
    "metric_name = file.split('.')[0].split('_')[0]\n",
    "\n",
    "print(f\"--------------START TRAINING MODEL FOR {metric_name}--------------\")\n",
    "\n",
    "# Read csv file\n",
    "df = pd.read_csv(fb_path + file)\n",
    "\n",
    "# Load model and tokenizer\n",
    "model, tokenizer = finbert_regressor()\n",
    "model.to(device)\n",
    "\n",
    "# Prepare dataset\n",
    "dataset = prepare_labeled_datasets(tokenizer, model, 300, df['text'].values.tolist(), df['target'].values.tolist()) \n",
    "\n",
    "# Train model\n",
    "best_model_overall, best_val_loss_overall, best_fold_overall, all_train_losses, all_val_losses, training_stats  = train_finbert_regressor(model, tokenizer, dataset, \n",
    "                                                                                          epochs=epochs, initial_lr=initial_lr, \n",
    "                                                                                          eps=eps, cv=cv)  \n",
    "\n",
    "# Save models\n",
    "#If folder not available, create folder\n",
    "if not os.path.exists('../models/finbert-regression/finbert_data/' + metric_name):\n",
    "   os.makedirs('../models/finbert-regression/finbert_data/' + metric_name)\n",
    "# Save model to folder\n",
    "best_model_overall.save_pretrained('../models/finbert-regression/finbert_data/' + metric_name) \n",
    "\n",
    "# Present results from the best model\n",
    "print(\"Results from the best model\")\n",
    "print(f\"Fold with best validation RSE: {best_fold_overall}\")\n",
    "print(\"Best validation RSE: {0:.2f}\".format(best_val_loss_overall)) \n",
    "\n",
    "plot_learning_curve(training_stats,best_fold_overall)\n",
    "print(f\"--------------DONE TRAINING MODEL FOR {metric_name}--------------\")\n",
    "print(\"\\n\")"
   ]
  },
  {
   "cell_type": "markdown",
   "metadata": {},
   "source": [
    "#### NetIncomeLoss - FinBERT"
   ]
  },
  {
   "cell_type": "code",
   "execution_count": 16,
   "metadata": {},
   "outputs": [
    {
     "name": "stdout",
     "output_type": "stream",
     "text": [
      "--------------START TRAINING MODEL FOR NetIncomeLoss--------------\n"
     ]
    },
    {
     "name": "stderr",
     "output_type": "stream",
     "text": [
      "Some weights of RegressionModel were not initialized from the model checkpoint at yiyanghkust/finbert-pretrain and are newly initialized: ['transformer.layer.5.sa_layer_norm.weight', 'transformer.layer.2.ffn.lin1.weight', 'transformer.layer.2.attention.k_lin.weight', 'transformer.layer.2.attention.out_lin.weight', 'transformer.layer.3.ffn.lin2.weight', 'transformer.layer.4.ffn.lin1.bias', 'transformer.layer.6.sa_layer_norm.weight', 'transformer.layer.10.sa_layer_norm.weight', 'transformer.layer.11.output_layer_norm.bias', 'transformer.layer.7.attention.k_lin.weight', 'transformer.layer.7.ffn.lin2.bias', 'embeddings.LayerNorm.weight', 'transformer.layer.11.attention.k_lin.bias', 'transformer.layer.2.sa_layer_norm.weight', 'transformer.layer.7.attention.q_lin.bias', 'transformer.layer.2.output_layer_norm.bias', 'transformer.layer.2.attention.q_lin.weight', 'transformer.layer.0.ffn.lin1.weight', 'transformer.layer.0.attention.k_lin.weight', 'transformer.layer.5.ffn.lin1.weight', 'transformer.layer.5.attention.out_lin.weight', 'transformer.layer.11.ffn.lin1.bias', 'transformer.layer.1.output_layer_norm.bias', 'transformer.layer.2.attention.v_lin.bias', 'transformer.layer.5.attention.k_lin.weight', 'transformer.layer.10.attention.v_lin.weight', 'transformer.layer.1.attention.v_lin.bias', 'transformer.layer.6.attention.v_lin.bias', 'transformer.layer.10.attention.out_lin.bias', 'transformer.layer.9.attention.q_lin.weight', 'embeddings.position_embeddings.weight', 'transformer.layer.0.ffn.lin2.bias', 'transformer.layer.3.attention.out_lin.bias', 'transformer.layer.4.attention.k_lin.weight', 'transformer.layer.5.attention.v_lin.bias', 'transformer.layer.11.attention.v_lin.weight', 'transformer.layer.1.ffn.lin1.weight', 'transformer.layer.6.attention.v_lin.weight', 'transformer.layer.8.output_layer_norm.weight', 'transformer.layer.5.output_layer_norm.bias', 'transformer.layer.0.attention.out_lin.bias', 'transformer.layer.10.attention.v_lin.bias', 'transformer.layer.2.attention.out_lin.bias', 'classifier.bias', 'transformer.layer.7.sa_layer_norm.weight', 'transformer.layer.9.ffn.lin1.weight', 'transformer.layer.9.ffn.lin1.bias', 'transformer.layer.9.ffn.lin2.weight', 'transformer.layer.2.ffn.lin1.bias', 'transformer.layer.8.attention.q_lin.bias', 'transformer.layer.10.attention.k_lin.bias', 'transformer.layer.6.sa_layer_norm.bias', 'transformer.layer.8.attention.v_lin.bias', 'transformer.layer.1.sa_layer_norm.weight', 'transformer.layer.4.output_layer_norm.weight', 'transformer.layer.3.attention.q_lin.weight', 'transformer.layer.2.attention.q_lin.bias', 'transformer.layer.9.attention.v_lin.weight', 'transformer.layer.9.attention.k_lin.bias', 'embeddings.LayerNorm.bias', 'transformer.layer.1.ffn.lin2.weight', 'transformer.layer.8.attention.k_lin.bias', 'transformer.layer.3.attention.v_lin.weight', 'transformer.layer.3.ffn.lin2.bias', 'transformer.layer.6.output_layer_norm.weight', 'transformer.layer.5.attention.q_lin.weight', 'transformer.layer.9.attention.v_lin.bias', 'transformer.layer.9.attention.out_lin.bias', 'transformer.layer.8.ffn.lin1.weight', 'transformer.layer.4.attention.v_lin.weight', 'transformer.layer.8.ffn.lin1.bias', 'transformer.layer.6.attention.q_lin.bias', 'transformer.layer.10.ffn.lin2.bias', 'transformer.layer.4.ffn.lin2.weight', 'transformer.layer.9.output_layer_norm.bias', 'transformer.layer.8.ffn.lin2.bias', 'transformer.layer.0.attention.k_lin.bias', 'transformer.layer.0.sa_layer_norm.bias', 'transformer.layer.5.attention.v_lin.weight', 'transformer.layer.2.output_layer_norm.weight', 'transformer.layer.8.attention.k_lin.weight', 'transformer.layer.6.ffn.lin1.weight', 'transformer.layer.6.ffn.lin2.bias', 'transformer.layer.11.attention.k_lin.weight', 'transformer.layer.2.sa_layer_norm.bias', 'transformer.layer.11.attention.q_lin.weight', 'transformer.layer.2.attention.k_lin.bias', 'transformer.layer.1.attention.q_lin.bias', 'transformer.layer.4.attention.out_lin.weight', 'transformer.layer.4.ffn.lin2.bias', 'transformer.layer.5.sa_layer_norm.bias', 'transformer.layer.6.ffn.lin2.weight', 'transformer.layer.11.sa_layer_norm.weight', 'transformer.layer.5.ffn.lin2.weight', 'transformer.layer.8.ffn.lin2.weight', 'pre_classifier.bias', 'transformer.layer.11.ffn.lin2.weight', 'transformer.layer.0.ffn.lin1.bias', 'transformer.layer.3.sa_layer_norm.bias', 'transformer.layer.3.attention.v_lin.bias', 'transformer.layer.7.attention.out_lin.bias', 'transformer.layer.10.sa_layer_norm.bias', 'transformer.layer.11.attention.out_lin.bias', 'transformer.layer.5.ffn.lin1.bias', 'transformer.layer.8.attention.q_lin.weight', 'transformer.layer.1.attention.v_lin.weight', 'transformer.layer.9.attention.out_lin.weight', 'transformer.layer.1.ffn.lin2.bias', 'transformer.layer.4.attention.out_lin.bias', 'transformer.layer.11.sa_layer_norm.bias', 'transformer.layer.4.output_layer_norm.bias', 'embeddings.word_embeddings.weight', 'transformer.layer.10.ffn.lin2.weight', 'transformer.layer.10.output_layer_norm.weight', 'transformer.layer.8.attention.v_lin.weight', 'transformer.layer.7.ffn.lin1.weight', 'transformer.layer.3.sa_layer_norm.weight', 'transformer.layer.2.ffn.lin2.weight', 'transformer.layer.5.ffn.lin2.bias', 'transformer.layer.7.output_layer_norm.weight', 'transformer.layer.4.ffn.lin1.weight', 'transformer.layer.8.sa_layer_norm.weight', 'transformer.layer.1.attention.k_lin.weight', 'transformer.layer.7.output_layer_norm.bias', 'transformer.layer.3.ffn.lin1.bias', 'transformer.layer.7.attention.out_lin.weight', 'transformer.layer.0.attention.out_lin.weight', 'transformer.layer.0.attention.v_lin.bias', 'transformer.layer.0.attention.q_lin.bias', 'transformer.layer.7.attention.v_lin.weight', 'classifier.weight', 'transformer.layer.1.sa_layer_norm.bias', 'transformer.layer.5.attention.out_lin.bias', 'transformer.layer.6.attention.q_lin.weight', 'transformer.layer.9.attention.q_lin.bias', 'transformer.layer.4.attention.k_lin.bias', 'transformer.layer.10.attention.q_lin.weight', 'transformer.layer.1.attention.out_lin.weight', 'transformer.layer.4.sa_layer_norm.weight', 'transformer.layer.6.attention.out_lin.bias', 'transformer.layer.7.attention.v_lin.bias', 'transformer.layer.6.output_layer_norm.bias', 'transformer.layer.1.attention.q_lin.weight', 'transformer.layer.9.ffn.lin2.bias', 'transformer.layer.0.output_layer_norm.weight', 'transformer.layer.5.attention.k_lin.bias', 'transformer.layer.4.attention.q_lin.weight', 'transformer.layer.6.ffn.lin1.bias', 'transformer.layer.7.attention.k_lin.bias', 'transformer.layer.1.ffn.lin1.bias', 'transformer.layer.1.attention.k_lin.bias', 'transformer.layer.11.ffn.lin1.weight', 'transformer.layer.8.sa_layer_norm.bias', 'transformer.layer.4.attention.v_lin.bias', 'transformer.layer.9.attention.k_lin.weight', 'transformer.layer.9.output_layer_norm.weight', 'transformer.layer.0.attention.q_lin.weight', 'transformer.layer.10.attention.out_lin.weight', 'transformer.layer.6.attention.k_lin.bias', 'transformer.layer.11.attention.v_lin.bias', 'transformer.layer.10.ffn.lin1.weight', 'transformer.layer.3.attention.out_lin.weight', 'transformer.layer.0.ffn.lin2.weight', 'transformer.layer.8.attention.out_lin.bias', 'transformer.layer.10.attention.q_lin.bias', 'transformer.layer.6.attention.k_lin.weight', 'transformer.layer.6.attention.out_lin.weight', 'transformer.layer.7.sa_layer_norm.bias', 'transformer.layer.11.attention.q_lin.bias', 'pre_classifier.weight', 'transformer.layer.0.attention.v_lin.weight', 'transformer.layer.5.attention.q_lin.bias', 'transformer.layer.0.sa_layer_norm.weight', 'transformer.layer.8.output_layer_norm.bias', 'transformer.layer.3.output_layer_norm.bias', 'transformer.layer.7.ffn.lin1.bias', 'transformer.layer.3.attention.k_lin.weight', 'transformer.layer.2.ffn.lin2.bias', 'transformer.layer.4.attention.q_lin.bias', 'transformer.layer.7.ffn.lin2.weight', 'transformer.layer.9.sa_layer_norm.weight', 'transformer.layer.2.attention.v_lin.weight', 'transformer.layer.10.ffn.lin1.bias', 'transformer.layer.11.attention.out_lin.weight', 'transformer.layer.5.output_layer_norm.weight', 'transformer.layer.4.sa_layer_norm.bias', 'transformer.layer.3.output_layer_norm.weight', 'transformer.layer.1.attention.out_lin.bias', 'transformer.layer.8.attention.out_lin.weight', 'transformer.layer.1.output_layer_norm.weight', 'transformer.layer.3.ffn.lin1.weight', 'transformer.layer.10.attention.k_lin.weight', 'transformer.layer.0.output_layer_norm.bias', 'transformer.layer.3.attention.q_lin.bias', 'transformer.layer.10.output_layer_norm.bias', 'transformer.layer.11.ffn.lin2.bias', 'transformer.layer.11.output_layer_norm.weight', 'transformer.layer.3.attention.k_lin.bias', 'transformer.layer.9.sa_layer_norm.bias', 'transformer.layer.7.attention.q_lin.weight']\n",
      "You should probably TRAIN this model on a down-stream task to be able to use it for predictions and inference.\n"
     ]
    },
    {
     "name": "stdout",
     "output_type": "stream",
     "text": [
      "Fold 1\n"
     ]
    },
    {
     "name": "stderr",
     "output_type": "stream",
     "text": [
      " 85%|████████▌ | 34/40 [1:29:57<15:52, 158.74s/it]\n"
     ]
    },
    {
     "name": "stdout",
     "output_type": "stream",
     "text": [
      "Early stopping at epoch 35 in fold 1\n",
      "Fold 1 - Best Validation Loss: 2.292755805212876 at Epoch: 32\n",
      "Fold 2\n"
     ]
    },
    {
     "name": "stderr",
     "output_type": "stream",
     "text": [
      "  8%|▊         | 3/40 [10:16<2:06:41, 205.45s/it]\n"
     ]
    },
    {
     "name": "stdout",
     "output_type": "stream",
     "text": [
      "Early stopping at epoch 4 in fold 2\n",
      "Fold 2 - Best Validation Loss: 2.1105419294587495 at Epoch: 1\n",
      "Fold 3\n"
     ]
    },
    {
     "name": "stderr",
     "output_type": "stream",
     "text": [
      "  8%|▊         | 3/40 [10:16<2:06:46, 205.58s/it]\n"
     ]
    },
    {
     "name": "stdout",
     "output_type": "stream",
     "text": [
      "Early stopping at epoch 4 in fold 3\n",
      "Fold 3 - Best Validation Loss: 2.1032007994322943 at Epoch: 1\n",
      "Fold 4\n"
     ]
    },
    {
     "name": "stderr",
     "output_type": "stream",
     "text": [
      "  8%|▊         | 3/40 [10:15<2:06:33, 205.23s/it]\n"
     ]
    },
    {
     "name": "stdout",
     "output_type": "stream",
     "text": [
      "Early stopping at epoch 4 in fold 4\n",
      "Fold 4 - Best Validation Loss: 2.054242325240168 at Epoch: 1\n",
      "Fold 5\n"
     ]
    },
    {
     "name": "stderr",
     "output_type": "stream",
     "text": [
      " 15%|█▌        | 6/40 [17:58<1:41:49, 179.70s/it]\n"
     ]
    },
    {
     "name": "stdout",
     "output_type": "stream",
     "text": [
      "Early stopping at epoch 7 in fold 5\n",
      "Fold 5 - Best Validation Loss: 2.1207780529712807 at Epoch: 4\n",
      "Fold 6\n"
     ]
    },
    {
     "name": "stderr",
     "output_type": "stream",
     "text": [
      "  8%|▊         | 3/40 [10:16<2:06:49, 205.67s/it]\n"
     ]
    },
    {
     "name": "stdout",
     "output_type": "stream",
     "text": [
      "Early stopping at epoch 4 in fold 6\n",
      "Fold 6 - Best Validation Loss: 2.0890207023456178 at Epoch: 1\n",
      "Fold 7\n"
     ]
    },
    {
     "name": "stderr",
     "output_type": "stream",
     "text": [
      "  8%|▊         | 3/40 [10:16<2:06:47, 205.62s/it]\n"
     ]
    },
    {
     "name": "stdout",
     "output_type": "stream",
     "text": [
      "Early stopping at epoch 4 in fold 7\n",
      "Fold 7 - Best Validation Loss: 2.514253326531114 at Epoch: 1\n",
      "Fold 8\n"
     ]
    },
    {
     "name": "stderr",
     "output_type": "stream",
     "text": [
      "  5%|▌         | 2/40 [07:41<2:26:12, 230.86s/it]\n"
     ]
    },
    {
     "name": "stdout",
     "output_type": "stream",
     "text": [
      "Early stopping at epoch 3 in fold 8\n",
      "Fold 8 - Best Validation Loss: inf at Epoch: 0\n",
      "Fold 9\n"
     ]
    },
    {
     "name": "stderr",
     "output_type": "stream",
     "text": [
      "  5%|▌         | 2/40 [07:42<2:26:36, 231.48s/it]\n"
     ]
    },
    {
     "name": "stdout",
     "output_type": "stream",
     "text": [
      "Early stopping at epoch 3 in fold 9\n",
      "Fold 9 - Best Validation Loss: inf at Epoch: 0\n",
      "Fold 10\n"
     ]
    },
    {
     "name": "stderr",
     "output_type": "stream",
     "text": [
      "  5%|▌         | 2/40 [07:42<2:26:25, 231.20s/it]"
     ]
    },
    {
     "name": "stdout",
     "output_type": "stream",
     "text": [
      "Early stopping at epoch 3 in fold 10\n",
      "Fold 10 - Best Validation Loss: inf at Epoch: 0\n"
     ]
    },
    {
     "name": "stderr",
     "output_type": "stream",
     "text": [
      "\n"
     ]
    },
    {
     "name": "stdout",
     "output_type": "stream",
     "text": [
      "Results from the best model\n",
      "Fold with best validation RSE: 4\n",
      "Best validation RSE: 2.05\n"
     ]
    },
    {
     "data": {
      "image/png": "[encoded data removed]",
      "text/plain": [
       "<Figure size 864x576 with 1 Axes>"
      ]
     },
     "metadata": {
      "needs_background": "light"
     },
     "output_type": "display_data"
    },
    {
     "name": "stdout",
     "output_type": "stream",
     "text": [
      "--------------DONE TRAINING MODEL FOR NetIncomeLoss--------------\n",
      "\n",
      "\n"
     ]
    }
   ],
   "source": [
    "# Define variables\n",
    "batch_size = 32\n",
    "epochs=40\n",
    "initial_lr=0.001\n",
    "eps=1e-8\n",
    "patience=5\n",
    "cv=10\n",
    "\n",
    "\n",
    "# Name metric\n",
    "file = fb_files[4]\n",
    "metric_name = file.split('.')[0].split('_')[0]\n",
    "\n",
    "print(f\"--------------START TRAINING MODEL FOR {metric_name}--------------\")\n",
    "\n",
    "# Read csv file\n",
    "df = pd.read_csv(fb_path + file)\n",
    "\n",
    "# Load model and tokenizer\n",
    "model, tokenizer = finbert_regressor()\n",
    "model.to(device)\n",
    "\n",
    "# Prepare dataset\n",
    "dataset = prepare_labeled_datasets(tokenizer, model, 300, df['text'].values.tolist(), df['target'].values.tolist()) \n",
    "\n",
    "# Train model\n",
    "best_model_overall, best_val_loss_overall, best_fold_overall, all_train_losses, all_val_losses, training_stats  = train_finbert_regressor(model, tokenizer, dataset, \n",
    "                                                                                          epochs=epochs, initial_lr=initial_lr, \n",
    "                                                                                          eps=eps, cv=cv)  \n",
    "\n",
    "# Save models\n",
    "#If folder not available, create folder\n",
    "if not os.path.exists('../models/finbert-regression/finbert_data/' + metric_name):\n",
    "   os.makedirs('../models/finbert-regression/finbert_data/' + metric_name)\n",
    "# Save model to folder\n",
    "best_model_overall.save_pretrained('../models/finbert-regression/finbert_data/' + metric_name) \n",
    "\n",
    "# Present results from the best model\n",
    "print(\"Results from the best model\")\n",
    "print(f\"Fold with best validation RSE: {best_fold_overall}\")\n",
    "print(\"Best validation RSE: {0:.2f}\".format(best_val_loss_overall)) \n",
    "\n",
    "plot_learning_curve(training_stats,best_fold_overall)\n",
    "print(f\"--------------DONE TRAINING MODEL FOR {metric_name}--------------\")\n",
    "print(\"\\n\")"
   ]
  },
  {
   "cell_type": "markdown",
   "metadata": {},
   "source": [
    "#### EPS - FinBERT"
   ]
  },
  {
   "cell_type": "code",
   "execution_count": 15,
   "metadata": {},
   "outputs": [
    {
     "name": "stdout",
     "output_type": "stream",
     "text": [
      "--------------START TRAINING MODEL FOR EarningsPerShareDiluted--------------\n"
     ]
    },
    {
     "name": "stderr",
     "output_type": "stream",
     "text": [
      "Some weights of RegressionModel were not initialized from the model checkpoint at yiyanghkust/finbert-pretrain and are newly initialized: ['transformer.layer.5.sa_layer_norm.weight', 'transformer.layer.2.ffn.lin1.weight', 'transformer.layer.2.attention.k_lin.weight', 'transformer.layer.2.attention.out_lin.weight', 'transformer.layer.3.ffn.lin2.weight', 'transformer.layer.4.ffn.lin1.bias', 'transformer.layer.6.sa_layer_norm.weight', 'transformer.layer.10.sa_layer_norm.weight', 'transformer.layer.11.output_layer_norm.bias', 'transformer.layer.7.attention.k_lin.weight', 'transformer.layer.7.ffn.lin2.bias', 'embeddings.LayerNorm.weight', 'transformer.layer.11.attention.k_lin.bias', 'transformer.layer.2.sa_layer_norm.weight', 'transformer.layer.7.attention.q_lin.bias', 'transformer.layer.2.output_layer_norm.bias', 'transformer.layer.2.attention.q_lin.weight', 'transformer.layer.0.ffn.lin1.weight', 'transformer.layer.0.attention.k_lin.weight', 'transformer.layer.5.ffn.lin1.weight', 'transformer.layer.5.attention.out_lin.weight', 'transformer.layer.11.ffn.lin1.bias', 'transformer.layer.1.output_layer_norm.bias', 'transformer.layer.2.attention.v_lin.bias', 'transformer.layer.5.attention.k_lin.weight', 'transformer.layer.10.attention.v_lin.weight', 'transformer.layer.1.attention.v_lin.bias', 'transformer.layer.6.attention.v_lin.bias', 'transformer.layer.10.attention.out_lin.bias', 'transformer.layer.9.attention.q_lin.weight', 'embeddings.position_embeddings.weight', 'transformer.layer.0.ffn.lin2.bias', 'transformer.layer.3.attention.out_lin.bias', 'transformer.layer.4.attention.k_lin.weight', 'transformer.layer.5.attention.v_lin.bias', 'transformer.layer.11.attention.v_lin.weight', 'transformer.layer.1.ffn.lin1.weight', 'transformer.layer.6.attention.v_lin.weight', 'transformer.layer.8.output_layer_norm.weight', 'transformer.layer.5.output_layer_norm.bias', 'transformer.layer.0.attention.out_lin.bias', 'transformer.layer.10.attention.v_lin.bias', 'transformer.layer.2.attention.out_lin.bias', 'classifier.bias', 'transformer.layer.7.sa_layer_norm.weight', 'transformer.layer.9.ffn.lin1.weight', 'transformer.layer.9.ffn.lin1.bias', 'transformer.layer.9.ffn.lin2.weight', 'transformer.layer.2.ffn.lin1.bias', 'transformer.layer.8.attention.q_lin.bias', 'transformer.layer.10.attention.k_lin.bias', 'transformer.layer.6.sa_layer_norm.bias', 'transformer.layer.8.attention.v_lin.bias', 'transformer.layer.1.sa_layer_norm.weight', 'transformer.layer.4.output_layer_norm.weight', 'transformer.layer.3.attention.q_lin.weight', 'transformer.layer.2.attention.q_lin.bias', 'transformer.layer.9.attention.v_lin.weight', 'transformer.layer.9.attention.k_lin.bias', 'embeddings.LayerNorm.bias', 'transformer.layer.1.ffn.lin2.weight', 'transformer.layer.8.attention.k_lin.bias', 'transformer.layer.3.attention.v_lin.weight', 'transformer.layer.3.ffn.lin2.bias', 'transformer.layer.6.output_layer_norm.weight', 'transformer.layer.5.attention.q_lin.weight', 'transformer.layer.9.attention.v_lin.bias', 'transformer.layer.9.attention.out_lin.bias', 'transformer.layer.8.ffn.lin1.weight', 'transformer.layer.4.attention.v_lin.weight', 'transformer.layer.8.ffn.lin1.bias', 'transformer.layer.6.attention.q_lin.bias', 'transformer.layer.10.ffn.lin2.bias', 'transformer.layer.4.ffn.lin2.weight', 'transformer.layer.9.output_layer_norm.bias', 'transformer.layer.8.ffn.lin2.bias', 'transformer.layer.0.attention.k_lin.bias', 'transformer.layer.0.sa_layer_norm.bias', 'transformer.layer.5.attention.v_lin.weight', 'transformer.layer.2.output_layer_norm.weight', 'transformer.layer.8.attention.k_lin.weight', 'transformer.layer.6.ffn.lin1.weight', 'transformer.layer.6.ffn.lin2.bias', 'transformer.layer.11.attention.k_lin.weight', 'transformer.layer.2.sa_layer_norm.bias', 'transformer.layer.11.attention.q_lin.weight', 'transformer.layer.2.attention.k_lin.bias', 'transformer.layer.1.attention.q_lin.bias', 'transformer.layer.4.attention.out_lin.weight', 'transformer.layer.4.ffn.lin2.bias', 'transformer.layer.5.sa_layer_norm.bias', 'transformer.layer.6.ffn.lin2.weight', 'transformer.layer.11.sa_layer_norm.weight', 'transformer.layer.5.ffn.lin2.weight', 'transformer.layer.8.ffn.lin2.weight', 'pre_classifier.bias', 'transformer.layer.11.ffn.lin2.weight', 'transformer.layer.0.ffn.lin1.bias', 'transformer.layer.3.sa_layer_norm.bias', 'transformer.layer.3.attention.v_lin.bias', 'transformer.layer.7.attention.out_lin.bias', 'transformer.layer.10.sa_layer_norm.bias', 'transformer.layer.11.attention.out_lin.bias', 'transformer.layer.5.ffn.lin1.bias', 'transformer.layer.8.attention.q_lin.weight', 'transformer.layer.1.attention.v_lin.weight', 'transformer.layer.9.attention.out_lin.weight', 'transformer.layer.1.ffn.lin2.bias', 'transformer.layer.4.attention.out_lin.bias', 'transformer.layer.11.sa_layer_norm.bias', 'transformer.layer.4.output_layer_norm.bias', 'embeddings.word_embeddings.weight', 'transformer.layer.10.ffn.lin2.weight', 'transformer.layer.10.output_layer_norm.weight', 'transformer.layer.8.attention.v_lin.weight', 'transformer.layer.7.ffn.lin1.weight', 'transformer.layer.3.sa_layer_norm.weight', 'transformer.layer.2.ffn.lin2.weight', 'transformer.layer.5.ffn.lin2.bias', 'transformer.layer.7.output_layer_norm.weight', 'transformer.layer.4.ffn.lin1.weight', 'transformer.layer.8.sa_layer_norm.weight', 'transformer.layer.1.attention.k_lin.weight', 'transformer.layer.7.output_layer_norm.bias', 'transformer.layer.3.ffn.lin1.bias', 'transformer.layer.7.attention.out_lin.weight', 'transformer.layer.0.attention.out_lin.weight', 'transformer.layer.0.attention.v_lin.bias', 'transformer.layer.0.attention.q_lin.bias', 'transformer.layer.7.attention.v_lin.weight', 'classifier.weight', 'transformer.layer.1.sa_layer_norm.bias', 'transformer.layer.5.attention.out_lin.bias', 'transformer.layer.6.attention.q_lin.weight', 'transformer.layer.9.attention.q_lin.bias', 'transformer.layer.4.attention.k_lin.bias', 'transformer.layer.10.attention.q_lin.weight', 'transformer.layer.1.attention.out_lin.weight', 'transformer.layer.4.sa_layer_norm.weight', 'transformer.layer.6.attention.out_lin.bias', 'transformer.layer.7.attention.v_lin.bias', 'transformer.layer.6.output_layer_norm.bias', 'transformer.layer.1.attention.q_lin.weight', 'transformer.layer.9.ffn.lin2.bias', 'transformer.layer.0.output_layer_norm.weight', 'transformer.layer.5.attention.k_lin.bias', 'transformer.layer.4.attention.q_lin.weight', 'transformer.layer.6.ffn.lin1.bias', 'transformer.layer.7.attention.k_lin.bias', 'transformer.layer.1.ffn.lin1.bias', 'transformer.layer.1.attention.k_lin.bias', 'transformer.layer.11.ffn.lin1.weight', 'transformer.layer.8.sa_layer_norm.bias', 'transformer.layer.4.attention.v_lin.bias', 'transformer.layer.9.attention.k_lin.weight', 'transformer.layer.9.output_layer_norm.weight', 'transformer.layer.0.attention.q_lin.weight', 'transformer.layer.10.attention.out_lin.weight', 'transformer.layer.6.attention.k_lin.bias', 'transformer.layer.11.attention.v_lin.bias', 'transformer.layer.10.ffn.lin1.weight', 'transformer.layer.3.attention.out_lin.weight', 'transformer.layer.0.ffn.lin2.weight', 'transformer.layer.8.attention.out_lin.bias', 'transformer.layer.10.attention.q_lin.bias', 'transformer.layer.6.attention.k_lin.weight', 'transformer.layer.6.attention.out_lin.weight', 'transformer.layer.7.sa_layer_norm.bias', 'transformer.layer.11.attention.q_lin.bias', 'pre_classifier.weight', 'transformer.layer.0.attention.v_lin.weight', 'transformer.layer.5.attention.q_lin.bias', 'transformer.layer.0.sa_layer_norm.weight', 'transformer.layer.8.output_layer_norm.bias', 'transformer.layer.3.output_layer_norm.bias', 'transformer.layer.7.ffn.lin1.bias', 'transformer.layer.3.attention.k_lin.weight', 'transformer.layer.2.ffn.lin2.bias', 'transformer.layer.4.attention.q_lin.bias', 'transformer.layer.7.ffn.lin2.weight', 'transformer.layer.9.sa_layer_norm.weight', 'transformer.layer.2.attention.v_lin.weight', 'transformer.layer.10.ffn.lin1.bias', 'transformer.layer.11.attention.out_lin.weight', 'transformer.layer.5.output_layer_norm.weight', 'transformer.layer.4.sa_layer_norm.bias', 'transformer.layer.3.output_layer_norm.weight', 'transformer.layer.1.attention.out_lin.bias', 'transformer.layer.8.attention.out_lin.weight', 'transformer.layer.1.output_layer_norm.weight', 'transformer.layer.3.ffn.lin1.weight', 'transformer.layer.10.attention.k_lin.weight', 'transformer.layer.0.output_layer_norm.bias', 'transformer.layer.3.attention.q_lin.bias', 'transformer.layer.10.output_layer_norm.bias', 'transformer.layer.11.ffn.lin2.bias', 'transformer.layer.11.output_layer_norm.weight', 'transformer.layer.3.attention.k_lin.bias', 'transformer.layer.9.sa_layer_norm.bias', 'transformer.layer.7.attention.q_lin.weight']\n",
      "You should probably TRAIN this model on a down-stream task to be able to use it for predictions and inference.\n"
     ]
    },
    {
     "name": "stdout",
     "output_type": "stream",
     "text": [
      "Fold 1\n"
     ]
    },
    {
     "name": "stderr",
     "output_type": "stream",
     "text": [
      " 25%|██▌       | 10/40 [01:05<03:17,  6.58s/it]\n"
     ]
    },
    {
     "name": "stdout",
     "output_type": "stream",
     "text": [
      "Early stopping at epoch 11 in fold 1\n",
      "Fold 1 - Best Validation Loss: 1.1112149159113567 at Epoch: 8\n",
      "Fold 2\n"
     ]
    },
    {
     "name": "stderr",
     "output_type": "stream",
     "text": [
      "  8%|▊         | 3/40 [00:23<04:55,  7.98s/it]\n"
     ]
    },
    {
     "name": "stdout",
     "output_type": "stream",
     "text": [
      "Early stopping at epoch 4 in fold 2\n",
      "Fold 2 - Best Validation Loss: 1.10459299882253 at Epoch: 1\n",
      "Fold 3\n"
     ]
    },
    {
     "name": "stderr",
     "output_type": "stream",
     "text": [
      "  8%|▊         | 3/40 [00:23<04:55,  7.99s/it]\n"
     ]
    },
    {
     "name": "stdout",
     "output_type": "stream",
     "text": [
      "Early stopping at epoch 4 in fold 3\n",
      "Fold 3 - Best Validation Loss: 1.4428151448567708 at Epoch: 1\n",
      "Fold 4\n"
     ]
    },
    {
     "name": "stderr",
     "output_type": "stream",
     "text": [
      " 15%|█▌        | 6/40 [00:41<03:57,  6.97s/it]\n"
     ]
    },
    {
     "name": "stdout",
     "output_type": "stream",
     "text": [
      "Early stopping at epoch 7 in fold 4\n",
      "Fold 4 - Best Validation Loss: 1.5449285507202148 at Epoch: 4\n",
      "Fold 5\n"
     ]
    },
    {
     "name": "stderr",
     "output_type": "stream",
     "text": [
      "  8%|▊         | 3/40 [00:23<04:55,  7.99s/it]\n"
     ]
    },
    {
     "name": "stdout",
     "output_type": "stream",
     "text": [
      "Early stopping at epoch 4 in fold 5\n",
      "Fold 5 - Best Validation Loss: 1.1354157129923503 at Epoch: 1\n",
      "Fold 6\n"
     ]
    },
    {
     "name": "stderr",
     "output_type": "stream",
     "text": [
      "  8%|▊         | 3/40 [00:23<04:55,  7.98s/it]\n"
     ]
    },
    {
     "name": "stdout",
     "output_type": "stream",
     "text": [
      "Early stopping at epoch 4 in fold 6\n",
      "Fold 6 - Best Validation Loss: 1.329614241917928 at Epoch: 1\n",
      "Fold 7\n"
     ]
    },
    {
     "name": "stderr",
     "output_type": "stream",
     "text": [
      " 10%|█         | 4/40 [00:29<04:28,  7.46s/it]\n"
     ]
    },
    {
     "name": "stdout",
     "output_type": "stream",
     "text": [
      "Early stopping at epoch 5 in fold 7\n",
      "Fold 7 - Best Validation Loss: 1.6806857585906982 at Epoch: 2\n",
      "Fold 8\n"
     ]
    },
    {
     "name": "stderr",
     "output_type": "stream",
     "text": [
      "  8%|▊         | 3/40 [00:23<04:54,  7.95s/it]\n"
     ]
    },
    {
     "name": "stdout",
     "output_type": "stream",
     "text": [
      "Early stopping at epoch 4 in fold 8\n",
      "Fold 8 - Best Validation Loss: 1.0744662682215373 at Epoch: 1\n",
      "Fold 9\n"
     ]
    },
    {
     "name": "stderr",
     "output_type": "stream",
     "text": [
      " 15%|█▌        | 6/40 [00:41<03:56,  6.97s/it]\n"
     ]
    },
    {
     "name": "stdout",
     "output_type": "stream",
     "text": [
      "Early stopping at epoch 7 in fold 9\n",
      "Fold 9 - Best Validation Loss: 1.2045284509658813 at Epoch: 4\n",
      "Fold 10\n"
     ]
    },
    {
     "name": "stderr",
     "output_type": "stream",
     "text": [
      " 10%|█         | 4/40 [00:29<04:29,  7.50s/it]"
     ]
    },
    {
     "name": "stdout",
     "output_type": "stream",
     "text": [
      "Early stopping at epoch 5 in fold 10\n",
      "Fold 10 - Best Validation Loss: 1.0555521249771118 at Epoch: 2\n"
     ]
    },
    {
     "name": "stderr",
     "output_type": "stream",
     "text": [
      "\n"
     ]
    },
    {
     "name": "stdout",
     "output_type": "stream",
     "text": [
      "Results from the best model\n",
      "Fold with best validation RSE: 10\n",
      "Best validation RSE: 1.06\n"
     ]
    },
    {
     "data": {
      "image/png": "[encoded data removed]",
      "text/plain": [
       "<Figure size 864x576 with 1 Axes>"
      ]
     },
     "metadata": {
      "needs_background": "light"
     },
     "output_type": "display_data"
    },
    {
     "name": "stdout",
     "output_type": "stream",
     "text": [
      "--------------DONE TRAINING MODEL FOR EarningsPerShareDiluted--------------\n",
      "\n",
      "\n"
     ]
    }
   ],
   "source": [
    "# Define variables\n",
    "batch_size = 16\n",
    "epochs=40\n",
    "initial_lr=0.0001\n",
    "eps=1e-8\n",
    "patience=5\n",
    "cv=10\n",
    "\n",
    "\n",
    "# Name metric\n",
    "file = fb_files[5]\n",
    "metric_name = file.split('.')[0].split('_')[0]\n",
    "\n",
    "print(f\"--------------START TRAINING MODEL FOR {metric_name}--------------\")\n",
    "\n",
    "# Read csv file\n",
    "df = pd.read_csv(fb_path + file)\n",
    "\n",
    "# Load model and tokenizer\n",
    "model, tokenizer = finbert_regressor()\n",
    "model.to(device)\n",
    "\n",
    "# Prepare dataset\n",
    "dataset = prepare_labeled_datasets(tokenizer, model, 300, df['text'].values.tolist(), df['target'].values.tolist()) \n",
    "\n",
    "# Train model\n",
    "best_model_overall, best_val_loss_overall, best_fold_overall, all_train_losses, all_val_losses, training_stats  = train_finbert_regressor(model, tokenizer, dataset, \n",
    "                                                                                          epochs=epochs, initial_lr=initial_lr, \n",
    "                                                                                          eps=eps, cv=cv)  \n",
    "\n",
    "# Save models\n",
    "#If folder not available, create folder\n",
    "if not os.path.exists('../models/finbert-regression/finbert_data/' + metric_name):\n",
    "   os.makedirs('../models/finbert-regression/finbert_data/' + metric_name)\n",
    "# Save model to folder\n",
    "best_model_overall.save_pretrained('../models/finbert-regression/finbert_data/' + metric_name) \n",
    "\n",
    "# Present results from the best model\n",
    "print(\"Results from the best model\")\n",
    "print(f\"Fold with best validation RSE: {best_fold_overall}\")\n",
    "print(\"Best validation RSE: {0:.2f}\".format(best_val_loss_overall)) \n",
    "\n",
    "plot_learning_curve(training_stats,best_fold_overall)\n",
    "print(f\"--------------DONE TRAINING MODEL FOR {metric_name}--------------\")\n",
    "print(\"\\n\")"
   ]
  },
  {
   "cell_type": "code",
   "execution_count": 9,
   "metadata": {},
   "outputs": [],
   "source": [
    "# Plot the learning curve\n",
    "def plot_learning_curve(train_losses, val_losses):\n",
    "    plt.figure(figsize=(15, 8))\n",
    "    plt.title(\"Training vs. Validation loss\")\n",
    "    plt.xlabel(\"Epoch\")\n",
    "    plt.ylabel(\"Loss\")\n",
    "    plt.plot(train_losses, 'b-o', label=\"Training Loss\")\n",
    "    plt.plot(val_losses, 'r-o', label=\"Validation loss\")\n",
    "    plt.legend()\n",
    "    plt.xlabel('Epoch')\n",
    "    plt.ylabel('Loss')\n",
    "    plt.show()"
   ]
  },
  {
   "cell_type": "markdown",
   "metadata": {},
   "source": [
    "## NetCashProvidedByUsedInInvestingActivities"
   ]
  },
  {
   "cell_type": "code",
   "execution_count": 48,
   "metadata": {},
   "outputs": [
    {
     "name": "stdout",
     "output_type": "stream",
     "text": [
      "--------------START TRAINING MODEL FOR NetCashProvidedByUsedInInvestingActivities--------------\n"
     ]
    },
    {
     "name": "stderr",
     "output_type": "stream",
     "text": [
      "Some weights of RegressionModel were not initialized from the model checkpoint at yiyanghkust/finbert-pretrain and are newly initialized: ['transformer.layer.6.output_layer_norm.weight', 'transformer.layer.11.output_layer_norm.bias', 'transformer.layer.4.ffn.lin2.bias', 'transformer.layer.9.attention.q_lin.bias', 'transformer.layer.9.attention.k_lin.weight', 'transformer.layer.8.sa_layer_norm.bias', 'transformer.layer.2.sa_layer_norm.bias', 'transformer.layer.0.ffn.lin1.bias', 'transformer.layer.1.sa_layer_norm.bias', 'transformer.layer.3.ffn.lin2.bias', 'transformer.layer.3.attention.k_lin.bias', 'transformer.layer.7.sa_layer_norm.weight', 'transformer.layer.6.attention.q_lin.bias', 'transformer.layer.5.attention.k_lin.weight', 'transformer.layer.0.ffn.lin1.weight', 'transformer.layer.3.sa_layer_norm.bias', 'transformer.layer.8.ffn.lin1.weight', 'transformer.layer.4.attention.out_lin.weight', 'transformer.layer.2.attention.v_lin.bias', 'transformer.layer.6.attention.k_lin.weight', 'transformer.layer.11.attention.q_lin.bias', 'transformer.layer.0.ffn.lin2.weight', 'transformer.layer.7.output_layer_norm.weight', 'transformer.layer.4.attention.k_lin.weight', 'transformer.layer.2.ffn.lin1.bias', 'transformer.layer.1.attention.out_lin.bias', 'transformer.layer.7.attention.k_lin.weight', 'transformer.layer.8.attention.q_lin.weight', 'transformer.layer.10.attention.out_lin.bias', 'transformer.layer.11.ffn.lin2.bias', 'transformer.layer.11.ffn.lin2.weight', 'transformer.layer.1.attention.q_lin.bias', 'pre_classifier.bias', 'transformer.layer.9.output_layer_norm.weight', 'transformer.layer.10.attention.q_lin.weight', 'transformer.layer.10.attention.q_lin.bias', 'embeddings.position_embeddings.weight', 'transformer.layer.8.ffn.lin2.bias', 'transformer.layer.0.sa_layer_norm.weight', 'transformer.layer.10.attention.out_lin.weight', 'transformer.layer.9.ffn.lin2.weight', 'transformer.layer.3.ffn.lin1.weight', 'classifier.bias', 'transformer.layer.8.attention.out_lin.bias', 'transformer.layer.11.attention.k_lin.weight', 'transformer.layer.4.sa_layer_norm.bias', 'transformer.layer.9.sa_layer_norm.weight', 'transformer.layer.9.sa_layer_norm.bias', 'transformer.layer.7.sa_layer_norm.bias', 'transformer.layer.11.sa_layer_norm.weight', 'transformer.layer.1.ffn.lin1.bias', 'transformer.layer.6.attention.v_lin.weight', 'transformer.layer.6.sa_layer_norm.weight', 'transformer.layer.5.attention.out_lin.weight', 'transformer.layer.5.output_layer_norm.weight', 'transformer.layer.5.ffn.lin2.bias', 'transformer.layer.3.attention.v_lin.bias', 'transformer.layer.9.attention.out_lin.weight', 'transformer.layer.0.output_layer_norm.weight', 'transformer.layer.4.attention.v_lin.bias', 'transformer.layer.5.attention.out_lin.bias', 'transformer.layer.10.output_layer_norm.weight', 'transformer.layer.0.attention.v_lin.bias', 'transformer.layer.2.attention.out_lin.bias', 'transformer.layer.7.ffn.lin2.bias', 'transformer.layer.1.ffn.lin2.bias', 'transformer.layer.2.attention.q_lin.weight', 'transformer.layer.4.attention.q_lin.weight', 'pre_classifier.weight', 'transformer.layer.3.attention.k_lin.weight', 'transformer.layer.1.output_layer_norm.weight', 'transformer.layer.1.attention.out_lin.weight', 'transformer.layer.10.sa_layer_norm.weight', 'transformer.layer.11.ffn.lin1.weight', 'transformer.layer.10.ffn.lin2.bias', 'transformer.layer.7.attention.out_lin.weight', 'transformer.layer.6.attention.k_lin.bias', 'transformer.layer.5.ffn.lin1.weight', 'transformer.layer.0.attention.k_lin.bias', 'transformer.layer.7.attention.v_lin.bias', 'transformer.layer.10.ffn.lin2.weight', 'transformer.layer.1.sa_layer_norm.weight', 'transformer.layer.9.attention.v_lin.bias', 'transformer.layer.11.sa_layer_norm.bias', 'transformer.layer.8.output_layer_norm.bias', 'transformer.layer.9.attention.v_lin.weight', 'transformer.layer.3.ffn.lin1.bias', 'transformer.layer.3.attention.q_lin.bias', 'transformer.layer.2.sa_layer_norm.weight', 'transformer.layer.8.ffn.lin1.bias', 'transformer.layer.1.attention.v_lin.weight', 'transformer.layer.6.ffn.lin1.bias', 'transformer.layer.3.attention.v_lin.weight', 'transformer.layer.7.ffn.lin1.bias', 'transformer.layer.8.attention.k_lin.weight', 'transformer.layer.2.attention.v_lin.weight', 'transformer.layer.0.attention.out_lin.weight', 'transformer.layer.11.attention.out_lin.bias', 'transformer.layer.4.ffn.lin1.weight', 'transformer.layer.5.sa_layer_norm.bias', 'transformer.layer.6.attention.q_lin.weight', 'transformer.layer.7.attention.v_lin.weight', 'transformer.layer.0.sa_layer_norm.bias', 'transformer.layer.0.output_layer_norm.bias', 'transformer.layer.11.ffn.lin1.bias', 'transformer.layer.10.attention.v_lin.bias', 'transformer.layer.3.sa_layer_norm.weight', 'transformer.layer.11.attention.k_lin.bias', 'transformer.layer.6.ffn.lin2.weight', 'transformer.layer.10.output_layer_norm.bias', 'transformer.layer.2.output_layer_norm.weight', 'transformer.layer.7.attention.out_lin.bias', 'transformer.layer.11.attention.v_lin.weight', 'transformer.layer.5.attention.v_lin.bias', 'transformer.layer.8.attention.out_lin.weight', 'transformer.layer.11.attention.v_lin.bias', 'transformer.layer.9.ffn.lin2.bias', 'transformer.layer.6.sa_layer_norm.bias', 'transformer.layer.7.ffn.lin1.weight', 'transformer.layer.8.output_layer_norm.weight', 'transformer.layer.5.attention.v_lin.weight', 'transformer.layer.0.attention.q_lin.weight', 'transformer.layer.0.ffn.lin2.bias', 'transformer.layer.7.attention.k_lin.bias', 'transformer.layer.0.attention.v_lin.weight', 'transformer.layer.3.attention.out_lin.weight', 'transformer.layer.0.attention.out_lin.bias', 'transformer.layer.6.ffn.lin1.weight', 'transformer.layer.7.attention.q_lin.bias', 'transformer.layer.0.attention.q_lin.bias', 'transformer.layer.8.attention.v_lin.weight', 'embeddings.LayerNorm.weight', 'transformer.layer.0.attention.k_lin.weight', 'transformer.layer.9.ffn.lin1.bias', 'transformer.layer.10.ffn.lin1.bias', 'transformer.layer.10.sa_layer_norm.bias', 'transformer.layer.1.output_layer_norm.bias', 'transformer.layer.10.attention.k_lin.bias', 'transformer.layer.8.attention.q_lin.bias', 'transformer.layer.2.attention.out_lin.weight', 'transformer.layer.5.attention.q_lin.bias', 'transformer.layer.11.output_layer_norm.weight', 'transformer.layer.1.attention.k_lin.weight', 'transformer.layer.7.attention.q_lin.weight', 'transformer.layer.3.output_layer_norm.bias', 'transformer.layer.4.ffn.lin2.weight', 'transformer.layer.11.attention.q_lin.weight', 'transformer.layer.2.attention.q_lin.bias', 'transformer.layer.10.ffn.lin1.weight', 'transformer.layer.1.ffn.lin2.weight', 'transformer.layer.5.sa_layer_norm.weight', 'transformer.layer.2.ffn.lin2.weight', 'transformer.layer.6.attention.out_lin.weight', 'transformer.layer.8.sa_layer_norm.weight', 'transformer.layer.4.attention.out_lin.bias', 'transformer.layer.3.attention.out_lin.bias', 'transformer.layer.1.attention.v_lin.bias', 'transformer.layer.6.attention.v_lin.bias', 'transformer.layer.1.attention.k_lin.bias', 'transformer.layer.10.attention.v_lin.weight', 'transformer.layer.7.output_layer_norm.bias', 'embeddings.word_embeddings.weight', 'transformer.layer.8.attention.k_lin.bias', 'classifier.weight', 'transformer.layer.2.output_layer_norm.bias', 'transformer.layer.9.attention.k_lin.bias', 'transformer.layer.5.ffn.lin1.bias', 'transformer.layer.4.sa_layer_norm.weight', 'transformer.layer.8.ffn.lin2.weight', 'transformer.layer.9.attention.q_lin.weight', 'transformer.layer.2.attention.k_lin.weight', 'transformer.layer.3.ffn.lin2.weight', 'transformer.layer.8.attention.v_lin.bias', 'transformer.layer.5.ffn.lin2.weight', 'transformer.layer.4.output_layer_norm.bias', 'transformer.layer.7.ffn.lin2.weight', 'transformer.layer.2.ffn.lin1.weight', 'transformer.layer.6.attention.out_lin.bias', 'transformer.layer.2.ffn.lin2.bias', 'transformer.layer.3.output_layer_norm.weight', 'transformer.layer.10.attention.k_lin.weight', 'transformer.layer.6.output_layer_norm.bias', 'transformer.layer.6.ffn.lin2.bias', 'transformer.layer.4.attention.k_lin.bias', 'transformer.layer.5.output_layer_norm.bias', 'transformer.layer.2.attention.k_lin.bias', 'transformer.layer.4.ffn.lin1.bias', 'transformer.layer.1.attention.q_lin.weight', 'transformer.layer.5.attention.k_lin.bias', 'transformer.layer.11.attention.out_lin.weight', 'embeddings.LayerNorm.bias', 'transformer.layer.1.ffn.lin1.weight', 'transformer.layer.4.attention.q_lin.bias', 'transformer.layer.9.attention.out_lin.bias', 'transformer.layer.9.ffn.lin1.weight', 'transformer.layer.3.attention.q_lin.weight', 'transformer.layer.5.attention.q_lin.weight', 'transformer.layer.9.output_layer_norm.bias', 'transformer.layer.4.attention.v_lin.weight', 'transformer.layer.4.output_layer_norm.weight']\n",
      "You should probably TRAIN this model on a down-stream task to be able to use it for predictions and inference.\n",
      "100%|██████████| 40/40 [00:18<00:00,  2.17it/s]\n"
     ]
    },
    {
     "name": "stdout",
     "output_type": "stream",
     "text": [
      "       Training Loss  Valid. Loss  Training Time  Learning Rate\n",
      "Epoch                                                          \n",
      "1           2.260489     6.259051       0.476233       0.000900\n",
      "2           2.538812     6.259051       0.456222       0.000810\n",
      "3           2.503164     6.259051       0.455377       0.000729\n",
      "4           2.276311     6.259052       0.455490       0.000656\n",
      "5           2.294718     6.259051       0.456920       0.000590\n",
      "6           2.242050     6.259051       0.454749       0.000531\n",
      "7           2.457535     6.259051       0.457343       0.000478\n",
      "8           2.207924     6.259051       0.456136       0.000430\n",
      "9           2.220384     6.259051       0.457397       0.000387\n",
      "10          2.198610     6.259050       0.458976       0.000349\n",
      "11          2.377462     6.259051       0.455616       0.000314\n",
      "12          2.316558     6.259050       0.455820       0.000282\n",
      "13          2.693615     6.259050       0.455049       0.000254\n",
      "14          2.327534     6.259050       0.455983       0.000229\n",
      "15          2.262630     6.259050       0.457546       0.000206\n",
      "16          2.341536     6.259051       0.459934       0.000185\n",
      "17          2.296754     6.259051       0.455685       0.000167\n",
      "18          2.256313     6.259051       0.459182       0.000150\n",
      "19          2.482829     6.259051       0.459125       0.000135\n",
      "20          2.343675     6.259050       0.459792       0.000122\n",
      "21          2.533476     6.259051       0.457806       0.000109\n",
      "22          2.468503     6.259051       0.457348       0.000098\n",
      "23          2.289770     6.259051       0.460023       0.000089\n",
      "24          2.239400     6.259050       0.455570       0.000080\n",
      "25          2.735666     6.259051       0.460767       0.000072\n",
      "26          2.220127     6.259052       0.461474       0.000065\n",
      "27          2.309443     6.259051       0.461021       0.000058\n",
      "28          3.249267     6.259051       0.456915       0.000052\n",
      "29          2.317931     6.259051       0.457544       0.000047\n",
      "30          2.223923     6.259051       0.456783       0.000042\n",
      "31          2.511696     6.259051       0.457989       0.000038\n",
      "32          2.442914     6.259051       0.457397       0.000034\n",
      "33          2.676560     6.259051       0.460734       0.000031\n",
      "34          2.231082     6.259051       0.461614       0.000028\n",
      "35          2.316680     6.259052       0.462585       0.000025\n",
      "36          2.349659     6.259051       0.460375       0.000023\n",
      "37          2.498223     6.259051       0.460494       0.000020\n",
      "38          2.533703     6.259052       0.459891       0.000018\n",
      "39          2.270066     6.259050       0.459791       0.000016\n",
      "40          2.373687     6.259051       0.459062       0.000015\n",
      "    Results from the best model\n",
      "Epoch with best validation RSE: 10\n",
      "Best validation RSE: 6.26\n"
     ]
    },
    {
     "data": {
      "image/png": "[encoded data removed]",
      "text/plain": [
       "<Figure size 1080x576 with 1 Axes>"
      ]
     },
     "metadata": {
      "needs_background": "light"
     },
     "output_type": "display_data"
    },
    {
     "name": "stdout",
     "output_type": "stream",
     "text": [
      "--------------DONE TRAINING MODEL FOR NetCashProvidedByUsedInInvestingActivities--------------\n",
      "\n",
      "\n"
     ]
    }
   ],
   "source": [
    "# Define variables\n",
    "batch_size = 16\n",
    "epochs=40\n",
    "initial_lr=0.001\n",
    "eps=1e-8\n",
    "# Name metric\n",
    "file = files[0]\n",
    "metric_name = file.split('.')[0].split('_')[0]\n",
    "\n",
    "print(f\"--------------START TRAINING MODEL FOR {metric_name}--------------\")\n",
    "\n",
    "# Read csv file\n",
    "df = pd.read_csv(path + file)\n",
    "\n",
    "# Train validation split\n",
    "train_df, val_df = train_val_split(df, test_size=0.2)\n",
    "\n",
    "# Load model and tokenizer\n",
    "model, tokenizer = finbert_regressor()\n",
    "model.to(device)\n",
    "\n",
    "# Prepare datasets\n",
    "train_dataset = prepare_labeled_datasets(tokenizer, model, 300, train_df['text'].values, train_df['target'].values)\n",
    "val_dataset = prepare_labeled_datasets(tokenizer, model, 300, val_df['text'].values, val_df['target'].values)\n",
    "\n",
    "train_dataloader = DataLoader(train_dataset, batch_size=batch_size, shuffle=True)\n",
    "val_dataloader = DataLoader(val_dataset, batch_size=batch_size, shuffle=True)\n",
    "\n",
    "# Train model\n",
    "best_model, train_losses, val_losses, best_epoch, best_val_loss  = train_finbert_regressor(model, tokenizer, train_dataloader, val_dataloader, epochs=epochs, initial_lr=initial_lr, eps=eps)\n",
    "\n",
    "# Save models\n",
    "# If folder not available, create folder\n",
    "if not os.path.exists('../models/finbert-regression/' + metric_name):\n",
    "    os.makedirs('../models/finbert-regression/' + metric_name)\n",
    "# Save model to folder\n",
    "best_model.save_pretrained('../models/finbert-regression/' + metric_name)   \n",
    "\n",
    "    \n",
    "# Present results from the best model\n",
    "print(\"    Results from the best model\")\n",
    "print(f\"Epoch with best validation RSE: {best_epoch}\")\n",
    "print(\"Best validation RSE: {0:.2f}\".format(best_val_loss)) \n",
    "\n",
    "plot_learning_curve(train_losses, val_losses)\n",
    "print(f\"--------------DONE TRAINING MODEL FOR {metric_name}--------------\")\n",
    "print(\"\\n\")"
   ]
  },
  {
   "cell_type": "markdown",
   "metadata": {},
   "source": [
    "## EBIT"
   ]
  },
  {
   "cell_type": "code",
   "execution_count": 13,
   "metadata": {},
   "outputs": [
    {
     "data": {
      "text/plain": [
       "'EBIT_train__text_clean.csv'"
      ]
     },
     "execution_count": 13,
     "metadata": {},
     "output_type": "execute_result"
    }
   ],
   "source": [
    "files[1]"
   ]
  },
  {
   "cell_type": "code",
   "execution_count": 50,
   "metadata": {},
   "outputs": [
    {
     "name": "stdout",
     "output_type": "stream",
     "text": [
      "--------------START TRAINING MODEL FOR EBIT--------------\n"
     ]
    },
    {
     "name": "stderr",
     "output_type": "stream",
     "text": [
      "Some weights of RegressionModel were not initialized from the model checkpoint at yiyanghkust/finbert-pretrain and are newly initialized: ['transformer.layer.6.output_layer_norm.weight', 'transformer.layer.11.output_layer_norm.bias', 'transformer.layer.4.ffn.lin2.bias', 'transformer.layer.9.attention.q_lin.bias', 'transformer.layer.9.attention.k_lin.weight', 'transformer.layer.8.sa_layer_norm.bias', 'transformer.layer.2.sa_layer_norm.bias', 'transformer.layer.0.ffn.lin1.bias', 'transformer.layer.1.sa_layer_norm.bias', 'transformer.layer.3.ffn.lin2.bias', 'transformer.layer.3.attention.k_lin.bias', 'transformer.layer.7.sa_layer_norm.weight', 'transformer.layer.6.attention.q_lin.bias', 'transformer.layer.5.attention.k_lin.weight', 'transformer.layer.0.ffn.lin1.weight', 'transformer.layer.3.sa_layer_norm.bias', 'transformer.layer.8.ffn.lin1.weight', 'transformer.layer.4.attention.out_lin.weight', 'transformer.layer.2.attention.v_lin.bias', 'transformer.layer.6.attention.k_lin.weight', 'transformer.layer.11.attention.q_lin.bias', 'transformer.layer.0.ffn.lin2.weight', 'transformer.layer.7.output_layer_norm.weight', 'transformer.layer.4.attention.k_lin.weight', 'transformer.layer.2.ffn.lin1.bias', 'transformer.layer.1.attention.out_lin.bias', 'transformer.layer.7.attention.k_lin.weight', 'transformer.layer.8.attention.q_lin.weight', 'transformer.layer.10.attention.out_lin.bias', 'transformer.layer.11.ffn.lin2.bias', 'transformer.layer.11.ffn.lin2.weight', 'transformer.layer.1.attention.q_lin.bias', 'pre_classifier.bias', 'transformer.layer.9.output_layer_norm.weight', 'transformer.layer.10.attention.q_lin.weight', 'transformer.layer.10.attention.q_lin.bias', 'embeddings.position_embeddings.weight', 'transformer.layer.8.ffn.lin2.bias', 'transformer.layer.0.sa_layer_norm.weight', 'transformer.layer.10.attention.out_lin.weight', 'transformer.layer.9.ffn.lin2.weight', 'transformer.layer.3.ffn.lin1.weight', 'classifier.bias', 'transformer.layer.8.attention.out_lin.bias', 'transformer.layer.11.attention.k_lin.weight', 'transformer.layer.4.sa_layer_norm.bias', 'transformer.layer.9.sa_layer_norm.weight', 'transformer.layer.9.sa_layer_norm.bias', 'transformer.layer.7.sa_layer_norm.bias', 'transformer.layer.11.sa_layer_norm.weight', 'transformer.layer.1.ffn.lin1.bias', 'transformer.layer.6.attention.v_lin.weight', 'transformer.layer.6.sa_layer_norm.weight', 'transformer.layer.5.attention.out_lin.weight', 'transformer.layer.5.output_layer_norm.weight', 'transformer.layer.5.ffn.lin2.bias', 'transformer.layer.3.attention.v_lin.bias', 'transformer.layer.9.attention.out_lin.weight', 'transformer.layer.0.output_layer_norm.weight', 'transformer.layer.4.attention.v_lin.bias', 'transformer.layer.5.attention.out_lin.bias', 'transformer.layer.10.output_layer_norm.weight', 'transformer.layer.0.attention.v_lin.bias', 'transformer.layer.2.attention.out_lin.bias', 'transformer.layer.7.ffn.lin2.bias', 'transformer.layer.1.ffn.lin2.bias', 'transformer.layer.2.attention.q_lin.weight', 'transformer.layer.4.attention.q_lin.weight', 'pre_classifier.weight', 'transformer.layer.3.attention.k_lin.weight', 'transformer.layer.1.output_layer_norm.weight', 'transformer.layer.1.attention.out_lin.weight', 'transformer.layer.10.sa_layer_norm.weight', 'transformer.layer.11.ffn.lin1.weight', 'transformer.layer.10.ffn.lin2.bias', 'transformer.layer.7.attention.out_lin.weight', 'transformer.layer.6.attention.k_lin.bias', 'transformer.layer.5.ffn.lin1.weight', 'transformer.layer.0.attention.k_lin.bias', 'transformer.layer.7.attention.v_lin.bias', 'transformer.layer.10.ffn.lin2.weight', 'transformer.layer.1.sa_layer_norm.weight', 'transformer.layer.9.attention.v_lin.bias', 'transformer.layer.11.sa_layer_norm.bias', 'transformer.layer.8.output_layer_norm.bias', 'transformer.layer.9.attention.v_lin.weight', 'transformer.layer.3.ffn.lin1.bias', 'transformer.layer.3.attention.q_lin.bias', 'transformer.layer.2.sa_layer_norm.weight', 'transformer.layer.8.ffn.lin1.bias', 'transformer.layer.1.attention.v_lin.weight', 'transformer.layer.6.ffn.lin1.bias', 'transformer.layer.3.attention.v_lin.weight', 'transformer.layer.7.ffn.lin1.bias', 'transformer.layer.8.attention.k_lin.weight', 'transformer.layer.2.attention.v_lin.weight', 'transformer.layer.0.attention.out_lin.weight', 'transformer.layer.11.attention.out_lin.bias', 'transformer.layer.4.ffn.lin1.weight', 'transformer.layer.5.sa_layer_norm.bias', 'transformer.layer.6.attention.q_lin.weight', 'transformer.layer.7.attention.v_lin.weight', 'transformer.layer.0.sa_layer_norm.bias', 'transformer.layer.0.output_layer_norm.bias', 'transformer.layer.11.ffn.lin1.bias', 'transformer.layer.10.attention.v_lin.bias', 'transformer.layer.3.sa_layer_norm.weight', 'transformer.layer.11.attention.k_lin.bias', 'transformer.layer.6.ffn.lin2.weight', 'transformer.layer.10.output_layer_norm.bias', 'transformer.layer.2.output_layer_norm.weight', 'transformer.layer.7.attention.out_lin.bias', 'transformer.layer.11.attention.v_lin.weight', 'transformer.layer.5.attention.v_lin.bias', 'transformer.layer.8.attention.out_lin.weight', 'transformer.layer.11.attention.v_lin.bias', 'transformer.layer.9.ffn.lin2.bias', 'transformer.layer.6.sa_layer_norm.bias', 'transformer.layer.7.ffn.lin1.weight', 'transformer.layer.8.output_layer_norm.weight', 'transformer.layer.5.attention.v_lin.weight', 'transformer.layer.0.attention.q_lin.weight', 'transformer.layer.0.ffn.lin2.bias', 'transformer.layer.7.attention.k_lin.bias', 'transformer.layer.0.attention.v_lin.weight', 'transformer.layer.3.attention.out_lin.weight', 'transformer.layer.0.attention.out_lin.bias', 'transformer.layer.6.ffn.lin1.weight', 'transformer.layer.7.attention.q_lin.bias', 'transformer.layer.0.attention.q_lin.bias', 'transformer.layer.8.attention.v_lin.weight', 'embeddings.LayerNorm.weight', 'transformer.layer.0.attention.k_lin.weight', 'transformer.layer.9.ffn.lin1.bias', 'transformer.layer.10.ffn.lin1.bias', 'transformer.layer.10.sa_layer_norm.bias', 'transformer.layer.1.output_layer_norm.bias', 'transformer.layer.10.attention.k_lin.bias', 'transformer.layer.8.attention.q_lin.bias', 'transformer.layer.2.attention.out_lin.weight', 'transformer.layer.5.attention.q_lin.bias', 'transformer.layer.11.output_layer_norm.weight', 'transformer.layer.1.attention.k_lin.weight', 'transformer.layer.7.attention.q_lin.weight', 'transformer.layer.3.output_layer_norm.bias', 'transformer.layer.4.ffn.lin2.weight', 'transformer.layer.11.attention.q_lin.weight', 'transformer.layer.2.attention.q_lin.bias', 'transformer.layer.10.ffn.lin1.weight', 'transformer.layer.1.ffn.lin2.weight', 'transformer.layer.5.sa_layer_norm.weight', 'transformer.layer.2.ffn.lin2.weight', 'transformer.layer.6.attention.out_lin.weight', 'transformer.layer.8.sa_layer_norm.weight', 'transformer.layer.4.attention.out_lin.bias', 'transformer.layer.3.attention.out_lin.bias', 'transformer.layer.1.attention.v_lin.bias', 'transformer.layer.6.attention.v_lin.bias', 'transformer.layer.1.attention.k_lin.bias', 'transformer.layer.10.attention.v_lin.weight', 'transformer.layer.7.output_layer_norm.bias', 'embeddings.word_embeddings.weight', 'transformer.layer.8.attention.k_lin.bias', 'classifier.weight', 'transformer.layer.2.output_layer_norm.bias', 'transformer.layer.9.attention.k_lin.bias', 'transformer.layer.5.ffn.lin1.bias', 'transformer.layer.4.sa_layer_norm.weight', 'transformer.layer.8.ffn.lin2.weight', 'transformer.layer.9.attention.q_lin.weight', 'transformer.layer.2.attention.k_lin.weight', 'transformer.layer.3.ffn.lin2.weight', 'transformer.layer.8.attention.v_lin.bias', 'transformer.layer.5.ffn.lin2.weight', 'transformer.layer.4.output_layer_norm.bias', 'transformer.layer.7.ffn.lin2.weight', 'transformer.layer.2.ffn.lin1.weight', 'transformer.layer.6.attention.out_lin.bias', 'transformer.layer.2.ffn.lin2.bias', 'transformer.layer.3.output_layer_norm.weight', 'transformer.layer.10.attention.k_lin.weight', 'transformer.layer.6.output_layer_norm.bias', 'transformer.layer.6.ffn.lin2.bias', 'transformer.layer.4.attention.k_lin.bias', 'transformer.layer.5.output_layer_norm.bias', 'transformer.layer.2.attention.k_lin.bias', 'transformer.layer.4.ffn.lin1.bias', 'transformer.layer.1.attention.q_lin.weight', 'transformer.layer.5.attention.k_lin.bias', 'transformer.layer.11.attention.out_lin.weight', 'embeddings.LayerNorm.bias', 'transformer.layer.1.ffn.lin1.weight', 'transformer.layer.4.attention.q_lin.bias', 'transformer.layer.9.attention.out_lin.bias', 'transformer.layer.9.ffn.lin1.weight', 'transformer.layer.3.attention.q_lin.weight', 'transformer.layer.5.attention.q_lin.weight', 'transformer.layer.9.output_layer_norm.bias', 'transformer.layer.4.attention.v_lin.weight', 'transformer.layer.4.output_layer_norm.weight']\n",
      "You should probably TRAIN this model on a down-stream task to be able to use it for predictions and inference.\n",
      "100%|██████████| 40/40 [01:48<00:00,  2.72s/it]\n"
     ]
    },
    {
     "name": "stdout",
     "output_type": "stream",
     "text": [
      "       Training Loss  Valid. Loss  Training Time  Learning Rate\n",
      "Epoch                                                          \n",
      "1       5.109443e+00     2.491241       2.706523       0.000090\n",
      "2       4.803017e+00     2.491241       2.684212       0.000081\n",
      "3       3.326144e+00     2.491241       2.688106       0.000073\n",
      "4       2.021902e+00     2.491241       2.692619       0.000066\n",
      "5       2.262008e+00     2.491241       2.701118       0.000059\n",
      "6       1.919093e+00     2.491241       2.703485       0.000053\n",
      "7       1.314381e+01     2.491241       2.707694       0.000048\n",
      "8       1.407100e+02     2.491241       2.707234       0.000043\n",
      "9       5.435160e+00     2.491241       2.705634       0.000039\n",
      "10      2.080898e+00     2.491241       2.712907       0.000035\n",
      "11      2.828998e+00     2.491241       2.709030       0.000031\n",
      "12      2.084303e+03     2.491241       2.709532       0.000028\n",
      "13      2.348060e+06     2.491241       2.714065       0.000025\n",
      "14      2.898756e+00     2.491241       2.713840       0.000023\n",
      "15      6.213271e+01     2.491241       2.717592       0.000021\n",
      "16      2.128593e+00     2.491241       2.720338       0.000019\n",
      "17      2.008038e+00     2.491241       2.718430       0.000017\n",
      "18      6.073806e+00     2.491241       2.719539       0.000015\n",
      "19      2.090116e+00     2.491241       2.719724       0.000014\n",
      "20      2.053584e+00     2.491241       2.721498       0.000012\n",
      "21      1.767432e+01     2.491241       2.723738       0.000011\n",
      "22      2.049403e+00     2.491241       2.718223       0.000010\n",
      "23      2.895825e+00     2.491241       2.715281       0.000009\n",
      "24      2.042331e+00     2.491241       2.724745       0.000008\n",
      "25      1.934067e+00     2.491241       2.721226       0.000007\n",
      "26      2.066491e+00     2.491241       2.722138       0.000006\n",
      "27      1.895883e+00     2.491241       2.716422       0.000006\n",
      "28      2.236647e+00     2.491241       2.721597       0.000005\n",
      "29      8.160199e+01     2.491241       2.729434       0.000005\n",
      "30      1.812208e+00     2.491241       2.716172       0.000004\n",
      "31      2.660726e+00     2.491241       2.720933       0.000004\n",
      "32      7.095990e+00     2.491241       2.721421       0.000003\n",
      "33      1.817721e+00     2.491241       2.722212       0.000003\n",
      "34      2.179038e+00     2.491241       2.717825       0.000003\n",
      "35      5.961101e+00     2.491241       2.719898       0.000003\n",
      "36      2.725872e+01     2.491241       2.717401       0.000002\n",
      "37      2.238783e+00     2.491241       2.717397       0.000002\n",
      "38      3.000635e+00     2.491241       2.713848       0.000002\n",
      "39      9.953920e+00     2.491241       2.712709       0.000002\n",
      "40      2.327163e+00     2.491241       2.714206       0.000001\n",
      "    Results from the best model\n",
      "Epoch with best validation RSE: 1\n",
      "Best validation RSE: 2.49\n"
     ]
    },
    {
     "data": {
      "image/png": "[encoded data removed]",
      "text/plain": [
       "<Figure size 1080x576 with 1 Axes>"
      ]
     },
     "metadata": {
      "needs_background": "light"
     },
     "output_type": "display_data"
    },
    {
     "name": "stdout",
     "output_type": "stream",
     "text": [
      "--------------DONE TRAINING MODEL FOR EBIT--------------\n",
      "\n",
      "\n"
     ]
    }
   ],
   "source": [
    "# Define variables\n",
    "batch_size = 16\n",
    "epochs=40\n",
    "initial_lr=0.0001\n",
    "eps=1e-8\n",
    "# Name metric\n",
    "file = files[1]\n",
    "metric_name = file.split('.')[0].split('_')[0]\n",
    "\n",
    "print(f\"--------------START TRAINING MODEL FOR {metric_name}--------------\")\n",
    "\n",
    "# Read csv file\n",
    "df = pd.read_csv(path + file)\n",
    "\n",
    "# Train validation split\n",
    "train_df, val_df = train_val_split(df, test_size=0.2)\n",
    "\n",
    "# Load model and tokenizer\n",
    "model, tokenizer = finbert_regressor()\n",
    "model.to(device)\n",
    "\n",
    "# Prepare datasets\n",
    "train_dataset = prepare_labeled_datasets(tokenizer, model, 300, train_df['text'].values, train_df['target'].values)\n",
    "val_dataset = prepare_labeled_datasets(tokenizer, model, 300, val_df['text'].values, val_df['target'].values)\n",
    "\n",
    "train_dataloader = DataLoader(train_dataset, batch_size=batch_size, shuffle=True)\n",
    "val_dataloader = DataLoader(val_dataset, batch_size=batch_size, shuffle=False)\n",
    "\n",
    "# Train model\n",
    "best_model, train_losses, val_losses, best_epoch, best_val_loss  = train_finbert_regressor(model, tokenizer, train_dataloader, val_dataloader, epochs=epochs, initial_lr=initial_lr, eps=eps)\n",
    "\n",
    "# Save models\n",
    "# If folder not available, create folder\n",
    "if not os.path.exists('../models/finbert-regression/' + metric_name):\n",
    "    os.makedirs('../models/finbert-regression/' + metric_name)\n",
    "# Save model to folder\n",
    "best_model.save_pretrained('../models/finbert-regression/' + metric_name)   \n",
    "\n",
    "    \n",
    "# Present results from the best model\n",
    "print(\"    Results from the best model\")\n",
    "print(f\"Epoch with best validation RSE: {best_epoch}\")\n",
    "print(\"Best validation RSE: {0:.2f}\".format(best_val_loss)) \n",
    "\n",
    "plot_learning_curve(train_losses, val_losses)\n",
    "print(f\"--------------DONE TRAINING MODEL FOR {metric_name}--------------\")\n",
    "print(\"\\n\")"
   ]
  },
  {
   "cell_type": "markdown",
   "metadata": {},
   "source": [
    "## NetCashProvidedByUsedInFinancingActivities"
   ]
  },
  {
   "cell_type": "code",
   "execution_count": 42,
   "metadata": {},
   "outputs": [
    {
     "name": "stdout",
     "output_type": "stream",
     "text": [
      "--------------START TRAINING MODEL FOR NetCashProvidedByUsedInFinancingActivities--------------\n"
     ]
    },
    {
     "name": "stderr",
     "output_type": "stream",
     "text": [
      "Some weights of RegressionModel were not initialized from the model checkpoint at yiyanghkust/finbert-pretrain and are newly initialized: ['transformer.layer.6.output_layer_norm.weight', 'transformer.layer.11.output_layer_norm.bias', 'transformer.layer.4.ffn.lin2.bias', 'transformer.layer.9.attention.q_lin.bias', 'transformer.layer.9.attention.k_lin.weight', 'transformer.layer.8.sa_layer_norm.bias', 'transformer.layer.2.sa_layer_norm.bias', 'transformer.layer.0.ffn.lin1.bias', 'transformer.layer.1.sa_layer_norm.bias', 'transformer.layer.3.ffn.lin2.bias', 'transformer.layer.3.attention.k_lin.bias', 'transformer.layer.7.sa_layer_norm.weight', 'transformer.layer.6.attention.q_lin.bias', 'transformer.layer.5.attention.k_lin.weight', 'transformer.layer.0.ffn.lin1.weight', 'transformer.layer.3.sa_layer_norm.bias', 'transformer.layer.8.ffn.lin1.weight', 'transformer.layer.4.attention.out_lin.weight', 'transformer.layer.2.attention.v_lin.bias', 'transformer.layer.6.attention.k_lin.weight', 'transformer.layer.11.attention.q_lin.bias', 'transformer.layer.0.ffn.lin2.weight', 'transformer.layer.7.output_layer_norm.weight', 'transformer.layer.4.attention.k_lin.weight', 'transformer.layer.2.ffn.lin1.bias', 'transformer.layer.1.attention.out_lin.bias', 'transformer.layer.7.attention.k_lin.weight', 'transformer.layer.8.attention.q_lin.weight', 'transformer.layer.10.attention.out_lin.bias', 'transformer.layer.11.ffn.lin2.bias', 'transformer.layer.11.ffn.lin2.weight', 'transformer.layer.1.attention.q_lin.bias', 'pre_classifier.bias', 'transformer.layer.9.output_layer_norm.weight', 'transformer.layer.10.attention.q_lin.weight', 'transformer.layer.10.attention.q_lin.bias', 'embeddings.position_embeddings.weight', 'transformer.layer.8.ffn.lin2.bias', 'transformer.layer.0.sa_layer_norm.weight', 'transformer.layer.10.attention.out_lin.weight', 'transformer.layer.9.ffn.lin2.weight', 'transformer.layer.3.ffn.lin1.weight', 'classifier.bias', 'transformer.layer.8.attention.out_lin.bias', 'transformer.layer.11.attention.k_lin.weight', 'transformer.layer.4.sa_layer_norm.bias', 'transformer.layer.9.sa_layer_norm.weight', 'transformer.layer.9.sa_layer_norm.bias', 'transformer.layer.7.sa_layer_norm.bias', 'transformer.layer.11.sa_layer_norm.weight', 'transformer.layer.1.ffn.lin1.bias', 'transformer.layer.6.attention.v_lin.weight', 'transformer.layer.6.sa_layer_norm.weight', 'transformer.layer.5.attention.out_lin.weight', 'transformer.layer.5.output_layer_norm.weight', 'transformer.layer.5.ffn.lin2.bias', 'transformer.layer.3.attention.v_lin.bias', 'transformer.layer.9.attention.out_lin.weight', 'transformer.layer.0.output_layer_norm.weight', 'transformer.layer.4.attention.v_lin.bias', 'transformer.layer.5.attention.out_lin.bias', 'transformer.layer.10.output_layer_norm.weight', 'transformer.layer.0.attention.v_lin.bias', 'transformer.layer.2.attention.out_lin.bias', 'transformer.layer.7.ffn.lin2.bias', 'transformer.layer.1.ffn.lin2.bias', 'transformer.layer.2.attention.q_lin.weight', 'transformer.layer.4.attention.q_lin.weight', 'pre_classifier.weight', 'transformer.layer.3.attention.k_lin.weight', 'transformer.layer.1.output_layer_norm.weight', 'transformer.layer.1.attention.out_lin.weight', 'transformer.layer.10.sa_layer_norm.weight', 'transformer.layer.11.ffn.lin1.weight', 'transformer.layer.10.ffn.lin2.bias', 'transformer.layer.7.attention.out_lin.weight', 'transformer.layer.6.attention.k_lin.bias', 'transformer.layer.5.ffn.lin1.weight', 'transformer.layer.0.attention.k_lin.bias', 'transformer.layer.7.attention.v_lin.bias', 'transformer.layer.10.ffn.lin2.weight', 'transformer.layer.1.sa_layer_norm.weight', 'transformer.layer.9.attention.v_lin.bias', 'transformer.layer.11.sa_layer_norm.bias', 'transformer.layer.8.output_layer_norm.bias', 'transformer.layer.9.attention.v_lin.weight', 'transformer.layer.3.ffn.lin1.bias', 'transformer.layer.3.attention.q_lin.bias', 'transformer.layer.2.sa_layer_norm.weight', 'transformer.layer.8.ffn.lin1.bias', 'transformer.layer.1.attention.v_lin.weight', 'transformer.layer.6.ffn.lin1.bias', 'transformer.layer.3.attention.v_lin.weight', 'transformer.layer.7.ffn.lin1.bias', 'transformer.layer.8.attention.k_lin.weight', 'transformer.layer.2.attention.v_lin.weight', 'transformer.layer.0.attention.out_lin.weight', 'transformer.layer.11.attention.out_lin.bias', 'transformer.layer.4.ffn.lin1.weight', 'transformer.layer.5.sa_layer_norm.bias', 'transformer.layer.6.attention.q_lin.weight', 'transformer.layer.7.attention.v_lin.weight', 'transformer.layer.0.sa_layer_norm.bias', 'transformer.layer.0.output_layer_norm.bias', 'transformer.layer.11.ffn.lin1.bias', 'transformer.layer.10.attention.v_lin.bias', 'transformer.layer.3.sa_layer_norm.weight', 'transformer.layer.11.attention.k_lin.bias', 'transformer.layer.6.ffn.lin2.weight', 'transformer.layer.10.output_layer_norm.bias', 'transformer.layer.2.output_layer_norm.weight', 'transformer.layer.7.attention.out_lin.bias', 'transformer.layer.11.attention.v_lin.weight', 'transformer.layer.5.attention.v_lin.bias', 'transformer.layer.8.attention.out_lin.weight', 'transformer.layer.11.attention.v_lin.bias', 'transformer.layer.9.ffn.lin2.bias', 'transformer.layer.6.sa_layer_norm.bias', 'transformer.layer.7.ffn.lin1.weight', 'transformer.layer.8.output_layer_norm.weight', 'transformer.layer.5.attention.v_lin.weight', 'transformer.layer.0.attention.q_lin.weight', 'transformer.layer.0.ffn.lin2.bias', 'transformer.layer.7.attention.k_lin.bias', 'transformer.layer.0.attention.v_lin.weight', 'transformer.layer.3.attention.out_lin.weight', 'transformer.layer.0.attention.out_lin.bias', 'transformer.layer.6.ffn.lin1.weight', 'transformer.layer.7.attention.q_lin.bias', 'transformer.layer.0.attention.q_lin.bias', 'transformer.layer.8.attention.v_lin.weight', 'embeddings.LayerNorm.weight', 'transformer.layer.0.attention.k_lin.weight', 'transformer.layer.9.ffn.lin1.bias', 'transformer.layer.10.ffn.lin1.bias', 'transformer.layer.10.sa_layer_norm.bias', 'transformer.layer.1.output_layer_norm.bias', 'transformer.layer.10.attention.k_lin.bias', 'transformer.layer.8.attention.q_lin.bias', 'transformer.layer.2.attention.out_lin.weight', 'transformer.layer.5.attention.q_lin.bias', 'transformer.layer.11.output_layer_norm.weight', 'transformer.layer.1.attention.k_lin.weight', 'transformer.layer.7.attention.q_lin.weight', 'transformer.layer.3.output_layer_norm.bias', 'transformer.layer.4.ffn.lin2.weight', 'transformer.layer.11.attention.q_lin.weight', 'transformer.layer.2.attention.q_lin.bias', 'transformer.layer.10.ffn.lin1.weight', 'transformer.layer.1.ffn.lin2.weight', 'transformer.layer.5.sa_layer_norm.weight', 'transformer.layer.2.ffn.lin2.weight', 'transformer.layer.6.attention.out_lin.weight', 'transformer.layer.8.sa_layer_norm.weight', 'transformer.layer.4.attention.out_lin.bias', 'transformer.layer.3.attention.out_lin.bias', 'transformer.layer.1.attention.v_lin.bias', 'transformer.layer.6.attention.v_lin.bias', 'transformer.layer.1.attention.k_lin.bias', 'transformer.layer.10.attention.v_lin.weight', 'transformer.layer.7.output_layer_norm.bias', 'embeddings.word_embeddings.weight', 'transformer.layer.8.attention.k_lin.bias', 'classifier.weight', 'transformer.layer.2.output_layer_norm.bias', 'transformer.layer.9.attention.k_lin.bias', 'transformer.layer.5.ffn.lin1.bias', 'transformer.layer.4.sa_layer_norm.weight', 'transformer.layer.8.ffn.lin2.weight', 'transformer.layer.9.attention.q_lin.weight', 'transformer.layer.2.attention.k_lin.weight', 'transformer.layer.3.ffn.lin2.weight', 'transformer.layer.8.attention.v_lin.bias', 'transformer.layer.5.ffn.lin2.weight', 'transformer.layer.4.output_layer_norm.bias', 'transformer.layer.7.ffn.lin2.weight', 'transformer.layer.2.ffn.lin1.weight', 'transformer.layer.6.attention.out_lin.bias', 'transformer.layer.2.ffn.lin2.bias', 'transformer.layer.3.output_layer_norm.weight', 'transformer.layer.10.attention.k_lin.weight', 'transformer.layer.6.output_layer_norm.bias', 'transformer.layer.6.ffn.lin2.bias', 'transformer.layer.4.attention.k_lin.bias', 'transformer.layer.5.output_layer_norm.bias', 'transformer.layer.2.attention.k_lin.bias', 'transformer.layer.4.ffn.lin1.bias', 'transformer.layer.1.attention.q_lin.weight', 'transformer.layer.5.attention.k_lin.bias', 'transformer.layer.11.attention.out_lin.weight', 'embeddings.LayerNorm.bias', 'transformer.layer.1.ffn.lin1.weight', 'transformer.layer.4.attention.q_lin.bias', 'transformer.layer.9.attention.out_lin.bias', 'transformer.layer.9.ffn.lin1.weight', 'transformer.layer.3.attention.q_lin.weight', 'transformer.layer.5.attention.q_lin.weight', 'transformer.layer.9.output_layer_norm.bias', 'transformer.layer.4.attention.v_lin.weight', 'transformer.layer.4.output_layer_norm.weight']\n",
      "You should probably TRAIN this model on a down-stream task to be able to use it for predictions and inference.\n",
      "100%|██████████| 40/40 [00:11<00:00,  3.47it/s]\n"
     ]
    },
    {
     "name": "stdout",
     "output_type": "stream",
     "text": [
      "       Training Loss  Valid. Loss  Training Time  Learning Rate\n",
      "Epoch                                                          \n",
      "1           1.256264     1.637461       0.302599        0.00009\n",
      "2           1.256264     1.637461       0.285897        0.00009\n",
      "3           1.256264     1.637461       0.282401        0.00009\n",
      "4           1.256264     1.637461       0.286563        0.00009\n",
      "5           1.256264     1.637461       0.285022        0.00009\n",
      "6           1.256264     1.637461       0.285423        0.00009\n",
      "7           1.256264     1.637461       0.285537        0.00009\n",
      "8           1.256264     1.637461       0.284576        0.00009\n",
      "9           1.256264     1.637461       0.291295        0.00009\n",
      "10          1.256264     1.637461       0.284820        0.00009\n",
      "11          1.256264     1.637461       0.287927        0.00009\n",
      "12          1.256264     1.637461       0.286223        0.00009\n",
      "13          1.256264     1.637461       0.283401        0.00009\n",
      "14          1.256264     1.637461       0.286109        0.00009\n",
      "15          1.256264     1.637461       0.286406        0.00009\n",
      "16          1.256264     1.637461       0.285846        0.00009\n",
      "17          1.256264     1.637461       0.284927        0.00009\n",
      "18          1.256264     1.637461       0.287487        0.00009\n",
      "19          1.256264     1.637461       0.282820        0.00009\n",
      "20          1.256264     1.637461       0.285646        0.00009\n",
      "21          1.256264     1.637461       0.287473        0.00009\n",
      "22          1.256264     1.637461       0.286489        0.00009\n",
      "23          1.256264     1.637461       0.285522        0.00009\n",
      "24          1.256264     1.637461       0.286705        0.00009\n",
      "25          1.256264     1.637461       0.286608        0.00009\n",
      "26          1.256264     1.637461       0.286877        0.00009\n",
      "27          1.256264     1.637461       0.286157        0.00009\n",
      "28          1.256264     1.637461       0.288364        0.00009\n",
      "29          1.256264     1.637461       0.286042        0.00009\n",
      "30          1.256264     1.637461       0.286027        0.00009\n",
      "31          1.256264     1.637461       0.283021        0.00009\n",
      "32          1.256264     1.637461       0.285914        0.00009\n",
      "33          1.256264     1.637461       0.285699        0.00009\n",
      "34          1.256264     1.637461       0.285474        0.00009\n",
      "35          1.256264     1.637461       0.288266        0.00009\n",
      "36          1.256264     1.637461       0.285805        0.00009\n",
      "37          1.256264     1.637461       0.289460        0.00009\n",
      "38          1.256264     1.637461       0.286658        0.00009\n",
      "39          1.256264     1.637461       0.285290        0.00009\n",
      "40          1.256264     1.637461       0.287221        0.00009\n",
      "    Results from the best model\n",
      "Epoch with best validation RSE: 1\n",
      "Best validation RSE: 1.64\n"
     ]
    },
    {
     "data": {
      "image/png": "[encoded data removed]",
      "text/plain": [
       "<Figure size 1080x576 with 1 Axes>"
      ]
     },
     "metadata": {
      "needs_background": "light"
     },
     "output_type": "display_data"
    },
    {
     "name": "stdout",
     "output_type": "stream",
     "text": [
      "--------------DONE TRAINING MODEL FOR NetCashProvidedByUsedInFinancingActivities--------------\n",
      "\n",
      "\n"
     ]
    }
   ],
   "source": [
    "# Define variables\n",
    "batch_size = 16\n",
    "epochs=40\n",
    "initial_lr=0.0001\n",
    "eps=1e-8\n",
    "# Name metric\n",
    "file = files[2]\n",
    "metric_name = file.split('.')[0].split('_')[0]\n",
    "\n",
    "print(f\"--------------START TRAINING MODEL FOR {metric_name}--------------\")\n",
    "\n",
    "# Read csv file\n",
    "df = pd.read_csv(path + file)\n",
    "\n",
    "# Train validation split\n",
    "train_df, val_df = train_val_split(df, test_size=0.2)\n",
    "\n",
    "# Load model and tokenizer\n",
    "model, tokenizer = finbert_regressor()\n",
    "model.to(device)\n",
    "\n",
    "# Prepare datasets\n",
    "train_dataset = prepare_labeled_datasets(tokenizer, model, 300, train_df['text'].values, train_df['target'].values)\n",
    "val_dataset = prepare_labeled_datasets(tokenizer, model, 300, val_df['text'].values, val_df['target'].values)\n",
    "\n",
    "train_dataloader = DataLoader(train_dataset, batch_size=batch_size, shuffle=True)\n",
    "val_dataloader = DataLoader(val_dataset, batch_size=batch_size, shuffle=False)\n",
    "\n",
    "# Train model\n",
    "best_model, train_losses, val_losses, best_epoch, best_val_loss  = train_finbert_regressor(model, tokenizer, train_dataloader, val_dataloader, epochs=epochs, initial_lr=initial_lr, eps=eps)\n",
    "\n",
    "# Save models\n",
    "# If folder not available, create folder\n",
    "if not os.path.exists('../models/finbert-regression/' + metric_name):\n",
    "    os.makedirs('../models/finbert-regression/' + metric_name)\n",
    "# Save model to folder\n",
    "best_model.save_pretrained('../models/finbert-regression/' + metric_name)   \n",
    "\n",
    "    \n",
    "# Present results from the best model\n",
    "print(\"    Results from the best model\")\n",
    "print(f\"Epoch with best validation RSE: {best_epoch}\")\n",
    "print(\"Best validation RSE: {0:.2f}\".format(best_val_loss)) \n",
    "\n",
    "plot_learning_curve(train_losses, val_losses)\n",
    "print(f\"--------------DONE TRAINING MODEL FOR {metric_name}--------------\")\n",
    "print(\"\\n\")"
   ]
  },
  {
   "cell_type": "markdown",
   "metadata": {},
   "source": [
    "## Revenue"
   ]
  },
  {
   "cell_type": "code",
   "execution_count": 44,
   "metadata": {},
   "outputs": [
    {
     "name": "stdout",
     "output_type": "stream",
     "text": [
      "--------------START TRAINING MODEL FOR RevenueFromContractWithCustomerExcludingAssessedTax--------------\n"
     ]
    },
    {
     "name": "stderr",
     "output_type": "stream",
     "text": [
      "Some weights of RegressionModel were not initialized from the model checkpoint at yiyanghkust/finbert-pretrain and are newly initialized: ['transformer.layer.6.output_layer_norm.weight', 'transformer.layer.11.output_layer_norm.bias', 'transformer.layer.4.ffn.lin2.bias', 'transformer.layer.9.attention.q_lin.bias', 'transformer.layer.9.attention.k_lin.weight', 'transformer.layer.8.sa_layer_norm.bias', 'transformer.layer.2.sa_layer_norm.bias', 'transformer.layer.0.ffn.lin1.bias', 'transformer.layer.1.sa_layer_norm.bias', 'transformer.layer.3.ffn.lin2.bias', 'transformer.layer.3.attention.k_lin.bias', 'transformer.layer.7.sa_layer_norm.weight', 'transformer.layer.6.attention.q_lin.bias', 'transformer.layer.5.attention.k_lin.weight', 'transformer.layer.0.ffn.lin1.weight', 'transformer.layer.3.sa_layer_norm.bias', 'transformer.layer.8.ffn.lin1.weight', 'transformer.layer.4.attention.out_lin.weight', 'transformer.layer.2.attention.v_lin.bias', 'transformer.layer.6.attention.k_lin.weight', 'transformer.layer.11.attention.q_lin.bias', 'transformer.layer.0.ffn.lin2.weight', 'transformer.layer.7.output_layer_norm.weight', 'transformer.layer.4.attention.k_lin.weight', 'transformer.layer.2.ffn.lin1.bias', 'transformer.layer.1.attention.out_lin.bias', 'transformer.layer.7.attention.k_lin.weight', 'transformer.layer.8.attention.q_lin.weight', 'transformer.layer.10.attention.out_lin.bias', 'transformer.layer.11.ffn.lin2.bias', 'transformer.layer.11.ffn.lin2.weight', 'transformer.layer.1.attention.q_lin.bias', 'pre_classifier.bias', 'transformer.layer.9.output_layer_norm.weight', 'transformer.layer.10.attention.q_lin.weight', 'transformer.layer.10.attention.q_lin.bias', 'embeddings.position_embeddings.weight', 'transformer.layer.8.ffn.lin2.bias', 'transformer.layer.0.sa_layer_norm.weight', 'transformer.layer.10.attention.out_lin.weight', 'transformer.layer.9.ffn.lin2.weight', 'transformer.layer.3.ffn.lin1.weight', 'classifier.bias', 'transformer.layer.8.attention.out_lin.bias', 'transformer.layer.11.attention.k_lin.weight', 'transformer.layer.4.sa_layer_norm.bias', 'transformer.layer.9.sa_layer_norm.weight', 'transformer.layer.9.sa_layer_norm.bias', 'transformer.layer.7.sa_layer_norm.bias', 'transformer.layer.11.sa_layer_norm.weight', 'transformer.layer.1.ffn.lin1.bias', 'transformer.layer.6.attention.v_lin.weight', 'transformer.layer.6.sa_layer_norm.weight', 'transformer.layer.5.attention.out_lin.weight', 'transformer.layer.5.output_layer_norm.weight', 'transformer.layer.5.ffn.lin2.bias', 'transformer.layer.3.attention.v_lin.bias', 'transformer.layer.9.attention.out_lin.weight', 'transformer.layer.0.output_layer_norm.weight', 'transformer.layer.4.attention.v_lin.bias', 'transformer.layer.5.attention.out_lin.bias', 'transformer.layer.10.output_layer_norm.weight', 'transformer.layer.0.attention.v_lin.bias', 'transformer.layer.2.attention.out_lin.bias', 'transformer.layer.7.ffn.lin2.bias', 'transformer.layer.1.ffn.lin2.bias', 'transformer.layer.2.attention.q_lin.weight', 'transformer.layer.4.attention.q_lin.weight', 'pre_classifier.weight', 'transformer.layer.3.attention.k_lin.weight', 'transformer.layer.1.output_layer_norm.weight', 'transformer.layer.1.attention.out_lin.weight', 'transformer.layer.10.sa_layer_norm.weight', 'transformer.layer.11.ffn.lin1.weight', 'transformer.layer.10.ffn.lin2.bias', 'transformer.layer.7.attention.out_lin.weight', 'transformer.layer.6.attention.k_lin.bias', 'transformer.layer.5.ffn.lin1.weight', 'transformer.layer.0.attention.k_lin.bias', 'transformer.layer.7.attention.v_lin.bias', 'transformer.layer.10.ffn.lin2.weight', 'transformer.layer.1.sa_layer_norm.weight', 'transformer.layer.9.attention.v_lin.bias', 'transformer.layer.11.sa_layer_norm.bias', 'transformer.layer.8.output_layer_norm.bias', 'transformer.layer.9.attention.v_lin.weight', 'transformer.layer.3.ffn.lin1.bias', 'transformer.layer.3.attention.q_lin.bias', 'transformer.layer.2.sa_layer_norm.weight', 'transformer.layer.8.ffn.lin1.bias', 'transformer.layer.1.attention.v_lin.weight', 'transformer.layer.6.ffn.lin1.bias', 'transformer.layer.3.attention.v_lin.weight', 'transformer.layer.7.ffn.lin1.bias', 'transformer.layer.8.attention.k_lin.weight', 'transformer.layer.2.attention.v_lin.weight', 'transformer.layer.0.attention.out_lin.weight', 'transformer.layer.11.attention.out_lin.bias', 'transformer.layer.4.ffn.lin1.weight', 'transformer.layer.5.sa_layer_norm.bias', 'transformer.layer.6.attention.q_lin.weight', 'transformer.layer.7.attention.v_lin.weight', 'transformer.layer.0.sa_layer_norm.bias', 'transformer.layer.0.output_layer_norm.bias', 'transformer.layer.11.ffn.lin1.bias', 'transformer.layer.10.attention.v_lin.bias', 'transformer.layer.3.sa_layer_norm.weight', 'transformer.layer.11.attention.k_lin.bias', 'transformer.layer.6.ffn.lin2.weight', 'transformer.layer.10.output_layer_norm.bias', 'transformer.layer.2.output_layer_norm.weight', 'transformer.layer.7.attention.out_lin.bias', 'transformer.layer.11.attention.v_lin.weight', 'transformer.layer.5.attention.v_lin.bias', 'transformer.layer.8.attention.out_lin.weight', 'transformer.layer.11.attention.v_lin.bias', 'transformer.layer.9.ffn.lin2.bias', 'transformer.layer.6.sa_layer_norm.bias', 'transformer.layer.7.ffn.lin1.weight', 'transformer.layer.8.output_layer_norm.weight', 'transformer.layer.5.attention.v_lin.weight', 'transformer.layer.0.attention.q_lin.weight', 'transformer.layer.0.ffn.lin2.bias', 'transformer.layer.7.attention.k_lin.bias', 'transformer.layer.0.attention.v_lin.weight', 'transformer.layer.3.attention.out_lin.weight', 'transformer.layer.0.attention.out_lin.bias', 'transformer.layer.6.ffn.lin1.weight', 'transformer.layer.7.attention.q_lin.bias', 'transformer.layer.0.attention.q_lin.bias', 'transformer.layer.8.attention.v_lin.weight', 'embeddings.LayerNorm.weight', 'transformer.layer.0.attention.k_lin.weight', 'transformer.layer.9.ffn.lin1.bias', 'transformer.layer.10.ffn.lin1.bias', 'transformer.layer.10.sa_layer_norm.bias', 'transformer.layer.1.output_layer_norm.bias', 'transformer.layer.10.attention.k_lin.bias', 'transformer.layer.8.attention.q_lin.bias', 'transformer.layer.2.attention.out_lin.weight', 'transformer.layer.5.attention.q_lin.bias', 'transformer.layer.11.output_layer_norm.weight', 'transformer.layer.1.attention.k_lin.weight', 'transformer.layer.7.attention.q_lin.weight', 'transformer.layer.3.output_layer_norm.bias', 'transformer.layer.4.ffn.lin2.weight', 'transformer.layer.11.attention.q_lin.weight', 'transformer.layer.2.attention.q_lin.bias', 'transformer.layer.10.ffn.lin1.weight', 'transformer.layer.1.ffn.lin2.weight', 'transformer.layer.5.sa_layer_norm.weight', 'transformer.layer.2.ffn.lin2.weight', 'transformer.layer.6.attention.out_lin.weight', 'transformer.layer.8.sa_layer_norm.weight', 'transformer.layer.4.attention.out_lin.bias', 'transformer.layer.3.attention.out_lin.bias', 'transformer.layer.1.attention.v_lin.bias', 'transformer.layer.6.attention.v_lin.bias', 'transformer.layer.1.attention.k_lin.bias', 'transformer.layer.10.attention.v_lin.weight', 'transformer.layer.7.output_layer_norm.bias', 'embeddings.word_embeddings.weight', 'transformer.layer.8.attention.k_lin.bias', 'classifier.weight', 'transformer.layer.2.output_layer_norm.bias', 'transformer.layer.9.attention.k_lin.bias', 'transformer.layer.5.ffn.lin1.bias', 'transformer.layer.4.sa_layer_norm.weight', 'transformer.layer.8.ffn.lin2.weight', 'transformer.layer.9.attention.q_lin.weight', 'transformer.layer.2.attention.k_lin.weight', 'transformer.layer.3.ffn.lin2.weight', 'transformer.layer.8.attention.v_lin.bias', 'transformer.layer.5.ffn.lin2.weight', 'transformer.layer.4.output_layer_norm.bias', 'transformer.layer.7.ffn.lin2.weight', 'transformer.layer.2.ffn.lin1.weight', 'transformer.layer.6.attention.out_lin.bias', 'transformer.layer.2.ffn.lin2.bias', 'transformer.layer.3.output_layer_norm.weight', 'transformer.layer.10.attention.k_lin.weight', 'transformer.layer.6.output_layer_norm.bias', 'transformer.layer.6.ffn.lin2.bias', 'transformer.layer.4.attention.k_lin.bias', 'transformer.layer.5.output_layer_norm.bias', 'transformer.layer.2.attention.k_lin.bias', 'transformer.layer.4.ffn.lin1.bias', 'transformer.layer.1.attention.q_lin.weight', 'transformer.layer.5.attention.k_lin.bias', 'transformer.layer.11.attention.out_lin.weight', 'embeddings.LayerNorm.bias', 'transformer.layer.1.ffn.lin1.weight', 'transformer.layer.4.attention.q_lin.bias', 'transformer.layer.9.attention.out_lin.bias', 'transformer.layer.9.ffn.lin1.weight', 'transformer.layer.3.attention.q_lin.weight', 'transformer.layer.5.attention.q_lin.weight', 'transformer.layer.9.output_layer_norm.bias', 'transformer.layer.4.attention.v_lin.weight', 'transformer.layer.4.output_layer_norm.weight']\n",
      "You should probably TRAIN this model on a down-stream task to be able to use it for predictions and inference.\n",
      "100%|██████████| 40/40 [57:08<00:00, 85.72s/it]\n"
     ]
    },
    {
     "name": "stdout",
     "output_type": "stream",
     "text": [
      "       Training Loss  Valid. Loss  Training Time  Learning Rate\n",
      "Epoch                                                          \n",
      "1           2.305572     2.451944      85.839201       0.000081\n",
      "2           2.318070     2.451944      86.208444       0.000081\n",
      "3           2.331498     2.451944      85.954415       0.000081\n",
      "4           2.314704     2.451944      85.745896       0.000081\n",
      "5           2.309715     2.451944      85.792531       0.000081\n",
      "6           2.319374     2.451944      85.768324       0.000081\n",
      "7           2.300891     2.451944      85.625448       0.000081\n",
      "8           2.304328     2.451944      85.596821       0.000081\n",
      "9           2.312352     2.451944      85.651890       0.000081\n",
      "10          2.316868     2.451944      85.743462       0.000081\n",
      "11          2.309696     2.451944      85.656377       0.000081\n",
      "12          2.316662     2.451944      85.614292       0.000081\n",
      "13          2.325940     2.451944      85.625920       0.000081\n",
      "14          2.320548     2.451944      85.685211       0.000081\n",
      "15          2.316670     2.451944      85.737248       0.000081\n",
      "16          2.327848     2.451944      85.688686       0.000081\n",
      "17          2.328622     2.451944      85.678147       0.000081\n",
      "18          2.337740     2.451944      85.690964       0.000081\n",
      "19          2.319088     2.451944      85.692540       0.000081\n",
      "20          2.307286     2.451944      85.681437       0.000081\n",
      "21          2.317831     2.451944      85.665575       0.000081\n",
      "22          2.312378     2.451944      85.733709       0.000081\n",
      "23          2.311209     2.451944      85.746228       0.000081\n",
      "24          2.300582     2.451944      85.647513       0.000081\n",
      "25          2.306413     2.451944      85.629640       0.000081\n",
      "26          2.312350     2.451944      85.694580       0.000081\n",
      "27          2.333160     2.451944      85.743051       0.000081\n",
      "28          2.322461     2.451944      85.767406       0.000081\n",
      "29          2.318477     2.451944      85.730309       0.000081\n",
      "30          2.325382     2.451944      85.597516       0.000081\n",
      "31          2.311645     2.451944      85.661432       0.000081\n",
      "32          2.317465     2.451944      85.719313       0.000081\n",
      "33          2.336467     2.451944      85.562089       0.000081\n",
      "34          2.324112     2.451944      85.575378       0.000081\n",
      "35          2.315879     2.451944      85.695435       0.000081\n",
      "36          2.329893     2.451944      85.617748       0.000081\n",
      "37          2.302860     2.451944      85.593374       0.000081\n",
      "38          2.321890     2.451944      85.701328       0.000081\n",
      "39          2.327512     2.451944      85.683018       0.000081\n",
      "40          2.322940     2.451944      86.345461       0.000081\n",
      "    Results from the best model\n",
      "Epoch with best validation RSE: 1\n",
      "Best validation RSE: 2.45\n"
     ]
    },
    {
     "data": {
      "image/png": "[encoded data removed]",
      "text/plain": [
       "<Figure size 1080x576 with 1 Axes>"
      ]
     },
     "metadata": {
      "needs_background": "light"
     },
     "output_type": "display_data"
    },
    {
     "name": "stdout",
     "output_type": "stream",
     "text": [
      "--------------DONE TRAINING MODEL FOR RevenueFromContractWithCustomerExcludingAssessedTax--------------\n",
      "\n",
      "\n"
     ]
    }
   ],
   "source": [
    "# Define variables\n",
    "batch_size = 32\n",
    "epochs=40\n",
    "initial_lr=0.0001\n",
    "eps=1e-8\n",
    "# Name metric\n",
    "file = files[3]\n",
    "metric_name = file.split('.')[0].split('_')[0]\n",
    "\n",
    "print(f\"--------------START TRAINING MODEL FOR {metric_name}--------------\")\n",
    "\n",
    "# Read csv file\n",
    "df = pd.read_csv(path + file)\n",
    "\n",
    "# Train validation split\n",
    "train_df, val_df = train_val_split(df, test_size=0.2)\n",
    "\n",
    "# Load model and tokenizer\n",
    "model, tokenizer = finbert_regressor()\n",
    "model.to(device)\n",
    "\n",
    "# Prepare datasets\n",
    "train_dataset = prepare_labeled_datasets(tokenizer, model, 300, train_df['text'].values, train_df['target'].values)\n",
    "val_dataset = prepare_labeled_datasets(tokenizer, model, 300, val_df['text'].values, val_df['target'].values)\n",
    "\n",
    "train_dataloader = DataLoader(train_dataset, batch_size=batch_size, shuffle=True)\n",
    "val_dataloader = DataLoader(val_dataset, batch_size=batch_size, shuffle=False)\n",
    "\n",
    "# Train model\n",
    "best_model, train_losses, val_losses, best_epoch, best_val_loss  = train_finbert_regressor(model, tokenizer, train_dataloader, val_dataloader, epochs=epochs, initial_lr=initial_lr, eps=eps)\n",
    "\n",
    "# Save models\n",
    "# If folder not available, create folder\n",
    "if not os.path.exists('../models/finbert-regression/' + metric_name):\n",
    "    os.makedirs('../models/finbert-regression/' + metric_name)\n",
    "# Save model to folder\n",
    "best_model.save_pretrained('../models/finbert-regression/' + metric_name)   \n",
    "\n",
    "    \n",
    "# Present results from the best model\n",
    "print(\"    Results from the best model\")\n",
    "print(f\"Epoch with best validation RSE: {best_epoch}\")\n",
    "print(\"Best validation RSE: {0:.2f}\".format(best_val_loss)) \n",
    "\n",
    "plot_learning_curve(train_losses, val_losses)\n",
    "print(f\"--------------DONE TRAINING MODEL FOR {metric_name}--------------\")\n",
    "print(\"\\n\")"
   ]
  },
  {
   "cell_type": "markdown",
   "metadata": {},
   "source": [
    "## NetIncomeLoss"
   ]
  },
  {
   "cell_type": "code",
   "execution_count": 20,
   "metadata": {},
   "outputs": [
    {
     "name": "stdout",
     "output_type": "stream",
     "text": [
      "--------------START TRAINING MODEL FOR NetIncomeLoss--------------\n"
     ]
    },
    {
     "name": "stderr",
     "output_type": "stream",
     "text": [
      "Some weights of RegressionModel were not initialized from the model checkpoint at yiyanghkust/finbert-pretrain and are newly initialized: ['transformer.layer.6.output_layer_norm.weight', 'transformer.layer.11.output_layer_norm.bias', 'transformer.layer.4.ffn.lin2.bias', 'transformer.layer.9.attention.q_lin.bias', 'transformer.layer.9.attention.k_lin.weight', 'transformer.layer.8.sa_layer_norm.bias', 'transformer.layer.2.sa_layer_norm.bias', 'transformer.layer.0.ffn.lin1.bias', 'transformer.layer.1.sa_layer_norm.bias', 'transformer.layer.3.ffn.lin2.bias', 'transformer.layer.3.attention.k_lin.bias', 'transformer.layer.7.sa_layer_norm.weight', 'transformer.layer.6.attention.q_lin.bias', 'transformer.layer.5.attention.k_lin.weight', 'transformer.layer.0.ffn.lin1.weight', 'transformer.layer.3.sa_layer_norm.bias', 'transformer.layer.8.ffn.lin1.weight', 'transformer.layer.4.attention.out_lin.weight', 'transformer.layer.2.attention.v_lin.bias', 'transformer.layer.6.attention.k_lin.weight', 'transformer.layer.11.attention.q_lin.bias', 'transformer.layer.0.ffn.lin2.weight', 'transformer.layer.7.output_layer_norm.weight', 'transformer.layer.4.attention.k_lin.weight', 'transformer.layer.2.ffn.lin1.bias', 'transformer.layer.1.attention.out_lin.bias', 'transformer.layer.7.attention.k_lin.weight', 'transformer.layer.8.attention.q_lin.weight', 'transformer.layer.10.attention.out_lin.bias', 'transformer.layer.11.ffn.lin2.bias', 'transformer.layer.11.ffn.lin2.weight', 'transformer.layer.1.attention.q_lin.bias', 'pre_classifier.bias', 'transformer.layer.9.output_layer_norm.weight', 'transformer.layer.10.attention.q_lin.weight', 'transformer.layer.10.attention.q_lin.bias', 'embeddings.position_embeddings.weight', 'transformer.layer.8.ffn.lin2.bias', 'transformer.layer.0.sa_layer_norm.weight', 'transformer.layer.10.attention.out_lin.weight', 'transformer.layer.9.ffn.lin2.weight', 'transformer.layer.3.ffn.lin1.weight', 'classifier.bias', 'transformer.layer.8.attention.out_lin.bias', 'transformer.layer.11.attention.k_lin.weight', 'transformer.layer.4.sa_layer_norm.bias', 'transformer.layer.9.sa_layer_norm.weight', 'transformer.layer.9.sa_layer_norm.bias', 'transformer.layer.7.sa_layer_norm.bias', 'transformer.layer.11.sa_layer_norm.weight', 'transformer.layer.1.ffn.lin1.bias', 'transformer.layer.6.attention.v_lin.weight', 'transformer.layer.6.sa_layer_norm.weight', 'transformer.layer.5.attention.out_lin.weight', 'transformer.layer.5.output_layer_norm.weight', 'transformer.layer.5.ffn.lin2.bias', 'transformer.layer.3.attention.v_lin.bias', 'transformer.layer.9.attention.out_lin.weight', 'transformer.layer.0.output_layer_norm.weight', 'transformer.layer.4.attention.v_lin.bias', 'transformer.layer.5.attention.out_lin.bias', 'transformer.layer.10.output_layer_norm.weight', 'transformer.layer.0.attention.v_lin.bias', 'transformer.layer.2.attention.out_lin.bias', 'transformer.layer.7.ffn.lin2.bias', 'transformer.layer.1.ffn.lin2.bias', 'transformer.layer.2.attention.q_lin.weight', 'transformer.layer.4.attention.q_lin.weight', 'pre_classifier.weight', 'transformer.layer.3.attention.k_lin.weight', 'transformer.layer.1.output_layer_norm.weight', 'transformer.layer.1.attention.out_lin.weight', 'transformer.layer.10.sa_layer_norm.weight', 'transformer.layer.11.ffn.lin1.weight', 'transformer.layer.10.ffn.lin2.bias', 'transformer.layer.7.attention.out_lin.weight', 'transformer.layer.6.attention.k_lin.bias', 'transformer.layer.5.ffn.lin1.weight', 'transformer.layer.0.attention.k_lin.bias', 'transformer.layer.7.attention.v_lin.bias', 'transformer.layer.10.ffn.lin2.weight', 'transformer.layer.1.sa_layer_norm.weight', 'transformer.layer.9.attention.v_lin.bias', 'transformer.layer.11.sa_layer_norm.bias', 'transformer.layer.8.output_layer_norm.bias', 'transformer.layer.9.attention.v_lin.weight', 'transformer.layer.3.ffn.lin1.bias', 'transformer.layer.3.attention.q_lin.bias', 'transformer.layer.2.sa_layer_norm.weight', 'transformer.layer.8.ffn.lin1.bias', 'transformer.layer.1.attention.v_lin.weight', 'transformer.layer.6.ffn.lin1.bias', 'transformer.layer.3.attention.v_lin.weight', 'transformer.layer.7.ffn.lin1.bias', 'transformer.layer.8.attention.k_lin.weight', 'transformer.layer.2.attention.v_lin.weight', 'transformer.layer.0.attention.out_lin.weight', 'transformer.layer.11.attention.out_lin.bias', 'transformer.layer.4.ffn.lin1.weight', 'transformer.layer.5.sa_layer_norm.bias', 'transformer.layer.6.attention.q_lin.weight', 'transformer.layer.7.attention.v_lin.weight', 'transformer.layer.0.sa_layer_norm.bias', 'transformer.layer.0.output_layer_norm.bias', 'transformer.layer.11.ffn.lin1.bias', 'transformer.layer.10.attention.v_lin.bias', 'transformer.layer.3.sa_layer_norm.weight', 'transformer.layer.11.attention.k_lin.bias', 'transformer.layer.6.ffn.lin2.weight', 'transformer.layer.10.output_layer_norm.bias', 'transformer.layer.2.output_layer_norm.weight', 'transformer.layer.7.attention.out_lin.bias', 'transformer.layer.11.attention.v_lin.weight', 'transformer.layer.5.attention.v_lin.bias', 'transformer.layer.8.attention.out_lin.weight', 'transformer.layer.11.attention.v_lin.bias', 'transformer.layer.9.ffn.lin2.bias', 'transformer.layer.6.sa_layer_norm.bias', 'transformer.layer.7.ffn.lin1.weight', 'transformer.layer.8.output_layer_norm.weight', 'transformer.layer.5.attention.v_lin.weight', 'transformer.layer.0.attention.q_lin.weight', 'transformer.layer.0.ffn.lin2.bias', 'transformer.layer.7.attention.k_lin.bias', 'transformer.layer.0.attention.v_lin.weight', 'transformer.layer.3.attention.out_lin.weight', 'transformer.layer.0.attention.out_lin.bias', 'transformer.layer.6.ffn.lin1.weight', 'transformer.layer.7.attention.q_lin.bias', 'transformer.layer.0.attention.q_lin.bias', 'transformer.layer.8.attention.v_lin.weight', 'embeddings.LayerNorm.weight', 'transformer.layer.0.attention.k_lin.weight', 'transformer.layer.9.ffn.lin1.bias', 'transformer.layer.10.ffn.lin1.bias', 'transformer.layer.10.sa_layer_norm.bias', 'transformer.layer.1.output_layer_norm.bias', 'transformer.layer.10.attention.k_lin.bias', 'transformer.layer.8.attention.q_lin.bias', 'transformer.layer.2.attention.out_lin.weight', 'transformer.layer.5.attention.q_lin.bias', 'transformer.layer.11.output_layer_norm.weight', 'transformer.layer.1.attention.k_lin.weight', 'transformer.layer.7.attention.q_lin.weight', 'transformer.layer.3.output_layer_norm.bias', 'transformer.layer.4.ffn.lin2.weight', 'transformer.layer.11.attention.q_lin.weight', 'transformer.layer.2.attention.q_lin.bias', 'transformer.layer.10.ffn.lin1.weight', 'transformer.layer.1.ffn.lin2.weight', 'transformer.layer.5.sa_layer_norm.weight', 'transformer.layer.2.ffn.lin2.weight', 'transformer.layer.6.attention.out_lin.weight', 'transformer.layer.8.sa_layer_norm.weight', 'transformer.layer.4.attention.out_lin.bias', 'transformer.layer.3.attention.out_lin.bias', 'transformer.layer.1.attention.v_lin.bias', 'transformer.layer.6.attention.v_lin.bias', 'transformer.layer.1.attention.k_lin.bias', 'transformer.layer.10.attention.v_lin.weight', 'transformer.layer.7.output_layer_norm.bias', 'embeddings.word_embeddings.weight', 'transformer.layer.8.attention.k_lin.bias', 'classifier.weight', 'transformer.layer.2.output_layer_norm.bias', 'transformer.layer.9.attention.k_lin.bias', 'transformer.layer.5.ffn.lin1.bias', 'transformer.layer.4.sa_layer_norm.weight', 'transformer.layer.8.ffn.lin2.weight', 'transformer.layer.9.attention.q_lin.weight', 'transformer.layer.2.attention.k_lin.weight', 'transformer.layer.3.ffn.lin2.weight', 'transformer.layer.8.attention.v_lin.bias', 'transformer.layer.5.ffn.lin2.weight', 'transformer.layer.4.output_layer_norm.bias', 'transformer.layer.7.ffn.lin2.weight', 'transformer.layer.2.ffn.lin1.weight', 'transformer.layer.6.attention.out_lin.bias', 'transformer.layer.2.ffn.lin2.bias', 'transformer.layer.3.output_layer_norm.weight', 'transformer.layer.10.attention.k_lin.weight', 'transformer.layer.6.output_layer_norm.bias', 'transformer.layer.6.ffn.lin2.bias', 'transformer.layer.4.attention.k_lin.bias', 'transformer.layer.5.output_layer_norm.bias', 'transformer.layer.2.attention.k_lin.bias', 'transformer.layer.4.ffn.lin1.bias', 'transformer.layer.1.attention.q_lin.weight', 'transformer.layer.5.attention.k_lin.bias', 'transformer.layer.11.attention.out_lin.weight', 'embeddings.LayerNorm.bias', 'transformer.layer.1.ffn.lin1.weight', 'transformer.layer.4.attention.q_lin.bias', 'transformer.layer.9.attention.out_lin.bias', 'transformer.layer.9.ffn.lin1.weight', 'transformer.layer.3.attention.q_lin.weight', 'transformer.layer.5.attention.q_lin.weight', 'transformer.layer.9.output_layer_norm.bias', 'transformer.layer.4.attention.v_lin.weight', 'transformer.layer.4.output_layer_norm.weight']\n",
      "You should probably TRAIN this model on a down-stream task to be able to use it for predictions and inference.\n",
      "/home/nguyenk/.local/lib/python3.8/site-packages/transformers/optimization.py:411: FutureWarning: This implementation of AdamW is deprecated and will be removed in a future version. Use the PyTorch implementation torch.optim.AdamW instead, or set `no_deprecation_warning=True` to disable this warning\n",
      "  warnings.warn(\n",
      " 20%|██        | 8/40 [31:26<2:05:47, 235.85s/it]\n"
     ]
    },
    {
     "ename": "KeyboardInterrupt",
     "evalue": "",
     "output_type": "error",
     "traceback": [
      "\u001b[0;31m---------------------------------------------------------------------------\u001b[0m",
      "\u001b[0;31mKeyboardInterrupt\u001b[0m                         Traceback (most recent call last)",
      "\u001b[0;32m<ipython-input-20-191a61b3ef89>\u001b[0m in \u001b[0;36m<module>\u001b[0;34m\u001b[0m\n\u001b[1;32m     28\u001b[0m \u001b[0;34m\u001b[0m\u001b[0m\n\u001b[1;32m     29\u001b[0m \u001b[0;31m# Train model\u001b[0m\u001b[0;34m\u001b[0m\u001b[0;34m\u001b[0m\u001b[0;34m\u001b[0m\u001b[0m\n\u001b[0;32m---> 30\u001b[0;31m \u001b[0mbest_model\u001b[0m\u001b[0;34m,\u001b[0m \u001b[0mtrain_losses\u001b[0m\u001b[0;34m,\u001b[0m \u001b[0mval_losses\u001b[0m\u001b[0;34m,\u001b[0m \u001b[0mbest_epoch\u001b[0m\u001b[0;34m,\u001b[0m \u001b[0mbest_val_loss\u001b[0m  \u001b[0;34m=\u001b[0m \u001b[0mtrain_finbert_regressor\u001b[0m\u001b[0;34m(\u001b[0m\u001b[0mmodel\u001b[0m\u001b[0;34m,\u001b[0m \u001b[0mtokenizer\u001b[0m\u001b[0;34m,\u001b[0m \u001b[0mtrain_dataloader\u001b[0m\u001b[0;34m,\u001b[0m \u001b[0mval_dataloader\u001b[0m\u001b[0;34m,\u001b[0m \u001b[0mepochs\u001b[0m\u001b[0;34m=\u001b[0m\u001b[0mepochs\u001b[0m\u001b[0;34m,\u001b[0m \u001b[0mlr\u001b[0m\u001b[0;34m=\u001b[0m\u001b[0mlr\u001b[0m\u001b[0;34m,\u001b[0m \u001b[0meps\u001b[0m\u001b[0;34m=\u001b[0m\u001b[0meps\u001b[0m\u001b[0;34m)\u001b[0m\u001b[0;34m\u001b[0m\u001b[0;34m\u001b[0m\u001b[0m\n\u001b[0m\u001b[1;32m     31\u001b[0m \u001b[0;34m\u001b[0m\u001b[0m\n\u001b[1;32m     32\u001b[0m \u001b[0;31m# Save models\u001b[0m\u001b[0;34m\u001b[0m\u001b[0;34m\u001b[0m\u001b[0;34m\u001b[0m\u001b[0m\n",
      "\u001b[0;32m<ipython-input-8-14b85e55baeb>\u001b[0m in \u001b[0;36mtrain_finbert_regressor\u001b[0;34m(model, tokenizer, train_dataloader, val_dataloader, epochs, lr, eps)\u001b[0m\n\u001b[1;32m     17\u001b[0m             \u001b[0moptimizer\u001b[0m\u001b[0;34m.\u001b[0m\u001b[0mzero_grad\u001b[0m\u001b[0;34m(\u001b[0m\u001b[0;34m)\u001b[0m\u001b[0;34m\u001b[0m\u001b[0;34m\u001b[0m\u001b[0m\n\u001b[1;32m     18\u001b[0m             \u001b[0mloss\u001b[0m\u001b[0;34m,\u001b[0m \u001b[0mpredictions\u001b[0m \u001b[0;34m=\u001b[0m \u001b[0mmodel\u001b[0m\u001b[0;34m(\u001b[0m\u001b[0mb_input_ids\u001b[0m\u001b[0;34m,\u001b[0m \u001b[0mlabels\u001b[0m\u001b[0;34m=\u001b[0m\u001b[0mb_labels\u001b[0m\u001b[0;34m)\u001b[0m\u001b[0;34m\u001b[0m\u001b[0;34m\u001b[0m\u001b[0m\n\u001b[0;32m---> 19\u001b[0;31m             \u001b[0mloss\u001b[0m\u001b[0;34m.\u001b[0m\u001b[0mbackward\u001b[0m\u001b[0;34m(\u001b[0m\u001b[0;34m)\u001b[0m\u001b[0;34m\u001b[0m\u001b[0;34m\u001b[0m\u001b[0m\n\u001b[0m\u001b[1;32m     20\u001b[0m             \u001b[0mtorch\u001b[0m\u001b[0;34m.\u001b[0m\u001b[0mnn\u001b[0m\u001b[0;34m.\u001b[0m\u001b[0mutils\u001b[0m\u001b[0;34m.\u001b[0m\u001b[0mclip_grad_norm_\u001b[0m\u001b[0;34m(\u001b[0m\u001b[0mmodel\u001b[0m\u001b[0;34m.\u001b[0m\u001b[0mparameters\u001b[0m\u001b[0;34m(\u001b[0m\u001b[0;34m)\u001b[0m\u001b[0;34m,\u001b[0m \u001b[0;36m1.0\u001b[0m\u001b[0;34m)\u001b[0m \u001b[0;31m# Help prevent the \"exploding gradients\" problem by clipping the norm of the gradients to 1.0.\u001b[0m\u001b[0;34m\u001b[0m\u001b[0;34m\u001b[0m\u001b[0m\n\u001b[1;32m     21\u001b[0m             \u001b[0moptimizer\u001b[0m\u001b[0;34m.\u001b[0m\u001b[0mstep\u001b[0m\u001b[0;34m(\u001b[0m\u001b[0;34m)\u001b[0m\u001b[0;34m\u001b[0m\u001b[0;34m\u001b[0m\u001b[0m\n",
      "\u001b[0;32m/usr/lib/python3/dist-packages/torch/_tensor.py\u001b[0m in \u001b[0;36mbackward\u001b[0;34m(self, gradient, retain_graph, create_graph, inputs)\u001b[0m\n\u001b[1;32m    485\u001b[0m                 \u001b[0minputs\u001b[0m\u001b[0;34m=\u001b[0m\u001b[0minputs\u001b[0m\u001b[0;34m,\u001b[0m\u001b[0;34m\u001b[0m\u001b[0;34m\u001b[0m\u001b[0m\n\u001b[1;32m    486\u001b[0m             )\n\u001b[0;32m--> 487\u001b[0;31m         torch.autograd.backward(\n\u001b[0m\u001b[1;32m    488\u001b[0m             \u001b[0mself\u001b[0m\u001b[0;34m,\u001b[0m \u001b[0mgradient\u001b[0m\u001b[0;34m,\u001b[0m \u001b[0mretain_graph\u001b[0m\u001b[0;34m,\u001b[0m \u001b[0mcreate_graph\u001b[0m\u001b[0;34m,\u001b[0m \u001b[0minputs\u001b[0m\u001b[0;34m=\u001b[0m\u001b[0minputs\u001b[0m\u001b[0;34m\u001b[0m\u001b[0;34m\u001b[0m\u001b[0m\n\u001b[1;32m    489\u001b[0m         )\n",
      "\u001b[0;32m/usr/lib/python3/dist-packages/torch/autograd/__init__.py\u001b[0m in \u001b[0;36mbackward\u001b[0;34m(tensors, grad_tensors, retain_graph, create_graph, grad_variables, inputs)\u001b[0m\n\u001b[1;32m    198\u001b[0m     \u001b[0;31m# some Python versions print out the first line of a multi-line function\u001b[0m\u001b[0;34m\u001b[0m\u001b[0;34m\u001b[0m\u001b[0;34m\u001b[0m\u001b[0m\n\u001b[1;32m    199\u001b[0m     \u001b[0;31m# calls in the traceback and some print out the last line\u001b[0m\u001b[0;34m\u001b[0m\u001b[0;34m\u001b[0m\u001b[0;34m\u001b[0m\u001b[0m\n\u001b[0;32m--> 200\u001b[0;31m     Variable._execution_engine.run_backward(  # Calls into the C++ engine to run the backward pass\n\u001b[0m\u001b[1;32m    201\u001b[0m         \u001b[0mtensors\u001b[0m\u001b[0;34m,\u001b[0m \u001b[0mgrad_tensors_\u001b[0m\u001b[0;34m,\u001b[0m \u001b[0mretain_graph\u001b[0m\u001b[0;34m,\u001b[0m \u001b[0mcreate_graph\u001b[0m\u001b[0;34m,\u001b[0m \u001b[0minputs\u001b[0m\u001b[0;34m,\u001b[0m\u001b[0;34m\u001b[0m\u001b[0;34m\u001b[0m\u001b[0m\n\u001b[1;32m    202\u001b[0m         allow_unreachable=True, accumulate_grad=True)  # Calls into the C++ engine to run the backward pass\n",
      "\u001b[0;31mKeyboardInterrupt\u001b[0m: "
     ]
    }
   ],
   "source": [
    "# Define variables\n",
    "batch_size = 16\n",
    "epochs=40\n",
    "lr=2e-5\n",
    "eps=1e-8\n",
    "# Name metric\n",
    "file = files[4]\n",
    "metric_name = file.split('.')[0].split('_')[0]\n",
    "\n",
    "print(f\"--------------START TRAINING MODEL FOR {metric_name}--------------\")\n",
    "\n",
    "# Read csv file\n",
    "df = pd.read_csv(path + file)\n",
    "\n",
    "# Train validation split\n",
    "train_df, val_df = train_val_split(df, test_size=0.2)\n",
    "\n",
    "# Load model and tokenizer\n",
    "model, tokenizer = finbert_regressor()\n",
    "model.to(device)\n",
    "\n",
    "# Prepare datasets\n",
    "train_dataset = prepare_labeled_datasets(tokenizer, model, 512, train_df['text'].values, train_df['target'].values)\n",
    "val_dataset = prepare_labeled_datasets(tokenizer, model, 512, val_df['text'].values, val_df['target'].values)\n",
    "\n",
    "train_dataloader = DataLoader(train_dataset, batch_size=batch_size, shuffle=True)\n",
    "val_dataloader = DataLoader(val_dataset, batch_size=batch_size, shuffle=False)\n",
    "\n",
    "# Train model\n",
    "best_model, train_losses, val_losses, best_epoch, best_val_loss  = train_finbert_regressor(model, tokenizer, train_dataloader, val_dataloader, epochs=epochs, lr=lr, eps=eps)\n",
    "\n",
    "# Save models\n",
    "# If folder not available, create folder\n",
    "if not os.path.exists('../models/finbert-regression/' + metric_name):\n",
    "    os.makedirs('../models/finbert-regression/' + metric_name)\n",
    "# Save model to folder\n",
    "best_model.save_pretrained('../models/finbert-regression/' + metric_name)   \n",
    "\n",
    "    \n",
    "# Present results from the best model\n",
    "print(\"    Results from the best model\")\n",
    "print(f\"Epoch with best validation RSE: {best_epoch}\")\n",
    "print(\"Best validation RSE: {0:.2f}\".format(best_val_loss)) \n",
    "\n",
    "plot_learning_curve(train_losses, val_losses)\n",
    "print(f\"--------------DONE TRAINING MODEL FOR {metric_name}--------------\")\n",
    "print(\"\\n\")"
   ]
  },
  {
   "cell_type": "markdown",
   "metadata": {},
   "source": []
  },
  {
   "cell_type": "code",
   "execution_count": null,
   "metadata": {},
   "outputs": [],
   "source": [
    "# Define variables\n",
    "batch_size = 16\n",
    "epochs=40\n",
    "lr=2e-5\n",
    "eps=1e-8\n",
    "# Name metric\n",
    "file = files[5]\n",
    "metric_name = file.split('.')[0].split('_')[0]\n",
    "\n",
    "print(f\"--------------START TRAINING MODEL FOR {metric_name}--------------\")\n",
    "\n",
    "# Read csv file\n",
    "df = pd.read_csv(path + file)\n",
    "\n",
    "# Train validation split\n",
    "train_df, val_df = train_val_split(df, test_size=0.2)\n",
    "\n",
    "# Load model and tokenizer\n",
    "model, tokenizer = finbert_regressor()\n",
    "model.to(device)\n",
    "\n",
    "# Prepare datasets\n",
    "train_dataset = prepare_labeled_datasets(tokenizer, model, 512, train_df['text'].values, train_df['target'].values)\n",
    "val_dataset = prepare_labeled_datasets(tokenizer, model, 512, val_df['text'].values, val_df['target'].values)\n",
    "\n",
    "train_dataloader = DataLoader(train_dataset, batch_size=batch_size, shuffle=True)\n",
    "val_dataloader = DataLoader(val_dataset, batch_size=batch_size, shuffle=False)\n",
    "\n",
    "# Train model\n",
    "best_model, train_losses, val_losses, best_epoch, best_val_loss  = train_finbert_regressor(model, tokenizer, train_dataloader, val_dataloader, epochs=epochs, lr=lr, eps=eps)\n",
    "\n",
    "# Save models\n",
    "# If folder not available, create folder\n",
    "if not os.path.exists('../models/finbert-regression/' + metric_name):\n",
    "    os.makedirs('../models/finbert-regression/' + metric_name)\n",
    "# Save model to folder\n",
    "best_model.save_pretrained('../models/finbert-regression/' + metric_name)   \n",
    "\n",
    "    \n",
    "# Present results from the best model\n",
    "print(\"    Results from the best model\")\n",
    "print(f\"Epoch with best validation RSE: {best_epoch}\")\n",
    "print(\"Best validation RSE: {0:.2f}\".format(best_val_loss)) \n",
    "\n",
    "plot_learning_curve(train_losses, val_losses)\n",
    "print(f\"--------------DONE TRAINING MODEL FOR {metric_name}--------------\")\n",
    "print(\"\\n\")"
   ]
  },
  {
   "cell_type": "code",
   "execution_count": 34,
   "metadata": {},
   "outputs": [
    {
     "data": {
      "text/plain": [
       "'NetCashProvidedByUsedInInvestingActivities'"
      ]
     },
     "execution_count": 34,
     "metadata": {},
     "output_type": "execute_result"
    }
   ],
   "source": [
    "files[0].split('.')[0].split('_')[0]  "
   ]
  },
  {
   "cell_type": "code",
   "execution_count": 38,
   "metadata": {},
   "outputs": [
    {
     "name": "stdout",
     "output_type": "stream",
     "text": [
      "epoch:  1\n",
      "Training...\n"
     ]
    },
    {
     "name": "stderr",
     "output_type": "stream",
     "text": [
      "100%|██████████| 18/18 [00:04<00:00,  3.77it/s]\n"
     ]
    },
    {
     "name": "stdout",
     "output_type": "stream",
     "text": [
      "\n",
      "summary results\n",
      "epoch | train loss | train time\n",
      "    1 | 0.22744 |  4.77855372428894\n",
      "\n",
      "Running Validation...\n"
     ]
    },
    {
     "name": "stderr",
     "output_type": "stream",
     "text": [
      "100%|██████████| 5/5 [00:00<00:00, 13.03it/s]\n"
     ]
    },
    {
     "name": "stdout",
     "output_type": "stream",
     "text": [
      "  Validation loss: 1.03\n",
      "  BEST MODEL SO FAR! SAVING IT...\n",
      "epoch:  2\n",
      "Training...\n"
     ]
    },
    {
     "name": "stderr",
     "output_type": "stream",
     "text": [
      "100%|██████████| 18/18 [00:04<00:00,  3.84it/s]\n"
     ]
    },
    {
     "name": "stdout",
     "output_type": "stream",
     "text": [
      "\n",
      "summary results\n",
      "epoch | train loss | train time\n",
      "    2 | 0.21833 |  4.685414552688599\n",
      "\n",
      "Running Validation...\n"
     ]
    },
    {
     "name": "stderr",
     "output_type": "stream",
     "text": [
      "100%|██████████| 5/5 [00:00<00:00, 12.95it/s]\n"
     ]
    },
    {
     "name": "stdout",
     "output_type": "stream",
     "text": [
      "  Validation loss: 1.05\n",
      "epoch:  3\n",
      "Training...\n"
     ]
    },
    {
     "name": "stderr",
     "output_type": "stream",
     "text": [
      "100%|██████████| 18/18 [00:04<00:00,  3.84it/s]\n"
     ]
    },
    {
     "name": "stdout",
     "output_type": "stream",
     "text": [
      "\n",
      "summary results\n",
      "epoch | train loss | train time\n",
      "    3 | 0.19609 |  4.693521976470947\n",
      "\n",
      "Running Validation...\n"
     ]
    },
    {
     "name": "stderr",
     "output_type": "stream",
     "text": [
      "100%|██████████| 5/5 [00:00<00:00, 12.95it/s]\n"
     ]
    },
    {
     "name": "stdout",
     "output_type": "stream",
     "text": [
      "  Validation loss: 1.14\n",
      "epoch:  4\n",
      "Training...\n"
     ]
    },
    {
     "name": "stderr",
     "output_type": "stream",
     "text": [
      "100%|██████████| 18/18 [00:04<00:00,  3.83it/s]\n"
     ]
    },
    {
     "name": "stdout",
     "output_type": "stream",
     "text": [
      "\n",
      "summary results\n",
      "epoch | train loss | train time\n",
      "    4 | 0.18973 |  4.698243618011475\n",
      "\n",
      "Running Validation...\n"
     ]
    },
    {
     "name": "stderr",
     "output_type": "stream",
     "text": [
      "100%|██████████| 5/5 [00:00<00:00, 12.91it/s]\n"
     ]
    },
    {
     "name": "stdout",
     "output_type": "stream",
     "text": [
      "  Validation loss: 1.23\n",
      "epoch:  5\n",
      "Training...\n"
     ]
    },
    {
     "name": "stderr",
     "output_type": "stream",
     "text": [
      "100%|██████████| 18/18 [00:04<00:00,  3.83it/s]\n"
     ]
    },
    {
     "name": "stdout",
     "output_type": "stream",
     "text": [
      "\n",
      "summary results\n",
      "epoch | train loss | train time\n",
      "    5 | 0.17927 |  4.708595275878906\n",
      "\n",
      "Running Validation...\n"
     ]
    },
    {
     "name": "stderr",
     "output_type": "stream",
     "text": [
      "100%|██████████| 5/5 [00:00<00:00, 12.89it/s]\n"
     ]
    },
    {
     "name": "stdout",
     "output_type": "stream",
     "text": [
      "  Validation loss: 1.06\n",
      "epoch:  6\n",
      "Training...\n"
     ]
    },
    {
     "name": "stderr",
     "output_type": "stream",
     "text": [
      "100%|██████████| 18/18 [00:04<00:00,  3.81it/s]\n"
     ]
    },
    {
     "name": "stdout",
     "output_type": "stream",
     "text": [
      "\n",
      "summary results\n",
      "epoch | train loss | train time\n",
      "    6 | 0.22321 |  4.721346378326416\n",
      "\n",
      "Running Validation...\n"
     ]
    },
    {
     "name": "stderr",
     "output_type": "stream",
     "text": [
      "100%|██████████| 5/5 [00:00<00:00, 12.88it/s]\n"
     ]
    },
    {
     "name": "stdout",
     "output_type": "stream",
     "text": [
      "  Validation loss: 0.87\n",
      "  BEST MODEL SO FAR! SAVING IT...\n",
      "epoch:  7\n",
      "Training...\n"
     ]
    },
    {
     "name": "stderr",
     "output_type": "stream",
     "text": [
      "100%|██████████| 18/18 [00:04<00:00,  3.81it/s]\n"
     ]
    },
    {
     "name": "stdout",
     "output_type": "stream",
     "text": [
      "\n",
      "summary results\n",
      "epoch | train loss | train time\n",
      "    7 | 0.17763 |  4.725480079650879\n",
      "\n",
      "Running Validation...\n"
     ]
    },
    {
     "name": "stderr",
     "output_type": "stream",
     "text": [
      "100%|██████████| 5/5 [00:00<00:00, 12.88it/s]\n"
     ]
    },
    {
     "name": "stdout",
     "output_type": "stream",
     "text": [
      "  Validation loss: 1.02\n",
      "epoch:  8\n",
      "Training...\n"
     ]
    },
    {
     "name": "stderr",
     "output_type": "stream",
     "text": [
      "100%|██████████| 18/18 [00:04<00:00,  3.80it/s]\n"
     ]
    },
    {
     "name": "stdout",
     "output_type": "stream",
     "text": [
      "\n",
      "summary results\n",
      "epoch | train loss | train time\n",
      "    8 | 0.18214 |  4.744260549545288\n",
      "\n",
      "Running Validation...\n"
     ]
    },
    {
     "name": "stderr",
     "output_type": "stream",
     "text": [
      "100%|██████████| 5/5 [00:00<00:00, 12.81it/s]\n"
     ]
    },
    {
     "name": "stdout",
     "output_type": "stream",
     "text": [
      "  Validation loss: 0.95\n",
      "epoch:  9\n",
      "Training...\n"
     ]
    },
    {
     "name": "stderr",
     "output_type": "stream",
     "text": [
      "100%|██████████| 18/18 [00:04<00:00,  3.80it/s]\n"
     ]
    },
    {
     "name": "stdout",
     "output_type": "stream",
     "text": [
      "\n",
      "summary results\n",
      "epoch | train loss | train time\n",
      "    9 | 0.20480 |  4.741695404052734\n",
      "\n",
      "Running Validation...\n"
     ]
    },
    {
     "name": "stderr",
     "output_type": "stream",
     "text": [
      "100%|██████████| 5/5 [00:00<00:00, 12.83it/s]\n"
     ]
    },
    {
     "name": "stdout",
     "output_type": "stream",
     "text": [
      "  Validation loss: 1.04\n",
      "epoch:  10\n",
      "Training...\n"
     ]
    },
    {
     "name": "stderr",
     "output_type": "stream",
     "text": [
      "100%|██████████| 18/18 [00:04<00:00,  3.79it/s]\n"
     ]
    },
    {
     "name": "stdout",
     "output_type": "stream",
     "text": [
      "\n",
      "summary results\n",
      "epoch | train loss | train time\n",
      "   10 | 0.18151 |  4.749243259429932\n",
      "\n",
      "Running Validation...\n"
     ]
    },
    {
     "name": "stderr",
     "output_type": "stream",
     "text": [
      "100%|██████████| 5/5 [00:00<00:00, 12.84it/s]"
     ]
    },
    {
     "name": "stdout",
     "output_type": "stream",
     "text": [
      "  Validation loss: 0.93\n"
     ]
    },
    {
     "name": "stderr",
     "output_type": "stream",
     "text": [
      "\n"
     ]
    },
    {
     "data": {
      "image/png": "[encoded data removed]",
      "text/plain": [
       "<Figure size 1080x576 with 1 Axes>"
      ]
     },
     "metadata": {
      "needs_background": "light"
     },
     "output_type": "display_data"
    },
    {
     "name": "stdout",
     "output_type": "stream",
     "text": [
      "Epoch with best validation RSE: 7\n",
      "Best validation RSE: 0.87\n"
     ]
    }
   ],
   "source": [
    "# Initialize the best validation RSE \n",
    "best_validation_rse = float('inf') # set to infinity\n",
    "\n",
    "model.to(device) # send the model to GPU\n",
    "model.train() # switch to train mode i.e. forward, backward, optimization\n",
    "optimizer = AdamW(model.parameters(), lr=5e-5) # choose an optimizer for the gradient descent\n",
    "loss_values = [] # accumulate training losses for plotting\n",
    "eval_loss_values = [] # accumulate validation losses for plotting\n",
    "\n",
    "# define number of epochs\n",
    "epochs = 10\n",
    "for epoch in range(epochs): #number of epochs i.e. how many times is the whole dataset passed through the architecture\n",
    "      # =================================\n",
    "      #              Training\n",
    "      # =================================\n",
    "      \n",
    "      print(\"epoch: \", epoch+1)\n",
    "      #print(\"Training...\")\n",
    "      # capture time\n",
    "      total_t0 = time.time()\n",
    "      train_total_loss = 0\n",
    "      for batch in tqdm(train_dataloader): # split into batches to fit into the memory\n",
    "            input_ids, labels = batch\n",
    "            input_ids.to(device)\n",
    "            labels.to(device)\n",
    "            \n",
    "            # Always clear any previously calculated gradients before performing a\n",
    "            # backward pass. \n",
    "            optimizer.zero_grad()\n",
    "\n",
    "            # Perform a forward pass (evaluate the model on this training batch).\n",
    "            # This will return the loss (rather than the model output) because we\n",
    "            # have provided the `labels`.\n",
    "            # The documentation for this `model` function is here: \n",
    "            # https://huggingface.co/transformers/v2.2.0/model_doc/bert.html#transformers.BertForSequenceClassification\n",
    "            outputs = model(input_ids,labels=labels)\n",
    "            # Calculate the loss i.e. distance between predicted labels and true labels using cross entropy\n",
    "            loss = outputs[0]\n",
    "\n",
    "            # Accumulate the training loss over all of the batches so that we can\n",
    "            # calculate the average loss at the end. `loss` is a Tensor containing a\n",
    "            # single value; the `.item()` function just returns the Python value \n",
    "            # from the tensor.\n",
    "            train_total_loss += loss.item()\n",
    "            # Perform a backward pass to calculate the gradients.\n",
    "            loss.backward()\n",
    "\n",
    "            # Clip the norm of the gradients to 1.0.\n",
    "            # This is to help prevent the \"exploding gradients\" problem.\n",
    "            torch.nn.utils.clip_grad_norm_(model.parameters(), 1.0)\n",
    "\n",
    "            # Update parameters using the optimizer and the gradient values\n",
    "            optimizer.step()\n",
    "      \n",
    "      # print result summaries\n",
    "      #print(\"\")\n",
    "      #print(\"summary results\")\n",
    "      #print(\"epoch | train loss | train time\")\n",
    "      # Calculate the average loss over the training data.\n",
    "      avg_train_loss = train_total_loss / len(train_dataloader)\n",
    "      \n",
    "      # Store the loss value for plotting the learning curve.\n",
    "      loss_values.append(avg_train_loss)\n",
    "      \n",
    "      \n",
    "      # training time end\n",
    "      training_time = time.time() - total_t0\n",
    "      #print(f\"{epoch+1:5d} | {avg_train_loss:.5f} |  {training_time:}\")\n",
    "      \n",
    "      # =================================\n",
    "      #             Validation\n",
    "      # =================================\n",
    "      # After the completion of each training epoch, measure our performance on\n",
    "      # our validation set.\n",
    "      print(\"\")\n",
    "      #print(\"Running Validation...\")\n",
    "      # capture time\n",
    "      total_t0 = time.time()\n",
    "      # switch to evaluation mode i.e. no backward pass\n",
    "      model.eval()\n",
    "      with torch.no_grad():\n",
    "            preds_list = []\n",
    "            labels_list = []\n",
    "            rse_list = []\n",
    "            \n",
    "            rse_sum = 0\n",
    "\n",
    "            for batch in tqdm(val_dataloader):\n",
    "                  input_ids, labels = batch\n",
    "                  input_ids.to(device)\n",
    "                  labels.to(device)\n",
    "\n",
    "                  outputs = model(input_ids=input_ids, labels=labels)\n",
    "                  loss = outputs[0] # Access the loss from the outputs tuple\n",
    "            \n",
    "                  # Predictions from the model\n",
    "                  preds = outputs[1]  # The predicted values are the second element of the tuple outputted by the model\n",
    "                  preds_list.extend(preds.cpu().numpy())\n",
    "                  labels_list.extend(labels.cpu().numpy())\n",
    "\n",
    "                  # Calculate RSE\n",
    "                  mse_predictions_labels = torch.nn.functional.mse_loss(preds[:, 0], labels.float()).item()\n",
    "                  mean_labels = torch.mean(labels.float())\n",
    "                  mse_labels_mean = torch.nn.functional.mse_loss(labels.float(), mean_labels.expand_as(labels)).item()\n",
    "                  rse = mse_predictions_labels / mse_labels_mean\n",
    "                  rse_list.append(rse)\n",
    "                  rse_sum += rse\n",
    "\n",
    "            mean_rse = rse_sum / len(val_dataloader)\n",
    "            #print(\"  Validation loss: {0:.2f}\".format(mean_rse))\n",
    "            \n",
    "            # Store the loss value for plotting the learning curve.\n",
    "            eval_loss_values.append(mean_rse)\n",
    "            \n",
    "            # Check if the current model is the best one and save it.\n",
    "            if mean_rse < best_validation_rse:\n",
    "                  #print(\"  BEST MODEL SO FAR! SAVING IT...\")\n",
    "                  # Save the best model in the specified location\n",
    "                  model.save_pretrained('../models/finbert-regression')\n",
    "                  best_validation_rse = mean_rse\n",
    "                  best_epoch = epoch + 1\n",
    "                  \n",
    "\n",
    "# Plot the loss values of train and validation in the same plot\n",
    "plt.figure(figsize=(15,8))\n",
    "plt.title(\"Training vs. Validation loss\")\n",
    "plt.xlabel(\"Epoch\")\n",
    "plt.ylabel(\"Loss\")\n",
    "plt.plot(loss_values, 'b-o', label=\"Training Loss\")\n",
    "plt.plot(eval_loss_values, 'r-o', label=\"Validation loss\")\n",
    "plt.legend()\n",
    "plt.xlabel('Epoch')\n",
    "plt.ylabel('Loss')\n",
    "plt.show()\n",
    "\n",
    "# Present results from the best model\n",
    "print(f\"Total training time: {training_time:.2f}\")\n",
    "print(f\"Epoch with best validation RSE: {np.argmin(loss_values)+1}\")\n",
    "print(\"Best validation RSE: {0:.2f}\".format(best_validation_rse))"
   ]
  },
  {
   "cell_type": "markdown",
   "metadata": {},
   "source": []
  },
  {
   "cell_type": "code",
   "execution_count": 3,
   "metadata": {},
   "outputs": [],
   "source": [
    "from datasets import load_metric\n",
    "#from sklearn.metrics import mean_absolute_error, r2_score, mean_squared_error, accuracy_score\n",
    "\n",
    " # Define the RSE function\n",
    "def rse(eval_pred):\n",
    "    y_pred, y_true = eval_pred\n",
    "    true_mean = np.mean(y_true)\n",
    "    squared_error_num = np.sum(np.square(y_true - y_pred))\n",
    "    squared_error_den = np.sum(np.square(y_true - true_mean))\n",
    "    rse_loss = squared_error_num / squared_error_den\n",
    "    return rse_loss  "
   ]
  }
 ],
 "metadata": {
  "kernelspec": {
   "display_name": "Python 3",
   "language": "python",
   "name": "python3"
  },
  "language_info": {
   "codemirror_mode": {
    "name": "ipython",
    "version": 3
   },
   "file_extension": ".py",
   "mimetype": "text/x-python",
   "name": "python",
   "nbconvert_exporter": "python",
   "pygments_lexer": "ipython3",
   "version": "3.8.10"
  }
 },
 "nbformat": 4,
 "nbformat_minor": 2
}
