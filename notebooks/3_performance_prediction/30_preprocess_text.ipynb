{
 "cells": [
  {
   "cell_type": "markdown",
   "metadata": {},
   "source": [
    "This notebook will execute the pre-processing steps by removing noises in text. The clean version will be saved for 1) lemmatization for TF-IDF, 2) tokenizing for FinBERT."
   ]
  },
  {
   "cell_type": "markdown",
   "metadata": {},
   "source": [
    "# Import packages"
   ]
  },
  {
   "cell_type": "code",
   "execution_count": 3,
   "metadata": {},
   "outputs": [],
   "source": [
    "import os\n",
    "import warnings\n",
    "import pandas as pd\n",
    "import spacy\n",
    "from gensim.parsing.preprocessing import STOPWORDS, strip_punctuation, strip_multiple_whitespaces, remove_stopwords, strip_short"
   ]
  },
  {
   "cell_type": "markdown",
   "metadata": {},
   "source": [
    "# Load data"
   ]
  },
  {
   "cell_type": "code",
   "execution_count": 2,
   "metadata": {},
   "outputs": [
    {
     "data": {
      "text/plain": [
       "['RevenueFromContractWithCustomerExcludingAssessedTax_train.csv',\n",
       " 'NetCashProvidedByUsedInInvestingActivities_train.csv',\n",
       " 'NetCashProvidedByUsedInFinancingActivities_train.csv',\n",
       " 'EBIT_train.csv',\n",
       " 'NetIncomeLoss_train.csv',\n",
       " 'EarningsPerShareDiluted_train.csv']"
      ]
     },
     "execution_count": 2,
     "metadata": {},
     "output_type": "execute_result"
    }
   ],
   "source": [
    "# Get all training data files\n",
    "train_path = '../../data/02_processed/distilbert_data/train/'\n",
    "train_files = [file for file in os.listdir(train_path) if file.endswith('train.csv')]\n",
    "train_files"
   ]
  },
  {
   "cell_type": "code",
   "execution_count": 4,
   "metadata": {},
   "outputs": [
    {
     "data": {
      "text/plain": [
       "['EBIT_test.csv',\n",
       " 'NetCashProvidedByUsedInFinancingActivities_test.csv',\n",
       " 'RevenueFromContractWithCustomerExcludingAssessedTax_test.csv',\n",
       " 'EarningsPerShareDiluted_test.csv',\n",
       " 'NetIncomeLoss_test.csv',\n",
       " 'NetCashProvidedByUsedInInvestingActivities_test.csv']"
      ]
     },
     "execution_count": 4,
     "metadata": {},
     "output_type": "execute_result"
    }
   ],
   "source": [
    "# Get all test data files\n",
    "test_path = '.../../data/02_processed/distilbert_data/test/'\n",
    "test_files = [file for file in os.listdir(test_path) if file.endswith('test.csv')]\n",
    "test_files"
   ]
  },
  {
   "cell_type": "code",
   "execution_count": 4,
   "metadata": {},
   "outputs": [
    {
     "data": {
      "text/plain": [
       "['RevenueFromContractWithCustomerExcludingAssessedTax_train.csv',\n",
       " 'NetCashProvidedByUsedInInvestingActivities_train.csv',\n",
       " 'NetCashProvidedByUsedInFinancingActivities_train.csv',\n",
       " 'EBIT_train.csv',\n",
       " 'NetIncomeLoss_train.csv',\n",
       " 'EarningsPerShareDiluted_train.csv']"
      ]
     },
     "execution_count": 4,
     "metadata": {},
     "output_type": "execute_result"
    }
   ],
   "source": [
    "# Get all training data files\n",
    "# fb = finbert\n",
    "fb_train_path = '../../data/02_processed/finbert_data/train/'\n",
    "fb_train_files = [file for file in os.listdir(fb_train_path) if file.endswith('train.csv')]\n",
    "fb_train_files"
   ]
  },
  {
   "cell_type": "code",
   "execution_count": 5,
   "metadata": {},
   "outputs": [
    {
     "data": {
      "text/plain": [
       "['EBIT_test.csv',\n",
       " 'NetCashProvidedByUsedInFinancingActivities_test.csv',\n",
       " 'RevenueFromContractWithCustomerExcludingAssessedTax_test.csv',\n",
       " 'EarningsPerShareDiluted_test.csv',\n",
       " 'NetIncomeLoss_test.csv',\n",
       " 'NetCashProvidedByUsedInInvestingActivities_test.csv']"
      ]
     },
     "execution_count": 5,
     "metadata": {},
     "output_type": "execute_result"
    }
   ],
   "source": [
    "# Get all test data files\n",
    "fb_test_path = '../../data/02_processed/finbert_data/test/'\n",
    "fb_test_files = [file for file in os.listdir(fb_test_path) if file.endswith('test.csv')]\n",
    "fb_test_files"
   ]
  },
  {
   "cell_type": "markdown",
   "metadata": {},
   "source": [
    "# Preprocess text"
   ]
  },
  {
   "cell_type": "code",
   "execution_count": 6,
   "metadata": {},
   "outputs": [],
   "source": [
    "# Suppress warnings (i.e SettingWithCopyWarning)\n",
    "warnings.filterwarnings('ignore')\n",
    "    \n",
    "# Function to preprocess and lemmatize text\n",
    "def preprocess_text(df, target_column):\n",
    "    \n",
    "    # Remove punctuation\n",
    "    df['text'] = df['text'].apply(lambda x: strip_punctuation(x))\n",
    "\n",
    "    # Remove multiple whitespaces\n",
    "    df['text'] = df['text'].apply(lambda x: strip_multiple_whitespaces(x))\n",
    "\n",
    "    # Transform to lowercase\n",
    "    df['text'] = df['text'].apply(lambda x: x.lower())\n",
    "\n",
    "    # Remove stopwords\n",
    "    df['text'] = df['text'].apply(lambda x: remove_stopwords(x))\n",
    "\n",
    "    # Remove short words\n",
    "    df['text'] = df['text'].apply(lambda x: strip_short(x))\n",
    "\n",
    "    \n",
    "    # Prepare data for training\n",
    "    df = df[['text', target_column]]\n",
    "    df.columns = ['text', 'target'] # Rename columns\n",
    "    \n",
    "    # Drop duplicates\n",
    "    df.drop_duplicates(inplace=True)\n",
    "    \n",
    "    # Drop rows with missing values\n",
    "    df.dropna(inplace=True)\n",
    "    df.reset_index(drop=True, inplace=True)\n",
    "    \n",
    "    return df\n"
   ]
  },
  {
   "cell_type": "code",
   "execution_count": 6,
   "metadata": {},
   "outputs": [
    {
     "name": "stdout",
     "output_type": "stream",
     "text": [
      "Preprocessing RevenueFromContractWithCustomerExcludingAssessedTax_train.csv...\n"
     ]
    },
    {
     "name": "stdout",
     "output_type": "stream",
     "text": [
      "                                                text       target\n",
      "0  management considers factors assessing expecte...   5429000000\n",
      "1  estimate fair values assets acquired acquisiti...   4147270000\n",
      "2  actual future taxable income differs estimates...   7651319000\n",
      "3  company expects subject incremental tax gilti ...   6820886000\n",
      "4  accumulated unrepatriated indian earnings repa...  16783000000\n",
      "-----------------------------------------\n",
      "Preprocessing NetCashProvidedByUsedInInvestingActivities_train.csv...\n",
      "                                                text        target\n",
      "0  fourth quarter 2018 expanded restructuring pla...  3.100000e+07\n",
      "1  given quality diversity underlying real estate... -7.340000e+08\n",
      "2  cash flow amounts reduced realized gains inves... -6.240000e+08\n",
      "3  plan expand network tesla stores galleries ser... -1.081085e+09\n",
      "4  given quality diversity underlying real estate... -3.611000e+09\n",
      "-----------------------------------------\n",
      "Preprocessing NetCashProvidedByUsedInFinancingActivities_train.csv...\n",
      "                                                text        target\n",
      "0  pension expense vary range outcomes material e... -3.624000e+09\n",
      "1  order achieve level cost savings estimate rela...  8.830000e+08\n",
      "2  long term liabilities primarily include amount... -3.860000e+09\n",
      "3  annual cas cost planned cash funding years rec...  4.277000e+09\n",
      "4  commitments associated letters credit financin... -9.060000e+08\n",
      "-----------------------------------------\n",
      "Preprocessing EBIT_train.csv...\n",
      "                                                text        target\n",
      "0  estimating future taxable income develop assum...  5.488400e+11\n",
      "1  outlook looking ahead fiscal 2017 optimistic p...  4.624000e+09\n",
      "2  deferred tax assets net allowances expected re...  2.287600e+10\n",
      "3  anticipate cost savings realized workforce red...  2.564436e+10\n",
      "4  comparative purposes estimate operating income...  6.515398e+09\n",
      "-----------------------------------------\n",
      "Preprocessing NetIncomeLoss_train.csv...\n",
      "                                                text        target\n",
      "0  result exposed risks negatively affect sales p...  2.428000e+09\n",
      "1  foreign currency exchange contracts accounted ...  4.169000e+09\n",
      "2  review policies circumstances projected profit...  4.847000e+09\n",
      "3  forward looking statements include information...  3.149630e+08\n",
      "4  complexities able accurately forecast revenue ...  4.927000e+08\n",
      "-----------------------------------------\n",
      "Preprocessing EarningsPerShareDiluted_train.csv...\n",
      "                                                text  target\n",
      "0  factors cause dilution earnings share decrease...    3.04\n",
      "1  factors cause dilution earnings share iff decr...    4.00\n",
      "2  fiscal 2018 outlook optimistic prospects growt...    1.48\n",
      "3  excluding favorable currency impact prevailing...    3.88\n",
      "4  factors cause dilution earnings share decrease...    5.48\n",
      "-----------------------------------------\n",
      "-------------------------// DONE WITH TRAINING DATA //-------------------------\n",
      "Preprocessing EBIT_test.csv...\n",
      "                                                text        target\n",
      "0  prolonged substantial decline sustained market...  2.287600e+10\n",
      "1  continue opportunities margin expansion includ...  2.889530e+10\n",
      "2  estimate deferred tax assets liabilities incom...  1.443870e+10\n",
      "3  operating income operating income percentage s...  2.516312e+10\n",
      "4  projecting future taxable income begin histori...  9.743500e+09\n",
      "Preprocessing NetCashProvidedByUsedInFinancingActivities_test.csv...\n",
      "                                                text        target\n",
      "0  commitments credit committed facilities expire... -1.375000e+09\n",
      "1  difficult predict future pension costs changes... -8.058000e+08\n",
      "2  global pension prb cash funding requirements e... -3.860000e+09\n",
      "3  difficult predict future pension costs changes...  4.434000e+08\n",
      "4  pension expense vary range outcomes material e... -4.077000e+09\n",
      "Preprocessing RevenueFromContractWithCustomerExcludingAssessedTax_test.csv...\n",
      "                                                text       target\n",
      "0  partnership requested plan request ruling irs ...   7800800000\n",
      "1  addition excluding impact discrete items expec...  33705000000\n",
      "2  company net proceeds 2026 euro notes repay amo...   8598900000\n",
      "3  goodwill valuations performing quantitative as...  21253000000\n",
      "4  company records income taxes based estimated i...  12261000000\n",
      "Preprocessing EarningsPerShareDiluted_test.csv...\n",
      "                                                text  target\n",
      "0  year ended november 2018 percentage change rep...    2.62\n",
      "1  acquisitions strategic investments difficult t...    3.45\n",
      "2  adjusted diluted earnings share excluding esti...    3.72\n",
      "3  income income taxes reconciled adjusted income...    3.27\n",
      "4  expect adjusted diluted earnings share 2018 gr...    3.72\n",
      "Preprocessing NetIncomeLoss_test.csv...\n",
      "                                                text        target\n",
      "0  critical estimates valuing certain intangible ... -2.030000e+08\n",
      "1  order remain competitive continue increase rev...  2.017530e+08\n",
      "2  competitors large established greater market s...  5.642000e+09\n",
      "3  decrease expense year ended december 2015 prim...  5.660000e+08\n",
      "4  expecting strong margins foreseeable future 20...  2.465036e+09\n",
      "Preprocessing NetCashProvidedByUsedInInvestingActivities_test.csv...\n",
      "                                                text        target\n",
      "0  liquidity needs estimate liquidity needs month... -1.186000e+09\n",
      "1  liquidity needs include anticipated requiremen... -2.611000e+09\n",
      "2  joint venture expect cash investment 840 milli... -6.678000e+08\n",
      "3  company extensive non operations significant c... -1.228800e+09\n",
      "4  liquidity needs estimate liquidity needs month... -3.570000e+09\n",
      "-------------------------// DONE WITH TEST DATA //-------------------------\n"
     ]
    }
   ],
   "source": [
    "# Preprocess all training and test data\n",
    "for file in train_files:\n",
    "    print(f'Preprocessing {file}...')\n",
    "    df = pd.read_csv(os.path.join(train_path, file))\n",
    "    df = preprocess_text(df, 'val')\n",
    "    print(df.head())\n",
    "    \n",
    "    print(\"-----------------------------------------\")\n",
    "\n",
    "    # Save preprocessed data\n",
    "    df.to_csv(train_path + file.split('.')[0] + \"__text_clean.csv\" , index=False)\n",
    "    \n",
    "print(\"-------------------------// DONE WITH TRAINING DATA //-------------------------\")\n",
    "\n",
    "for file in test_files:\n",
    "    print(f'Preprocessing {file}...')\n",
    "    df = pd.read_csv(os.path.join(test_path, file))\n",
    "    df = preprocess_text(df, 'val')\n",
    "    print(df.head())\n",
    "\n",
    "    # Save preprocessed data\n",
    "    df.to_csv(test_path + file.split('.')[0] + \"__text_clean.csv\" , index=False)\n",
    "\n",
    "print(\"-------------------------// DONE WITH TEST DATA //-------------------------\")"
   ]
  },
  {
   "cell_type": "code",
   "execution_count": 8,
   "metadata": {},
   "outputs": [
    {
     "name": "stdout",
     "output_type": "stream",
     "text": [
      "Preprocessing RevenueFromContractWithCustomerExcludingAssessedTax_train.csv...\n",
      "                                                text       target\n",
      "0  total net proceeds approximately 089 million i...   4147270000\n",
      "1  regularly review recoverability deferred tax a...   2408200000\n",
      "2  given period change deferred gain included net...   1360000000\n",
      "3  income approach estimate projected future cash...  16783000000\n",
      "4  income approach based projected future cash fl...    900465000\n",
      "-----------------------------------------\n",
      "Preprocessing NetCashProvidedByUsedInInvestingActivities_train.csv...\n",
      "                                                text        target\n",
      "0  account contracted condominium sales percentag... -8.379220e+08\n",
      "1  cash flow amounts reduced realized gains inves... -6.240000e+08\n",
      "2  cash flow amounts reduced realized gains inves... -5.580000e+08\n",
      "3  company extensive non operations significant c... -1.612700e+09\n",
      "4  cash flow amounts reduced realized gains inves... -4.560000e+08\n",
      "-----------------------------------------\n",
      "Preprocessing NetCashProvidedByUsedInFinancingActivities_train.csv...\n",
      "                                                text        target\n",
      "0  commitments credit committed facilities expire... -1.375000e+09\n",
      "1  estimate related cash funding payments billion...  8.830000e+08\n",
      "2  commitments credit committed facilities expire... -2.801000e+09\n",
      "3  annual cas cost planned cash funding years rec...  4.277000e+09\n",
      "4  expect contributions approximately million fis... -1.116528e+09\n",
      "-----------------------------------------\n",
      "Preprocessing EBIT_train.csv...\n",
      "                                                text        target\n",
      "0  projecting future taxable income begin histori...  9.743500e+09\n",
      "1  focused approach expect fiscal 2017 organic ne...  2.856060e+10\n",
      "2  actual future results developments conform exp...  2.122800e+10\n",
      "3  currently estimate net effect applying provisi...  7.391458e+09\n",
      "4  underlying operating income declined adjusting...  5.499000e+09\n",
      "-----------------------------------------\n",
      "Preprocessing NetIncomeLoss_train.csv...\n",
      "                                                text        target\n",
      "0  factors result impairment include limited sign...  4.857000e+09\n",
      "1  current foreign exchange rate assumptions anti...  3.770310e+08\n",
      "2  valuation deferred tax assets requires judgmen...  5.900000e+08\n",
      "3  additional assumptions included compensation c...  1.454490e+08\n",
      "4  required record significant charges earnings d...  3.983550e+08\n",
      "-----------------------------------------\n",
      "Preprocessing EarningsPerShareDiluted_train.csv...\n",
      "                                                text  target\n",
      "0  factors cause dilution earnings share decrease...    3.04\n",
      "1  factors cause dilution earnings share iff decr...    4.00\n",
      "2  fiscal 2018 outlook optimistic prospects growt...    1.48\n",
      "3  excluding favorable currency impact prevailing...    3.88\n",
      "4  factors cause dilution earnings share decrease...    2.53\n",
      "-----------------------------------------\n",
      "-------------------------// DONE WITH TRAINING DATA //-------------------------\n",
      "Preprocessing EBIT_test.csv...\n",
      "                                                text        target\n",
      "0  estimating future cash flows rely internally g...  1.363500e+10\n",
      "1  estimate completion adjustments following impa...  1.251000e+10\n",
      "2  operating income operating income percentage s...  2.171957e+10\n",
      "3  2019 expect carrier consolidation driven churn...  1.273600e+09\n",
      "4  adjustments estimated total costs completion e...  1.251000e+10\n",
      "Preprocessing NetCashProvidedByUsedInFinancingActivities_test.csv...\n",
      "                                                text        target\n",
      "0  global pension prb cash funding requirements e... -3.860000e+09\n",
      "1  expect contributions approximately million fis... -9.143290e+08\n",
      "2  difficult predict future pension costs changes...  4.434000e+08\n",
      "3  long term liabilities primarily include amount... -3.860000e+09\n",
      "4  pension expense vary range outcomes material e... -4.077000e+09\n",
      "Preprocessing RevenueFromContractWithCustomerExcludingAssessedTax_test.csv...\n",
      "                                                text       target\n",
      "0  income approach reflects discounting future ca...  25110000000\n",
      "1  floating rate securities generally subject rat...   8650000000\n",
      "2  based 2021 exchange rates operating results do...   9107900000\n",
      "3  fiscal 2019 outlook optimistic prospects growt...   3324000000\n",
      "4  anticipated proceeds current carrying asset op...   2883673000\n",
      "Preprocessing EarningsPerShareDiluted_test.csv...\n",
      "                                                text  target\n",
      "0        diluted earnings share 2021 projected range    2.78\n",
      "1  acquisitions strategic investments difficult t...    3.45\n",
      "2  adjusted diluted earnings share excluding esti...    3.72\n",
      "3  2017 ppg annual report form income income taxe...    6.18\n",
      "4  expect adjusted diluted earnings share 2018 gr...    3.72\n",
      "Preprocessing NetIncomeLoss_test.csv...\n",
      "                                                text        target\n",
      "0  compete successfully environment continue inve...  4.050310e+08\n",
      "1  carrying value assets exceeds current estimate...  6.317000e+08\n",
      "2  november 2016 lennar homebuilding debt total c...  9.118440e+08\n",
      "3  estimated gross profits investment oriented pr... -8.490000e+08\n",
      "4  furthermore continue joint venture strategic i...  2.779000e+09\n",
      "Preprocessing NetCashProvidedByUsedInInvestingActivities_test.csv...\n",
      "                                                text        target\n",
      "0  liquidity needs estimate liquidity needs month... -2.611000e+09\n",
      "1  expect satisfy obligations cash generated oper... -2.611000e+09\n",
      "2  joint venture expect cash investment 840 milli... -6.678000e+08\n",
      "3  given quality diversity underlying real estate... -7.340000e+08\n",
      "4  liquidity needs estimate liquidity needs month... -3.875000e+09\n",
      "-------------------------// DONE WITH TEST DATA //-------------------------\n"
     ]
    }
   ],
   "source": [
    "# Preprocess all training and test data\n",
    "for file in fb_train_files:\n",
    "    print(f'Preprocessing {file}...')\n",
    "    df = pd.read_csv(os.path.join(fb_train_path, file))\n",
    "    df = preprocess_text(df, 'val')\n",
    "    print(df.head())\n",
    "    \n",
    "    print(\"-----------------------------------------\")\n",
    "\n",
    "    # Save preprocessed data\n",
    "    df.to_csv(fb_train_path + file.split('.')[0] + \"__text_clean.csv\" , index=False)\n",
    "    \n",
    "print(\"-------------------------// DONE WITH TRAINING DATA //-------------------------\")\n",
    "\n",
    "for file in fb_test_files:\n",
    "    print(f'Preprocessing {file}...')\n",
    "    df = pd.read_csv(os.path.join(fb_test_path, file))\n",
    "    df = preprocess_text(df, 'val')\n",
    "    print(df.head())\n",
    "\n",
    "    # Save preprocessed data\n",
    "    df.to_csv(fb_test_path + file.split('.')[0] + \"__text_clean.csv\" , index=False)\n",
    "\n",
    "print(\"-------------------------// DONE WITH TEST DATA //-------------------------\")"
   ]
  }
 ],
 "metadata": {
  "kernelspec": {
   "display_name": "Python 3",
   "language": "python",
   "name": "python3"
  },
  "language_info": {
   "codemirror_mode": {
    "name": "ipython",
    "version": 3
   },
   "file_extension": ".py",
   "mimetype": "text/x-python",
   "name": "python",
   "nbconvert_exporter": "python",
   "pygments_lexer": "ipython3",
   "version": "3.10.9"
  }
 },
 "nbformat": 4,
 "nbformat_minor": 2
}
