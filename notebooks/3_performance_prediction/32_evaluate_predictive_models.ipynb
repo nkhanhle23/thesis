{
 "cells": [
  {
   "cell_type": "code",
   "execution_count": 1,
   "metadata": {},
   "outputs": [],
   "source": [
    "# Import packages\n",
    "import pandas as pd\n",
    "import numpy as np\n",
    "import matplotlib.pyplot as plt\n",
    "import seaborn as sns\n",
    "import torch\n",
    "import os\n",
    "from sklearn.preprocessing import StandardScaler\n",
    "import joblib\n",
    "from transformers import AutoTokenizer, DistilBertForSequenceClassification\n",
    "#from datasets import Dataset,load_dataset\n",
    "from torch.utils.data import DataLoader\n",
    "from torch.utils.data import TensorDataset"
   ]
  },
  {
   "cell_type": "code",
   "execution_count": 2,
   "metadata": {},
   "outputs": [
    {
     "name": "stdout",
     "output_type": "stream",
     "text": [
      "There are 1 GPU(s) available.\n",
      "We will use the GPU: NVIDIA GeForce MX150\n"
     ]
    }
   ],
   "source": [
    "# If there's a GPU available...\n",
    "if torch.cuda.is_available():    \n",
    "\n",
    "    # Tell PyTorch to use the GPU.    \n",
    "    device = torch.device(\"cuda:0\")\n",
    "\n",
    "    print('There are %d GPU(s) available.' % torch.cuda.device_count())\n",
    "\n",
    "    print('We will use the GPU:', torch.cuda.get_device_name(0))\n",
    "\n",
    "# If not...\n",
    "else:\n",
    "    print('No GPU available, using the CPU instead.')\n",
    "    device = torch.device(\"cpu\")"
   ]
  },
  {
   "cell_type": "markdown",
   "metadata": {},
   "source": [
    "# Load test data"
   ]
  },
  {
   "cell_type": "code",
   "execution_count": 46,
   "metadata": {},
   "outputs": [
    {
     "data": {
      "text/plain": [
       "['EarningsPerShareDiluted_test__lemma.csv',\n",
       " 'EBIT_test__lemma.csv',\n",
       " 'NetCashProvidedByUsedInFinancingActivities_test__lemma.csv',\n",
       " 'NetCashProvidedByUsedInInvestingActivities_test__lemma.csv',\n",
       " 'NetIncomeLoss_test__lemma.csv',\n",
       " 'RevenueFromContractWithCustomerExcludingAssessedTax_test__lemma.csv']"
      ]
     },
     "execution_count": 46,
     "metadata": {},
     "output_type": "execute_result"
    }
   ],
   "source": [
    "# Get all test data files\n",
    "fb_path = '../../data/02_processed/finbert_data/test/'\n",
    "fb_files = [file for file in os.listdir(fb_path) if file.endswith('lemma.csv')]\n",
    "fb_files"
   ]
  },
  {
   "cell_type": "code",
   "execution_count": 47,
   "metadata": {},
   "outputs": [
    {
     "data": {
      "text/plain": [
       "['EarningsPerShareDiluted_test__lemma.csv',\n",
       " 'EBIT_test__lemma.csv',\n",
       " 'NetCashProvidedByUsedInFinancingActivities_test__lemma.csv',\n",
       " 'NetCashProvidedByUsedInInvestingActivities_test__lemma.csv',\n",
       " 'NetIncomeLoss_test__lemma.csv',\n",
       " 'RevenueFromContractWithCustomerExcludingAssessedTax_test__lemma.csv']"
      ]
     },
     "execution_count": 47,
     "metadata": {},
     "output_type": "execute_result"
    }
   ],
   "source": [
    "# Get all test data files\n",
    "db_path = '../../data/02_processed/distilbert_data/test/'\n",
    "db_files = [file for file in os.listdir(db_path) if file.endswith('lemma.csv')]\n",
    "db_files"
   ]
  },
  {
   "cell_type": "markdown",
   "metadata": {},
   "source": [
    "# Evaluate FinBERT regressor"
   ]
  },
  {
   "cell_type": "code",
   "execution_count": 8,
   "metadata": {},
   "outputs": [],
   "source": [
    "def prepare_labeled_datasets(tokenizer, model, length, texts, labelsset):\n",
    "  inputs=[]\n",
    "  labels=[]\n",
    "  for i in range(len(labelsset)):\n",
    "    input=torch.tensor([tokenizer.encode(texts[i], padding='max_length',truncation=True, max_length=length)]).to(device) # Apply the tokenizer to get the token ids for each text, transform to tensors and send to GPU device\n",
    "    label= torch.tensor([labelsset[i]]).to(device) # send the labels to the GPU device\n",
    "    inputs.append(input)\n",
    "    labels.append(label)\n",
    "  inputs=torch.cat(inputs)  # add to the list of tensors\n",
    "  labels=torch.cat(labels)  \n",
    "  dataset = TensorDataset(inputs, labels) # Generate a labeled Tensor-Dataset for training\n",
    "  return dataset"
   ]
  },
  {
   "cell_type": "code",
   "execution_count": 10,
   "metadata": {},
   "outputs": [],
   "source": [
    "def loss_function(predictions, labels):\n",
    "    mse_predictions_labels = torch.nn.functional.mse_loss(predictions.view(-1), labels.view(-1).float())\n",
    "    mean_labels = torch.mean(labels.float())\n",
    "    mse_labels_mean = torch.nn.functional.mse_loss(labels.view(-1).float(), mean_labels.expand_as(labels).view(-1))\n",
    "    rse = mse_predictions_labels / mse_labels_mean\n",
    "    return rse"
   ]
  },
  {
   "cell_type": "code",
   "execution_count": 11,
   "metadata": {},
   "outputs": [],
   "source": [
    "def evaluate(model, tokenizer, length, texts, labelsset):\n",
    "    # Scale the labels\n",
    "    \n",
    "    # Create the TensorDataset\n",
    "    dataset=prepare_labeled_datasets(tokenizer, model, length, texts, labelsset)\n",
    "    # Create the DataLoader\n",
    "    dataloader = DataLoader(dataset, batch_size=32) # Generate a DataLoader for the Tensor-Dataset\n",
    "    \n",
    "    model.eval() # Set the model to evaluation mode\n",
    "    total_loss = 0\n",
    "    total_predictions = []\n",
    "    total_labels = []\n",
    "    for batch in dataloader:\n",
    "        batch = tuple(t.to(device) for t in batch) # Send the batch to the GPU device\n",
    "        b_input_ids, b_labels = batch # Unpack the batch\n",
    "        with torch.no_grad(): \n",
    "            outputs = model(b_input_ids) # Forward pass\n",
    "            predictions = outputs[0] # Get the predictions\n",
    "            loss = loss_function(predictions, b_labels) # Compute the loss\n",
    "            total_loss += loss.item() # Accumulate the loss\n",
    "            total_predictions.append(predictions.cpu().numpy()) # Accumulate the predictions\n",
    "            total_labels.append(b_labels.cpu().numpy()) # Accumulate the labels\n",
    "    avg_loss = total_loss / len(dataloader) # Compute the average loss\n",
    "    total_predictions = np.concatenate(total_predictions, axis=0) # Concatenate the predictions\n",
    "    total_labels = np.concatenate(total_labels, axis=0) # Concatenate the labels\n",
    "    return avg_loss, total_predictions, total_labels"
   ]
  },
  {
   "cell_type": "code",
   "execution_count": 13,
   "metadata": {},
   "outputs": [],
   "source": [
    "# Function to load the model and scaler \n",
    "def load_data_model_and_scaler(file_path, file_name, hub_path, scaler_path):\n",
    "    # Load data \n",
    "    data = pd.read_csv(file_path + file_name)\n",
    "    \n",
    "    # Load model and tokenizer\n",
    "    model = DistilBertForSequenceClassification.from_pretrained(hub_path).to(device)\n",
    "    tokenizer = AutoTokenizer.from_pretrained(hub_path)\n",
    "    \n",
    "    # Load scaler to inverse transform the predicted values\n",
    "    scaler = joblib.load(open(scaler_path, 'rb'))\n",
    "    return data, model, tokenizer, scaler "
   ]
  },
  {
   "cell_type": "code",
   "execution_count": 35,
   "metadata": {},
   "outputs": [],
   "source": [
    "# Rename the metrics into notations\n",
    "metric_map = {'EBIT':'EBIT',\n",
    "            'EarningsPerShareDiluted': 'EPS',\n",
    "            'NetIncomeLoss': 'INCOME',\n",
    "            'NetCashProvidedByUsedInFinancingActivities':'FCF',\n",
    "            'RevenueFromContractWithCustomerExcludingAssessedTax':'REV',\n",
    "            'NetCashProvidedByUsedInInvestingActivities':'ICF'\n",
    "            }"
   ]
  },
  {
   "cell_type": "markdown",
   "metadata": {},
   "source": [
    "## FinBERT data"
   ]
  },
  {
   "cell_type": "code",
   "execution_count": 37,
   "metadata": {},
   "outputs": [
    {
     "data": {
      "text/html": [
       "<div>\n",
       "<style scoped>\n",
       "    .dataframe tbody tr th:only-of-type {\n",
       "        vertical-align: middle;\n",
       "    }\n",
       "\n",
       "    .dataframe tbody tr th {\n",
       "        vertical-align: top;\n",
       "    }\n",
       "\n",
       "    .dataframe thead th {\n",
       "        text-align: right;\n",
       "    }\n",
       "</style>\n",
       "<table border=\"1\" class=\"dataframe\">\n",
       "  <thead>\n",
       "    <tr style=\"text-align: right;\">\n",
       "      <th></th>\n",
       "      <th>Metric</th>\n",
       "      <th>RSE</th>\n",
       "    </tr>\n",
       "  </thead>\n",
       "  <tbody>\n",
       "    <tr>\n",
       "      <th>0</th>\n",
       "      <td>EBIT</td>\n",
       "      <td>1.16</td>\n",
       "    </tr>\n",
       "    <tr>\n",
       "      <th>1</th>\n",
       "      <td>EPS</td>\n",
       "      <td>0.83</td>\n",
       "    </tr>\n",
       "    <tr>\n",
       "      <th>3</th>\n",
       "      <td>FCF</td>\n",
       "      <td>1.52</td>\n",
       "    </tr>\n",
       "    <tr>\n",
       "      <th>5</th>\n",
       "      <td>ICF</td>\n",
       "      <td>1.22</td>\n",
       "    </tr>\n",
       "    <tr>\n",
       "      <th>2</th>\n",
       "      <td>INCOME</td>\n",
       "      <td>0.72</td>\n",
       "    </tr>\n",
       "    <tr>\n",
       "      <th>4</th>\n",
       "      <td>REV</td>\n",
       "      <td>0.58</td>\n",
       "    </tr>\n",
       "  </tbody>\n",
       "</table>\n",
       "</div>"
      ],
      "text/plain": [
       "   Metric   RSE\n",
       "0    EBIT  1.16\n",
       "1     EPS  0.83\n",
       "3     FCF  1.52\n",
       "5     ICF  1.22\n",
       "2  INCOME  0.72\n",
       "4     REV  0.58"
      ]
     },
     "execution_count": 37,
     "metadata": {},
     "output_type": "execute_result"
    },
    {
     "data": {
      "image/png": "[encoded data removed]",
      "text/plain": [
       "<Figure size 720x432 with 1 Axes>"
      ]
     },
     "metadata": {
      "needs_background": "light"
     },
     "output_type": "display_data"
    }
   ],
   "source": [
    "results = []\n",
    "for i in range(len(fb_files)):\n",
    "    file = fb_files[i]\n",
    "    metric_name = file.split('.')[0].split('_')[0]\n",
    "    #metric_list.append(metric_name)\n",
    "    \n",
    "    \n",
    "    #print(f\"--------------EVALUATING FINBERT REGRESSION MODEL OF {metric_name}--------------\")\n",
    "    \n",
    "    # Specify the paths to load the data, model and scaler \n",
    "    hub_path = 'lenguyen/' + 'finbert_' + metric_name\n",
    "    scaler_path = '../../models/finbert-regression/finbert_data/' + metric_name + '_scaler.pkl'\n",
    "    scaler = joblib.load(open(scaler_path, 'rb'))\n",
    "    \n",
    "    # Load the data, model and tokenizer\n",
    "    data, model, tokenizer, scaler = load_data_model_and_scaler(fb_path, file, hub_path, scaler_path)\n",
    "    \n",
    "    # Scale the target variable\n",
    "    data['target'] = scaler.transform(data['target'].values.reshape(-1,1))\n",
    "    \n",
    "    # Evaluate the model\n",
    "    avg_loss, _, _ = evaluate(model, tokenizer, 300, data['text'].values.tolist(), \n",
    "                                            data['target'].values.tolist())\n",
    "\n",
    "    #loss_list.append(avg_loss)\n",
    "    \n",
    "    # Print a DataFrame of the results\n",
    "    results.append({\n",
    "        'Metric': metric_name,\n",
    "        'RSE': avg_loss\n",
    "            }) \n",
    "result_df = pd.DataFrame(results)\n",
    "result_df['Metric'] = result_df['Metric'].map(metric_map) # Remap the Metric column to the notations\n",
    "result_df['RSE'] = result_df['RSE'].round(2)\n",
    "result_df = result_df.sort_values(by='Metric')\n",
    "\n",
    "result_df.to_csv('../../results/evaluation/finbert_regression_results__finbert.csv', index=False)\n",
    "\n",
    "# Plot the results\n",
    "plt.figure(figsize=(10,6))\n",
    "sns.barplot(x='Metric', y='RSE', data=result_df)\n",
    "\n",
    "# Show the results in table form\n",
    "result_df"
   ]
  },
  {
   "cell_type": "markdown",
   "metadata": {},
   "source": [
    "## DistilBERT data"
   ]
  },
  {
   "cell_type": "code",
   "execution_count": 55,
   "metadata": {},
   "outputs": [
    {
     "name": "stdout",
     "output_type": "stream",
     "text": [
      "Error lenguyen/distilbert_NetCashProvidedByUsedInFinancingActivities is not a local folder and is not a valid model identifier listed on 'https://huggingface.co/models'\n",
      "If this is a private repository, make sure to pass a token having permission to this repo either by logging in with `huggingface-cli login` or by passing `token=<your_token>` found. Skipping...\n"
     ]
    },
    {
     "data": {
      "text/html": [
       "<div>\n",
       "<style scoped>\n",
       "    .dataframe tbody tr th:only-of-type {\n",
       "        vertical-align: middle;\n",
       "    }\n",
       "\n",
       "    .dataframe tbody tr th {\n",
       "        vertical-align: top;\n",
       "    }\n",
       "\n",
       "    .dataframe thead th {\n",
       "        text-align: right;\n",
       "    }\n",
       "</style>\n",
       "<table border=\"1\" class=\"dataframe\">\n",
       "  <thead>\n",
       "    <tr style=\"text-align: right;\">\n",
       "      <th></th>\n",
       "      <th>Metric</th>\n",
       "      <th>RSE</th>\n",
       "    </tr>\n",
       "  </thead>\n",
       "  <tbody>\n",
       "    <tr>\n",
       "      <th>0</th>\n",
       "      <td>EBIT</td>\n",
       "      <td>1.33</td>\n",
       "    </tr>\n",
       "    <tr>\n",
       "      <th>1</th>\n",
       "      <td>EPS</td>\n",
       "      <td>0.91</td>\n",
       "    </tr>\n",
       "    <tr>\n",
       "      <th>3</th>\n",
       "      <td>FCF</td>\n",
       "      <td>NaN</td>\n",
       "    </tr>\n",
       "    <tr>\n",
       "      <th>5</th>\n",
       "      <td>ICF</td>\n",
       "      <td>1.02</td>\n",
       "    </tr>\n",
       "    <tr>\n",
       "      <th>2</th>\n",
       "      <td>INCOME</td>\n",
       "      <td>0.82</td>\n",
       "    </tr>\n",
       "    <tr>\n",
       "      <th>4</th>\n",
       "      <td>REV</td>\n",
       "      <td>0.65</td>\n",
       "    </tr>\n",
       "  </tbody>\n",
       "</table>\n",
       "</div>"
      ],
      "text/plain": [
       "   Metric   RSE\n",
       "0    EBIT  1.33\n",
       "1     EPS  0.91\n",
       "3     FCF   NaN\n",
       "5     ICF  1.02\n",
       "2  INCOME  0.82\n",
       "4     REV  0.65"
      ]
     },
     "execution_count": 55,
     "metadata": {},
     "output_type": "execute_result"
    },
    {
     "data": {
      "image/png": "[encoded data removed]",
      "text/plain": [
       "<Figure size 720x432 with 1 Axes>"
      ]
     },
     "metadata": {
      "needs_background": "light"
     },
     "output_type": "display_data"
    }
   ],
   "source": [
    "db_results = []\n",
    "for i in range(len(db_files)):\n",
    "    file = db_files[i]\n",
    "    metric_name = file.split('.')[0].split('_')[0]\n",
    "    #metric_list.append(metric_name)\n",
    "    \n",
    "    \n",
    "    #print(f\"--------------EVALUATING FINBERT REGRESSION MODEL OF {metric_name}--------------\")\n",
    "    \n",
    "    # Specify the paths to load the data, model and scaler \n",
    "    hub_path = 'lenguyen/' + 'distilbert_' + metric_name\n",
    "    scaler_path = '../../models/finbert-regression/distilbert_data/' + metric_name + '_scaler.pkl'\n",
    "    try:\n",
    "        if os.path.exists(scaler_path):\n",
    "            # Load scaler if file exists\n",
    "            scaler = joblib.load(open(scaler_path, 'rb'))\n",
    "        \n",
    "        # Load the data, model and tokenizer\n",
    "        data, model, tokenizer, scaler = load_data_model_and_scaler(db_path, file, hub_path, scaler_path)\n",
    "        \n",
    "        # Scale the target variable\n",
    "        data['target'] = scaler.transform(data['target'].values.reshape(-1,1))\n",
    "        \n",
    "        # Evaluate the model\n",
    "        avg_loss, _, _ = evaluate(model, tokenizer, 300, data['text'].values.tolist(), \n",
    "                                                data['target'].values.tolist())\n",
    "\n",
    "        #loss_list.append(avg_loss)\n",
    "        \n",
    "        # Print a DataFrame of the results\n",
    "        db_results.append({\n",
    "            'Metric': metric_name,\n",
    "            'RSE': avg_loss\n",
    "                }) \n",
    "    except Exception as e:\n",
    "        print(f\"Error {e} found. Skipping...\")\n",
    "        db_results.append({\n",
    "            'Metric': metric_name,\n",
    "            'RSE': np.nan\n",
    "                }) \n",
    "        pass\n",
    "db_result_df = pd.DataFrame(db_results)\n",
    "db_result_df['Metric'] = db_result_df['Metric'].map(metric_map) # Remap the Metric column to the notations\n",
    "db_result_df['RSE'] = db_result_df['RSE'].round(2)\n",
    "db_result_df = db_result_df.sort_values(by='Metric')\n",
    "\n",
    "db_result_df.to_csv('../../results/evaluation/finbert_regression_results__distilbert.csv', index=False)\n",
    "\n",
    "# Plot the results\n",
    "plt.figure(figsize=(10,6))\n",
    "sns.barplot(x='Metric', y='RSE', data=db_result_df)\n",
    "\n",
    "# Show the results in table form\n",
    "db_result_df"
   ]
  },
  {
   "cell_type": "markdown",
   "metadata": {},
   "source": [
    "# Evaluate Random forest regressor"
   ]
  },
  {
   "cell_type": "code",
   "execution_count": 6,
   "metadata": {},
   "outputs": [],
   "source": [
    "from sklearn.ensemble import RandomForestRegressor\n",
    "from sklearn.metrics import mean_squared_error\n",
    "import pickle"
   ]
  },
  {
   "cell_type": "code",
   "execution_count": 8,
   "metadata": {},
   "outputs": [
    {
     "name": "stdout",
     "output_type": "stream",
     "text": [
      "['EarningsPerShareDiluted_TF-IDF.pkl', 'EBIT_TF-IDF.pkl', 'NetCashProvidedByUsedInFinancingActivities_TF-IDF.pkl', 'NetCashProvidedByUsedInInvestingActivities_TF-IDF.pkl', 'NetIncomeLoss_TF-IDF.pkl', 'RevenueFromContractWithCustomerExcludingAssessedTax_TF-IDF.pkl']\n",
      "['EarningsPerShareDiluted_TF-IDF.pkl', 'EBIT_TF-IDF.pkl', 'NetCashProvidedByUsedInFinancingActivities_TF-IDF.pkl', 'NetCashProvidedByUsedInInvestingActivities_TF-IDF.pkl', 'NetIncomeLoss_TF-IDF.pkl', 'RevenueFromContractWithCustomerExcludingAssessedTax_TF-IDF.pkl']\n"
     ]
    }
   ],
   "source": [
    "# Load models of DistilBERT\n",
    "db_model_path = '../../models/random_forest/distilbert_data/'\n",
    "db_models = [file for file in os.listdir(db_model_path) if file.endswith('.pkl')]  \n",
    "print(db_models)\n",
    "\n",
    "# Load models of FinBERT\n",
    "fb_model_path = '../../models/random_forest/finbert_data/'\n",
    "fb_models = [file for file in os.listdir(fb_model_path) if file.endswith('.pkl')]\n",
    "print(fb_models)"
   ]
  },
  {
   "cell_type": "code",
   "execution_count": 11,
   "metadata": {},
   "outputs": [],
   "source": [
    " # Define the RSE scoring function\n",
    "def rse_scorer(y_true, y_pred):\n",
    "    true_mean = np.mean(y_true)\n",
    "    squared_error_num = np.sum(np.square(y_true - y_pred))\n",
    "    squared_error_den = np.sum(np.square(y_true - true_mean))\n",
    "    rse_loss = squared_error_num / squared_error_den\n",
    "    return -rse_loss  # Note the negative sign since GridSearchCV maximizes the score"
   ]
  },
  {
   "cell_type": "code",
   "execution_count": 9,
   "metadata": {},
   "outputs": [],
   "source": [
    "# Load model from pickle file\n",
    "def load_data_and_model(file_path, file_name, model_path, model_name):\n",
    "    # Load data\n",
    "    data = pd.read_csv(file_path + file_name)\n",
    "    \n",
    "    # Load model\n",
    "    model = pickle.load(open(model_path + model_name, 'rb'))\n",
    "    return data, model"
   ]
  },
  {
   "cell_type": "code",
   "execution_count": 12,
   "metadata": {},
   "outputs": [
    {
     "data": {
      "text/html": [
       "<style>#sk-container-id-1 {color: black;}#sk-container-id-1 pre{padding: 0;}#sk-container-id-1 div.sk-toggleable {background-color: white;}#sk-container-id-1 label.sk-toggleable__label {cursor: pointer;display: block;width: 100%;margin-bottom: 0;padding: 0.3em;box-sizing: border-box;text-align: center;}#sk-container-id-1 label.sk-toggleable__label-arrow:before {content: \"▸\";float: left;margin-right: 0.25em;color: #696969;}#sk-container-id-1 label.sk-toggleable__label-arrow:hover:before {color: black;}#sk-container-id-1 div.sk-estimator:hover label.sk-toggleable__label-arrow:before {color: black;}#sk-container-id-1 div.sk-toggleable__content {max-height: 0;max-width: 0;overflow: hidden;text-align: left;background-color: #f0f8ff;}#sk-container-id-1 div.sk-toggleable__content pre {margin: 0.2em;color: black;border-radius: 0.25em;background-color: #f0f8ff;}#sk-container-id-1 input.sk-toggleable__control:checked~div.sk-toggleable__content {max-height: 200px;max-width: 100%;overflow: auto;}#sk-container-id-1 input.sk-toggleable__control:checked~label.sk-toggleable__label-arrow:before {content: \"▾\";}#sk-container-id-1 div.sk-estimator input.sk-toggleable__control:checked~label.sk-toggleable__label {background-color: #d4ebff;}#sk-container-id-1 div.sk-label input.sk-toggleable__control:checked~label.sk-toggleable__label {background-color: #d4ebff;}#sk-container-id-1 input.sk-hidden--visually {border: 0;clip: rect(1px 1px 1px 1px);clip: rect(1px, 1px, 1px, 1px);height: 1px;margin: -1px;overflow: hidden;padding: 0;position: absolute;width: 1px;}#sk-container-id-1 div.sk-estimator {font-family: monospace;background-color: #f0f8ff;border: 1px dotted black;border-radius: 0.25em;box-sizing: border-box;margin-bottom: 0.5em;}#sk-container-id-1 div.sk-estimator:hover {background-color: #d4ebff;}#sk-container-id-1 div.sk-parallel-item::after {content: \"\";width: 100%;border-bottom: 1px solid gray;flex-grow: 1;}#sk-container-id-1 div.sk-label:hover label.sk-toggleable__label {background-color: #d4ebff;}#sk-container-id-1 div.sk-serial::before {content: \"\";position: absolute;border-left: 1px solid gray;box-sizing: border-box;top: 0;bottom: 0;left: 50%;z-index: 0;}#sk-container-id-1 div.sk-serial {display: flex;flex-direction: column;align-items: center;background-color: white;padding-right: 0.2em;padding-left: 0.2em;position: relative;}#sk-container-id-1 div.sk-item {position: relative;z-index: 1;}#sk-container-id-1 div.sk-parallel {display: flex;align-items: stretch;justify-content: center;background-color: white;position: relative;}#sk-container-id-1 div.sk-item::before, #sk-container-id-1 div.sk-parallel-item::before {content: \"\";position: absolute;border-left: 1px solid gray;box-sizing: border-box;top: 0;bottom: 0;left: 50%;z-index: -1;}#sk-container-id-1 div.sk-parallel-item {display: flex;flex-direction: column;z-index: 1;position: relative;background-color: white;}#sk-container-id-1 div.sk-parallel-item:first-child::after {align-self: flex-end;width: 50%;}#sk-container-id-1 div.sk-parallel-item:last-child::after {align-self: flex-start;width: 50%;}#sk-container-id-1 div.sk-parallel-item:only-child::after {width: 0;}#sk-container-id-1 div.sk-dashed-wrapped {border: 1px dashed gray;margin: 0 0.4em 0.5em 0.4em;box-sizing: border-box;padding-bottom: 0.4em;background-color: white;}#sk-container-id-1 div.sk-label label {font-family: monospace;font-weight: bold;display: inline-block;line-height: 1.2em;}#sk-container-id-1 div.sk-label-container {text-align: center;}#sk-container-id-1 div.sk-container {/* jupyter's `normalize.less` sets `[hidden] { display: none; }` but bootstrap.min.css set `[hidden] { display: none !important; }` so we also need the `!important` here to be able to override the default hidden behavior on the sphinx rendered scikit-learn.org. See: https://github.com/scikit-learn/scikit-learn/issues/21755 */display: inline-block !important;position: relative;}#sk-container-id-1 div.sk-text-repr-fallback {display: none;}</style><div id=\"sk-container-id-1\" class=\"sk-top-container\"><div class=\"sk-text-repr-fallback\"><pre>GridSearchCV(cv=10,\n",
       "             estimator=Pipeline(steps=[(&#x27;tfidf&#x27;,\n",
       "                                        TfidfVectorizer(max_df=0.95,\n",
       "                                                        min_df=18)),\n",
       "                                       (&#x27;rf&#x27;,\n",
       "                                        RandomForestRegressor(random_state=42))]),\n",
       "             n_jobs=-1,\n",
       "             param_grid={&#x27;rf__max_depth&#x27;: [None, 4, 8],\n",
       "                         &#x27;rf__max_features&#x27;: [1.0, &#x27;sqrt&#x27;, &#x27;log2&#x27;],\n",
       "                         &#x27;rf__min_samples_leaf&#x27;: [1, 5, 10],\n",
       "                         &#x27;rf__min_samples_split&#x27;: [2, 10, 20],\n",
       "                         &#x27;rf__n_estimators&#x27;: [100, 200, 500]},\n",
       "             scoring=make_scorer(rse_scorer))</pre><b>In a Jupyter environment, please rerun this cell to show the HTML representation or trust the notebook. <br />On GitHub, the HTML representation is unable to render, please try loading this page with nbviewer.org.</b></div><div class=\"sk-container\" hidden><div class=\"sk-item sk-dashed-wrapped\"><div class=\"sk-label-container\"><div class=\"sk-label sk-toggleable\"><input class=\"sk-toggleable__control sk-hidden--visually\" id=\"sk-estimator-id-1\" type=\"checkbox\" ><label for=\"sk-estimator-id-1\" class=\"sk-toggleable__label sk-toggleable__label-arrow\">GridSearchCV</label><div class=\"sk-toggleable__content\"><pre>GridSearchCV(cv=10,\n",
       "             estimator=Pipeline(steps=[(&#x27;tfidf&#x27;,\n",
       "                                        TfidfVectorizer(max_df=0.95,\n",
       "                                                        min_df=18)),\n",
       "                                       (&#x27;rf&#x27;,\n",
       "                                        RandomForestRegressor(random_state=42))]),\n",
       "             n_jobs=-1,\n",
       "             param_grid={&#x27;rf__max_depth&#x27;: [None, 4, 8],\n",
       "                         &#x27;rf__max_features&#x27;: [1.0, &#x27;sqrt&#x27;, &#x27;log2&#x27;],\n",
       "                         &#x27;rf__min_samples_leaf&#x27;: [1, 5, 10],\n",
       "                         &#x27;rf__min_samples_split&#x27;: [2, 10, 20],\n",
       "                         &#x27;rf__n_estimators&#x27;: [100, 200, 500]},\n",
       "             scoring=make_scorer(rse_scorer))</pre></div></div></div><div class=\"sk-parallel\"><div class=\"sk-parallel-item\"><div class=\"sk-item\"><div class=\"sk-label-container\"><div class=\"sk-label sk-toggleable\"><input class=\"sk-toggleable__control sk-hidden--visually\" id=\"sk-estimator-id-2\" type=\"checkbox\" ><label for=\"sk-estimator-id-2\" class=\"sk-toggleable__label sk-toggleable__label-arrow\">estimator: Pipeline</label><div class=\"sk-toggleable__content\"><pre>Pipeline(steps=[(&#x27;tfidf&#x27;, TfidfVectorizer(max_df=0.95, min_df=18)),\n",
       "                (&#x27;rf&#x27;, RandomForestRegressor(random_state=42))])</pre></div></div></div><div class=\"sk-serial\"><div class=\"sk-item\"><div class=\"sk-serial\"><div class=\"sk-item\"><div class=\"sk-estimator sk-toggleable\"><input class=\"sk-toggleable__control sk-hidden--visually\" id=\"sk-estimator-id-3\" type=\"checkbox\" ><label for=\"sk-estimator-id-3\" class=\"sk-toggleable__label sk-toggleable__label-arrow\">TfidfVectorizer</label><div class=\"sk-toggleable__content\"><pre>TfidfVectorizer(max_df=0.95, min_df=18)</pre></div></div></div><div class=\"sk-item\"><div class=\"sk-estimator sk-toggleable\"><input class=\"sk-toggleable__control sk-hidden--visually\" id=\"sk-estimator-id-4\" type=\"checkbox\" ><label for=\"sk-estimator-id-4\" class=\"sk-toggleable__label sk-toggleable__label-arrow\">RandomForestRegressor</label><div class=\"sk-toggleable__content\"><pre>RandomForestRegressor(random_state=42)</pre></div></div></div></div></div></div></div></div></div></div></div></div>"
      ],
      "text/plain": [
       "GridSearchCV(cv=10,\n",
       "             estimator=Pipeline(steps=[('tfidf',\n",
       "                                        TfidfVectorizer(max_df=0.95,\n",
       "                                                        min_df=18)),\n",
       "                                       ('rf',\n",
       "                                        RandomForestRegressor(random_state=42))]),\n",
       "             n_jobs=-1,\n",
       "             param_grid={'rf__max_depth': [None, 4, 8],\n",
       "                         'rf__max_features': [1.0, 'sqrt', 'log2'],\n",
       "                         'rf__min_samples_leaf': [1, 5, 10],\n",
       "                         'rf__min_samples_split': [2, 10, 20],\n",
       "                         'rf__n_estimators': [100, 200, 500]},\n",
       "             scoring=make_scorer(rse_scorer))"
      ]
     },
     "execution_count": 12,
     "metadata": {},
     "output_type": "execute_result"
    }
   ],
   "source": [
    "data, model = load_data_and_model(db_path, db_files[0], db_model_path, db_models[0])\n",
    "model"
   ]
  },
  {
   "cell_type": "code",
   "execution_count": 32,
   "metadata": {},
   "outputs": [
    {
     "data": {
      "text/plain": [
       "'EarningsPerShareDiluted_test__lemma.csv'"
      ]
     },
     "execution_count": 32,
     "metadata": {},
     "output_type": "execute_result"
    }
   ],
   "source": [
    "db_files[0]"
   ]
  },
  {
   "cell_type": "code",
   "execution_count": 26,
   "metadata": {},
   "outputs": [],
   "source": [
    "def evaluate_rf_model(data, model):\n",
    "    # Make predictions\n",
    "    predictions = model.predict(data['text'].values.tolist())\n",
    " \n",
    "    # Compute the loss\n",
    "    true_mean = np.mean(data['target'])\n",
    "    squared_error_num = np.sum(np.square(data['target'] - predictions))\n",
    "    squared_error_den = np.sum(np.square(data['target'] - true_mean))\n",
    "    loss = squared_error_num / squared_error_den\n",
    "    return loss"
   ]
  },
  {
   "cell_type": "code",
   "execution_count": 33,
   "metadata": {},
   "outputs": [],
   "source": [
    "def show_results(results):\n",
    "    result_df = pd.DataFrame(results)\n",
    "    result_df['Metric'] = result_df['Metric'].map(metric_map) # Remap the Metric column to the notations\n",
    "    result_df['RSE'] = result_df['RSE'].round(2)\n",
    "    result_df = result_df.sort_values(by='Metric')\n",
    "    \n",
    "    # Plot the results\n",
    "    plt.figure(figsize=(10,6))\n",
    "    sns.barplot(x='Metric', y='RSE', data=result_df)\n",
    "    return result_df"
   ]
  },
  {
   "cell_type": "markdown",
   "metadata": {},
   "source": [
    "## DistilBERT data"
   ]
  },
  {
   "cell_type": "code",
   "execution_count": 36,
   "metadata": {},
   "outputs": [
    {
     "data": {
      "text/html": [
       "<div>\n",
       "<style scoped>\n",
       "    .dataframe tbody tr th:only-of-type {\n",
       "        vertical-align: middle;\n",
       "    }\n",
       "\n",
       "    .dataframe tbody tr th {\n",
       "        vertical-align: top;\n",
       "    }\n",
       "\n",
       "    .dataframe thead th {\n",
       "        text-align: right;\n",
       "    }\n",
       "</style>\n",
       "<table border=\"1\" class=\"dataframe\">\n",
       "  <thead>\n",
       "    <tr style=\"text-align: right;\">\n",
       "      <th></th>\n",
       "      <th>Metric</th>\n",
       "      <th>RSE</th>\n",
       "    </tr>\n",
       "  </thead>\n",
       "  <tbody>\n",
       "    <tr>\n",
       "      <th>1</th>\n",
       "      <td>EBIT</td>\n",
       "      <td>0.02</td>\n",
       "    </tr>\n",
       "    <tr>\n",
       "      <th>0</th>\n",
       "      <td>EPS</td>\n",
       "      <td>0.83</td>\n",
       "    </tr>\n",
       "    <tr>\n",
       "      <th>2</th>\n",
       "      <td>FCF</td>\n",
       "      <td>0.37</td>\n",
       "    </tr>\n",
       "    <tr>\n",
       "      <th>3</th>\n",
       "      <td>ICF</td>\n",
       "      <td>0.83</td>\n",
       "    </tr>\n",
       "    <tr>\n",
       "      <th>4</th>\n",
       "      <td>INCOME</td>\n",
       "      <td>0.57</td>\n",
       "    </tr>\n",
       "    <tr>\n",
       "      <th>5</th>\n",
       "      <td>REV</td>\n",
       "      <td>0.41</td>\n",
       "    </tr>\n",
       "  </tbody>\n",
       "</table>\n",
       "</div>"
      ],
      "text/plain": [
       "   Metric   RSE\n",
       "1    EBIT  0.02\n",
       "0     EPS  0.83\n",
       "2     FCF  0.37\n",
       "3     ICF  0.83\n",
       "4  INCOME  0.57\n",
       "5     REV  0.41"
      ]
     },
     "execution_count": 36,
     "metadata": {},
     "output_type": "execute_result"
    },
    {
     "data": {
      "image/png": "[encoded data removed]",
      "text/plain": [
       "<Figure size 1000x600 with 1 Axes>"
      ]
     },
     "metadata": {},
     "output_type": "display_data"
    }
   ],
   "source": [
    "# Calculate the RSE loss for each model\n",
    "db_rf_results = []\n",
    "for i in range(len(db_models)):\n",
    "    file = db_files[i]\n",
    "    metric_name = file.split('.')[0].split('_')[0]\n",
    "    \n",
    "    # Specify the paths to load the data, model and scaler \n",
    "    model_path = db_model_path\n",
    "    model_name = db_models[i]\n",
    "    \n",
    "    # Load the data, model and tokenizer\n",
    "    data, model = load_data_and_model(db_path, file, model_path, model_name)\n",
    "    \n",
    "    # Evaluate the model\n",
    "    loss = evaluate_rf_model(data, model)\n",
    "    \n",
    "    # Print a DataFrame of the results\n",
    "    db_rf_results.append({\n",
    "        'Metric': metric_name,\n",
    "        'RSE': loss\n",
    "            })\n",
    "db_rf_result_df = show_results(db_rf_results)\n",
    "\n",
    "# Save results\n",
    "db_rf_result_df.to_csv('../../results/evaluation/random_forest_results__distilbert.csv', index=False)\n",
    "\n",
    "# Show the results in table form\n",
    "db_rf_result_df"
   ]
  },
  {
   "cell_type": "markdown",
   "metadata": {},
   "source": [
    "## FinBERT data"
   ]
  },
  {
   "cell_type": "code",
   "execution_count": 37,
   "metadata": {},
   "outputs": [
    {
     "data": {
      "text/html": [
       "<div>\n",
       "<style scoped>\n",
       "    .dataframe tbody tr th:only-of-type {\n",
       "        vertical-align: middle;\n",
       "    }\n",
       "\n",
       "    .dataframe tbody tr th {\n",
       "        vertical-align: top;\n",
       "    }\n",
       "\n",
       "    .dataframe thead th {\n",
       "        text-align: right;\n",
       "    }\n",
       "</style>\n",
       "<table border=\"1\" class=\"dataframe\">\n",
       "  <thead>\n",
       "    <tr style=\"text-align: right;\">\n",
       "      <th></th>\n",
       "      <th>Metric</th>\n",
       "      <th>RSE</th>\n",
       "    </tr>\n",
       "  </thead>\n",
       "  <tbody>\n",
       "    <tr>\n",
       "      <th>1</th>\n",
       "      <td>EBIT</td>\n",
       "      <td>0.13</td>\n",
       "    </tr>\n",
       "    <tr>\n",
       "      <th>0</th>\n",
       "      <td>EPS</td>\n",
       "      <td>0.77</td>\n",
       "    </tr>\n",
       "    <tr>\n",
       "      <th>2</th>\n",
       "      <td>FCF</td>\n",
       "      <td>0.20</td>\n",
       "    </tr>\n",
       "    <tr>\n",
       "      <th>3</th>\n",
       "      <td>ICF</td>\n",
       "      <td>0.75</td>\n",
       "    </tr>\n",
       "    <tr>\n",
       "      <th>4</th>\n",
       "      <td>INCOME</td>\n",
       "      <td>0.58</td>\n",
       "    </tr>\n",
       "    <tr>\n",
       "      <th>5</th>\n",
       "      <td>REV</td>\n",
       "      <td>0.39</td>\n",
       "    </tr>\n",
       "  </tbody>\n",
       "</table>\n",
       "</div>"
      ],
      "text/plain": [
       "   Metric   RSE\n",
       "1    EBIT  0.13\n",
       "0     EPS  0.77\n",
       "2     FCF  0.20\n",
       "3     ICF  0.75\n",
       "4  INCOME  0.58\n",
       "5     REV  0.39"
      ]
     },
     "execution_count": 37,
     "metadata": {},
     "output_type": "execute_result"
    },
    {
     "data": {
      "image/png": "[encoded data removed]",
      "text/plain": [
       "<Figure size 1000x600 with 1 Axes>"
      ]
     },
     "metadata": {},
     "output_type": "display_data"
    }
   ],
   "source": [
    "fb_rf_results = []\n",
    "for i in range(len(fb_models)):\n",
    "    file = fb_files[i]\n",
    "    metric_name = file.split('.')[0].split('_')[0]\n",
    "    \n",
    "    # Specify the paths to load the data, model and scaler \n",
    "    model_path = fb_model_path\n",
    "    model_name = fb_models[i]\n",
    "    \n",
    "    # Load the data, model and tokenizer\n",
    "    data, model = load_data_and_model(fb_path, file, model_path, model_name)\n",
    "    \n",
    "    # Evaluate the model\n",
    "    loss = evaluate_rf_model(data, model)\n",
    "    \n",
    "    # Print a DataFrame of the results\n",
    "    fb_rf_results.append({\n",
    "        'Metric': metric_name,\n",
    "        'RSE': loss\n",
    "            })\n",
    "fb_rf_result_df = show_results(fb_rf_results)\n",
    "\n",
    "# Save results\n",
    "fb_rf_result_df.to_csv('../../results/evaluation/random_forest_results__finbert.csv', index=False)\n",
    "\n",
    "# Show the results in table form\n",
    "fb_rf_result_df"
   ]
  },
  {
   "cell_type": "markdown",
   "metadata": {},
   "source": [
    "# Check data size"
   ]
  },
  {
   "cell_type": "code",
   "execution_count": 52,
   "metadata": {},
   "outputs": [
    {
     "name": "stdout",
     "output_type": "stream",
     "text": [
      "EarningsPerShareDiluted: 89\n",
      "EBIT: 41\n",
      "NetCashProvidedByUsedInFinancingActivities: 5\n",
      "NetCashProvidedByUsedInInvestingActivities: 8\n",
      "NetIncomeLoss: 2275\n",
      "RevenueFromContractWithCustomerExcludingAssessedTax: 1576\n"
     ]
    }
   ],
   "source": [
    "for i in range(len(db_files)):\n",
    "    metric_name = db_files[i].split('.')[0].split('_')[0]\n",
    "    data = pd.read_csv(db_path + db_files[i])\n",
    "    data_len = len(data)\n",
    "    print(f'{metric_name}: {data_len}')    "
   ]
  },
  {
   "cell_type": "code",
   "execution_count": 53,
   "metadata": {},
   "outputs": [
    {
     "name": "stdout",
     "output_type": "stream",
     "text": [
      "EarningsPerShareDiluted: 88\n",
      "EBIT: 36\n",
      "NetCashProvidedByUsedInFinancingActivities: 5\n",
      "NetCashProvidedByUsedInInvestingActivities: 8\n",
      "NetIncomeLoss: 2300\n",
      "RevenueFromContractWithCustomerExcludingAssessedTax: 1572\n"
     ]
    }
   ],
   "source": [
    "for i in range(len(fb_files)):\n",
    "    metric_name = fb_files[i].split('.')[0].split('_')[0]\n",
    "    data = pd.read_csv(fb_path + fb_files[i])\n",
    "    data_len = len(data)\n",
    "    print(f'{metric_name}: {data_len}')    "
   ]
  }
 ],
 "metadata": {
  "kernelspec": {
   "display_name": "Python 3",
   "language": "python",
   "name": "python3"
  },
  "language_info": {
   "codemirror_mode": {
    "name": "ipython",
    "version": 3
   },
   "file_extension": ".py",
   "mimetype": "text/x-python",
   "name": "python",
   "nbconvert_exporter": "python",
   "pygments_lexer": "ipython3",
   "version": "3.10.9"
  }
 },
 "nbformat": 4,
 "nbformat_minor": 2
}
