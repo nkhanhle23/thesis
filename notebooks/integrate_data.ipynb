{
 "cells": [
  {
   "cell_type": "code",
   "execution_count": 54,
   "metadata": {},
   "outputs": [],
   "source": [
    "import os\n",
    "import pandas as pd"
   ]
  },
  {
   "cell_type": "code",
   "execution_count": 65,
   "metadata": {},
   "outputs": [],
   "source": [
    "def integrate_data(text_dataset, metrics_folder, output_folder):\n",
    "    \"\"\"\n",
    "    Integrates the text dataset with the metric data.\n",
    "    \n",
    "    Parameters\n",
    "    ----------\n",
    "    text_dataset : str\n",
    "        Path to the text dataset.\n",
    "    metrics_folder : str\n",
    "        Path to the folder containing the metric data.\n",
    "    output_folder : str\n",
    "        Path to the folder where the integrated data will be saved.\n",
    "    \"\"\"\n",
    "    # Read in the text data\n",
    "    df = pd.read_csv(text_dataset)\n",
    "    fls = df[df['Label'] == 'FLS']\n",
    "    \n",
    "    # Suppress warnings\n",
    "    pd.options.mode.chained_assignment = None  # Suppress SettingWithCopyWarning\n",
    "    \n",
    "    # Preprocess data\n",
    "    fls.rename(columns={'Metric': 'metric',\"CIK\":\"cik\",\"Year\":\"year\",'Sentence':'text','Item':'item'}, inplace=True)\n",
    "    fls.drop(columns=['index','Label','Company'], inplace=True)\n",
    "    fls['metric'] = fls['metric'].replace({\"Net Income\":\"Net Income (Loss)\",\n",
    "                                           \"EPS\":'Diluted Earnings per share',\n",
    "                                           \"Cash Flow (Investing)\":\"Net Cash from Investing Activities\",\n",
    "                                           \"Cash Flow (Financing)\":\"Net Cash from Financing Activities\",\n",
    "                                           \"Cash Flow (Operating)\":\"Net Cash from Operating Activities\",})\n",
    "    \n",
    "    # Create a list to store names of all the files\n",
    "    metric_files = [file for file in os.listdir(metrics_folder) if file.endswith('.csv')]\n",
    "    \n",
    "    # Loop through each metric file \n",
    "    for metric_file in metric_files:\n",
    "        # Read in the metric file\n",
    "        metric = pd.read_csv(metrics_folder + metric_file)\n",
    "        \n",
    "        # Merge datasets based on CIK number, year and metric\n",
    "        merged_data = fls.merge(metric, on=['cik', 'year','metric'], how='inner')\n",
    "        merged_data = merged_data[['text','item', 'cik', 'year', 'val']]\n",
    "        \n",
    "        # Save data\n",
    "        if merged_data.empty:\n",
    "            print('No data for: ' + metric_file)\n",
    "        else:\n",
    "            merged_data.to_csv(output_folder + metric_file, index=False)\n",
    "            print('Saved: ' + metric_file)\n"
   ]
  },
  {
   "cell_type": "code",
   "execution_count": 66,
   "metadata": {},
   "outputs": [
    {
     "name": "stdout",
     "output_type": "stream",
     "text": [
      "No data for: CostOfGoodsAndServicesSold.csv\n",
      "Saved: EarningsPerShareDiluted.csv\n",
      "Saved: EBIT.csv\n",
      "No data for: NetCashProvidedByUsedInContinuingOperations.csv\n",
      "Saved: NetCashProvidedByUsedInFinancingActivities.csv\n",
      "Saved: NetCashProvidedByUsedInInvestingActivities.csv\n",
      "Saved: NetIncomeLoss.csv\n",
      "Saved: RevenueFromContractWithCustomerExcludingAssessedTax.csv\n",
      "No data for: SellingGeneralAndAdministrativeExpense.csv\n",
      "No data for: CostOfGoodsAndServicesSold.csv\n",
      "Saved: EarningsPerShareDiluted.csv\n",
      "Saved: EBIT.csv\n",
      "No data for: NetCashProvidedByUsedInContinuingOperations.csv\n",
      "Saved: NetCashProvidedByUsedInFinancingActivities.csv\n",
      "Saved: NetCashProvidedByUsedInInvestingActivities.csv\n",
      "Saved: NetIncomeLoss.csv\n",
      "Saved: RevenueFromContractWithCustomerExcludingAssessedTax.csv\n",
      "No data for: SellingGeneralAndAdministrativeExpense.csv\n"
     ]
    }
   ],
   "source": [
    "integrate_data('../datasets/distilbert_dataset.csv', '../datasets/metric_data/', '../datasets/distilbert_data/')\n",
    "integrate_data('../datasets/finbert_dataset.csv', '../datasets/metric_data/', '../datasets/finbert_data/')"
   ]
  }
 ],
 "metadata": {
  "kernelspec": {
   "display_name": "Python 3",
   "language": "python",
   "name": "python3"
  },
  "language_info": {
   "codemirror_mode": {
    "name": "ipython",
    "version": 3
   },
   "file_extension": ".py",
   "mimetype": "text/x-python",
   "name": "python",
   "nbconvert_exporter": "python",
   "pygments_lexer": "ipython3",
   "version": "3.10.9"
  }
 },
 "nbformat": 4,
 "nbformat_minor": 2
}
