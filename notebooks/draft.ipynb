{
 "cells": [
  {
   "cell_type": "code",
   "execution_count": 3,
   "metadata": {},
   "outputs": [],
   "source": [
    "import json\n",
    "import pandas as pd\n",
    "# Load EXTRACTED_FLS_METRICS.json\n",
    "# Load the JSON file\n",
    "with open('../datasets/EXTRACTED_FLS_METRICS.json', 'r') as json_file:\n",
    "    data = json.load(json_file)\n",
    "df = pd.DataFrame(data)"
   ]
  },
  {
   "cell_type": "code",
   "execution_count": 4,
   "metadata": {},
   "outputs": [],
   "source": [
    "# Save df as CSV\n",
    "# df.to_csv('../datasets/EXTRACTED_FLS_METRICS.csv', index=False)"
   ]
  },
  {
   "cell_type": "code",
   "execution_count": 5,
   "metadata": {},
   "outputs": [
    {
     "data": {
      "text/plain": [
       "(294254, 7)"
      ]
     },
     "execution_count": 5,
     "metadata": {},
     "output_type": "execute_result"
    }
   ],
   "source": [
    "df.shape"
   ]
  },
  {
   "cell_type": "code",
   "execution_count": 6,
   "metadata": {},
   "outputs": [],
   "source": [
    "test_data = df.sample(200)\n",
    "test_data.to_csv('../datasets/test.csv', index=False)"
   ]
  },
  {
   "cell_type": "code",
   "execution_count": 8,
   "metadata": {},
   "outputs": [],
   "source": [
    "# Load test.csv\n",
    "test_data = pd.read_csv('../datasets/test.csv', delimiter=';')"
   ]
  },
  {
   "cell_type": "code",
   "execution_count": 10,
   "metadata": {},
   "outputs": [],
   "source": [
    "# Set train data as the rest of the data\n",
    "train_data = df.drop(test_data.index)"
   ]
  },
  {
   "cell_type": "code",
   "execution_count": 16,
   "metadata": {},
   "outputs": [
    {
     "data": {
      "text/html": [
       "<div>\n",
       "<style scoped>\n",
       "    .dataframe tbody tr th:only-of-type {\n",
       "        vertical-align: middle;\n",
       "    }\n",
       "\n",
       "    .dataframe tbody tr th {\n",
       "        vertical-align: top;\n",
       "    }\n",
       "\n",
       "    .dataframe thead th {\n",
       "        text-align: right;\n",
       "    }\n",
       "</style>\n",
       "<table border=\"1\" class=\"dataframe\">\n",
       "  <thead>\n",
       "    <tr style=\"text-align: right;\">\n",
       "      <th></th>\n",
       "      <th>Sentence</th>\n",
       "      <th>Label</th>\n",
       "    </tr>\n",
       "  </thead>\n",
       "  <tbody>\n",
       "    <tr>\n",
       "      <th>52</th>\n",
       "      <td>Our future revenues and profitability depend o...</td>\n",
       "      <td>0</td>\n",
       "    </tr>\n",
       "    <tr>\n",
       "      <th>53</th>\n",
       "      <td>We experience fluctuations in quarterly earnings.</td>\n",
       "      <td>0</td>\n",
       "    </tr>\n",
       "    <tr>\n",
       "      <th>54</th>\n",
       "      <td>Revenues and profitability generally have been...</td>\n",
       "      <td>0</td>\n",
       "    </tr>\n",
       "    <tr>\n",
       "      <th>55</th>\n",
       "      <td>Revenues and profitability generally have been...</td>\n",
       "      <td>0</td>\n",
       "    </tr>\n",
       "    <tr>\n",
       "      <th>56</th>\n",
       "      <td>Additionally, changes in government, governmen...</td>\n",
       "      <td>0</td>\n",
       "    </tr>\n",
       "  </tbody>\n",
       "</table>\n",
       "</div>"
      ],
      "text/plain": [
       "                                             Sentence  Label\n",
       "52  Our future revenues and profitability depend o...      0\n",
       "53  We experience fluctuations in quarterly earnings.      0\n",
       "54  Revenues and profitability generally have been...      0\n",
       "55  Revenues and profitability generally have been...      0\n",
       "56  Additionally, changes in government, governmen...      0"
      ]
     },
     "execution_count": 16,
     "metadata": {},
     "output_type": "execute_result"
    }
   ],
   "source": [
    "# Rename columns\n",
    "train_data.rename(columns={'FLS': 'Label'}, inplace=True)\n",
    "\n",
    "# Rename data in column Label\n",
    "train_data['Label'] = train_data['Label'].replace({'FLS': 1,\n",
    "                                                   'Non-FLS': 0})\n",
    "\n",
    "train_data = train_data[['Sentence','Label']]\n",
    "train_data.head()\n"
   ]
  },
  {
   "cell_type": "code",
   "execution_count": 20,
   "metadata": {},
   "outputs": [],
   "source": [
    "# Do the same for test data\n",
    "# Rename columns\n",
    "test_data.rename(columns={'FLS': 'Label'}, inplace=True)\n",
    "\n",
    "test_data.head()\n",
    "\n",
    "# Save to csv\n",
    "test_data.to_csv('../datasets/test.csv', index=False)\n"
   ]
  },
  {
   "cell_type": "code",
   "execution_count": 17,
   "metadata": {},
   "outputs": [],
   "source": [
    "# Save train.csv\n",
    "train_data.to_csv('../datasets/train.csv', index=False)"
   ]
  },
  {
   "cell_type": "code",
   "execution_count": 18,
   "metadata": {},
   "outputs": [
    {
     "data": {
      "text/plain": [
       "(294202, 2)"
      ]
     },
     "execution_count": 18,
     "metadata": {},
     "output_type": "execute_result"
    }
   ],
   "source": [
    "train_data.shape"
   ]
  },
  {
   "cell_type": "markdown",
   "metadata": {},
   "source": []
  },
  {
   "cell_type": "code",
   "execution_count": 1,
   "metadata": {},
   "outputs": [],
   "source": [
    "import pandas as pd"
   ]
  },
  {
   "cell_type": "code",
   "execution_count": 10,
   "metadata": {},
   "outputs": [
    {
     "data": {
      "text/html": [
       "<div>\n",
       "<style scoped>\n",
       "    .dataframe tbody tr th:only-of-type {\n",
       "        vertical-align: middle;\n",
       "    }\n",
       "\n",
       "    .dataframe tbody tr th {\n",
       "        vertical-align: top;\n",
       "    }\n",
       "\n",
       "    .dataframe thead th {\n",
       "        text-align: right;\n",
       "    }\n",
       "</style>\n",
       "<table border=\"1\" class=\"dataframe\">\n",
       "  <thead>\n",
       "    <tr style=\"text-align: right;\">\n",
       "      <th></th>\n",
       "      <th>text</th>\n",
       "      <th>item</th>\n",
       "      <th>cik</th>\n",
       "      <th>year</th>\n",
       "      <th>val</th>\n",
       "    </tr>\n",
       "  </thead>\n",
       "  <tbody>\n",
       "    <tr>\n",
       "      <th>0</th>\n",
       "      <td>Disruptions in global credit and other financi...</td>\n",
       "      <td>item_1A</td>\n",
       "      <td>100493</td>\n",
       "      <td>2015</td>\n",
       "      <td>NaN</td>\n",
       "    </tr>\n",
       "    <tr>\n",
       "      <th>1</th>\n",
       "      <td>Disruptions in global credit and other financi...</td>\n",
       "      <td>item_1A</td>\n",
       "      <td>100493</td>\n",
       "      <td>2016</td>\n",
       "      <td>NaN</td>\n",
       "    </tr>\n",
       "    <tr>\n",
       "      <th>2</th>\n",
       "      <td>Disruptions in global credit and other financi...</td>\n",
       "      <td>item_1A</td>\n",
       "      <td>100493</td>\n",
       "      <td>2020</td>\n",
       "      <td>NaN</td>\n",
       "    </tr>\n",
       "    <tr>\n",
       "      <th>3</th>\n",
       "      <td>Additionally, operating income in fiscal 2019 ...</td>\n",
       "      <td>item_7</td>\n",
       "      <td>100493</td>\n",
       "      <td>2020</td>\n",
       "      <td>NaN</td>\n",
       "    </tr>\n",
       "    <tr>\n",
       "      <th>4</th>\n",
       "      <td>Disruptions in global credit and other financi...</td>\n",
       "      <td>item_1A</td>\n",
       "      <td>100493</td>\n",
       "      <td>2021</td>\n",
       "      <td>NaN</td>\n",
       "    </tr>\n",
       "  </tbody>\n",
       "</table>\n",
       "</div>"
      ],
      "text/plain": [
       "                                                text     item     cik  year  \\\n",
       "0  Disruptions in global credit and other financi...  item_1A  100493  2015   \n",
       "1  Disruptions in global credit and other financi...  item_1A  100493  2016   \n",
       "2  Disruptions in global credit and other financi...  item_1A  100493  2020   \n",
       "3  Additionally, operating income in fiscal 2019 ...   item_7  100493  2020   \n",
       "4  Disruptions in global credit and other financi...  item_1A  100493  2021   \n",
       "\n",
       "   val  \n",
       "0  NaN  \n",
       "1  NaN  \n",
       "2  NaN  \n",
       "3  NaN  \n",
       "4  NaN  "
      ]
     },
     "execution_count": 10,
     "metadata": {},
     "output_type": "execute_result"
    }
   ],
   "source": [
    "df = pd.read_csv('../datasets/finbert_data/EBIT.csv')\n",
    "#df.drop(columns=['Cost of Goods Sold','Revenue','Selling, General and Administrative Expenses'],inplace=True)\n",
    "df.head()"
   ]
  },
  {
   "cell_type": "code",
   "execution_count": 11,
   "metadata": {},
   "outputs": [
    {
     "data": {
      "text/html": [
       "<div>\n",
       "<style scoped>\n",
       "    .dataframe tbody tr th:only-of-type {\n",
       "        vertical-align: middle;\n",
       "    }\n",
       "\n",
       "    .dataframe tbody tr th {\n",
       "        vertical-align: top;\n",
       "    }\n",
       "\n",
       "    .dataframe thead th {\n",
       "        text-align: right;\n",
       "    }\n",
       "</style>\n",
       "<table border=\"1\" class=\"dataframe\">\n",
       "  <thead>\n",
       "    <tr style=\"text-align: right;\">\n",
       "      <th></th>\n",
       "      <th>accn</th>\n",
       "      <th>cik</th>\n",
       "      <th>entityName</th>\n",
       "      <th>loc</th>\n",
       "      <th>start</th>\n",
       "      <th>end</th>\n",
       "      <th>val</th>\n",
       "      <th>year</th>\n",
       "      <th>metric</th>\n",
       "    </tr>\n",
       "  </thead>\n",
       "  <tbody>\n",
       "    <tr>\n",
       "      <th>0</th>\n",
       "      <td>0001193125-10-141331</td>\n",
       "      <td>1094316</td>\n",
       "      <td>TRINTECH GROUP PLC</td>\n",
       "      <td>IE-</td>\n",
       "      <td>2006-02-01</td>\n",
       "      <td>2007-01-31</td>\n",
       "      <td>-0.07</td>\n",
       "      <td>2006</td>\n",
       "      <td>Diluted Earnings per share</td>\n",
       "    </tr>\n",
       "    <tr>\n",
       "      <th>1</th>\n",
       "      <td>0000038074-09-000029</td>\n",
       "      <td>38074</td>\n",
       "      <td>FOREST LABORATORIES INC</td>\n",
       "      <td>US-NY</td>\n",
       "      <td>2006-04-01</td>\n",
       "      <td>2007-03-31</td>\n",
       "      <td>1.41</td>\n",
       "      <td>2006</td>\n",
       "      <td>Diluted Earnings per share</td>\n",
       "    </tr>\n",
       "    <tr>\n",
       "      <th>2</th>\n",
       "      <td>0001193125-11-042228</td>\n",
       "      <td>1163302</td>\n",
       "      <td>United States Steel Corp</td>\n",
       "      <td>US-PA</td>\n",
       "      <td>2006-01-01</td>\n",
       "      <td>2006-12-31</td>\n",
       "      <td>11.18</td>\n",
       "      <td>2006</td>\n",
       "      <td>Diluted Earnings per share</td>\n",
       "    </tr>\n",
       "    <tr>\n",
       "      <th>3</th>\n",
       "      <td>0001193125-09-191566</td>\n",
       "      <td>874761</td>\n",
       "      <td>THE AES CORPORATION</td>\n",
       "      <td>US-VA</td>\n",
       "      <td>2006-01-01</td>\n",
       "      <td>2006-12-31</td>\n",
       "      <td>0.37</td>\n",
       "      <td>2006</td>\n",
       "      <td>Diluted Earnings per share</td>\n",
       "    </tr>\n",
       "    <tr>\n",
       "      <th>4</th>\n",
       "      <td>0001193125-09-222247</td>\n",
       "      <td>1103982</td>\n",
       "      <td>Mondelez International, Inc.</td>\n",
       "      <td>US-IL</td>\n",
       "      <td>2006-01-01</td>\n",
       "      <td>2006-12-31</td>\n",
       "      <td>1.84</td>\n",
       "      <td>2006</td>\n",
       "      <td>Diluted Earnings per share</td>\n",
       "    </tr>\n",
       "  </tbody>\n",
       "</table>\n",
       "</div>"
      ],
      "text/plain": [
       "                   accn      cik                    entityName    loc  \\\n",
       "0  0001193125-10-141331  1094316            TRINTECH GROUP PLC    IE-   \n",
       "1  0000038074-09-000029    38074       FOREST LABORATORIES INC  US-NY   \n",
       "2  0001193125-11-042228  1163302      United States Steel Corp  US-PA   \n",
       "3  0001193125-09-191566   874761           THE AES CORPORATION  US-VA   \n",
       "4  0001193125-09-222247  1103982  Mondelez International, Inc.  US-IL   \n",
       "\n",
       "        start         end    val  year                      metric  \n",
       "0  2006-02-01  2007-01-31  -0.07  2006  Diluted Earnings per share  \n",
       "1  2006-04-01  2007-03-31   1.41  2006  Diluted Earnings per share  \n",
       "2  2006-01-01  2006-12-31  11.18  2006  Diluted Earnings per share  \n",
       "3  2006-01-01  2006-12-31   0.37  2006  Diluted Earnings per share  \n",
       "4  2006-01-01  2006-12-31   1.84  2006  Diluted Earnings per share  "
      ]
     },
     "execution_count": 11,
     "metadata": {},
     "output_type": "execute_result"
    }
   ],
   "source": [
    "df = pd.read_csv('../datasets/intermediary/metric_data/EarningsPerShareDiluted.csv')\n",
    "df.head()"
   ]
  }
 ],
 "metadata": {
  "kernelspec": {
   "display_name": "Python 3",
   "language": "python",
   "name": "python3"
  },
  "language_info": {
   "codemirror_mode": {
    "name": "ipython",
    "version": 3
   },
   "file_extension": ".py",
   "mimetype": "text/x-python",
   "name": "python",
   "nbconvert_exporter": "python",
   "pygments_lexer": "ipython3",
   "version": "3.10.9"
  }
 },
 "nbformat": 4,
 "nbformat_minor": 2
}
