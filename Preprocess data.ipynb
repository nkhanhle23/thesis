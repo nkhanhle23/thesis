{
 "cells": [
  {
   "cell_type": "code",
   "execution_count": 6,
   "id": "3ecd913f",
   "metadata": {},
   "outputs": [],
   "source": [
    "# import modules\n",
    "import os\n",
    "import json\n",
    "from tqdm import tqdm\n",
    "import pandas as pd"
   ]
  },
  {
   "cell_type": "code",
   "execution_count": 7,
   "id": "a40f51b4",
   "metadata": {},
   "outputs": [],
   "source": [
    "# Create an empty dataframe to store the filings\n",
    "dataframes = []"
   ]
  },
  {
   "cell_type": "code",
   "execution_count": 8,
   "id": "a2730b6c",
   "metadata": {},
   "outputs": [
    {
     "name": "stderr",
     "output_type": "stream",
     "text": [
      "100%|██████████| 7660/7660 [00:42<00:00, 179.98it/s]\n"
     ]
    }
   ],
   "source": [
    "directory = 'datasets/EXTRACTED_FILINGS'\n",
    "\n",
    "for filename in tqdm(os.listdir(directory)):\n",
    "    if filename.endswith('.json'):\n",
    "        with open(os.path.join(directory, filename), 'r') as file:\n",
    "            data = json.load(file)\n",
    "            cik = data.get('cik', None)\n",
    "            company = data.get('company', None)\n",
    "            period_of_report = data.get('period_of_report', None)\n",
    "            if period_of_report:\n",
    "                year = period_of_report.split('-')[0]\n",
    "            else:\n",
    "                year = None\n",
    "\n",
    "            item_1 = data.get('item_1', None)\n",
    "            item_7 = data.get('item_7', None)\n",
    "            item_7A = data.get('item_7A', None)\n",
    "\n",
    "            # Create a DataFrame for the current file's data\n",
    "            df = pd.DataFrame({\n",
    "                'cik': [cik],\n",
    "                'company': [company],\n",
    "                'year': [year],\n",
    "                'item_1': [item_1],\n",
    "                'item_7': [item_7],\n",
    "                'item_7A': [item_7A]\n",
    "            })\n",
    "            \n",
    "            # Append the DataFrame to the list\n",
    "            dataframes.append(df)\n",
    "\n",
    "# Concatenate all the DataFrames in the list\n",
    "filings = pd.concat(dataframes, ignore_index=True)\n",
    "\n",
    "# Save the DataFrame as a json file\n",
    "filings.to_json('datasets/EXTRACTED_FILINGS.json', orient='records')\n"
   ]
  },
  {
   "cell_type": "code",
   "execution_count": 11,
   "id": "34b9b1fb",
   "metadata": {},
   "outputs": [
    {
     "data": {
      "text/plain": [
       "'ITEM 7A. Quantitative and Qualitative Disclosures About Market Risk\\nWe are exposed to market risks, which include changes in interest rates, as well as changes in foreign currency exchange rates as measured against the U.S. dollar and each other. We attempt to minimize these risks by using interest rate swap agreements and foreign currency forward and swap contracts. These hedging activities provide only limited protection against interest rate and currency exchange risks. Factors that could influence the effectiveness of our programs include volatility of the interest rate and currency markets and availability of hedging instruments. All interest rate swap and foreign currency forward and swap contracts that we enter into are components of hedging programs and are entered into for the sole purpose of hedging an existing or anticipated interest rate and currency exposure. We do not enter into such contracts for speculative purposes.\\nInterest Rate Swap Agreements\\nWe have fixed rate senior notes of $130.0 million at 6.94% and $100.0 million at 6.66%. During 2003, we entered into interest rate swap agreements to exchange these fixed interest rates for variable interest rates. The variable rates are comprised of LIBOR plus the spreads and reset on the interest due dates for the senior notes. As a result of these interest rate swap agreements, as well as our existing variable rate credit lines and loan agreements, we are exposed to risk from changes in interest rates. A hypothetical 100 basis point increase in interest rates would increase our annual interest expense by approximately $2.4 million.\\nAs of December 31, 2005, the fair value of our interest rate swap agreements recorded in other non-current liabilities was $7.4 million, which represented the amount that would be paid upon unwinding the interest rate swap agreements based on market conditions at that time. Changes in the fair value of these interest rate swap agreements are reflected as an adjustment to non-current assets or liabilities with an offsetting adjustment to the carrying value of the $230.0 million notes as such hedges are deemed fully effective.\\nForeign Currency Agreements\\nThe value of certain foreign currencies as compared to the U.S. dollar may affect our financial results. Fluctuations in exchange rates may positively or negatively affect our revenues, gross margins, operating expenses, and retained earnings, all of which are expressed in U.S. dollars. Where we deem it prudent, we engage in hedging programs, using primarily foreign currency forward and swap contracts, aimed at limiting the impact of foreign currency exchange rate fluctuations on earnings. We purchase short-term (i.e., twelve months or less) foreign currency forward and swap contracts to protect against currency exchange risks associated with long-term intercompany loans due from our international subsidiaries and the payment of merchandise purchases to foreign vendors. We do not hedge the translation of foreign currency profits into U.S. dollars, as we regard this as an accounting exposure, not an economic exposure.\\nAs of December 31, 2005, we had outstanding foreign currency forward and swap contracts with notional amounts of $395.6 million, of which $353.5 million related to intercompany debt and $42.1 million related to the purchase of merchandise from foreign vendors. The contracts hedge currency fluctuations against the U.S. Dollar for Euros ($277.4 million), British Pounds ($38.0 million), Australian Dollars ($8.1 million), Swiss Francs ($1.9 million), Japanese Yen ($394 thousand) and Canadian Dollars ($8.4 million). In addition, our international business entered into hedges against currency fluctuations relative to local functional currencies. The notional amount of such contracts was $61.4 million. A hypothetical 5% change of the value of the U.S. Dollar would change the fair value of our foreign currency exchange agreements by $16.3 million.\\nAs of December 31, 2005, the fair value of our foreign currency exchange agreements, which expire through December 4, 2006, recorded in other current assets was $4.0 million, as determined by quoted market prices. For the year ended December 31, 2005, we had realized net gains of $4 thousand and unrealized gains of $1.4 million relating to such agreements.'"
      ]
     },
     "execution_count": 11,
     "metadata": {},
     "output_type": "execute_result"
    }
   ],
   "source": [
    "filings['item_7A'][0]"
   ]
  }
 ],
 "metadata": {
  "kernelspec": {
   "display_name": "Python 3 (ipykernel)",
   "language": "python",
   "name": "python3"
  },
  "language_info": {
   "codemirror_mode": {
    "name": "ipython",
    "version": 3
   },
   "file_extension": ".py",
   "mimetype": "text/x-python",
   "name": "python",
   "nbconvert_exporter": "python",
   "pygments_lexer": "ipython3",
   "version": "3.10.9"
  }
 },
 "nbformat": 4,
 "nbformat_minor": 5
}
