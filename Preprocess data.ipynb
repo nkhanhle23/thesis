{
 "cells": [
  {
   "cell_type": "code",
   "execution_count": 2,
   "id": "3ecd913f",
   "metadata": {},
   "outputs": [],
   "source": [
    "# import modules\n",
    "import os\n",
    "import json\n",
    "from tqdm import tqdm\n",
    "import pandas as pd\n",
    "import numpy as np\n",
    "import matplotlib.pyplot as plt"
   ]
  },
  {
   "cell_type": "code",
   "execution_count": 3,
   "id": "a40f51b4",
   "metadata": {},
   "outputs": [],
   "source": [
    "# Create an empty dataframe to store the filings\n",
    "dataframes = []"
   ]
  },
  {
   "cell_type": "code",
   "execution_count": 4,
   "id": "a2730b6c",
   "metadata": {},
   "outputs": [
    {
     "name": "stderr",
     "output_type": "stream",
     "text": [
      "100%|██████████| 7660/7660 [01:16<00:00, 100.67it/s]\n"
     ]
    }
   ],
   "source": [
    "# Create dataframes for each filing\n",
    "directory = 'datasets/EXTRACTED_FILINGS'\n",
    "\n",
    "for filename in tqdm(os.listdir(directory)):\n",
    "    if filename.endswith('.json'):\n",
    "        with open(os.path.join(directory, filename), 'r') as file:\n",
    "            data = json.load(file)\n",
    "            cik = data.get('cik', None)\n",
    "            company = data.get('company', None)\n",
    "            period_of_report = data.get('period_of_report', None)\n",
    "            if period_of_report:\n",
    "                year = period_of_report.split('-')[0]\n",
    "            else:\n",
    "                year = None\n",
    "\n",
    "            item_1A = data.get('item_1A', None)\n",
    "            item_7 = data.get('item_7', None)\n",
    "            item_7A = data.get('item_7A', None)\n",
    "\n",
    "            # Create a DataFrame for the current file's data\n",
    "            df = pd.DataFrame({\n",
    "                'cik': [cik],\n",
    "                'company': [company],\n",
    "                'year': [year],\n",
    "                'item_1A': [item_1A],\n",
    "                'item_7': [item_7],\n",
    "                'item_7A': [item_7A]\n",
    "            })\n",
    "            \n",
    "            # Append the DataFrame to the list\n",
    "            dataframes.append(df)\n",
    "\n",
    "# Concatenate all the DataFrames in the list\n",
    "filings = pd.concat(dataframes, ignore_index=True)\n",
    "\n",
    "# Save the DataFrame as a json file\n",
    "filings.to_json('datasets/EXTRACTED_FILINGS.json', orient='records')\n"
   ]
  },
  {
   "cell_type": "code",
   "execution_count": 5,
   "id": "44e0537c",
   "metadata": {},
   "outputs": [
    {
     "data": {
      "text/html": [
       "<div>\n",
       "<style scoped>\n",
       "    .dataframe tbody tr th:only-of-type {\n",
       "        vertical-align: middle;\n",
       "    }\n",
       "\n",
       "    .dataframe tbody tr th {\n",
       "        vertical-align: top;\n",
       "    }\n",
       "\n",
       "    .dataframe thead th {\n",
       "        text-align: right;\n",
       "    }\n",
       "</style>\n",
       "<table border=\"1\" class=\"dataframe\">\n",
       "  <thead>\n",
       "    <tr style=\"text-align: right;\">\n",
       "      <th></th>\n",
       "      <th>cik</th>\n",
       "      <th>company</th>\n",
       "      <th>year</th>\n",
       "      <th>item_1A</th>\n",
       "      <th>item_7</th>\n",
       "      <th>item_7A</th>\n",
       "    </tr>\n",
       "  </thead>\n",
       "  <tbody>\n",
       "    <tr>\n",
       "      <th>0</th>\n",
       "      <td>1000228</td>\n",
       "      <td>SCHEIN HENRY INC</td>\n",
       "      <td>2005</td>\n",
       "      <td>ITEM 1A. Risk Factors\\nThe healthcare products...</td>\n",
       "      <td>ITEM 7. Management’s Discussion and Analysis o...</td>\n",
       "      <td>ITEM 7A. Quantitative and Qualitative Disclosu...</td>\n",
       "    </tr>\n",
       "    <tr>\n",
       "      <th>1</th>\n",
       "      <td>1000228</td>\n",
       "      <td>HENRY SCHEIN INC</td>\n",
       "      <td>2006</td>\n",
       "      <td>ITEM 1A. Risk Factors\\nThe healthcare products...</td>\n",
       "      <td>ITEM 7. Management’s Discussion and Analysis o...</td>\n",
       "      <td>ITEM 7A. Quantitative and Qualitative Disclosu...</td>\n",
       "    </tr>\n",
       "    <tr>\n",
       "      <th>2</th>\n",
       "      <td>1000228</td>\n",
       "      <td>HENRY SCHEIN INC</td>\n",
       "      <td>2007</td>\n",
       "      <td>ITEM 1A. Risk Factors\\nThe healthcare products...</td>\n",
       "      <td>ITEM 7. Management’s Discussion and Analysis o...</td>\n",
       "      <td>ITEM 7A. Quantitative and Qualitative Disclosu...</td>\n",
       "    </tr>\n",
       "    <tr>\n",
       "      <th>3</th>\n",
       "      <td>1000228</td>\n",
       "      <td>HENRY SCHEIN INC</td>\n",
       "      <td>2008</td>\n",
       "      <td>ITEM 1A. Risk Factors\\nDeclining economic cond...</td>\n",
       "      <td>ITEM 7. Management’s Discussion and Analysis o...</td>\n",
       "      <td>ITEM 7A. Quantitative and Qualitative Disclosu...</td>\n",
       "    </tr>\n",
       "    <tr>\n",
       "      <th>4</th>\n",
       "      <td>1000228</td>\n",
       "      <td>HENRY SCHEIN INC</td>\n",
       "      <td>2009</td>\n",
       "      <td>ITEM 1A. Risk Factors\\nDeclining economic cond...</td>\n",
       "      <td>ITEM 7. Management’s Discussion and Analysis o...</td>\n",
       "      <td>ITEM 7A. Quantitative and Qualitative Disclosu...</td>\n",
       "    </tr>\n",
       "  </tbody>\n",
       "</table>\n",
       "</div>"
      ],
      "text/plain": [
       "       cik           company  year  \\\n",
       "0  1000228  SCHEIN HENRY INC  2005   \n",
       "1  1000228  HENRY SCHEIN INC  2006   \n",
       "2  1000228  HENRY SCHEIN INC  2007   \n",
       "3  1000228  HENRY SCHEIN INC  2008   \n",
       "4  1000228  HENRY SCHEIN INC  2009   \n",
       "\n",
       "                                             item_1A  \\\n",
       "0  ITEM 1A. Risk Factors\\nThe healthcare products...   \n",
       "1  ITEM 1A. Risk Factors\\nThe healthcare products...   \n",
       "2  ITEM 1A. Risk Factors\\nThe healthcare products...   \n",
       "3  ITEM 1A. Risk Factors\\nDeclining economic cond...   \n",
       "4  ITEM 1A. Risk Factors\\nDeclining economic cond...   \n",
       "\n",
       "                                              item_7  \\\n",
       "0  ITEM 7. Management’s Discussion and Analysis o...   \n",
       "1  ITEM 7. Management’s Discussion and Analysis o...   \n",
       "2  ITEM 7. Management’s Discussion and Analysis o...   \n",
       "3  ITEM 7. Management’s Discussion and Analysis o...   \n",
       "4  ITEM 7. Management’s Discussion and Analysis o...   \n",
       "\n",
       "                                             item_7A  \n",
       "0  ITEM 7A. Quantitative and Qualitative Disclosu...  \n",
       "1  ITEM 7A. Quantitative and Qualitative Disclosu...  \n",
       "2  ITEM 7A. Quantitative and Qualitative Disclosu...  \n",
       "3  ITEM 7A. Quantitative and Qualitative Disclosu...  \n",
       "4  ITEM 7A. Quantitative and Qualitative Disclosu...  "
      ]
     },
     "execution_count": 5,
     "metadata": {},
     "output_type": "execute_result"
    }
   ],
   "source": [
    "filings.head()"
   ]
  },
  {
   "cell_type": "code",
   "execution_count": 6,
   "id": "e5eee4b4",
   "metadata": {},
   "outputs": [
    {
     "data": {
      "text/plain": [
       "'ITEM 1A. Risk Factors\\nThe healthcare products distribution industry is highly competitive, and we may not be able to compete successfully.\\nWe compete with numerous companies, including several major manufacturers and distributors. Some of our competitors have greater financial and other resources than we do, which could allow them to compete more successfully. Most of our products are available from several sources and our customers tend to have relationships with several distributors. Competitors could obtain exclusive rights to market particular products, which we would then be unable to market. Manufacturers could also increase their efforts to sell directly to end-users and bypass distributors like us. Industry consolidation among healthcare products distributors, the unavailability of products, whether due to our inability to gain access to products or interruptions in supply from manufacturers, or the emergence of new competitors could also increase competition. In the future, we may be unable to compete successfully and competitive pressures may reduce our revenues.\\nThe healthcare industry is experiencing changes that could adversely affect our business.\\nThe healthcare industry is highly regulated and subject to changing political, economic and regulatory influences. In recent years, the healthcare industry has undergone significant change driven by various efforts to reduce costs, including the reduction of spending budgets by government and private insurance programs, such as Medicare, Medicaid and corporate health insurance plans; pressures relating to potential healthcare reform; trends toward managed care; consolidation of healthcare distribution companies; collective purchasing arrangements among office-based healthcare practitioners; and changes in reimbursements to customers. If we are unable to react effectively to these and other changes in the healthcare industry, our operating results could be adversely affected. In addition, the enactment of any significant healthcare reforms could have a material adverse effect on our business.\\nWe must comply with government regulations governing the distribution of pharmaceuticals and medical devices, and additional regulations could negatively affect our business.\\nOur business is subject to requirements under various local, state, federal and international governmental laws and regulations applicable to the distribution of pharmaceuticals and medical devices. Among the federal laws with which we must comply are the Controlled Substances Act, the Federal Food, Drug, and Cosmetic Act, as amended, the Prescription Drug Marketing Act of 1987 and the Safe Medical Devices Act of 1990, as amended. Such laws:\\n•\\nregulate the storage and distribution, labeling, handling, record keeping, manufacturing and advertising of drugs and medical devices;\\n•\\nsubject us to inspection by the Federal Food and Drug Administration and the Drug Enforcement Administration;\\n•\\nregulate the transportation of certain of our products that are considered hazardous materials;\\n•\\nrequire registration with the Federal Food and Drug Administration and the Drug Enforcement Administration;\\n•\\nrequire us to coordinate returns of products that have been recalled and subject us to inspection of our recall procedures; and\\n•\\nimpose reporting requirements if a pharmaceutical or medical device causes serious illness, injury or death.\\nApplicable federal and state laws and regulations may also require us to meet various standards relating to, among other things, licensure or registration, sales and marketing practices, product supply tracking to the manufacturer of the product, personnel, privacy of health or other personal information, and the importation and exportation of products. Our business is also subject to requirements of foreign governmental laws and regulations affecting our operations abroad.\\nThe failure to comply with any of these regulations, or new interpretations of existing laws and regulations, or the imposition of any additional laws and regulations could negatively affect our business. There can be no assurance that current or future United States or foreign government regulations will not adversely affect our business. The costs to us associated with complying with the various applicable federal and state statutes and regulations, as they now exist and as they may be modified, could be material. Allegations by a state or the federal government that we have not complied with these laws could have a material adverse impact on our businesses. If it is determined that we have not complied with these laws, or if we enter into settlement agreements to resolve allegations of non-compliance, we could be required to make settlement payments or be subject to civil and criminal penalties, including fines and the loss of licenses or our ability to participate in federal and state healthcare programs. Any of the foregoing could have a material adverse impact on our businesses. We believe that the healthcare services industry will continue to be subject to extensive regulation at the federal, state, and local levels and that we have adequate compliance programs and controls to ensure compliance with the laws and regulations.\\nIf we fail to comply with laws and regulations in respect of healthcare fraud, we could suffer penalties or be required to make significant changes to our operations.\\nWe are subject to extensive and frequently changing federal and state laws and regulations relating to healthcare fraud. The federal government continues to strengthen its position and scrutiny over practices involving healthcare fraud affecting government healthcare programs. Our relationships with pharmaceutical manufacturers and healthcare providers subject our business to laws and regulations on fraud and abuse which, among other things, (i) prohibit persons from soliciting, offering, receiving or paying any remuneration in order to induce the referral of a patient for treatment or for inducing the ordering or purchasing of items or services that are in any way paid for by government-sponsored healthcare programs and (ii) impose a number of restrictions upon referring physicians and providers of designated health services under government healthcare programs. While we believe that we are substantially compliant with all applicable laws, many of the regulations applicable to us are vague or indefinite and have not been interpreted by the courts. They may be interpreted or applied by a prosecutorial, regulatory or judicial authority in a manner that could require us to make changes in our operations. If we fail to comply with applicable laws and regulations, we could suffer civil and criminal penalties, including the loss of licenses or our ability to participate in federal and state healthcare programs.\\nOur international operations are subject to inherent risks that could adversely affect our operating results.\\nInternational operations are subject to risks that may materially adversely affect our business, results of operations and financial condition. The risks that our international operations are subject to include:\\n•\\ndifficulties and costs relating to staffing and managing foreign operations;\\n•\\ndifficulties in establishing channels of distribution;\\n•\\nfluctuations in the value of foreign currencies;\\n•\\nlonger payment cycles of foreign customers and difficulty of collecting receivables in foreign jurisdictions;\\n•\\nrepatriation of cash from our foreign operations to the United States;\\n•\\nregulatory requirements;\\n•\\nunexpected difficulties in importing or exporting our products;\\n•\\nimposition of import/export duties, quotas, sanctions or penalties; and\\n•\\nunexpected regulatory, economic and political changes in foreign markets.\\nAs a result of our acquisition of the Demedis Group and other foreign companies, our foreign operations are significantly larger and, therefore, our exposure to the risks inherent in international operations has become greater.\\nWe experience fluctuations in quarterly earnings. As a result, we may fail to meet or exceed the expectations of securities analysts and investors, which could cause our stock price to decline.\\nOur business is subject to seasonal and other quarterly fluctuations. Net sales and operating profits generally have been higher in the third and fourth quarters due to the timing of sales of seasonal products (including influenza vaccine, equipment and software products), purchasing patterns of office-based healthcare practitioners and year-end promotions. Net sales and operating profits generally have been lower in the first quarter, primarily due to increased sales in the prior two quarters. Quarterly results may also be adversely affected by a variety of other factors, including:\\n•\\ncosts of developing new applications and services;\\n•\\ncosts related to acquisitions and/or integrations of technologies or businesses;\\n•\\ntiming and amount of sales and marketing expenditures;\\n•\\nloss of sales representatives;\\n•\\ngeneral economic conditions, as well as those specific to the healthcare industry and related industries;\\n•\\ntiming of the release of functions of our technology-related products and services;\\n•\\nestablishing or maintaining business relationships;\\n•\\nconsummating the sale of our Hospital Supply Business;\\n•\\nchanges in accounting principles; and\\n•\\nproduct availability or recalls by manufacturers.\\nAny change in one or more of these or other factors could cause our annual or quarterly operating results to fluctuate. If our operating results do not meet market expectations, our stock price may decline.\\nBecause substantially all of the products that we distribute are not manufactured by us, we are dependent upon third parties for the manufacture and supply of substantially all of our products.\\nWe obtain substantially all of our products from third-party suppliers. Generally, we do not have long-term contracts with our suppliers committing them to supply products to us. Therefore, suppliers may not provide the products we need in the quantities we request. Because we do not control the actual production of the products we sell, we may be subject to delays caused by interruption in production based on conditions outside of our control. In the event that any of our third-party suppliers were to become unable or unwilling to continue to provide the products in required volumes, we would need to identify and obtain acceptable replacement sources on a timely basis. There is no guarantee that we will be able to obtain such alternative sources of supply on a timely basis, if at all. An extended interruption in the supply of our products, including the supply of our influenza vaccine and any other high sales volume product, would have an\\nadverse effect on our results of operations, which most likely would adversely affect the value of our common stock.\\nOur expansion through acquisitions and joint ventures involves risks.\\nWe have expanded our domestic and international markets in part through acquisitions and joint ventures, and we expect to continue to make acquisitions and enter into joint ventures in the future. Such transactions involve numerous risks, including possible adverse effects on our operating results or the market price of our common stock. Some of our acquisitions and future acquisitions may also give rise to an obligation by us to make contingent payments or to satisfy certain repurchase obligations, which payments could have an adverse effect on our results of operations. In addition, integrating acquired businesses and joint ventures:\\n•\\nmay result in a loss of customers or product lines of the acquired businesses or joint ventures;\\n•\\nrequires significant management attention; and\\n•\\nmay place significant demands on our operations, information systems and financial resources.\\nThere can be no assurance that our future acquisitions or joint ventures will be successful. Our ability to continue to successfully effect acquisitions and joint ventures will depend upon the following:\\n•\\nthe availability of suitable acquisition or joint venture candidates at acceptable prices;\\n•\\nour ability to consummate such transactions, which could potentially be prohibited due to U.S. or foreign antitrust regulations; and\\n•\\nthe availability of financing on acceptable terms, in the case of non-stock transactions.\\nWe face inherent risk of exposure to product liability and other claims in the event that the use of the products we sell results in injury.\\nOur business involves a risk of product liability and other claims and from time to time we are named as a defendant in cases as a result of our distribution of pharmaceutical and other healthcare products. Additionally, we own a majority interest in a company that manufactures dental implants and we are subject to the potential risk of product liability or other claims relating to the manufacture of products by that entity. One of the potential risks we face in the distribution of our products is liability resulting from counterfeit products infiltrating the supply chain. In addition, some of the products that we transport and sell are considered hazardous materials. The improper handling of such materials or accidents involving the transportation of such materials could subject us to liability. We have insurance policies, including product liability insurance, covering risks and in amounts that we consider adequate. Additionally, in many cases we are covered by indemnification from the manufacturer of the product. However, we cannot provide assurance that the coverage maintained by us is sufficient to cover future claims, that it will be available in adequate amounts or at a reasonable cost, or that indemnification agreements will provide adequate protection for us. A successful claim brought against us in excess of available insurance or indemnification, or any claim that results in significant adverse publicity against us, could harm our business.\\nOur technology segment depends upon continued product development, technical support and successful marketing.\\nCompetition among companies supplying practice-management software is intense and increasing. Our future sales of practice-management software will depend on, among other factors:\\n•\\nthe effectiveness of our sales and marketing programs;\\n•\\nour ability to enhance our products; and\\n•\\nour ability to provide ongoing technical support.\\nWe cannot be sure that we will be successful in introducing and marketing new software or software enhancements, or that such software will be released on time or accepted by the market. Our software products, like software products generally, may contain undetected errors or bugs when introduced or as new versions are released. We cannot be sure that future problems with post-release software errors or bugs will not occur. Any such defective software may result in increased expenses related to the software and could adversely affect our relationships with the customers using such software. We do not have any patents on our software, and rely upon copyright, trademark and trade secret laws, as well as contractual and common law protections. We cannot assure you that such legal protections will be available or enforceable to protect our software products.\\nOur revenues depend on our relationships with capable sales personnel as well as key customers, vendors and manufacturers of the products that we distribute.\\nOur future operating results depend on our ability to maintain satisfactory relationships with qualified sales personnel as well as key customers, vendors and manufacturers. If we fail to maintain our existing relationships with such persons or fail to acquire relationships with such key persons in the future, our business may suffer.\\nOur future success is substantially dependent upon our senior management.\\nOur future success is substantially dependent upon the efforts and abilities of members of our existing senior management, particularly Stanley M. Bergman, Chairman and Chief Executive Officer, among others. The loss of the services of Mr. Bergman could have a material adverse effect on our business. We have an employment agreement with Mr. Bergman. We do not currently have “key man” life insurance policies on any of our employees. Competition for senior management is intense, and we may not be successful in attracting and retaining key personnel.\\nIncreases in the cost of shipping or service trouble with our third-party shippers could harm our business.\\nShipping is a significant expense in the operation of our business. We ship almost all of our U.S. orders through United Parcel Service, Inc. and other delivery services, and typically bear the cost of shipment. Accordingly, any significant increase in shipping rates could have an adverse effect on our operating results. Similarly, strikes or other service interruptions by those shippers could cause our operating expenses to rise and adversely affect our ability to deliver products on a timely basis.\\nWe may not be able to respond to technological change effectively.\\nTraditional healthcare supply and distribution relationships are being challenged by electronic online commerce solutions. Our distribution business is characterized by rapid technological developments and intense competition. The advancement of online commerce will require us to cost-effectively adapt to changing technologies, to enhance existing services and to develop and introduce a variety of new services to address changing demands of consumers and our clients on a timely basis, particularly in response to competitive offerings. Our inability to anticipate and effectively respond to changes on a timely basis could have an adverse effect on our business.\\nWe are exposed to the risk of an increase in interest rates.\\nIn 2003, we entered into interest rate swap agreements to exchange our fixed-rate interest rates for variable interest rates payable on our $230.0 million senior notes. Our fixed interest rates on the senior notes were 6.94% and 6.66% for the $130.0 million and $100.0 million senior notes, respectively. The variable rate is comprised of LIBOR plus the spreads and resets on the interest due dates for the senior notes. As a result\\nof these interest rate swap agreements, as well as our existing variable rate credit lines, and loan agreements, we are exposed to risk from fluctuations in interest rates.\\nOur acquisitions may not result in the benefits and revenue growth we expect.\\nWe are in the process of integrating companies that we acquired, including the Demedis Group, and assimilating the operations, services, products and personnel of each company with our management policies, procedures and strategies. We cannot be sure that we will achieve the benefits of revenue growth that we expect from these acquisitions or that we will not incur unforeseen additional costs or expenses in connection with these acquisitions. To effectively manage our expected future growth, we must continue to successfully manage our integration of these companies and continue to improve our operational systems, internal procedures, accounts receivable and management, financial and operational controls. If we fail in any of these areas, our business could be adversely affected.\\nThe market price for our common stock may be highly volatile.\\nThe market price for our common stock may be highly volatile. A variety of factors may have a significant impact on the market price of our common stock, including:\\n•\\nthe publication of earnings estimates or other research reports and speculation in the press or investment community;\\n•\\nchanges in our industry and competitors;\\n•\\nour financial condition, results of operations and cash flows and prospects;\\n•\\nany future issuances of our common stock, which may include primary offerings for cash, stock splits, issuances in connection with business acquisitions, restricted stock and the grant or exercise of stock options from time to time;\\n•\\nthe dilutive impact of convertible debt on our earnings per share;\\n•\\ngeneral market and economic conditions; and\\n•\\nany outbreak or escalation of hostilities in areas we do business.\\nIn addition, the Nasdaq National Market can experience extreme price and volume fluctuations that can be unrelated or disproportionate to the operating performance of the companies listed on Nasdaq. Broad market and industry factors may negatively affect the market price of our common stock, regardless of actual operating performance. In the past, following periods of volatility in the market price of a company’s securities, securities class action litigation has often been instituted against companies. This type of litigation, if instituted, could result in substantial costs and a diversion of management’s attention and resources, which would harm our business.\\nCertain provisions in our governing documents and other documents to which we are a party may discourage third-party offers to acquire us that might otherwise result in our stockholders receiving a premium over the market price of their shares.\\nThe provisions of our certificate of incorporation and by-laws may make it more difficult for a third party to acquire us, may discourage acquisition bids, and may limit the price that certain investors might be willing to pay in the future for shares of our common stock. These provisions, among other things:\\n•\\nrequire the affirmative vote of the holders of at least 60% of the shares of common stock entitled to vote to approve a merger, consolidation, or a sale, lease, transfer or exchange of all or substantially all of our assets; and\\n•\\nrequire the affirmative vote of the holders of at least 66 2/3% of our common stock entitled to vote to:\\n•\\nremove a director; and\\n•\\nto amend or repeal our by-laws, with certain limited exceptions.\\nIn addition, our 1994 Stock Incentive Plan, 1996 Non-Employee Director Stock Incentive Plan and 2001 Non-Employee Director Incentive Plan provide for accelerated vesting of stock options upon a change in control, and certain agreements between us and our executive officers provide for increased severance payments if those executive officers are terminated without cause within two years after a change in control.\\nWe also have a stockholder rights plan that could make it more difficult for a third party to acquire us if our Board of Directors does not determine that the acquisition proposal is adequate and in the stockholders’ best interest.\\nTax legislation initiatives could adversely affect the Company’s net earnings and tax liabilities.\\nWe are subject to the tax laws and regulations of the United States federal, state and local governments, as well as foreign jurisdictions. From time to time, various legislative initiatives may be proposed that could adversely affect our tax positions. There can be no assurance that our effective tax rate will not be adversely affected by these initiatives. In addition, tax laws and regulations are extremely complex and subject to varying interpretations. Although we believe that our historical tax positions are sound and consistent with applicable laws, regulations and existing precedent, there can be no assurance that our tax positions will not be challenged by relevant tax authorities or that we would be successful in any such challenge.\\nItem 1B. Unresolved Staff Comments\\nWe have no unresolved comments from the staff of the United States Securities and Exchange Commission that were issued 180 days or more preceding the end of our 2005 fiscal year.\\nITEM 2. Properties\\nWe own or lease the following properties:\\nOwn or\\nApproximate\\nLease Expiration\\nProperty\\nLocation\\nLease\\nSquare Footage\\nDate\\nCorporate Headquarters\\nMelville, NY\\nOwn\\n105,000\\nN/A\\nCorporate Headquarters\\nMelville, NY\\nLease\\n185,000\\nJuly 2020\\nAdministrative Office (1)\\nPelham, NY\\nLease\\n108,000\\nJuly 2007\\nOffice and Distribution Center\\nWest Allis, WI\\nLease\\n106,000\\nOctober 2011\\nDistribution Center\\nDenver, PA\\nLease\\n614,000\\nFebruary 2013\\nDistribution Center\\nIndianapolis, IN\\nOwn\\n287,000\\nN/A\\nDistribution Center\\nIndianapolis, IN\\nLease\\n144,000\\nJune 2009\\nDistribution Center\\nGrapevine, TX\\nLease\\n187,000\\nJuly 2008\\nDistribution Center\\nGallin, Germany\\nOwn\\n215,000\\nN/A\\nDistribution Center (2)\\nSecaucus, NJ\\nLease\\n192,000\\nDecember 2008\\nDistribution Center\\nJacksonville, FL\\nLease\\n212,000\\nJune 2013\\nDistribution Center\\nNiagara on the Lake, Canada\\nLease\\n94,000\\nSeptember 2016\\nDistribution Center\\nSparks, NV\\nLease\\n271,000\\nMarch 2011\\nDistribution Center\\nGillingham, United Kingdom\\nLease\\n103,000\\nApril 2010\\n(1)\\nWe are subletting 66,500 square feet of this facility through July 2007 to a third-party.\\n(2)\\nThis facility relates to our Hospital Supply Business, which was classified as a discontinued operation in 2005.\\nThe properties listed in the table above are our principal properties primarily used by our healthcare distribution segment. In addition, we lease numerous other distribution, office, showroom, manufacturing and sales space in locations including the United States, Canada, France, Germany, the Netherlands, Belgium, Luxembourg, Switzerland, Spain, Austria, the Czech Republic, Israel, Italy, Ireland, Portugal, the United Kingdom, Australia and New Zealand. We also are planning to build and occupy a new distribution center in France in 2006.\\nWe believe that our properties are in good condition, are well maintained and are suitable and adequate to carry on our business. We have additional operating capacity at certain distribution center facilities.\\nITEM 3. Legal Proceedings\\nOur business involves a risk of product liability claims and other claims in the ordinary course of business, and from time to time we are named as a defendant in cases as a result of our distribution of pharmaceutical and other healthcare products. As a business practice, we generally obtain product indemnification from our suppliers.\\nWe have various insurance policies, including product liability insurance, covering risks in amounts that we consider adequate. In many cases in which we have been sued in connection with products manufactured by others, the manufacturer provides us with indemnification. There can be no assurance that the insurance coverage we maintain is sufficient or will be available in adequate amounts or at a reasonable cost, or that indemnification agreements will provide us with adequate protection. In our opinion, all pending matters, including those described below, are covered by insurance or will not otherwise seriously harm our financial condition.\\nAs of December 31, 2005, we had accrued our best estimate of potential losses relating to product liability and other claims that were probable to result in a liability and for which we were able to reasonably estimate a loss. This accrued amount, as well as related expenses, was not material to our financial position, results of\\noperations or cash flows. Our method for determining estimated losses considers currently available facts, presently enacted laws and regulations and other external factors, including probable recoveries from third parties.\\nProduct Liability Claims\\nAs of December 31, 2005, we were a defendant in approximately 42 product liability cases. We have obtained defense and indemnification commitments from the manufacturer in many of these cases. The manufacturer has withheld indemnification commitments in some of these cases pending product identification. In our opinion, these cases are covered by insurance or will not otherwise seriously harm our financial condition.\\nITEM 4. Submission of Matters to a Vote of Security Holders\\nNo matters were submitted to a vote of our stockholders during the fourth quarter of fiscal 2005.\\nPART II\\nITEM 5. Market for Registrant’s Common Equity and Related Stockholder Matters and Issuer Purchases of Equity Securities\\nOn January 31, 2005, we announced that our Board of Directors approved a two-for-one stock split effected in the form of a dividend. This stock split became effective on February 28, 2005 and has been retroactively reflected for all periods presented in this Form 10-K.\\nOur common stock is quoted through the National Market tier of the NASDAQ Stock Market (“NASDAQ”) under the symbol HSIC. The following table sets forth, for the periods indicated, the high and low reported sales prices of our common stock as reported on the NASDAQ for each quarterly period in fiscal 2005 and 2004:\\nOn February 27, 2006, there were approximately 624 holders of record of our common stock and the last reported sales price was $46.82.\\nPurchases of Equity Securities by the Issuer\\nOur current share repurchase program, announced on June 21, 2004, previously allowed us to repurchase up to $100.0 million in shares of our common stock, which represented approximately 3.5% of shares outstanding at the commencement of the program. On October 31, 2005, our board authorized an additional $100.0 million of shares in our common stock to be repurchased under this program. As of December 31, 2005, we had repurchased $88.5 million or 2,518,110 shares under this initiative, with $111.5 million remaining.\\nThe following table summarizes repurchases of our common stock under our stock repurchase program during the fiscal quarter ended December 31, 2005:\\n(1)\\nAll repurchases were executed in the open market under our existing publicly announced authorized program.\\n(2)\\nThe maximum number of shares that may yet be purchased under this program is determined at the end of each month based on the closing price of our common stock at that time.\\nDividend Policy\\nWe have not declared any cash dividends on our common stock during fiscal years 2005 or 2004. We currently do not anticipate declaring any cash dividends on our common stock in the foreseeable future. We intend to retain earnings to finance the expansion of our business and for general corporate purposes, including our stock repurchase program. Any declaration of dividends will be at the discretion of our Board of Directors and will depend upon the earnings, financial condition, capital requirements, level of indebtedness, contractual restrictions with respect to payment of dividends and other factors. The agreements governing our Senior Notes limit the distribution of dividends without the prior written consent of the lenders (limited to $25.0 million, plus 80% of cumulative net income, plus net proceeds from the issuance of additional capital stock.) As of December 31, 2005, the amount of retained earnings free of restrictions was $412.3 million.\\nITEM 6. Selected Financial Data\\nThe following selected financial data, with respect to our financial position and results of operations for each of the five years in the period ended December 31, 2005, set forth below, has been derived from, should be read in conjunction with and is qualified in its entirety by reference to, our consolidated financial statements and notes thereto. The selected financial data presented below should also be read in conjunction with ITEM 7, “Management’s Discussion and Analysis of Financial Condition and Results of Operations” and ITEM 8, “Financial Statements and Supplementary Data.”\\n(1)\\nAdjusted to reflect the effects of discontinued operations.\\n(2)\\nDuring 2004, we recorded a $13.2 million pre-tax ($8.4 million post-tax) charge related to the Fluvirin® contract with Chiron Corporation. This charge, which represented the write-off of a deferred expense associated with the 2005/2006 influenza season, occurred as a result of the significant uncertainty about whether Chiron would be able to provide Fluvirin® for the 2005/2006 influenza season. The effect that this charge had on earnings per share for the year ended December 25, 2004 was $(0.10).\\n(3)\\nIn the third quarter of 2005, we reached a decision to divest our Hospital Supply business, which is a component of our healthcare distribution business. This decision resulted in the recording of an impairment charge of our long-lived assets of approximately $7.0 million, net of tax, or $(0.08) per diluted share for fiscal 2005.\\nIn the third quarter of 2003, we sold PMA Bode GmbH, an x-ray film distribution business located in Germany, which was a component of our healthcare distribution business. This sale resulted in a loss of $2.0 million, net of tax, or $(0.02) per diluted share. Due to immateriality, we have not reflected the operating results, other than the loss on sale, of PMA Bode separately as a discontinued operation for any of the periods presented. This was partially offset by the Hospital discontinued operation discussed above.\\n(4)\\nConsists of consumable products, small equipment, laboratory products, large dental equipment, branded and generic pharmaceuticals, vaccines, surgical products, diagnostic tests, infection-control products and vitamins.\\n(5)\\nConsists of products sold in the United States and Canada.\\n(6)\\nConsists of products sold in the United States’ medical and veterinary markets.\\n(7)\\nConsists of products sold in the dental, medical and veterinary markets, primarily in Europe.\\n(8)\\nConsists of practice management software and other value-added products and services, which are sold primarily to healthcare providers in the United States and Canada.'"
      ]
     },
     "execution_count": 6,
     "metadata": {},
     "output_type": "execute_result"
    }
   ],
   "source": [
    "filings['item_1A'][0]"
   ]
  },
  {
   "cell_type": "code",
   "execution_count": 9,
   "id": "4b011128",
   "metadata": {},
   "outputs": [
    {
     "data": {
      "text/plain": [
       "'The healthcare products distribution industry is highly competitive, and we may not be able to compete successfully.\\nWe compete with numerous companies, including several major manufacturers and distributors. Some of our competitors have greater financial and other resources than we do, which could allow them to compete more successfully. Most of our products are available from several sources and our customers tend to have relationships with several distributors. Competitors could obtain exclusive rights to market particular products, which we would then be unable to market. Manufacturers could also increase their efforts to sell directly to end-users and bypass distributors like us. Industry consolidation among healthcare products distributors, the unavailability of products, whether due to our inability to gain access to products or interruptions in supply from manufacturers, or the emergence of new competitors could also increase competition. In the future, we may be unable to compete successfully and competitive pressures may reduce our revenues.\\nThe healthcare industry is experiencing changes that could adversely affect our business.\\nThe healthcare industry is highly regulated and subject to changing political, economic and regulatory influences. In recent years, the healthcare industry has undergone significant change driven by various efforts to reduce costs, including the reduction of spending budgets by government and private insurance programs, such as Medicare, Medicaid and corporate health insurance plans; pressures relating to potential healthcare reform; trends toward managed care; consolidation of healthcare distribution companies; collective purchasing arrangements among office-based healthcare practitioners; and changes in reimbursements to customers. If we are unable to react effectively to these and other changes in the healthcare industry, our operating results could be adversely affected. In addition, the enactment of any significant healthcare reforms could have a material adverse effect on our business.\\nWe must comply with government regulations governing the distribution of pharmaceuticals and medical devices, and additional regulations could negatively affect our business.\\nOur business is subject to requirements under various local, state, federal and international governmental laws and regulations applicable to the distribution of pharmaceuticals and medical devices. Among the federal laws with which we must comply are the Controlled Substances Act, the Federal Food, Drug, and Cosmetic Act, as amended, the Prescription Drug Marketing Act of 1987 and the Safe Medical Devices Act of 1990, as amended. Such laws:\\n•\\nregulate the storage and distribution, labeling, handling, record keeping, manufacturing and advertising of drugs and medical devices;\\n•\\nsubject us to inspection by the Federal Food and Drug Administration and the Drug Enforcement Administration;\\n•\\nregulate the transportation of certain of our products that are considered hazardous materials;\\n•\\nrequire registration with the Federal Food and Drug Administration and the Drug Enforcement Administration;\\n•\\nrequire us to coordinate returns of products that have been recalled and subject us to inspection of our recall procedures; and\\n•\\nimpose reporting requirements if a pharmaceutical or medical device causes serious illness, injury or death.\\nApplicable federal and state laws and regulations may also require us to meet various standards relating to, among other things, licensure or registration, sales and marketing practices, product supply tracking to the manufacturer of the product, personnel, privacy of health or other personal information, and the importation and exportation of products. Our business is also subject to requirements of foreign governmental laws and regulations affecting our operations abroad.\\nThe failure to comply with any of these regulations, or new interpretations of existing laws and regulations, or the imposition of any additional laws and regulations could negatively affect our business. There can be no assurance that current or future United States or foreign government regulations will not adversely affect our business. The costs to us associated with complying with the various applicable federal and state statutes and regulations, as they now exist and as they may be modified, could be material. Allegations by a state or the federal government that we have not complied with these laws could have a material adverse impact on our businesses. If it is determined that we have not complied with these laws, or if we enter into settlement agreements to resolve allegations of non-compliance, we could be required to make settlement payments or be subject to civil and criminal penalties, including fines and the loss of licenses or our ability to participate in federal and state healthcare programs. Any of the foregoing could have a material adverse impact on our businesses. We believe that the healthcare services industry will continue to be subject to extensive regulation at the federal, state, and local levels and that we have adequate compliance programs and controls to ensure compliance with the laws and regulations.\\nIf we fail to comply with laws and regulations in respect of healthcare fraud, we could suffer penalties or be required to make significant changes to our operations.\\nWe are subject to extensive and frequently changing federal and state laws and regulations relating to healthcare fraud. The federal government continues to strengthen its position and scrutiny over practices involving healthcare fraud affecting government healthcare programs. Our relationships with pharmaceutical manufacturers and healthcare providers subject our business to laws and regulations on fraud and abuse which, among other things, (i) prohibit persons from soliciting, offering, receiving or paying any remuneration in order to induce the referral of a patient for treatment or for inducing the ordering or purchasing of items or services that are in any way paid for by government-sponsored healthcare programs and (ii) impose a number of restrictions upon referring physicians and providers of designated health services under government healthcare programs. While we believe that we are substantially compliant with all applicable laws, many of the regulations applicable to us are vague or indefinite and have not been interpreted by the courts. They may be interpreted or applied by a prosecutorial, regulatory or judicial authority in a manner that could require us to make changes in our operations. If we fail to comply with applicable laws and regulations, we could suffer civil and criminal penalties, including the loss of licenses or our ability to participate in federal and state healthcare programs.\\nOur international operations are subject to inherent risks that could adversely affect our operating results.\\nInternational operations are subject to risks that may materially adversely affect our business, results of operations and financial condition. The risks that our international operations are subject to include:\\n•\\ndifficulties and costs relating to staffing and managing foreign operations;\\n•\\ndifficulties in establishing channels of distribution;\\n•\\nfluctuations in the value of foreign currencies;\\n•\\nlonger payment cycles of foreign customers and difficulty of collecting receivables in foreign jurisdictions;\\n•\\nrepatriation of cash from our foreign operations to the United States;\\n•\\nregulatory requirements;\\n•\\nunexpected difficulties in importing or exporting our products;\\n•\\nimposition of import/export duties, quotas, sanctions or penalties; and\\n•\\nunexpected regulatory, economic and political changes in foreign markets.\\nAs a result of our acquisition of the Demedis Group and other foreign companies, our foreign operations are significantly larger and, therefore, our exposure to the risks inherent in international operations has become greater.\\nWe experience fluctuations in quarterly earnings. As a result, we may fail to meet or exceed the expectations of securities analysts and investors, which could cause our stock price to decline.\\nOur business is subject to seasonal and other quarterly fluctuations. Net sales and operating profits generally have been higher in the third and fourth quarters due to the timing of sales of seasonal products (including influenza vaccine, equipment and software products), purchasing patterns of office-based healthcare practitioners and year-end promotions. Net sales and operating profits generally have been lower in the first quarter, primarily due to increased sales in the prior two quarters. Quarterly results may also be adversely affected by a variety of other factors, including:\\n•\\ncosts of developing new applications and services;\\n•\\ncosts related to acquisitions and/or integrations of technologies or businesses;\\n•\\ntiming and amount of sales and marketing expenditures;\\n•\\nloss of sales representatives;\\n•\\ngeneral economic conditions, as well as those specific to the healthcare industry and related industries;\\n•\\ntiming of the release of functions of our technology-related products and services;\\n•\\nestablishing or maintaining business relationships;\\n•\\nconsummating the sale of our Hospital Supply Business;\\n•\\nchanges in accounting principles; and\\n•\\nproduct availability or recalls by manufacturers.\\nAny change in one or more of these or other factors could cause our annual or quarterly operating results to fluctuate. If our operating results do not meet market expectations, our stock price may decline.\\nBecause substantially all of the products that we distribute are not manufactured by us, we are dependent upon third parties for the manufacture and supply of substantially all of our products.\\nWe obtain substantially all of our products from third-party suppliers. Generally, we do not have long-term contracts with our suppliers committing them to supply products to us. Therefore, suppliers may not provide the products we need in the quantities we request. Because we do not control the actual production of the products we sell, we may be subject to delays caused by interruption in production based on conditions outside of our control. In the event that any of our third-party suppliers were to become unable or unwilling to continue to provide the products in required volumes, we would need to identify and obtain acceptable replacement sources on a timely basis. There is no guarantee that we will be able to obtain such alternative sources of supply on a timely basis, if at all. An extended interruption in the supply of our products, including the supply of our influenza vaccine and any other high sales volume product, would have an\\nadverse effect on our results of operations, which most likely would adversely affect the value of our common stock.\\nOur expansion through acquisitions and joint ventures involves risks.\\nWe have expanded our domestic and international markets in part through acquisitions and joint ventures, and we expect to continue to make acquisitions and enter into joint ventures in the future. Such transactions involve numerous risks, including possible adverse effects on our operating results or the market price of our common stock. Some of our acquisitions and future acquisitions may also give rise to an obligation by us to make contingent payments or to satisfy certain repurchase obligations, which payments could have an adverse effect on our results of operations. In addition, integrating acquired businesses and joint ventures:\\n•\\nmay result in a loss of customers or product lines of the acquired businesses or joint ventures;\\n•\\nrequires significant management attention; and\\n•\\nmay place significant demands on our operations, information systems and financial resources.\\nThere can be no assurance that our future acquisitions or joint ventures will be successful. Our ability to continue to successfully effect acquisitions and joint ventures will depend upon the following:\\n•\\nthe availability of suitable acquisition or joint venture candidates at acceptable prices;\\n•\\nour ability to consummate such transactions, which could potentially be prohibited due to U.S. or foreign antitrust regulations; and\\n•\\nthe availability of financing on acceptable terms, in the case of non-stock transactions.\\nWe face inherent risk of exposure to product liability and other claims in the event that the use of the products we sell results in injury.\\nOur business involves a risk of product liability and other claims and from time to time we are named as a defendant in cases as a result of our distribution of pharmaceutical and other healthcare products. Additionally, we own a majority interest in a company that manufactures dental implants and we are subject to the potential risk of product liability or other claims relating to the manufacture of products by that entity. One of the potential risks we face in the distribution of our products is liability resulting from counterfeit products infiltrating the supply chain. In addition, some of the products that we transport and sell are considered hazardous materials. The improper handling of such materials or accidents involving the transportation of such materials could subject us to liability. We have insurance policies, including product liability insurance, covering risks and in amounts that we consider adequate. Additionally, in many cases we are covered by indemnification from the manufacturer of the product. However, we cannot provide assurance that the coverage maintained by us is sufficient to cover future claims, that it will be available in adequate amounts or at a reasonable cost, or that indemnification agreements will provide adequate protection for us. A successful claim brought against us in excess of available insurance or indemnification, or any claim that results in significant adverse publicity against us, could harm our business.\\nOur technology segment depends upon continued product development, technical support and successful marketing.\\nCompetition among companies supplying practice-management software is intense and increasing. Our future sales of practice-management software will depend on, among other factors:\\n•\\nthe effectiveness of our sales and marketing programs;\\n•\\nour ability to enhance our products; and\\n•\\nour ability to provide ongoing technical support.\\nWe cannot be sure that we will be successful in introducing and marketing new software or software enhancements, or that such software will be released on time or accepted by the market. Our software products, like software products generally, may contain undetected errors or bugs when introduced or as new versions are released. We cannot be sure that future problems with post-release software errors or bugs will not occur. Any such defective software may result in increased expenses related to the software and could adversely affect our relationships with the customers using such software. We do not have any patents on our software, and rely upon copyright, trademark and trade secret laws, as well as contractual and common law protections. We cannot assure you that such legal protections will be available or enforceable to protect our software products.\\nOur revenues depend on our relationships with capable sales personnel as well as key customers, vendors and manufacturers of the products that we distribute.\\nOur future operating results depend on our ability to maintain satisfactory relationships with qualified sales personnel as well as key customers, vendors and manufacturers. If we fail to maintain our existing relationships with such persons or fail to acquire relationships with such key persons in the future, our business may suffer.\\nOur future success is substantially dependent upon our senior management.\\nOur future success is substantially dependent upon the efforts and abilities of members of our existing senior management, particularly Stanley M. Bergman, Chairman and Chief Executive Officer, among others. The loss of the services of Mr. Bergman could have a material adverse effect on our business. We have an employment agreement with Mr. Bergman. We do not currently have “key man” life insurance policies on any of our employees. Competition for senior management is intense, and we may not be successful in attracting and retaining key personnel.\\nIncreases in the cost of shipping or service trouble with our third-party shippers could harm our business.\\nShipping is a significant expense in the operation of our business. We ship almost all of our U.S. orders through United Parcel Service, Inc. and other delivery services, and typically bear the cost of shipment. Accordingly, any significant increase in shipping rates could have an adverse effect on our operating results. Similarly, strikes or other service interruptions by those shippers could cause our operating expenses to rise and adversely affect our ability to deliver products on a timely basis.\\nWe may not be able to respond to technological change effectively.\\nTraditional healthcare supply and distribution relationships are being challenged by electronic online commerce solutions. Our distribution business is characterized by rapid technological developments and intense competition. The advancement of online commerce will require us to cost-effectively adapt to changing technologies, to enhance existing services and to develop and introduce a variety of new services to address changing demands of consumers and our clients on a timely basis, particularly in response to competitive offerings. Our inability to anticipate and effectively respond to changes on a timely basis could have an adverse effect on our business.\\nWe are exposed to the risk of an increase in interest rates.\\nIn 2003, we entered into interest rate swap agreements to exchange our fixed-rate interest rates for variable interest rates payable on our $230.0 million senior notes. Our fixed interest rates on the senior notes were 6.94% and 6.66% for the $130.0 million and $100.0 million senior notes, respectively. The variable rate is comprised of LIBOR plus the spreads and resets on the interest due dates for the senior notes. As a result\\nof these interest rate swap agreements, as well as our existing variable rate credit lines, and loan agreements, we are exposed to risk from fluctuations in interest rates.\\nOur acquisitions may not result in the benefits and revenue growth we expect.\\nWe are in the process of integrating companies that we acquired, including the Demedis Group, and assimilating the operations, services, products and personnel of each company with our management policies, procedures and strategies. We cannot be sure that we will achieve the benefits of revenue growth that we expect from these acquisitions or that we will not incur unforeseen additional costs or expenses in connection with these acquisitions. To effectively manage our expected future growth, we must continue to successfully manage our integration of these companies and continue to improve our operational systems, internal procedures, accounts receivable and management, financial and operational controls. If we fail in any of these areas, our business could be adversely affected.\\nThe market price for our common stock may be highly volatile.\\nThe market price for our common stock may be highly volatile. A variety of factors may have a significant impact on the market price of our common stock, including:\\n•\\nthe publication of earnings estimates or other research reports and speculation in the press or investment community;\\n•\\nchanges in our industry and competitors;\\n•\\nour financial condition, results of operations and cash flows and prospects;\\n•\\nany future issuances of our common stock, which may include primary offerings for cash, stock splits, issuances in connection with business acquisitions, restricted stock and the grant or exercise of stock options from time to time;\\n•\\nthe dilutive impact of convertible debt on our earnings per share;\\n•\\ngeneral market and economic conditions; and\\n•\\nany outbreak or escalation of hostilities in areas we do business.\\nIn addition, the Nasdaq National Market can experience extreme price and volume fluctuations that can be unrelated or disproportionate to the operating performance of the companies listed on Nasdaq. Broad market and industry factors may negatively affect the market price of our common stock, regardless of actual operating performance. In the past, following periods of volatility in the market price of a company’s securities, securities class action litigation has often been instituted against companies. This type of litigation, if instituted, could result in substantial costs and a diversion of management’s attention and resources, which would harm our business.\\nCertain provisions in our governing documents and other documents to which we are a party may discourage third-party offers to acquire us that might otherwise result in our stockholders receiving a premium over the market price of their shares.\\nThe provisions of our certificate of incorporation and by-laws may make it more difficult for a third party to acquire us, may discourage acquisition bids, and may limit the price that certain investors might be willing to pay in the future for shares of our common stock. These provisions, among other things:\\n•\\nrequire the affirmative vote of the holders of at least 60% of the shares of common stock entitled to vote to approve a merger, consolidation, or a sale, lease, transfer or exchange of all or substantially all of our assets; and\\n•\\nrequire the affirmative vote of the holders of at least 66 2/3% of our common stock entitled to vote to:\\n•\\nremove a director; and\\n•\\nto amend or repeal our by-laws, with certain limited exceptions.\\nIn addition, our 1994 Stock Incentive Plan, 1996 Non-Employee Director Stock Incentive Plan and 2001 Non-Employee Director Incentive Plan provide for accelerated vesting of stock options upon a change in control, and certain agreements between us and our executive officers provide for increased severance payments if those executive officers are terminated without cause within two years after a change in control.\\nWe also have a stockholder rights plan that could make it more difficult for a third party to acquire us if our Board of Directors does not determine that the acquisition proposal is adequate and in the stockholders’ best interest.\\nTax legislation initiatives could adversely affect the Company’s net earnings and tax liabilities.\\nWe are subject to the tax laws and regulations of the United States federal, state and local governments, as well as foreign jurisdictions. From time to time, various legislative initiatives may be proposed that could adversely affect our tax positions. There can be no assurance that our effective tax rate will not be adversely affected by these initiatives. In addition, tax laws and regulations are extremely complex and subject to varying interpretations. Although we believe that our historical tax positions are sound and consistent with applicable laws, regulations and existing precedent, there can be no assurance that our tax positions will not be challenged by relevant tax authorities or that we would be successful in any such challenge.\\nItem 1B. Unresolved Staff Comments\\nWe have no unresolved comments from the staff of the United States Securities and Exchange Commission that were issued 180 days or more preceding the end of our 2005 fiscal year.\\nITEM 2. Properties\\nWe own or lease the following properties:\\nOwn or\\nApproximate\\nLease Expiration\\nProperty\\nLocation\\nLease\\nSquare Footage\\nDate\\nCorporate Headquarters\\nMelville, NY\\nOwn\\n105,000\\nN/A\\nCorporate Headquarters\\nMelville, NY\\nLease\\n185,000\\nJuly 2020\\nAdministrative Office (1)\\nPelham, NY\\nLease\\n108,000\\nJuly 2007\\nOffice and Distribution Center\\nWest Allis, WI\\nLease\\n106,000\\nOctober 2011\\nDistribution Center\\nDenver, PA\\nLease\\n614,000\\nFebruary 2013\\nDistribution Center\\nIndianapolis, IN\\nOwn\\n287,000\\nN/A\\nDistribution Center\\nIndianapolis, IN\\nLease\\n144,000\\nJune 2009\\nDistribution Center\\nGrapevine, TX\\nLease\\n187,000\\nJuly 2008\\nDistribution Center\\nGallin, Germany\\nOwn\\n215,000\\nN/A\\nDistribution Center (2)\\nSecaucus, NJ\\nLease\\n192,000\\nDecember 2008\\nDistribution Center\\nJacksonville, FL\\nLease\\n212,000\\nJune 2013\\nDistribution Center\\nNiagara on the Lake, Canada\\nLease\\n94,000\\nSeptember 2016\\nDistribution Center\\nSparks, NV\\nLease\\n271,000\\nMarch 2011\\nDistribution Center\\nGillingham, United Kingdom\\nLease\\n103,000\\nApril 2010\\n(1)\\nWe are subletting 66,500 square feet of this facility through July 2007 to a third-party.\\n(2)\\nThis facility relates to our Hospital Supply Business, which was classified as a discontinued operation in 2005.\\nThe properties listed in the table above are our principal properties primarily used by our healthcare distribution segment. In addition, we lease numerous other distribution, office, showroom, manufacturing and sales space in locations including the United States, Canada, France, Germany, the Netherlands, Belgium, Luxembourg, Switzerland, Spain, Austria, the Czech Republic, Israel, Italy, Ireland, Portugal, the United Kingdom, Australia and New Zealand. We also are planning to build and occupy a new distribution center in France in 2006.\\nWe believe that our properties are in good condition, are well maintained and are suitable and adequate to carry on our business. We have additional operating capacity at certain distribution center facilities.\\nITEM 3. Legal Proceedings\\nOur business involves a risk of product liability claims and other claims in the ordinary course of business, and from time to time we are named as a defendant in cases as a result of our distribution of pharmaceutical and other healthcare products. As a business practice, we generally obtain product indemnification from our suppliers.\\nWe have various insurance policies, including product liability insurance, covering risks in amounts that we consider adequate. In many cases in which we have been sued in connection with products manufactured by others, the manufacturer provides us with indemnification. There can be no assurance that the insurance coverage we maintain is sufficient or will be available in adequate amounts or at a reasonable cost, or that indemnification agreements will provide us with adequate protection. In our opinion, all pending matters, including those described below, are covered by insurance or will not otherwise seriously harm our financial condition.\\nAs of December 31, 2005, we had accrued our best estimate of potential losses relating to product liability and other claims that were probable to result in a liability and for which we were able to reasonably estimate a loss. This accrued amount, as well as related expenses, was not material to our financial position, results of\\noperations or cash flows. Our method for determining estimated losses considers currently available facts, presently enacted laws and regulations and other external factors, including probable recoveries from third parties.\\nProduct Liability Claims\\nAs of December 31, 2005, we were a defendant in approximately 42 product liability cases. We have obtained defense and indemnification commitments from the manufacturer in many of these cases. The manufacturer has withheld indemnification commitments in some of these cases pending product identification. In our opinion, these cases are covered by insurance or will not otherwise seriously harm our financial condition.\\nITEM 4. Submission of Matters to a Vote of Security Holders\\nNo matters were submitted to a vote of our stockholders during the fourth quarter of fiscal 2005.\\nPART II\\nITEM 5. Market for Registrant’s Common Equity and Related Stockholder Matters and Issuer Purchases of Equity Securities\\nOn January 31, 2005, we announced that our Board of Directors approved a two-for-one stock split effected in the form of a dividend. This stock split became effective on February 28, 2005 and has been retroactively reflected for all periods presented in this Form 10-K.\\nOur common stock is quoted through the National Market tier of the NASDAQ Stock Market (“NASDAQ”) under the symbol HSIC. The following table sets forth, for the periods indicated, the high and low reported sales prices of our common stock as reported on the NASDAQ for each quarterly period in fiscal 2005 and 2004:\\nOn February 27, 2006, there were approximately 624 holders of record of our common stock and the last reported sales price was $46.82.\\nPurchases of Equity Securities by the Issuer\\nOur current share repurchase program, announced on June 21, 2004, previously allowed us to repurchase up to $100.0 million in shares of our common stock, which represented approximately 3.5% of shares outstanding at the commencement of the program. On October 31, 2005, our board authorized an additional $100.0 million of shares in our common stock to be repurchased under this program. As of December 31, 2005, we had repurchased $88.5 million or 2,518,110 shares under this initiative, with $111.5 million remaining.\\nThe following table summarizes repurchases of our common stock under our stock repurchase program during the fiscal quarter ended December 31, 2005:\\n(1)\\nAll repurchases were executed in the open market under our existing publicly announced authorized program.\\n(2)\\nThe maximum number of shares that may yet be purchased under this program is determined at the end of each month based on the closing price of our common stock at that time.\\nDividend Policy\\nWe have not declared any cash dividends on our common stock during fiscal years 2005 or 2004. We currently do not anticipate declaring any cash dividends on our common stock in the foreseeable future. We intend to retain earnings to finance the expansion of our business and for general corporate purposes, including our stock repurchase program. Any declaration of dividends will be at the discretion of our Board of Directors and will depend upon the earnings, financial condition, capital requirements, level of indebtedness, contractual restrictions with respect to payment of dividends and other factors. The agreements governing our Senior Notes limit the distribution of dividends without the prior written consent of the lenders (limited to $25.0 million, plus 80% of cumulative net income, plus net proceeds from the issuance of additional capital stock.) As of December 31, 2005, the amount of retained earnings free of restrictions was $412.3 million.\\nITEM 6. Selected Financial Data\\nThe following selected financial data, with respect to our financial position and results of operations for each of the five years in the period ended December 31, 2005, set forth below, has been derived from, should be read in conjunction with and is qualified in its entirety by reference to, our consolidated financial statements and notes thereto. The selected financial data presented below should also be read in conjunction with ITEM 7, “Management’s Discussion and Analysis of Financial Condition and Results of Operations” and ITEM 8, “Financial Statements and Supplementary Data.”\\n(1)\\nAdjusted to reflect the effects of discontinued operations.\\n(2)\\nDuring 2004, we recorded a $13.2 million pre-tax ($8.4 million post-tax) charge related to the Fluvirin® contract with Chiron Corporation. This charge, which represented the write-off of a deferred expense associated with the 2005/2006 influenza season, occurred as a result of the significant uncertainty about whether Chiron would be able to provide Fluvirin® for the 2005/2006 influenza season. The effect that this charge had on earnings per share for the year ended December 25, 2004 was $(0.10).\\n(3)\\nIn the third quarter of 2005, we reached a decision to divest our Hospital Supply business, which is a component of our healthcare distribution business. This decision resulted in the recording of an impairment charge of our long-lived assets of approximately $7.0 million, net of tax, or $(0.08) per diluted share for fiscal 2005.\\nIn the third quarter of 2003, we sold PMA Bode GmbH, an x-ray film distribution business located in Germany, which was a component of our healthcare distribution business. This sale resulted in a loss of $2.0 million, net of tax, or $(0.02) per diluted share. Due to immateriality, we have not reflected the operating results, other than the loss on sale, of PMA Bode separately as a discontinued operation for any of the periods presented. This was partially offset by the Hospital discontinued operation discussed above.\\n(4)\\nConsists of consumable products, small equipment, laboratory products, large dental equipment, branded and generic pharmaceuticals, vaccines, surgical products, diagnostic tests, infection-control products and vitamins.\\n(5)\\nConsists of products sold in the United States and Canada.\\n(6)\\nConsists of products sold in the United States’ medical and veterinary markets.\\n(7)\\nConsists of products sold in the dental, medical and veterinary markets, primarily in Europe.\\n(8)\\nConsists of practice management software and other value-added products and services, which are sold primarily to healthcare providers in the United States and Canada.'"
      ]
     },
     "execution_count": 9,
     "metadata": {},
     "output_type": "execute_result"
    }
   ],
   "source": [
    "import re\n",
    "# Remomve headers from item 1A, 7 and 7A\n",
    "items = ['item_1A','item_7','item_7A']\n",
    "for item in items:\n",
    "    filings[item] = [re.sub('(?m)^(ITEM 1A.|ITEM 7.|ITEM 7A.|\\s*-+).*\\n', '', sent, flags=re.IGNORECASE) for sent in filings[item]]\n",
    "\n",
    "filings['item_1A'][0]\n"
   ]
  },
  {
   "cell_type": "markdown",
   "id": "2cf51799",
   "metadata": {},
   "source": [
    "# Calculate and extract EBIT file"
   ]
  },
  {
   "cell_type": "code",
   "execution_count": 53,
   "id": "9a222a05",
   "metadata": {},
   "outputs": [
    {
     "name": "stdout",
     "output_type": "stream",
     "text": [
      "EBIT calculation and export completed.\n"
     ]
    }
   ],
   "source": [
    "# Define the directory where the metric CSV files are stored\n",
    "metric_data_directory = 'datasets/metric_data'\n",
    "\n",
    "# Define the filename for the EBIT CSV file\n",
    "ebit_output_file = 'datasets/metric_data/EBIT.csv'\n",
    "\n",
    "# List of metrics required for EBIT calculation\n",
    "metrics_for_ebit = [\n",
    "    'RevenueFromContractWithCustomerExcludingAssessedTax',\n",
    "    'CostOfGoodsAndServicesSold',\n",
    "    'SellingGeneralAndAdministrativeExpense'\n",
    "]\n",
    "\n",
    "# Initialize an empty DataFrame for EBIT\n",
    "ebit_df = None\n",
    "\n",
    "# Loop through the metrics for EBIT calculation\n",
    "for metric in metrics_for_ebit:\n",
    "    # Load the metric-specific CSV file\n",
    "    metric_file = os.path.join(metric_data_directory, f'{metric}.csv')\n",
    "    df = pd.read_csv(metric_file)\n",
    "    \n",
    "    # Pivot the data to have metrics as columns, indexed by 'year' and 'cik'\n",
    "    df_pivot = df.pivot(index=['year', 'cik'], columns='metric', values='val')\n",
    "    \n",
    "    # If this is the first metric, set the EBIT DataFrame to the pivot table\n",
    "    if ebit_df is None:\n",
    "        ebit_df = df_pivot.copy()\n",
    "    else:\n",
    "        # Subtract the metric-specific DataFrame from the existing EBIT DataFrame\n",
    "        ebit_df = ebit_df.sub(df_pivot, fill_value=0)\n",
    "    \n",
    "# Calculate EBIT as the difference between specific columns\n",
    "ebit_df['EBIT'] = ebit_df['Revenue'] - ebit_df['Cost of Goods Sold'] - ebit_df['Selling, General and Administrative Expenses']\n",
    "\n",
    "# Reset the index\n",
    "ebit_df.reset_index(inplace=True)\n",
    "\n",
    "# Save the EBIT DataFrame to a CSV file\n",
    "ebit_df.to_csv(ebit_output_file, index=False)\n",
    "\n",
    "# Print a completion message\n",
    "print(\"EBIT calculation and export completed.\")\n"
   ]
  },
  {
   "cell_type": "code",
   "execution_count": 54,
   "id": "076065aa",
   "metadata": {},
   "outputs": [
    {
     "data": {
      "text/html": [
       "<div>\n",
       "<style scoped>\n",
       "    .dataframe tbody tr th:only-of-type {\n",
       "        vertical-align: middle;\n",
       "    }\n",
       "\n",
       "    .dataframe tbody tr th {\n",
       "        vertical-align: top;\n",
       "    }\n",
       "\n",
       "    .dataframe thead th {\n",
       "        text-align: right;\n",
       "    }\n",
       "</style>\n",
       "<table border=\"1\" class=\"dataframe\">\n",
       "  <thead>\n",
       "    <tr style=\"text-align: right;\">\n",
       "      <th>metric</th>\n",
       "      <th>year</th>\n",
       "      <th>cik</th>\n",
       "      <th>Cost of Goods Sold</th>\n",
       "      <th>Revenue</th>\n",
       "      <th>Selling, General and Administrative Expenses</th>\n",
       "      <th>EBIT</th>\n",
       "    </tr>\n",
       "  </thead>\n",
       "  <tbody>\n",
       "    <tr>\n",
       "      <th>0</th>\n",
       "      <td>2006</td>\n",
       "      <td>38074</td>\n",
       "      <td>NaN</td>\n",
       "      <td>NaN</td>\n",
       "      <td>-1.046336e+09</td>\n",
       "      <td>NaN</td>\n",
       "    </tr>\n",
       "    <tr>\n",
       "      <th>1</th>\n",
       "      <td>2006</td>\n",
       "      <td>824416</td>\n",
       "      <td>NaN</td>\n",
       "      <td>NaN</td>\n",
       "      <td>-3.021990e+05</td>\n",
       "      <td>NaN</td>\n",
       "    </tr>\n",
       "    <tr>\n",
       "      <th>2</th>\n",
       "      <td>2006</td>\n",
       "      <td>1103982</td>\n",
       "      <td>NaN</td>\n",
       "      <td>NaN</td>\n",
       "      <td>-7.032000e+09</td>\n",
       "      <td>NaN</td>\n",
       "    </tr>\n",
       "    <tr>\n",
       "      <th>3</th>\n",
       "      <td>2007</td>\n",
       "      <td>1800</td>\n",
       "      <td>NaN</td>\n",
       "      <td>NaN</td>\n",
       "      <td>-7.407998e+09</td>\n",
       "      <td>NaN</td>\n",
       "    </tr>\n",
       "    <tr>\n",
       "      <th>4</th>\n",
       "      <td>2007</td>\n",
       "      <td>2969</td>\n",
       "      <td>-6.698900e+09</td>\n",
       "      <td>NaN</td>\n",
       "      <td>-9.998000e+08</td>\n",
       "      <td>NaN</td>\n",
       "    </tr>\n",
       "  </tbody>\n",
       "</table>\n",
       "</div>"
      ],
      "text/plain": [
       "metric  year      cik  Cost of Goods Sold  Revenue  \\\n",
       "0       2006    38074                 NaN      NaN   \n",
       "1       2006   824416                 NaN      NaN   \n",
       "2       2006  1103982                 NaN      NaN   \n",
       "3       2007     1800                 NaN      NaN   \n",
       "4       2007     2969       -6.698900e+09      NaN   \n",
       "\n",
       "metric  Selling, General and Administrative Expenses  EBIT  \n",
       "0                                      -1.046336e+09   NaN  \n",
       "1                                      -3.021990e+05   NaN  \n",
       "2                                      -7.032000e+09   NaN  \n",
       "3                                      -7.407998e+09   NaN  \n",
       "4                                      -9.998000e+08   NaN  "
      ]
     },
     "execution_count": 54,
     "metadata": {},
     "output_type": "execute_result"
    }
   ],
   "source": [
    "ebit_df.head()"
   ]
  },
  {
   "cell_type": "code",
   "execution_count": 27,
   "id": "5d8dea9e",
   "metadata": {},
   "outputs": [],
   "source": [
    "def plot_num_filings(metric):\n",
    "    metric['year'].value_counts().sort_index().plot(kind='bar', figsize=(10, 6))\n",
    "    plt.title(f'Number of {metric[\"metric\"].iloc[0]} Filings per Year')\n",
    "    plt.xlabel('Year')\n",
    "    plt.ylabel('Number of Filings')"
   ]
  }
 ],
 "metadata": {
  "kernelspec": {
   "display_name": "Python 3 (ipykernel)",
   "language": "python",
   "name": "python3"
  },
  "language_info": {
   "codemirror_mode": {
    "name": "ipython",
    "version": 3
   },
   "file_extension": ".py",
   "mimetype": "text/x-python",
   "name": "python",
   "nbconvert_exporter": "python",
   "pygments_lexer": "ipython3",
   "version": "3.10.9"
  }
 },
 "nbformat": 4,
 "nbformat_minor": 5
}
